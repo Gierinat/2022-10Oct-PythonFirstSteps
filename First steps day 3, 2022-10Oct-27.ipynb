{
 "cells": [
  {
   "cell_type": "markdown",
   "id": "a22fa3e6",
   "metadata": {},
   "source": [
    "# Agenda: Week 3, Dictionaries and files\n",
    "\n",
    "1. Recap of topics + Q&A\n",
    "2. Dictionaries\n",
    "    - Define them\n",
    "    - Retrieving from them\n",
    "    - Modifying them (dicts are mutable)\n",
    "    - Uses for dictionaries (including accumulating)\n",
    "    - Looping over dicts\n",
    "    - How do dictionaries work?\n",
    "3. Files\n",
    "    - What are files?\n",
    "    - Reading from (text) files\n",
    "    - Writing to files and the \"with\" statement"
   ]
  },
  {
   "cell_type": "markdown",
   "id": "7c9f5da1",
   "metadata": {},
   "source": [
    "# The story so far...\n",
    "\n",
    "We organize our data into data structures.  So far, we've seen a bunch of data structures:\n",
    "\n",
    "- Integers and floats (numbers)\n",
    "- Strings\n",
    "- Lists\n",
    "- Tuples\n",
    "\n",
    "We saw, last week, that strings, lists, and tuples are all part of the same \"sequence\" family. They all implement similar functionality.  (They are also different, but there's a lot in common.)\n",
    "\n",
    "What can sequences do?\n",
    "- Retrieve one item from an index\n",
    "- Retrieve a slice using `[start:end]`\n",
    "- Iterate with a `for` loop\n",
    "- Search with `in`\n",
    "- Get the length with `len`"
   ]
  },
  {
   "cell_type": "markdown",
   "id": "37947ec3",
   "metadata": {},
   "source": [
    "# Dictionaries (`dict`)\n",
    "\n",
    "Lists and tuples are what we call ordered sequences of data: We know what order they'll be in (i.e., their index order). And we can do all of our sequence stuff with them.\n",
    "\n",
    "However, every list (and every tuple) has fixed indexes -- starting with 0, then 1, then 2... all the way up to `len(seq) - 1`, which will be the highest index.\n",
    "\n",
    "Dictionaries are well known in the programming world, often with other names:\n",
    "- Hash tables\n",
    "- Hashes\n",
    "- Key-value stores\n",
    "- Name-value stores\n",
    "- Associative arrays\n",
    "- Mappings\n",
    "- Keymaps\n",
    "- Hashmaps\n",
    "\n",
    "The important thing to understand about dicts is that we can dictate not just the values, but also the keys -- which are what we call the indexes in a dictionary.\n",
    "\n",
    "So every list with 10 elements will have indexes from 0 through 9. But a dict with 10 elements... we don't know what the keys will be without checking.  We can determine what the indexes are.\n",
    "\n",
    "There are many *many* cases in programming when we would want these key-value pairs:\n",
    "\n",
    "- "
   ]
  }
 ],
 "metadata": {
  "kernelspec": {
   "display_name": "Python 3 (ipykernel)",
   "language": "python",
   "name": "python3"
  },
  "language_info": {
   "codemirror_mode": {
    "name": "ipython",
    "version": 3
   },
   "file_extension": ".py",
   "mimetype": "text/x-python",
   "name": "python",
   "nbconvert_exporter": "python",
   "pygments_lexer": "ipython3",
   "version": "3.10.8"
  }
 },
 "nbformat": 4,
 "nbformat_minor": 5
}
