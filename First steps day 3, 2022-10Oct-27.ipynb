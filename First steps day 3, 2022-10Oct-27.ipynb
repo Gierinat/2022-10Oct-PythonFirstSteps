{
 "cells": [
  {
   "cell_type": "markdown",
   "id": "e88cc04c",
   "metadata": {},
   "source": [
    "# Agenda: Week 3, Dictionaries and files\n",
    "\n",
    "1. Recap of topics + Q&A\n",
    "2. Dictionaries\n",
    "    - Define them\n",
    "    - Retrieving from them\n",
    "    - Modifying them (dicts are mutable)\n",
    "    - Uses for dictionaries (including accumulating)\n",
    "    - Looping over dicts\n",
    "    - How do dictionaries work?\n",
    "3. Files\n",
    "    - What are files?\n",
    "    - Reading from (text) files\n",
    "    - Writing to files and the \"with\" statement"
   ]
  },
  {
   "cell_type": "markdown",
   "id": "73a99ad1",
   "metadata": {},
   "source": [
    "# The story so far...\n",
    "\n",
    "We organize our data into data structures.  So far, we've seen a bunch of data structures:\n",
    "\n",
    "- Integers and floats (numbers)\n",
    "- Strings\n",
    "- Lists\n",
    "- Tuples\n",
    "\n",
    "We saw, last week, that strings, lists, and tuples are all part of the same \"sequence\" family. They all implement similar functionality.  (They are also different, but there's a lot in common.)\n",
    "\n",
    "What can sequences do?\n",
    "- Retrieve one item from an index\n",
    "- Retrieve a slice using `[start:end]`\n",
    "- Iterate with a `for` loop\n",
    "- Search with `in`\n",
    "- Get the length with `len`"
   ]
  },
  {
   "cell_type": "markdown",
   "id": "5200f933",
   "metadata": {},
   "source": [
    "# Dictionaries (`dict`)\n",
    "\n",
    "Lists and tuples are what we call ordered sequences of data: We know what order they'll be in (i.e., their index order). And we can do all of our sequence stuff with them.\n",
    "\n",
    "However, every list (and every tuple) has fixed indexes -- starting with 0, then 1, then 2... all the way up to `len(seq) - 1`, which will be the highest index.\n",
    "\n",
    "Dictionaries are well known in the programming world, often with other names:\n",
    "- Hash tables\n",
    "- Hashes\n",
    "- Key-value stores\n",
    "- Name-value stores\n",
    "- Associative arrays\n",
    "- Mappings\n",
    "- Keymaps\n",
    "- Hashmaps\n",
    "\n",
    "The important thing to understand about dicts is that we can dictate not just the values, but also the keys -- which are what we call the indexes in a dictionary.\n",
    "\n",
    "So every list with 10 elements will have indexes from 0 through 9. But a dict with 10 elements... we don't know what the keys will be without checking.  We can determine what the indexes are.\n",
    "\n",
    "There are many *many* cases in programming when we would want these key-value pairs:\n",
    "\n",
    "- Usernames and user IDs\n",
    "- User IDs and usernames\n",
    "- Month names and numbers\n",
    "- Month numbers and names\n",
    "- Filenames and file contents\n",
    "- Filenames and timestamps\n",
    "- Timestamps and lists of users who were logged in then\n",
    "\n",
    "Dictionaries are the most important data structure in Python."
   ]
  },
  {
   "cell_type": "code",
   "execution_count": 1,
   "id": "24edb402",
   "metadata": {},
   "outputs": [],
   "source": [
    "# how do I create a dictionary?\n",
    "\n",
    "# (1) we use {}, curly braces, around the dict\n",
    "# (2) every key has a value, and every value has a key\n",
    "# (3) each key-value pair is separated by a :\n",
    "# (4) the pairs are separated by ,\n",
    "\n",
    "d = {'a':10, 'b':20, 'c':30}"
   ]
  },
  {
   "cell_type": "code",
   "execution_count": 2,
   "id": "0e47077a",
   "metadata": {},
   "outputs": [
    {
     "data": {
      "text/plain": [
       "dict"
      ]
     },
     "execution_count": 2,
     "metadata": {},
     "output_type": "execute_result"
    }
   ],
   "source": [
    "type(d)  # what kind of data structure is d?"
   ]
  },
  {
   "cell_type": "code",
   "execution_count": 3,
   "id": "dce433f3",
   "metadata": {},
   "outputs": [
    {
     "data": {
      "text/plain": [
       "3"
      ]
     },
     "execution_count": 3,
     "metadata": {},
     "output_type": "execute_result"
    }
   ],
   "source": [
    "len(d)   # how many pairs are there in d?"
   ]
  },
  {
   "cell_type": "code",
   "execution_count": 4,
   "id": "b28b7c41",
   "metadata": {},
   "outputs": [
    {
     "data": {
      "text/plain": [
       "10"
      ]
     },
     "execution_count": 4,
     "metadata": {},
     "output_type": "execute_result"
    }
   ],
   "source": [
    "# what is the value associated with the key 'a'?\n",
    "\n",
    "d['a']   # I use [], just like with strings, lists, and tuples, but here I give a key, not a numeric index"
   ]
  },
  {
   "cell_type": "code",
   "execution_count": 5,
   "id": "c7562508",
   "metadata": {},
   "outputs": [
    {
     "data": {
      "text/plain": [
       "20"
      ]
     },
     "execution_count": 5,
     "metadata": {},
     "output_type": "execute_result"
    }
   ],
   "source": [
    "d['b']"
   ]
  },
  {
   "cell_type": "code",
   "execution_count": 6,
   "id": "100dca3c",
   "metadata": {},
   "outputs": [
    {
     "data": {
      "text/plain": [
       "30"
      ]
     },
     "execution_count": 6,
     "metadata": {},
     "output_type": "execute_result"
    }
   ],
   "source": [
    "d['c']"
   ]
  },
  {
   "cell_type": "code",
   "execution_count": 7,
   "id": "e5e9c642",
   "metadata": {},
   "outputs": [
    {
     "ename": "KeyError",
     "evalue": "'x'",
     "output_type": "error",
     "traceback": [
      "\u001b[0;31m---------------------------------------------------------------------------\u001b[0m",
      "\u001b[0;31mKeyError\u001b[0m                                  Traceback (most recent call last)",
      "\u001b[0;32m/var/folders/rr/0mnyyv811fs5vyp22gf4fxk00000gn/T/ipykernel_91352/3081862876.py\u001b[0m in \u001b[0;36m<module>\u001b[0;34m\u001b[0m\n\u001b[0;32m----> 1\u001b[0;31m \u001b[0md\u001b[0m\u001b[0;34m[\u001b[0m\u001b[0;34m'x'\u001b[0m\u001b[0;34m]\u001b[0m   \u001b[0;31m# what happens if we ask for a key that doesn't exist?\u001b[0m\u001b[0;34m\u001b[0m\u001b[0;34m\u001b[0m\u001b[0m\n\u001b[0m",
      "\u001b[0;31mKeyError\u001b[0m: 'x'"
     ]
    }
   ],
   "source": [
    "d['x']   # what happens if we ask for a key that doesn't exist?"
   ]
  },
  {
   "cell_type": "code",
   "execution_count": 8,
   "id": "47c3eb26",
   "metadata": {},
   "outputs": [
    {
     "data": {
      "text/plain": [
       "True"
      ]
     },
     "execution_count": 8,
     "metadata": {},
     "output_type": "execute_result"
    }
   ],
   "source": [
    "# if I want to know whether a key exists, so as to avoid such an error,\n",
    "# I can do that with the \"in\" operator\n",
    "\n",
    "# in only checks in the keys for an exact match.  It never checks the values.\n",
    "\n",
    "'a' in d"
   ]
  },
  {
   "cell_type": "code",
   "execution_count": 9,
   "id": "06f98be3",
   "metadata": {},
   "outputs": [
    {
     "data": {
      "text/plain": [
       "True"
      ]
     },
     "execution_count": 9,
     "metadata": {},
     "output_type": "execute_result"
    }
   ],
   "source": [
    "'b' in d"
   ]
  },
  {
   "cell_type": "code",
   "execution_count": 10,
   "id": "652bf488",
   "metadata": {},
   "outputs": [
    {
     "data": {
      "text/plain": [
       "False"
      ]
     },
     "execution_count": 10,
     "metadata": {},
     "output_type": "execute_result"
    }
   ],
   "source": [
    "10 in d"
   ]
  },
  {
   "cell_type": "code",
   "execution_count": 11,
   "id": "53b9d4f1",
   "metadata": {},
   "outputs": [
    {
     "data": {
      "text/plain": [
       "{'a': 10, 'b': 20, 'c': 30}"
      ]
     },
     "execution_count": 11,
     "metadata": {},
     "output_type": "execute_result"
    }
   ],
   "source": [
    "d"
   ]
  },
  {
   "cell_type": "markdown",
   "id": "71b6e1e8",
   "metadata": {},
   "source": [
    "# Two more notes about keys\n",
    "\n",
    "1. The keys in a dict are unique. No key can exist more than once.\n",
    "2. Anything at all can be a dict value. But only immutable values (numbers and strings, typically) can be keys."
   ]
  },
  {
   "cell_type": "code",
   "execution_count": 12,
   "id": "7de7d5b9",
   "metadata": {},
   "outputs": [
    {
     "data": {
      "text/plain": [
       "dict_values([10, 20, 30])"
      ]
     },
     "execution_count": 12,
     "metadata": {},
     "output_type": "execute_result"
    }
   ],
   "source": [
    "# if you really want, you can run the method .values() on a dictionary, and get back the values\n",
    "\n",
    "d.values()    # special data structure, sort of like a list (but not really)"
   ]
  },
  {
   "cell_type": "code",
   "execution_count": 13,
   "id": "4848305c",
   "metadata": {},
   "outputs": [
    {
     "data": {
      "text/plain": [
       "True"
      ]
     },
     "execution_count": 13,
     "metadata": {},
     "output_type": "execute_result"
    }
   ],
   "source": [
    "20 in d.values()  # this searches for 20 in the values of the dict d"
   ]
  },
  {
   "cell_type": "code",
   "execution_count": null,
   "id": "dd8e4e8f",
   "metadata": {},
   "outputs": [],
   "source": [
    "# defining a dict is always {key:value, key:value, key:value}\n",
    "\n",
    "d = {'a':10, 'b':20, 'c':30}"
   ]
  },
  {
   "cell_type": "markdown",
   "id": "c17ece10",
   "metadata": {},
   "source": [
    "# Exercise: Restaurant\n",
    "\n",
    "1. Define a new dict, called `menu`, in which the keys are the items on a restaurant's menu, and the values are the prices (in whatever currency you want).\n",
    "2. Define `total` to be 0.\n",
    "3. Ask the user, repeatedly, what they want to order.\n",
    "    - If they enter an empty string, stop asking -- exit the loop, and print the total\n",
    "    - If they enter a string that is an entry in the menu (i.e., a key in `menu`), then print the price, and the new total\n",
    "    - If they enter a string that is *not* an entry in the menu, then scold the user\n",
    "4. After exiting the loop, print the total\n",
    "\n",
    "Example:\n",
    "\n",
    "    Order: sandwich\n",
    "    sandwich is 10, total is 10\n",
    "    Order: tea\n",
    "    tea is 3, total is 13\n",
    "    Order: elephant\n",
    "    we are fresh out of elephant today!\n",
    "    Order: [ENTER]\n",
    "    total is 13\n",
    "    \n",
    "Hints/reminders:\n",
    "- Use a `while True` loop for an infinite loop\n",
    "- You can get input from the user with `input`\n",
    "- You can check if the user just pressed ENTER by comparing the result of `input` with an empty string.\n",
    "- Check if a key is in a dict with `in`\n",
    "- Retrieve a value from a dict with `[]`\n",
    "- Don't forget that a key can be assigned to a variable, and the variable can then be used for searching/retrieving."
   ]
  },
  {
   "cell_type": "code",
   "execution_count": null,
   "id": "13aca385",
   "metadata": {},
   "outputs": [],
   "source": [
    "menu = {'sandwich':10, 'tea':3, 'apple':4, 'cake':6}\n",
    "\n",
    "total = 0\n",
    "\n",
    "# ask the user, repeatedly, to order something\n",
    "\n",
    "while True:\n",
    "    s = input('Order: ').strip()   # input gets a string from the user, strip removes leading/trailing whitespace\n",
    "    \n",
    "    if s == '':\n",
    "        break   # exits our \"while\" loop right away\n",
    "        \n",
    "    if s in menu:   # is the user's input a key in our \"menu\" dict?\n",
    "        price = menu[s]  # get the price for s\n",
    "        total += price   # add the price to the total\n",
    "        print(f'{s} costs {price}, total is now {total}')\n",
    "        \n",
    "    else:   # the user's order is *not* a key in our dict\n",
    "        print(f'We are out of {s} today!')\n",
    "        \n",
    "print(f'Total is {total}')"
   ]
  },
  {
   "cell_type": "code",
   "execution_count": 14,
   "id": "8090ea7f",
   "metadata": {},
   "outputs": [
    {
     "data": {
      "text/plain": [
       "2"
      ]
     },
     "execution_count": 14,
     "metadata": {},
     "output_type": "execute_result"
    }
   ],
   "source": [
    "months = {'Jan':1, 'Feb':2, 'Mar':3, 'Apr':4}\n",
    "\n",
    "months['Feb']"
   ]
  },
  {
   "cell_type": "code",
   "execution_count": 15,
   "id": "6ec397d8",
   "metadata": {},
   "outputs": [],
   "source": [
    "# a dict's values can be ABSOLUTELY ANYTHING YOU WANT\n",
    "# a dict's values can be strings\n",
    "# a dict's values can be lists\n",
    "# a dict's values can be dictionaries"
   ]
  },
  {
   "cell_type": "code",
   "execution_count": 16,
   "id": "37fe4d44",
   "metadata": {},
   "outputs": [],
   "source": [
    "# can we modify a dictionary?\n",
    "# in other words: are they mutable?\n",
    "\n",
    "# ints, strings, and tuples are all immutable\n",
    "# lists are mutable -- we can change the object without getting a new object back"
   ]
  },
  {
   "cell_type": "code",
   "execution_count": 17,
   "id": "5d698b5c",
   "metadata": {},
   "outputs": [
    {
     "data": {
      "text/plain": [
       "{'a': 999, 'b': 20, 'c': 30}"
      ]
     },
     "execution_count": 17,
     "metadata": {},
     "output_type": "execute_result"
    }
   ],
   "source": [
    "d = {'a':10, 'b':20, 'c':30}\n",
    "\n",
    "# how can I change a value in a dict?\n",
    "# answer: just assign a new value to that key\n",
    "\n",
    "d['a'] = 999\n",
    "d"
   ]
  },
  {
   "cell_type": "code",
   "execution_count": 18,
   "id": "0baa36cd",
   "metadata": {},
   "outputs": [
    {
     "data": {
      "text/plain": [
       "{'a': 999, 'b': 20, 'c': 30, 'x': 876}"
      ]
     },
     "execution_count": 18,
     "metadata": {},
     "output_type": "execute_result"
    }
   ],
   "source": [
    "# how can I add a new key-value pair to a dict?\n",
    "# unlike lists, which have a special, different \"append\" method, in dicts... you just assign\n",
    "\n",
    "d['x'] = 876   # after this assignment, we find that there's a new key-value pair, x:876\n",
    "d"
   ]
  },
  {
   "cell_type": "code",
   "execution_count": 19,
   "id": "2bd5a41f",
   "metadata": {},
   "outputs": [
    {
     "data": {
      "text/plain": [
       "{'a': 999, 'b': 20, 'c': 30, 'x': 543}"
      ]
     },
     "execution_count": 19,
     "metadata": {},
     "output_type": "execute_result"
    }
   ],
   "source": [
    "# if I assign to the 'x' key a second time, we'll simply update the value\n",
    "d['x'] = 543\n",
    "\n",
    "d"
   ]
  },
  {
   "cell_type": "code",
   "execution_count": 21,
   "id": "5970b190",
   "metadata": {},
   "outputs": [
    {
     "name": "stdout",
     "output_type": "stream",
     "text": [
      "{}\n",
      "Enter a name: Reuven\n",
      "Enter new value: 10\n",
      "{'Reuven': '10'}\n",
      "Enter a name: Atara\n",
      "Enter new value: 20\n",
      "{'Reuven': '10', 'Atara': '20'}\n",
      "Enter a name: Reuven\n",
      "Enter new value: 15\n",
      "{'Reuven': '15', 'Atara': '20'}\n",
      "Enter a name: \n",
      "{'Reuven': '15', 'Atara': '20'}\n"
     ]
    }
   ],
   "source": [
    "# let's keep track of fastest times for people on a team\n",
    "\n",
    "times = {}   # empty dictionary\n",
    "\n",
    "while True:\n",
    "    print(times)\n",
    "    name = input('Enter a name: ').strip()\n",
    "    \n",
    "    if name == '':   # exit the loop if we got an empty string\n",
    "        break\n",
    "        \n",
    "    new_value = input('Enter new value: ').strip()\n",
    "    \n",
    "    times[name] = new_value   # note, we're storing a string here, not an integer\n",
    "    \n",
    "print(times)      # print our dictionary"
   ]
  },
  {
   "cell_type": "code",
   "execution_count": 22,
   "id": "c7f8e278",
   "metadata": {},
   "outputs": [
    {
     "data": {
      "text/plain": [
       "dict_values(['15', '20'])"
      ]
     },
     "execution_count": 22,
     "metadata": {},
     "output_type": "execute_result"
    }
   ],
   "source": [
    "times.values()   # this returns all of the values in our dict"
   ]
  },
  {
   "cell_type": "code",
   "execution_count": 23,
   "id": "d48f63a0",
   "metadata": {},
   "outputs": [
    {
     "data": {
      "text/plain": [
       "dict_keys(['Reuven', 'Atara'])"
      ]
     },
     "execution_count": 23,
     "metadata": {},
     "output_type": "execute_result"
    }
   ],
   "source": [
    "times.keys()    # this returns all of the keys in our dict"
   ]
  },
  {
   "cell_type": "code",
   "execution_count": 24,
   "id": "55f9205e",
   "metadata": {},
   "outputs": [
    {
     "data": {
      "text/plain": [
       "True"
      ]
     },
     "execution_count": 24,
     "metadata": {},
     "output_type": "execute_result"
    }
   ],
   "source": [
    "# we normally don't need the \"keys\" method, because we can search using \"in\" directly on the dict\n",
    "\n",
    "'Reuven' in times   "
   ]
  },
  {
   "cell_type": "code",
   "execution_count": 25,
   "id": "26e00829",
   "metadata": {},
   "outputs": [
    {
     "data": {
      "text/plain": [
       "False"
      ]
     },
     "execution_count": 25,
     "metadata": {},
     "output_type": "execute_result"
    }
   ],
   "source": [
    "'Joe' in times"
   ]
  },
  {
   "cell_type": "code",
   "execution_count": 26,
   "id": "765bc095",
   "metadata": {},
   "outputs": [
    {
     "data": {
      "text/plain": [
       "True"
      ]
     },
     "execution_count": 26,
     "metadata": {},
     "output_type": "execute_result"
    }
   ],
   "source": [
    "# I could search in times.keys().... but we shouldn't\n",
    "\n",
    "'Reuven' in times.keys()   # this first runs the keys method, then searches (slowly) through its result"
   ]
  },
  {
   "cell_type": "markdown",
   "id": "414ffd2e",
   "metadata": {},
   "source": [
    "Modern Python dictionaries are ordered in the value of key insertion.\n",
    "\n",
    "Meaning: When you define your dict, the items will according to your definition.  If I define\n",
    "\n",
    "    {'a':10, 'b':20, 'c':30}\n",
    "    \n",
    "Then the dict is ordered 'a' -> 'b' -> 'c'.\n",
    "\n",
    "But if I now add a key-value pair, it'll be at the end:\n",
    "\n",
    "    d['x'] = 100\n",
    "    \n",
    "Now the order will be 'a' -> 'b' -> 'c' -> 'x'\n",
    "\n",
    "The order normally doesn't make much difference, except if you're iterating over a dict in a for loop, which we'll do later."
   ]
  },
  {
   "cell_type": "markdown",
   "id": "67ebea5e",
   "metadata": {},
   "source": [
    "# Next up:\n",
    "\n",
    "Two more paradigms for working with dicts\n",
    "- Accumulating with known keys\n",
    "- Accumulating from nothing\n"
   ]
  },
  {
   "cell_type": "markdown",
   "id": "decd52f4",
   "metadata": {},
   "source": [
    "# Accumulating with known keys\n",
    "\n",
    "In this paradigm, we define a dict with keys and starting values. (Often, the values will be 0.) Then we use our dict to count how many times something occurs.\n",
    "\n",
    "An example: Let's count odd and even numbers in a list."
   ]
  },
  {
   "cell_type": "code",
   "execution_count": 28,
   "id": "0d0c224c",
   "metadata": {},
   "outputs": [
    {
     "name": "stdout",
     "output_type": "stream",
     "text": [
      "Checking 10\n",
      "\t10 is even\n",
      "Checking 15\n",
      "\t15 is odd\n",
      "Checking 12\n",
      "\t12 is even\n",
      "Checking 13\n",
      "\t13 is odd\n",
      "Checking 17\n",
      "\t17 is odd\n",
      "Checking 18\n",
      "\t18 is even\n",
      "{'odds': 3, 'evens': 3}\n"
     ]
    }
   ],
   "source": [
    "mylist = [10, 15, 12, 13, 17, 18]\n",
    "\n",
    "counts = {'odds':0,    # this is my dict -- I define the keys and starting values\n",
    "          'evens':0}\n",
    "\n",
    "for one_number in mylist:\n",
    "    print(f'Checking {one_number}')\n",
    "    \n",
    "    # we can divide the number by 2, and check the remainder -- using the % \"modulus\" operator\n",
    "    # if the remainder is 0, the number is even\n",
    "    # if the remainder is 1, the number is odd\n",
    "    \n",
    "    if one_number % 2 == 0:\n",
    "        counts['evens'] += 1     # update the value associated with the \"evens\" key\n",
    "        print(f'\\t{one_number} is even')    # \\t == tab\n",
    "    else:\n",
    "        counts['odds'] += 1      # update the value associated with the \"odds\" key\n",
    "        print(f'\\t{one_number} is odd')\n",
    "        \n",
    "print(counts)          # how does the dict look?"
   ]
  },
  {
   "cell_type": "code",
   "execution_count": 29,
   "id": "8bf7b794",
   "metadata": {},
   "outputs": [
    {
     "name": "stdout",
     "output_type": "stream",
     "text": [
      "Checking 10\n",
      "\t10 is even\n",
      "Checking 15\n",
      "\t15 is odd\n",
      "Checking 12\n",
      "\t12 is even\n",
      "Checking 13\n",
      "\t13 is odd\n",
      "Checking 17\n",
      "\t17 is odd\n",
      "Checking 18\n",
      "\t18 is even\n",
      "{'odds': [15, 13, 17], 'evens': [10, 12, 18]}\n"
     ]
    }
   ],
   "source": [
    "# variation -- instead of initializing the dict with 0\n",
    "# let's initialize it with empty lists!\n",
    "\n",
    "# then we won't *count* the numbers, but we'll sort them into odds and evens\n",
    "\n",
    "mylist = [10, 15, 12, 13, 17, 18]\n",
    "\n",
    "counts = {'odds':[],    # this is my dict -- I define the keys and starting values\n",
    "          'evens':[]}\n",
    "\n",
    "for one_number in mylist:\n",
    "    print(f'Checking {one_number}')\n",
    "    \n",
    "    if one_number % 2 == 0:\n",
    "        counts['evens'].append(one_number)\n",
    "        print(f'\\t{one_number} is even')    # \\t == tab\n",
    "    else:\n",
    "        counts['odds'].append(one_number)\n",
    "        print(f'\\t{one_number} is odd')\n",
    "        \n",
    "print(counts)          # how does the dict look?"
   ]
  },
  {
   "cell_type": "markdown",
   "id": "0ed840fa",
   "metadata": {},
   "source": [
    "# Exercise: Vowels, digits, and others (di"
   ]
  }
 ],
 "metadata": {
  "kernelspec": {
   "display_name": "Python 3 (ipykernel)",
   "language": "python",
   "name": "python3"
  },
  "language_info": {
   "codemirror_mode": {
    "name": "ipython",
    "version": 3
   },
   "file_extension": ".py",
   "mimetype": "text/x-python",
   "name": "python",
   "nbconvert_exporter": "python",
   "pygments_lexer": "ipython3",
   "version": "3.10.8"
  }
 },
 "nbformat": 4,
 "nbformat_minor": 5
}
