{
 "cells": [
  {
   "cell_type": "markdown",
   "id": "3e118667",
   "metadata": {},
   "source": [
    "# Agenda: Week 3, Dictionaries and files\n",
    "\n",
    "1. Recap of topics + Q&A\n",
    "2. Dictionaries\n",
    "    - Define them\n",
    "    - Retrieving from them\n",
    "    - Modifying them (dicts are mutable)\n",
    "    - Uses for dictionaries (including accumulating)\n",
    "    - Looping over dicts\n",
    "    - How do dictionaries work?\n",
    "3. Files\n",
    "    - What are files?\n",
    "    - Reading from (text) files\n",
    "    - Writing to files and the \"with\" statement"
   ]
  },
  {
   "cell_type": "markdown",
   "id": "9c56dea0",
   "metadata": {},
   "source": [
    "# The story so far...\n",
    "\n",
    "We organize our data into data structures.  So far, we've seen a bunch of data structures:\n",
    "\n",
    "- Integers and floats (numbers)\n",
    "- Strings\n",
    "- Lists\n",
    "- Tuples\n",
    "\n",
    "We saw, last week, that strings, lists, and tuples are all part of the same \"sequence\" family. They all implement similar functionality.  (They are also different, but there's a lot in common.)\n",
    "\n",
    "What can sequences do?\n",
    "- Retrieve one item from an index\n",
    "- Retrieve a slice using `[start:end]`\n",
    "- Iterate with a `for` loop\n",
    "- Search with `in`\n",
    "- Get the length with `len`"
   ]
  },
  {
   "cell_type": "markdown",
   "id": "75c6853f",
   "metadata": {},
   "source": [
    "# Dictionaries (`dict`)\n",
    "\n",
    "Lists and tuples are what we call ordered sequences of data: We know what order they'll be in (i.e., their index order). And we can do all of our sequence stuff with them.\n",
    "\n",
    "However, every list (and every tuple) has fixed indexes -- starting with 0, then 1, then 2... all the way up to `len(seq) - 1`, which will be the highest index.\n",
    "\n",
    "Dictionaries are well known in the programming world, often with other names:\n",
    "- Hash tables\n",
    "- Hashes\n",
    "- Key-value stores\n",
    "- Name-value stores\n",
    "- Associative arrays\n",
    "- Mappings\n",
    "- Keymaps\n",
    "- Hashmaps\n",
    "\n",
    "The important thing to understand about dicts is that we can dictate not just the values, but also the keys -- which are what we call the indexes in a dictionary.\n",
    "\n",
    "So every list with 10 elements will have indexes from 0 through 9. But a dict with 10 elements... we don't know what the keys will be without checking.  We can determine what the indexes are.\n",
    "\n",
    "There are many *many* cases in programming when we would want these key-value pairs:\n",
    "\n",
    "- Usernames and user IDs\n",
    "- User IDs and usernames\n",
    "- Month names and numbers\n",
    "- Month numbers and names\n",
    "- Filenames and file contents\n",
    "- Filenames and timestamps\n",
    "- Timestamps and lists of users who were logged in then\n",
    "\n",
    "Dictionaries are the most important data structure in Python."
   ]
  },
  {
   "cell_type": "code",
   "execution_count": 1,
   "id": "1b27a489",
   "metadata": {},
   "outputs": [],
   "source": [
    "# how do I create a dictionary?\n",
    "\n",
    "# (1) we use {}, curly braces, around the dict\n",
    "# (2) every key has a value, and every value has a key\n",
    "# (3) each key-value pair is separated by a :\n",
    "# (4) the pairs are separated by ,\n",
    "\n",
    "d = {'a':10, 'b':20, 'c':30}"
   ]
  },
  {
   "cell_type": "code",
   "execution_count": 2,
   "id": "5c8a65ce",
   "metadata": {},
   "outputs": [
    {
     "data": {
      "text/plain": [
       "dict"
      ]
     },
     "execution_count": 2,
     "metadata": {},
     "output_type": "execute_result"
    }
   ],
   "source": [
    "type(d)  # what kind of data structure is d?"
   ]
  },
  {
   "cell_type": "code",
   "execution_count": 3,
   "id": "26e3cd78",
   "metadata": {},
   "outputs": [
    {
     "data": {
      "text/plain": [
       "3"
      ]
     },
     "execution_count": 3,
     "metadata": {},
     "output_type": "execute_result"
    }
   ],
   "source": [
    "len(d)   # how many pairs are there in d?"
   ]
  },
  {
   "cell_type": "code",
   "execution_count": 4,
   "id": "84b187ac",
   "metadata": {},
   "outputs": [
    {
     "data": {
      "text/plain": [
       "10"
      ]
     },
     "execution_count": 4,
     "metadata": {},
     "output_type": "execute_result"
    }
   ],
   "source": [
    "# what is the value associated with the key 'a'?\n",
    "\n",
    "d['a']   # I use [], just like with strings, lists, and tuples, but here I give a key, not a numeric index"
   ]
  },
  {
   "cell_type": "code",
   "execution_count": 5,
   "id": "68829f32",
   "metadata": {},
   "outputs": [
    {
     "data": {
      "text/plain": [
       "20"
      ]
     },
     "execution_count": 5,
     "metadata": {},
     "output_type": "execute_result"
    }
   ],
   "source": [
    "d['b']"
   ]
  },
  {
   "cell_type": "code",
   "execution_count": 6,
   "id": "3fd47373",
   "metadata": {},
   "outputs": [
    {
     "data": {
      "text/plain": [
       "30"
      ]
     },
     "execution_count": 6,
     "metadata": {},
     "output_type": "execute_result"
    }
   ],
   "source": [
    "d['c']"
   ]
  },
  {
   "cell_type": "code",
   "execution_count": 7,
   "id": "608621ca",
   "metadata": {},
   "outputs": [
    {
     "ename": "KeyError",
     "evalue": "'x'",
     "output_type": "error",
     "traceback": [
      "\u001b[0;31m---------------------------------------------------------------------------\u001b[0m",
      "\u001b[0;31mKeyError\u001b[0m                                  Traceback (most recent call last)",
      "\u001b[0;32m/var/folders/rr/0mnyyv811fs5vyp22gf4fxk00000gn/T/ipykernel_91352/3081862876.py\u001b[0m in \u001b[0;36m<module>\u001b[0;34m\u001b[0m\n\u001b[0;32m----> 1\u001b[0;31m \u001b[0md\u001b[0m\u001b[0;34m[\u001b[0m\u001b[0;34m'x'\u001b[0m\u001b[0;34m]\u001b[0m   \u001b[0;31m# what happens if we ask for a key that doesn't exist?\u001b[0m\u001b[0;34m\u001b[0m\u001b[0;34m\u001b[0m\u001b[0m\n\u001b[0m",
      "\u001b[0;31mKeyError\u001b[0m: 'x'"
     ]
    }
   ],
   "source": [
    "d['x']   # what happens if we ask for a key that doesn't exist?"
   ]
  },
  {
   "cell_type": "code",
   "execution_count": 8,
   "id": "3fb49641",
   "metadata": {},
   "outputs": [
    {
     "data": {
      "text/plain": [
       "True"
      ]
     },
     "execution_count": 8,
     "metadata": {},
     "output_type": "execute_result"
    }
   ],
   "source": [
    "# if I want to know whether a key exists, so as to avoid such an error,\n",
    "# I can do that with the \"in\" operator\n",
    "\n",
    "# in only checks in the keys for an exact match.  It never checks the values.\n",
    "\n",
    "'a' in d"
   ]
  },
  {
   "cell_type": "code",
   "execution_count": 9,
   "id": "f380d52a",
   "metadata": {},
   "outputs": [
    {
     "data": {
      "text/plain": [
       "True"
      ]
     },
     "execution_count": 9,
     "metadata": {},
     "output_type": "execute_result"
    }
   ],
   "source": [
    "'b' in d"
   ]
  },
  {
   "cell_type": "code",
   "execution_count": 10,
   "id": "21e7b159",
   "metadata": {},
   "outputs": [
    {
     "data": {
      "text/plain": [
       "False"
      ]
     },
     "execution_count": 10,
     "metadata": {},
     "output_type": "execute_result"
    }
   ],
   "source": [
    "10 in d"
   ]
  },
  {
   "cell_type": "code",
   "execution_count": 11,
   "id": "baa29d59",
   "metadata": {},
   "outputs": [
    {
     "data": {
      "text/plain": [
       "{'a': 10, 'b': 20, 'c': 30}"
      ]
     },
     "execution_count": 11,
     "metadata": {},
     "output_type": "execute_result"
    }
   ],
   "source": [
    "d"
   ]
  },
  {
   "cell_type": "markdown",
   "id": "7e15699d",
   "metadata": {},
   "source": [
    "# Two more notes about keys\n",
    "\n",
    "1. The keys in a dict are unique. No key can exist more than once.\n",
    "2. Anything at all can be a dict value. But only immutable values (numbers and strings, typically) can be keys."
   ]
  },
  {
   "cell_type": "code",
   "execution_count": 12,
   "id": "7ee6196e",
   "metadata": {},
   "outputs": [
    {
     "data": {
      "text/plain": [
       "dict_values([10, 20, 30])"
      ]
     },
     "execution_count": 12,
     "metadata": {},
     "output_type": "execute_result"
    }
   ],
   "source": [
    "# if you really want, you can run the method .values() on a dictionary, and get back the values\n",
    "\n",
    "d.values()    # special data structure, sort of like a list (but not really)"
   ]
  },
  {
   "cell_type": "code",
   "execution_count": 13,
   "id": "96bd5f8d",
   "metadata": {},
   "outputs": [
    {
     "data": {
      "text/plain": [
       "True"
      ]
     },
     "execution_count": 13,
     "metadata": {},
     "output_type": "execute_result"
    }
   ],
   "source": [
    "20 in d.values()  # this searches for 20 in the values of the dict d"
   ]
  },
  {
   "cell_type": "code",
   "execution_count": null,
   "id": "6e754a9f",
   "metadata": {},
   "outputs": [],
   "source": [
    "# defining a dict is always {key:value, key:value, key:value}\n",
    "\n",
    "d = {'a':10, 'b':20, 'c':30}"
   ]
  },
  {
   "cell_type": "markdown",
   "id": "8ca9d3ea",
   "metadata": {},
   "source": [
    "# Exercise: Restaurant\n",
    "\n",
    "1. Define a new dict, called `menu`, in which the keys are the items on a restaurant's menu, and the values are the prices (in whatever currency you want).\n",
    "2. Define `total` to be 0.\n",
    "3. Ask the user, repeatedly, what they want to order.\n",
    "    - If they enter an empty string, stop asking -- exit the loop, and print the total\n",
    "    - If they enter a string that is an entry in the menu (i.e., a key in `menu`), then print the price, and the new total\n",
    "    - If they enter a string that is *not* an entry in the menu, then scold the user\n",
    "4. After exiting the loop, print the total\n",
    "\n",
    "Example:\n",
    "\n",
    "    Order: sandwich\n",
    "    sandwich is 10, total is 10\n",
    "    Order: tea\n",
    "    tea is 3, total is 13\n",
    "    Order: elephant\n",
    "    we are fresh out of elephant today!\n",
    "    Order: [ENTER]\n",
    "    total is 13\n",
    "    \n",
    "Hints/reminders:\n",
    "- Use a `while True` loop for an infinite loop\n",
    "- You can get input from the user with `input`\n",
    "- You can check if the user just pressed ENTER by comparing the result of `input` with an empty string.\n",
    "- Check if a key is in a dict with `in`\n",
    "- Retrieve a value from a dict with `[]`\n",
    "- Don't forget that a key can be assigned to a variable, and the variable can then be used for searching/retrieving."
   ]
  },
  {
   "cell_type": "code",
   "execution_count": null,
   "id": "afc48de7",
   "metadata": {},
   "outputs": [],
   "source": [
    "menu = {'sandwich':10, 'tea':3, 'apple':4, 'cake':6}\n",
    "\n",
    "total = 0\n",
    "\n",
    "# ask the user, repeatedly, to order something\n",
    "\n",
    "while True:\n",
    "    s = input('Order: ').strip()   # input gets a string from the user, strip removes leading/trailing whitespace\n",
    "    \n",
    "    if s == '':\n",
    "        break   # exits our \"while\" loop right away\n",
    "        \n",
    "    if s in menu:   # is the user's input a key in our \"menu\" dict?\n",
    "        price = menu[s]  # get the price for s\n",
    "        total += price   # add the price to the total\n",
    "        print(f'{s} costs {price}, total is now {total}')\n",
    "        \n",
    "    else:   # the user's order is *not* a key in our dict\n",
    "        print(f'We are out of {s} today!')\n",
    "        \n",
    "print(f'Total is {total}')"
   ]
  },
  {
   "cell_type": "code",
   "execution_count": 14,
   "id": "fcc1efb4",
   "metadata": {},
   "outputs": [
    {
     "data": {
      "text/plain": [
       "2"
      ]
     },
     "execution_count": 14,
     "metadata": {},
     "output_type": "execute_result"
    }
   ],
   "source": [
    "months = {'Jan':1, 'Feb':2, 'Mar':3, 'Apr':4}\n",
    "\n",
    "months['Feb']"
   ]
  },
  {
   "cell_type": "code",
   "execution_count": 15,
   "id": "6d901b04",
   "metadata": {},
   "outputs": [],
   "source": [
    "# a dict's values can be ABSOLUTELY ANYTHING YOU WANT\n",
    "# a dict's values can be strings\n",
    "# a dict's values can be lists\n",
    "# a dict's values can be dictionaries"
   ]
  },
  {
   "cell_type": "code",
   "execution_count": 16,
   "id": "ca1c7671",
   "metadata": {},
   "outputs": [],
   "source": [
    "# can we modify a dictionary?\n",
    "# in other words: are they mutable?\n",
    "\n",
    "# ints, strings, and tuples are all immutable\n",
    "# lists are mutable -- we can change the object without getting a new object back"
   ]
  },
  {
   "cell_type": "code",
   "execution_count": 17,
   "id": "7ebc4867",
   "metadata": {},
   "outputs": [
    {
     "data": {
      "text/plain": [
       "{'a': 999, 'b': 20, 'c': 30}"
      ]
     },
     "execution_count": 17,
     "metadata": {},
     "output_type": "execute_result"
    }
   ],
   "source": [
    "d = {'a':10, 'b':20, 'c':30}\n",
    "\n",
    "# how can I change a value in a dict?\n",
    "# answer: just assign a new value to that key\n",
    "\n",
    "d['a'] = 999\n",
    "d"
   ]
  },
  {
   "cell_type": "code",
   "execution_count": 18,
   "id": "be883b22",
   "metadata": {},
   "outputs": [
    {
     "data": {
      "text/plain": [
       "{'a': 999, 'b': 20, 'c': 30, 'x': 876}"
      ]
     },
     "execution_count": 18,
     "metadata": {},
     "output_type": "execute_result"
    }
   ],
   "source": [
    "# how can I add a new key-value pair to a dict?\n",
    "# unlike lists, which have a special, different \"append\" method, in dicts... you just assign\n",
    "\n",
    "d['x'] = 876   # after this assignment, we find that there's a new key-value pair, x:876\n",
    "d"
   ]
  },
  {
   "cell_type": "code",
   "execution_count": 19,
   "id": "4e49075f",
   "metadata": {},
   "outputs": [
    {
     "data": {
      "text/plain": [
       "{'a': 999, 'b': 20, 'c': 30, 'x': 543}"
      ]
     },
     "execution_count": 19,
     "metadata": {},
     "output_type": "execute_result"
    }
   ],
   "source": [
    "# if I assign to the 'x' key a second time, we'll simply update the value\n",
    "d['x'] = 543\n",
    "\n",
    "d"
   ]
  },
  {
   "cell_type": "code",
   "execution_count": 21,
   "id": "2634fbb0",
   "metadata": {},
   "outputs": [
    {
     "name": "stdout",
     "output_type": "stream",
     "text": [
      "{}\n",
      "Enter a name: Reuven\n",
      "Enter new value: 10\n",
      "{'Reuven': '10'}\n",
      "Enter a name: Atara\n",
      "Enter new value: 20\n",
      "{'Reuven': '10', 'Atara': '20'}\n",
      "Enter a name: Reuven\n",
      "Enter new value: 15\n",
      "{'Reuven': '15', 'Atara': '20'}\n",
      "Enter a name: \n",
      "{'Reuven': '15', 'Atara': '20'}\n"
     ]
    }
   ],
   "source": [
    "# let's keep track of fastest times for people on a team\n",
    "\n",
    "times = {}   # empty dictionary\n",
    "\n",
    "while True:\n",
    "    print(times)\n",
    "    name = input('Enter a name: ').strip()\n",
    "    \n",
    "    if name == '':   # exit the loop if we got an empty string\n",
    "        break\n",
    "        \n",
    "    new_value = input('Enter new value: ').strip()\n",
    "    \n",
    "    times[name] = new_value   # note, we're storing a string here, not an integer\n",
    "    \n",
    "print(times)      # print our dictionary"
   ]
  },
  {
   "cell_type": "code",
   "execution_count": 22,
   "id": "2c2bb6f0",
   "metadata": {},
   "outputs": [
    {
     "data": {
      "text/plain": [
       "dict_values(['15', '20'])"
      ]
     },
     "execution_count": 22,
     "metadata": {},
     "output_type": "execute_result"
    }
   ],
   "source": [
    "times.values()   # this returns all of the values in our dict"
   ]
  },
  {
   "cell_type": "code",
   "execution_count": 23,
   "id": "926d4f89",
   "metadata": {},
   "outputs": [
    {
     "data": {
      "text/plain": [
       "dict_keys(['Reuven', 'Atara'])"
      ]
     },
     "execution_count": 23,
     "metadata": {},
     "output_type": "execute_result"
    }
   ],
   "source": [
    "times.keys()    # this returns all of the keys in our dict"
   ]
  },
  {
   "cell_type": "code",
   "execution_count": 24,
   "id": "7f8e6d8d",
   "metadata": {},
   "outputs": [
    {
     "data": {
      "text/plain": [
       "True"
      ]
     },
     "execution_count": 24,
     "metadata": {},
     "output_type": "execute_result"
    }
   ],
   "source": [
    "# we normally don't need the \"keys\" method, because we can search using \"in\" directly on the dict\n",
    "\n",
    "'Reuven' in times   "
   ]
  },
  {
   "cell_type": "code",
   "execution_count": 25,
   "id": "0a520c59",
   "metadata": {},
   "outputs": [
    {
     "data": {
      "text/plain": [
       "False"
      ]
     },
     "execution_count": 25,
     "metadata": {},
     "output_type": "execute_result"
    }
   ],
   "source": [
    "'Joe' in times"
   ]
  },
  {
   "cell_type": "code",
   "execution_count": 26,
   "id": "55da0f03",
   "metadata": {},
   "outputs": [
    {
     "data": {
      "text/plain": [
       "True"
      ]
     },
     "execution_count": 26,
     "metadata": {},
     "output_type": "execute_result"
    }
   ],
   "source": [
    "# I could search in times.keys().... but we shouldn't\n",
    "\n",
    "'Reuven' in times.keys()   # this first runs the keys method, then searches (slowly) through its result"
   ]
  },
  {
   "cell_type": "markdown",
   "id": "2ecfec6c",
   "metadata": {},
   "source": [
    "Modern Python dictionaries are ordered in the value of key insertion.\n",
    "\n",
    "Meaning: When you define your dict, the items will according to your definition.  If I define\n",
    "\n",
    "    {'a':10, 'b':20, 'c':30}\n",
    "    \n",
    "Then the dict is ordered 'a' -> 'b' -> 'c'.\n",
    "\n",
    "But if I now add a key-value pair, it'll be at the end:\n",
    "\n",
    "    d['x'] = 100\n",
    "    \n",
    "Now the order will be 'a' -> 'b' -> 'c' -> 'x'\n",
    "\n",
    "The order normally doesn't make much difference, except if you're iterating over a dict in a for loop, which we'll do later."
   ]
  },
  {
   "cell_type": "markdown",
   "id": "3d603c32",
   "metadata": {},
   "source": [
    "# Next up:\n",
    "\n",
    "Two more paradigms for working with dicts\n",
    "- Accumulating with known keys\n",
    "- Accumulating from nothing\n"
   ]
  },
  {
   "cell_type": "markdown",
   "id": "100a05d6",
   "metadata": {},
   "source": [
    "# Accumulating with known keys\n",
    "\n",
    "In this paradigm, we define a dict with keys and starting values. (Often, the values will be 0.) Then we use our dict to count how many times something occurs.\n",
    "\n",
    "An example: Let's count odd and even numbers in a list."
   ]
  },
  {
   "cell_type": "code",
   "execution_count": 28,
   "id": "4361fc1e",
   "metadata": {},
   "outputs": [
    {
     "name": "stdout",
     "output_type": "stream",
     "text": [
      "Checking 10\n",
      "\t10 is even\n",
      "Checking 15\n",
      "\t15 is odd\n",
      "Checking 12\n",
      "\t12 is even\n",
      "Checking 13\n",
      "\t13 is odd\n",
      "Checking 17\n",
      "\t17 is odd\n",
      "Checking 18\n",
      "\t18 is even\n",
      "{'odds': 3, 'evens': 3}\n"
     ]
    }
   ],
   "source": [
    "mylist = [10, 15, 12, 13, 17, 18]\n",
    "\n",
    "counts = {'odds':0,    # this is my dict -- I define the keys and starting values\n",
    "          'evens':0}\n",
    "\n",
    "for one_number in mylist:\n",
    "    print(f'Checking {one_number}')\n",
    "    \n",
    "    # we can divide the number by 2, and check the remainder -- using the % \"modulus\" operator\n",
    "    # if the remainder is 0, the number is even\n",
    "    # if the remainder is 1, the number is odd\n",
    "    \n",
    "    if one_number % 2 == 0:\n",
    "        counts['evens'] += 1     # update the value associated with the \"evens\" key\n",
    "        print(f'\\t{one_number} is even')    # \\t == tab\n",
    "    else:\n",
    "        counts['odds'] += 1      # update the value associated with the \"odds\" key\n",
    "        print(f'\\t{one_number} is odd')\n",
    "        \n",
    "print(counts)          # how does the dict look?"
   ]
  },
  {
   "cell_type": "code",
   "execution_count": 29,
   "id": "266a8e1b",
   "metadata": {},
   "outputs": [
    {
     "name": "stdout",
     "output_type": "stream",
     "text": [
      "Checking 10\n",
      "\t10 is even\n",
      "Checking 15\n",
      "\t15 is odd\n",
      "Checking 12\n",
      "\t12 is even\n",
      "Checking 13\n",
      "\t13 is odd\n",
      "Checking 17\n",
      "\t17 is odd\n",
      "Checking 18\n",
      "\t18 is even\n",
      "{'odds': [15, 13, 17], 'evens': [10, 12, 18]}\n"
     ]
    }
   ],
   "source": [
    "# variation -- instead of initializing the dict with 0\n",
    "# let's initialize it with empty lists!\n",
    "\n",
    "# then we won't *count* the numbers, but we'll sort them into odds and evens\n",
    "\n",
    "mylist = [10, 15, 12, 13, 17, 18]\n",
    "\n",
    "counts = {'odds':[],    # this is my dict -- I define the keys and starting values\n",
    "          'evens':[]}\n",
    "\n",
    "for one_number in mylist:\n",
    "    print(f'Checking {one_number}')\n",
    "    \n",
    "    if one_number % 2 == 0:\n",
    "        counts['evens'].append(one_number)\n",
    "        print(f'\\t{one_number} is even')    # \\t == tab\n",
    "    else:\n",
    "        counts['odds'].append(one_number)\n",
    "        print(f'\\t{one_number} is odd')\n",
    "        \n",
    "print(counts)          # how does the dict look?"
   ]
  },
  {
   "cell_type": "markdown",
   "id": "d2ba6391",
   "metadata": {},
   "source": [
    "# Exercise: Vowels, digits, and others (dict edition)\n",
    "\n",
    "1. Define a dict in which there are three keys: `vowels`, `digits`, and `others`. Each value should be 0.\n",
    "2. Ask the user to enter a string.\n",
    "3. Go through each character in that string, and find if it's a vowel (a, e, i, o, u) or a digit (0-9), or neither of these -- and add 1 to the appropriate dict value.\n",
    "4. When you're done, print the dict.\n",
    "\n",
    "Example:\n",
    "\n",
    "    Enter a string: hello!! 123\n",
    "    {'vowels':2, 'digits':3, 'others': 6}"
   ]
  },
  {
   "cell_type": "code",
   "execution_count": 30,
   "id": "18129ed1",
   "metadata": {},
   "outputs": [
    {
     "name": "stdout",
     "output_type": "stream",
     "text": [
      "Enter a string: hello!! 123\n",
      "{'vowels': 2, 'digits': 3, 'others': 6}\n"
     ]
    }
   ],
   "source": [
    "# simple version of our vowels-digits-others program\n",
    "\n",
    "counts = {'vowels':0, 'digits':0, 'others':0}\n",
    "\n",
    "s = input('Enter a string: ').strip()\n",
    "\n",
    "for one_character in s:\n",
    "    if one_character in 'aeiou':   # is it a vowel?\n",
    "        counts['vowels'] += 1\n",
    "    elif one_character.isdigit():  # is it a digit, 0-9?\n",
    "        counts['digits'] += 1\n",
    "    else:\n",
    "        counts['others'] += 1\n",
    "        \n",
    "print(counts)        "
   ]
  },
  {
   "cell_type": "code",
   "execution_count": 31,
   "id": "2b71381e",
   "metadata": {},
   "outputs": [
    {
     "name": "stdout",
     "output_type": "stream",
     "text": [
      "Enter a string: hello!! 123\n",
      "Enter a string: goodbye?? 456\n",
      "Enter a string: whatever!\n",
      "Enter a string: \n",
      "{'vowels': 8, 'digits': 6, 'others': 19}\n"
     ]
    }
   ],
   "source": [
    "# more complex version of our vowels-digits-others program: \n",
    "# ask the user to enter mulitple strings, stopping when they enter an empty string\n",
    "\n",
    "counts = {'vowels':0, 'digits':0, 'others':0}\n",
    "\n",
    "while True:\n",
    "\n",
    "    s = input('Enter a string: ').strip()\n",
    "    \n",
    "    if s == '':   # exit the while loop if we got an empty string\n",
    "        break\n",
    "\n",
    "    for one_character in s:\n",
    "        if one_character in 'aeiou':   # is it a vowel?\n",
    "            counts['vowels'] += 1\n",
    "        elif one_character.isdigit():  # is it a digit, 0-9?\n",
    "            counts['digits'] += 1\n",
    "        else:\n",
    "            counts['others'] += 1\n",
    "        \n",
    "print(counts)        "
   ]
  },
  {
   "cell_type": "markdown",
   "id": "383e5e2b",
   "metadata": {},
   "source": [
    "# Paradigms for dictionary use\n",
    "\n",
    "1. Define the dict at the top of the program, and read from it, but don't change it.\n",
    "2. Define the dict at the top of the program with keys and starting values. The keys won't change, but the values will, as we accumulate information.\n",
    "3. Define an empty dict at the top of the program, and as the program runs, we accumulate both keys and values."
   ]
  },
  {
   "cell_type": "code",
   "execution_count": 33,
   "id": "c0e7fb62",
   "metadata": {},
   "outputs": [
    {
     "name": "stdout",
     "output_type": "stream",
     "text": [
      "Enter a string: hello\n",
      "{'h': 1, 'e': 1, 'l': 2, 'o': 1}\n"
     ]
    }
   ],
   "source": [
    "# Example of paradigm 3: count characters\n",
    "\n",
    "# we'll ask the user to enter a string, and we'll count how often \n",
    "# each character appears in the string.  Our counts will be done\n",
    "# in a dict called \"counts\".\n",
    "\n",
    "counts = {}    # start with an empty dict!\n",
    "\n",
    "s = input('Enter a string: ').strip()\n",
    "\n",
    "for one_character in s:   # iterating over s, one character at a time, assigning each to one_character\n",
    "    \n",
    "    # if we have already seen this character before, add 1 to its value\n",
    "    if one_character in counts:\n",
    "        counts[one_character] += 1\n",
    "\n",
    "    # this is the first time we're seeing this character\n",
    "    else:  \n",
    "        counts[one_character] = 1\n",
    "    \n",
    "print(counts)    "
   ]
  },
  {
   "cell_type": "markdown",
   "id": "e1476508",
   "metadata": {},
   "source": [
    "# Exercise: Rainfall\n",
    "\n",
    "We're going to collect information about how much rain has fallen in a number of cities. Before running the program, we don't know what cities we'll be collecting information about.  But at the end of running the program, we will have collected names and values.\n",
    "\n",
    "1. Define a new, empty dict called `rainfall`. \n",
    "2. Ask the user, repeatedly, to enter the name of a city.  We don't know, in advance, what those names might be.\n",
    "3. If the user enters an empty string, `break` out of that loop -- stop asking, and print the entirety of `rainfall`.\n",
    "4. If the user does *not* enter an empty string, then ask how much rain fell (in mm).\n",
    "    - If this is the first time that we're seeing this city, then assign the key-value pair to `rainfall`, with the key being the city name, and the value being the amount of rain.\n",
    "    - If this is *not* the first time that we're seeing this city, then add the new value to the existing one.\n",
    "    - NOTE that you'll need to convert the user's rain number to an integer\n",
    "5. After the loop exits, print `rainfall`.\n",
    "\n",
    "Example:\n",
    "\n",
    "    City: Jerusalem\n",
    "    Rain: 5\n",
    "    City: Tel Aviv\n",
    "    Rain: 4\n",
    "    City: Jerusalem\n",
    "    Rain: 3\n",
    "    City: [ENTER]\n",
    "    {'Jerusalem':8, 'Tel Aviv':4}\n",
    "    "
   ]
  },
  {
   "cell_type": "code",
   "execution_count": 38,
   "id": "2447a59e",
   "metadata": {},
   "outputs": [
    {
     "name": "stdout",
     "output_type": "stream",
     "text": [
      "Enter city: a\n",
      "Rain: 5\n",
      "Enter city: b\n",
      "Rain: 4\n",
      "Enter city: a\n",
      "Rain: 3\n",
      "Enter city: \n",
      "{'a': 8, 'b': 4}\n"
     ]
    }
   ],
   "source": [
    "rainfall = {}   # empty dictionary\n",
    "\n",
    "while True:\n",
    "    city_name = input('Enter city: ').strip()\n",
    "    \n",
    "    if city_name == '':\n",
    "        break\n",
    "        \n",
    "    mm_rain = input('Rain: ').strip()    # this is a string!\n",
    "    \n",
    "    mm_rain = int(mm_rain)    # convert mm_rain to be an integer\n",
    "    \n",
    "    if city_name in rainfall:   # have we seen this city before -- is it a key in rainfall?\n",
    "        rainfall[city_name] += mm_rain    \n",
    "    else:\n",
    "        rainfall[city_name] = mm_rain   # new city, just assign to the dict\n",
    "    \n",
    "print(rainfall)    "
   ]
  },
  {
   "cell_type": "markdown",
   "id": "6c267dc4",
   "metadata": {},
   "source": [
    "# Useful dictionary methods"
   ]
  },
  {
   "cell_type": "code",
   "execution_count": 41,
   "id": "ca591d9a",
   "metadata": {},
   "outputs": [
    {
     "name": "stdout",
     "output_type": "stream",
     "text": [
      "Enter a key: a\n",
      "d[a] == 10\n",
      "Enter a key: b\n",
      "d[b] == 20\n",
      "Enter a key: x\n",
      "d does not have the key x\n",
      "Enter a key: \n"
     ]
    }
   ],
   "source": [
    "# let's say I have a dict, and want to let the user enter a key and get a value\n",
    "\n",
    "d = {'a':10, 'b':20, 'c':30}\n",
    "\n",
    "while True:\n",
    "    k = input('Enter a key: ').strip()\n",
    "    \n",
    "    if k == '':\n",
    "        break\n",
    "        \n",
    "    if k in d:\n",
    "        print(f'd[{k}] == {d[k]}')\n",
    "    else:\n",
    "        print(f'd does not have the key {k}')"
   ]
  },
  {
   "cell_type": "markdown",
   "id": "9a8cf8b2",
   "metadata": {},
   "source": [
    "# This happens a lot!\n",
    "\n",
    "We want to retrieve a value from a dict based on the key, but it's annoying to constantly be checking if the key is there.\n",
    "\n",
    "The solution? The `get` method, which works like `[]` but doesn't give an error if the key doesn't exist.  Rather, it returns the special value `None`, or (if you prefer) any value you specify.\n",
    "\n"
   ]
  },
  {
   "cell_type": "code",
   "execution_count": 42,
   "id": "84ab2822",
   "metadata": {},
   "outputs": [
    {
     "name": "stdout",
     "output_type": "stream",
     "text": [
      "Enter a key: a\n",
      "d[a] == 10\n",
      "Enter a key: b\n",
      "d[b] == 20\n",
      "Enter a key: x\n",
      "d[x] == None\n",
      "Enter a key: \n"
     ]
    }
   ],
   "source": [
    "# rewrite this code to use \"get\"\n",
    "\n",
    "d = {'a':10, 'b':20, 'c':30}\n",
    "\n",
    "while True:\n",
    "    k = input('Enter a key: ').strip()\n",
    "    \n",
    "    if k == '':\n",
    "        break\n",
    "        \n",
    "    print(f'd[{k}] == {d.get(k)}')\n"
   ]
  },
  {
   "cell_type": "code",
   "execution_count": 43,
   "id": "8c11c804",
   "metadata": {},
   "outputs": [
    {
     "name": "stdout",
     "output_type": "stream",
     "text": [
      "Enter a key: a\n",
      "d[a] == 10\n",
      "Enter a key: b\n",
      "d[b] == 20\n",
      "Enter a key: z\n",
      "d[z] == No key\n",
      "Enter a key: \n"
     ]
    }
   ],
   "source": [
    "# rewrite this code to use \"get\" with a default value\n",
    "\n",
    "d = {'a':10, 'b':20, 'c':30}\n",
    "\n",
    "while True:\n",
    "    k = input('Enter a key: ').strip()\n",
    "    \n",
    "    if k == '':\n",
    "        break\n",
    "        \n",
    "    print(f'd[{k}] == {d.get(k, \"No key\")}')\n"
   ]
  },
  {
   "cell_type": "code",
   "execution_count": 44,
   "id": "b9ca9a5b",
   "metadata": {},
   "outputs": [
    {
     "name": "stdout",
     "output_type": "stream",
     "text": [
      "Enter city: 5\n",
      "Rain: \n"
     ]
    },
    {
     "ename": "ValueError",
     "evalue": "invalid literal for int() with base 10: ''",
     "output_type": "error",
     "traceback": [
      "\u001b[0;31m---------------------------------------------------------------------------\u001b[0m",
      "\u001b[0;31mValueError\u001b[0m                                Traceback (most recent call last)",
      "\u001b[0;32m/var/folders/rr/0mnyyv811fs5vyp22gf4fxk00000gn/T/ipykernel_91352/4286086671.py\u001b[0m in \u001b[0;36m<module>\u001b[0;34m\u001b[0m\n\u001b[1;32m     11\u001b[0m     \u001b[0mmm_rain\u001b[0m \u001b[0;34m=\u001b[0m \u001b[0minput\u001b[0m\u001b[0;34m(\u001b[0m\u001b[0;34m'Rain: '\u001b[0m\u001b[0;34m)\u001b[0m\u001b[0;34m.\u001b[0m\u001b[0mstrip\u001b[0m\u001b[0;34m(\u001b[0m\u001b[0;34m)\u001b[0m    \u001b[0;31m# this is a string!\u001b[0m\u001b[0;34m\u001b[0m\u001b[0;34m\u001b[0m\u001b[0m\n\u001b[1;32m     12\u001b[0m \u001b[0;34m\u001b[0m\u001b[0m\n\u001b[0;32m---> 13\u001b[0;31m     \u001b[0mmm_rain\u001b[0m \u001b[0;34m=\u001b[0m \u001b[0mint\u001b[0m\u001b[0;34m(\u001b[0m\u001b[0mmm_rain\u001b[0m\u001b[0;34m)\u001b[0m    \u001b[0;31m# convert mm_rain to be an integer\u001b[0m\u001b[0;34m\u001b[0m\u001b[0;34m\u001b[0m\u001b[0m\n\u001b[0m\u001b[1;32m     14\u001b[0m \u001b[0;34m\u001b[0m\u001b[0m\n\u001b[1;32m     15\u001b[0m     \u001b[0;31m# the first time we encounter a city, get will return 0 (because city_name isn't a key)\u001b[0m\u001b[0;34m\u001b[0m\u001b[0;34m\u001b[0m\u001b[0m\n",
      "\u001b[0;31mValueError\u001b[0m: invalid literal for int() with base 10: ''"
     ]
    }
   ],
   "source": [
    "# rewritten rainfall program using .get\n",
    "\n",
    "rainfall = {}   # empty dictionary\n",
    "\n",
    "while True:\n",
    "    city_name = input('Enter city: ').strip()\n",
    "    \n",
    "    if city_name == '':\n",
    "        break\n",
    "        \n",
    "    mm_rain = input('Rain: ').strip()    # this is a string!\n",
    "    \n",
    "    mm_rain = int(mm_rain)    # convert mm_rain to be an integer\n",
    "    \n",
    "    # the first time we encounter a city, get will return 0 (because city_name isn't a key)\n",
    "    # after that, get will return the current value\n",
    "    rainfall[city_name] = rainfall.get(city_name, 0) + mm_rain\n",
    "    \n",
    "print(rainfall)    "
   ]
  },
  {
   "cell_type": "markdown",
   "id": "764cf9cf",
   "metadata": {},
   "source": [
    "# Next up:\n",
    "\n",
    "- Dicts\n",
    "    - How to iterate over a dict with a `for` loop\n",
    "    - How do dicts work?\n",
    "- Files\n",
    "    - If you can download the zip file from https://files.lerner.co.il/exercise-files.zip, that's great -- but if not, you're fine\n",
    "    - Reading from files\n",
    "    - A little writing to files, as well\n",
    "    \n"
   ]
  },
  {
   "cell_type": "markdown",
   "id": "32c7946f",
   "metadata": {},
   "source": [
    "# Iterating over dictionaries (with `for` loops)\n",
    "\n",
    "- If we iterate over a string, we get its characters\n",
    "- If we iterate over a list or tuple, we get its elements\n",
    "- What happens if/when we iterate over a dict? (Will it even work?)"
   ]
  },
  {
   "cell_type": "code",
   "execution_count": 45,
   "id": "8027d27c",
   "metadata": {},
   "outputs": [
    {
     "name": "stdout",
     "output_type": "stream",
     "text": [
      "a\n",
      "b\n",
      "c\n"
     ]
    }
   ],
   "source": [
    "d = {'a':10, 'b':20, 'c':30}\n",
    "\n",
    "for one_item in d:   # when we iterate over a dict, we get the keys!\n",
    "    print(one_item)"
   ]
  },
  {
   "cell_type": "code",
   "execution_count": 46,
   "id": "f9dbfb14",
   "metadata": {},
   "outputs": [],
   "source": [
    "# this is why we almost never need to use the .keys() method!\n",
    "# for searching, it's faster/easier to use \"in\" on the dict itself\n",
    "# for iterating, it's faster/easier to run the for loop on the dict itself"
   ]
  },
  {
   "cell_type": "code",
   "execution_count": 47,
   "id": "a2df9037",
   "metadata": {},
   "outputs": [
    {
     "name": "stdout",
     "output_type": "stream",
     "text": [
      "a: 10\n",
      "b: 20\n",
      "c: 30\n"
     ]
    }
   ],
   "source": [
    "for one_key in d:\n",
    "    print(f'{one_key}: {d[one_key]}')"
   ]
  },
  {
   "cell_type": "code",
   "execution_count": 48,
   "id": "c1522d61",
   "metadata": {},
   "outputs": [
    {
     "name": "stdout",
     "output_type": "stream",
     "text": [
      "('a', 10)\n",
      "('b', 20)\n",
      "('c', 30)\n"
     ]
    }
   ],
   "source": [
    "# I'd really prefer it if I could get keys and values together\n",
    "# good news: I can, with the .items() method on the dict\n",
    "\n",
    "for t in d.items():    # we get a 2-element tuple back with each iteration\n",
    "    print(t)"
   ]
  },
  {
   "cell_type": "code",
   "execution_count": 49,
   "id": "a31b216a",
   "metadata": {},
   "outputs": [
    {
     "name": "stdout",
     "output_type": "stream",
     "text": [
      "a: 10\n",
      "b: 20\n",
      "c: 30\n"
     ]
    }
   ],
   "source": [
    "# we can use tuple unpacking in our for loop, and assign keys and values to variables\n",
    "\n",
    "for key, value in d.items():\n",
    "    print(f'{key}: {value}')"
   ]
  },
  {
   "cell_type": "code",
   "execution_count": 50,
   "id": "ffdadaba",
   "metadata": {},
   "outputs": [
    {
     "data": {
      "text/plain": [
       "{}"
      ]
     },
     "execution_count": 50,
     "metadata": {},
     "output_type": "execute_result"
    }
   ],
   "source": [
    "rainfall"
   ]
  },
  {
   "cell_type": "code",
   "execution_count": 51,
   "id": "f2ab4440",
   "metadata": {},
   "outputs": [
    {
     "data": {
      "text/plain": [
       "dict_items([('a', 10), ('b', 20), ('c', 30)])"
      ]
     },
     "execution_count": 51,
     "metadata": {},
     "output_type": "execute_result"
    }
   ],
   "source": [
    "# what is d.items() really returning?\n",
    "# it looks sorta kinda like a list of 2-element tuples\n",
    "\n",
    "d.items()"
   ]
  },
  {
   "cell_type": "code",
   "execution_count": 52,
   "id": "baffb6ec",
   "metadata": {},
   "outputs": [
    {
     "data": {
      "text/plain": [
       "{'h': 1, 'e': 1, 'l': 2, 'o': 1}"
      ]
     },
     "execution_count": 52,
     "metadata": {},
     "output_type": "execute_result"
    }
   ],
   "source": [
    "counts"
   ]
  },
  {
   "cell_type": "code",
   "execution_count": 53,
   "id": "04259332",
   "metadata": {},
   "outputs": [
    {
     "name": "stdout",
     "output_type": "stream",
     "text": [
      "h: 1\n",
      "e: 1\n",
      "l: 2\n",
      "o: 1\n"
     ]
    }
   ],
   "source": [
    "for key, value in counts.items():\n",
    "    print(f'{key}: {value}')"
   ]
  },
  {
   "cell_type": "code",
   "execution_count": 54,
   "id": "669494cf",
   "metadata": {},
   "outputs": [
    {
     "name": "stdout",
     "output_type": "stream",
     "text": [
      "a: 3\n",
      "b: 5\n",
      "c: 10\n",
      "d: 2\n",
      "e: 8\n"
     ]
    }
   ],
   "source": [
    "counts = {'a':3, 'b':5, 'c':10, 'd':2, 'e':8}\n",
    "\n",
    "for key, value in counts.items():\n",
    "    print(f'{key}: {value}')"
   ]
  },
  {
   "cell_type": "code",
   "execution_count": 55,
   "id": "63adcbae",
   "metadata": {},
   "outputs": [
    {
     "data": {
      "text/plain": [
       "'aaaaa'"
      ]
     },
     "execution_count": 55,
     "metadata": {},
     "output_type": "execute_result"
    }
   ],
   "source": [
    "# we cannot add a string and an integer together in Python -- that leads to an error.\n",
    "# but we CAN multiply them!\n",
    "\n",
    "'a' * 5"
   ]
  },
  {
   "cell_type": "code",
   "execution_count": 58,
   "id": "2b2a483a",
   "metadata": {},
   "outputs": [
    {
     "name": "stdout",
     "output_type": "stream",
     "text": [
      "a: xxx\n",
      "b: xxxxx\n",
      "c: xxxxxxxxxx\n",
      "d: xx\n",
      "e: xxxxxxxx\n"
     ]
    }
   ],
   "source": [
    "# we can use this when printing our \"counts\" dict:\n",
    "\n",
    "for key, value in counts.items():\n",
    "    print(f'{key}: {value * \"x\"}')     # histogram!"
   ]
  },
  {
   "cell_type": "markdown",
   "id": "d1d122da",
   "metadata": {},
   "source": [
    "# How do dicts work?\n",
    "\n",
    "They're based on something known as a \"hash function.\" Hash functions are very common in software today, especially in encryption and security.\n",
    "\n",
    "The idea of a hash function is that you give it an input, and you get a numeric output. The output looks random, but it isn't. There's no way to get the input based on the output.\n",
    "\n",
    "How is this connected?\n",
    "\n",
    "### A tale of two offices\n",
    "\n",
    "- Searching one office at a time: The more offices there are, the longer it might take to find your friend. It's even possible that they aren't in the office, in which case you'll go through the whole building, and not find them.  This is similar to searching in a string, list, or tuple with `in`.  It basically runs a `for` loop, and searches through our data, one element at a time.\n",
    "\n",
    "- A sign indicates that there are 26 offices, and each office is used by the people whose last names start with the appropriate letter -- so everyone whose last name starts with \"A\" is in office 1, with \"B\" in office 2, etc.  You can go directly to the right office, without any searching!  If your friend is there, great! If not, then you found out quickly.  This is how dictionary searches work.\n",
    "\n",
    "Behind the scenes, Python stores a dict's key-value pair in a memory location that is decided by a hash function run on the key.  The key determines where things are stored.\n",
    "\n"
   ]
  },
  {
   "cell_type": "code",
   "execution_count": 59,
   "id": "78f8baab",
   "metadata": {},
   "outputs": [
    {
     "ename": "TypeError",
     "evalue": "unhashable type: 'list'",
     "output_type": "error",
     "traceback": [
      "\u001b[0;31m---------------------------------------------------------------------------\u001b[0m",
      "\u001b[0;31mTypeError\u001b[0m                                 Traceback (most recent call last)",
      "\u001b[0;32m/var/folders/rr/0mnyyv811fs5vyp22gf4fxk00000gn/T/ipykernel_91352/1865013441.py\u001b[0m in \u001b[0;36m<module>\u001b[0;34m\u001b[0m\n\u001b[1;32m      1\u001b[0m \u001b[0mmylist\u001b[0m \u001b[0;34m=\u001b[0m \u001b[0;34m[\u001b[0m\u001b[0;36m10\u001b[0m\u001b[0;34m,\u001b[0m \u001b[0;36m20\u001b[0m\u001b[0;34m,\u001b[0m \u001b[0;36m30\u001b[0m\u001b[0;34m]\u001b[0m\u001b[0;34m\u001b[0m\u001b[0;34m\u001b[0m\u001b[0m\n\u001b[1;32m      2\u001b[0m \u001b[0;34m\u001b[0m\u001b[0m\n\u001b[0;32m----> 3\u001b[0;31m \u001b[0md\u001b[0m\u001b[0;34m[\u001b[0m\u001b[0mmylist\u001b[0m\u001b[0;34m]\u001b[0m \u001b[0;34m=\u001b[0m \u001b[0;34m'hello'\u001b[0m\u001b[0;34m\u001b[0m\u001b[0;34m\u001b[0m\u001b[0m\n\u001b[0m",
      "\u001b[0;31mTypeError\u001b[0m: unhashable type: 'list'"
     ]
    }
   ],
   "source": [
    "mylist = [10, 20, 30]\n",
    "\n",
    "d[mylist] = 'hello'"
   ]
  },
  {
   "cell_type": "code",
   "execution_count": 60,
   "id": "5382ac88",
   "metadata": {},
   "outputs": [
    {
     "name": "stdout",
     "output_type": "stream",
     "text": [
      "a: 10\n",
      "b: 20\n",
      "c: 30\n"
     ]
    }
   ],
   "source": [
    "d = {'a':10, 'b':20, 'c':30}\n",
    "\n",
    "for key, value in d.items():\n",
    "    print(f'{key}: {value}')"
   ]
  },
  {
   "cell_type": "code",
   "execution_count": 61,
   "id": "a575d782",
   "metadata": {},
   "outputs": [
    {
     "data": {
      "text/plain": [
       "20"
      ]
     },
     "execution_count": 61,
     "metadata": {},
     "output_type": "execute_result"
    }
   ],
   "source": [
    "d.pop('b')   # remove the key-value pair associated with 'b'"
   ]
  },
  {
   "cell_type": "code",
   "execution_count": 62,
   "id": "6e7575fd",
   "metadata": {},
   "outputs": [
    {
     "name": "stdout",
     "output_type": "stream",
     "text": [
      "a: 10\n",
      "c: 30\n",
      "b: 100\n"
     ]
    }
   ],
   "source": [
    "d['b'] = 100   # re-insert b -- which is now at the end\n",
    "\n",
    "for key, value in d.items():\n",
    "    print(f'{key}: {value}')"
   ]
  },
  {
   "cell_type": "markdown",
   "id": "618e1aaa",
   "metadata": {},
   "source": [
    "# Files!\n",
    "\n",
    "What are files?  Basically, they are the contents of the computer's memory stored in a way that even after the computer is turned off, or we want to use the data on another computer, we can do so.  We can write memory to a file, and we can then read from a file into memory, into data structures.\n",
    "\n"
   ]
  }
 ],
 "metadata": {
  "kernelspec": {
   "display_name": "Python 3 (ipykernel)",
   "language": "python",
   "name": "python3"
  },
  "language_info": {
   "codemirror_mode": {
    "name": "ipython",
    "version": 3
   },
   "file_extension": ".py",
   "mimetype": "text/x-python",
   "name": "python",
   "nbconvert_exporter": "python",
   "pygments_lexer": "ipython3",
   "version": "3.10.8"
  }
 },
 "nbformat": 4,
 "nbformat_minor": 5
}
