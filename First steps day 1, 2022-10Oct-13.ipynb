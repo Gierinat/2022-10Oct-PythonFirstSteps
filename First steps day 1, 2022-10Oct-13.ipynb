{
 "cells": [
  {
   "cell_type": "markdown",
   "metadata": {},
   "source": [
    "# Agenda\n",
    "\n",
    "1. Fundamentals and core concepts\n",
    "    - Values\n",
    "    - Variables\n",
    "    - Different value types\n",
    "    - Comparisons\n",
    "    - `if` and `else` -- conditions\n",
    "    - Numbers\n",
    "    - Text (\"strings\")\n",
    "2. Loops, lists, and tuples\n",
    "    - Loops -- repeating yourself with `for` and `while`\n",
    "    - Lists -- a container for other data\n",
    "    - Tuples -- another container (a little bit)\n",
    "    - Unpacking \n",
    "3. Dictionaries and files\n",
    "    - Creating dicts\n",
    "    - Retrieving from dicts\n",
    "    - Looping over dicts\n",
    "    - Reading from (text) files\n",
    "    - Writing to (text) files\n",
    "4. Functions\n",
    "    - How do we define our own new functions, to add to Python's vocabulary?\n",
    "    - How do functions accept arguments, and assign them to parameters?\n",
    "5. Modules and packages\n",
    "    - Using other modules\n",
    "    - Writing our own modules\n",
    "    - PyPI and downloading packages from the Internet\n"
   ]
  },
  {
   "cell_type": "markdown",
   "metadata": {},
   "source": [
    "# Jupyter\n",
    "\n",
    "Jupyter is a program that lets you pretend that Python is running in your browser. Moreover, it works with about 50 other programming languages (or so I've heard). And you can have text, along with Python, in your notebook.\n",
    "\n",
    "Jupyter works based on a system of \"cells,\" into which we can type. Each cell has a mode:\n",
    "\n",
    "- Text (in something known as \"markdown\")\n",
    "- Code (in Python and others)\n",
    "\n",
    "This cell, into which I'm typing now, is a markdown cell.  I can indicate that I'm done writing/editing by pressing shift+enter."
   ]
  },
  {
   "cell_type": "code",
   "execution_count": 1,
   "metadata": {},
   "outputs": [
    {
     "name": "stdout",
     "output_type": "stream",
     "text": [
      "hello!\n"
     ]
    }
   ],
   "source": [
    "# this cell contains Python code\n",
    "# these lines, which start with #, are comments -- Python ignores anything on this line\n",
    "\n",
    "print('hello!')    \n",
    "\n",
    "# press shift+enter, and the Python code will execute"
   ]
  },
  {
   "cell_type": "markdown",
   "metadata": {},
   "source": [
    "# Cool Jupyter tricks\n",
    "\n",
    "Jupyter has two \"modes\" for input:\n",
    "\n",
    "- Edit mode, in which anything we type goes into the current cell.  Click inside of a cell, or press ENTER, to start edit mode. You'll see a green outline around the cell.\n",
    "- Command mode, in which anything we type (usually 1 character) is a command that Jupyter interprets.  Click to the left of a cell, or press ESC, to start command mode. You'll see a blue outline around the cell.\n",
    "\n",
    "In command mode, you can issue a bunch of commands:\n",
    "\n",
    "- `c` -- copy the current cell\n",
    "- "
   ]
  },
  {
   "cell_type": "code",
   "execution_count": null,
   "metadata": {},
   "outputs": [],
   "source": []
  }
 ],
 "metadata": {
  "kernelspec": {
   "display_name": "Python 3 (ipykernel)",
   "language": "python",
   "name": "python3"
  },
  "language_info": {
   "codemirror_mode": {
    "name": "ipython",
    "version": 3
   },
   "file_extension": ".py",
   "mimetype": "text/x-python",
   "name": "python",
   "nbconvert_exporter": "python",
   "pygments_lexer": "ipython3",
   "version": "3.10.8"
  }
 },
 "nbformat": 4,
 "nbformat_minor": 4
}
