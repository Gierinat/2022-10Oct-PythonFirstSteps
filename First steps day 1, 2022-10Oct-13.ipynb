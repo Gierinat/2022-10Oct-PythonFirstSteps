{
 "cells": [
  {
   "cell_type": "markdown",
   "metadata": {},
   "source": [
    "# Agenda\n",
    "\n",
    "1. Fundamentals and core concepts\n",
    "    - Values\n",
    "    - Variables\n",
    "    - Different value types\n",
    "    - Comparisons\n",
    "    - `if` and `else` -- conditions\n",
    "    - Numbers\n",
    "    - Text (\"strings\")\n",
    "2. Loops, lists, and tuples\n",
    "    - Loops -- repeating yourself with `for` and `while`\n",
    "    - Lists -- a container for other data\n",
    "    - Tuples -- another container (a little bit)\n",
    "    - Unpacking \n",
    "3. Dictionaries and files\n",
    "    - Creating dicts\n",
    "    - Retrieving from dicts\n",
    "    - Looping over dicts\n",
    "    - Reading from (text) files\n",
    "    - Writing to (text) files\n",
    "4. Functions\n",
    "    - How do we define our own new functions, to add to Python's vocabulary?\n",
    "    - How do functions accept arguments, and assign them to parameters?\n",
    "5. Modules and packages\n",
    "    - Using other modules\n",
    "    - Writing our own modules\n",
    "    - PyPI and downloading packages from the Internet\n"
   ]
  },
  {
   "cell_type": "markdown",
   "metadata": {},
   "source": [
    "# Jupyter\n",
    "\n",
    "Jupyter is a program that lets you pretend that Python is running in your browser. Moreover, it works with about 50 other programming languages (or so I've heard). And you can have text, along with Python, in your "
   ]
  }
 ],
 "metadata": {
  "kernelspec": {
   "display_name": "Python 3 (ipykernel)",
   "language": "python",
   "name": "python3"
  },
  "language_info": {
   "codemirror_mode": {
    "name": "ipython",
    "version": 3
   },
   "file_extension": ".py",
   "mimetype": "text/x-python",
   "name": "python",
   "nbconvert_exporter": "python",
   "pygments_lexer": "ipython3",
   "version": "3.10.8"
  }
 },
 "nbformat": 4,
 "nbformat_minor": 4
}
