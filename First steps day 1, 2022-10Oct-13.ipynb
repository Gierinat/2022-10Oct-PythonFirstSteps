{
 "cells": [
  {
   "cell_type": "markdown",
   "metadata": {},
   "source": [
    "# Agenda\n",
    "\n",
    "1. Fundamentals and core concepts\n",
    "    - Values\n",
    "    - Variables\n",
    "    - Different value types\n",
    "    - Comparisons\n",
    "    - `if` and `else` -- conditions\n",
    "    - Numbers\n",
    "    - Text (\"strings\")\n",
    "2. Loops, lists, and tuples\n",
    "    - Loops -- repeating yourself with `for` and `while`\n",
    "    - Lists -- a container for other data\n",
    "    - Tuples -- another container (a little bit)\n",
    "    - Unpacking \n",
    "3. Dictionaries and files\n",
    "    - Creating dicts\n",
    "    - Retrieving from dicts\n",
    "    - Looping over dicts\n",
    "    - Reading from (text) files\n",
    "    - Writing to (text) files\n",
    "4. Functions\n",
    "    - How do we define our own new functions, to add to Python's vocabulary?\n",
    "    - How do functions accept arguments, and assign them to parameters?\n",
    "5. Modules and packages\n",
    "    - Using other modules\n",
    "    - Writing our own modules\n",
    "    - PyPI and downloading packages from the Internet\n"
   ]
  },
  {
   "cell_type": "markdown",
   "metadata": {},
   "source": [
    "# Jupyter\n",
    "\n",
    "Jupyter is a program that lets you pretend that Python is running in your browser. Moreover, it works with about 50 other programming languages (or so I've heard). And you can have text, along with Python, in your notebook.\n",
    "\n",
    "Jupyter works based on a system of \"cells,\" into which we can type. Each cell has a mode:\n",
    "\n",
    "- Text (in something known as \"markdown\")\n",
    "- Code (in Python and others)\n",
    "\n",
    "This cell, into which I'm typing now, is a markdown cell.  I can indicate that I'm done writing/editing by pressing shift+enter."
   ]
  },
  {
   "cell_type": "code",
   "execution_count": 1,
   "metadata": {},
   "outputs": [
    {
     "name": "stdout",
     "output_type": "stream",
     "text": [
      "hello!\n"
     ]
    }
   ],
   "source": [
    "# this cell contains Python code\n",
    "# these lines, which start with #, are comments -- Python ignores anything on this line\n",
    "\n",
    "print('hello!')    \n",
    "\n",
    "# press shift+enter, and the Python code will execute"
   ]
  },
  {
   "cell_type": "markdown",
   "metadata": {},
   "source": [
    "# Cool Jupyter tricks\n",
    "\n",
    "Jupyter has two \"modes\" for input:\n",
    "\n",
    "- Edit mode, in which anything we type goes into the current cell.  Click inside of a cell, or press ENTER, to start edit mode. You'll see a green outline around the cell.\n",
    "- Command mode, in which anything we type (usually 1 character) is a command that Jupyter interprets.  Click to the left of a cell, or press ESC, to start command mode. You'll see a blue outline around the cell.\n",
    "\n",
    "In command mode, you can issue a bunch of commands:\n",
    "\n",
    "- `c` -- copy the current cell\n",
    "- `x` -- cut the current cell\n",
    "- `v` -- paste the current cell\n",
    "- `h` -- get help -- what are the commands I can use?\n",
    "- `a` -- create a new, empty cell above the current one\n",
    "- `b` -- create a new, empty cell below the current one\n",
    "- `m` -- make the current cell in markdown (formatted text) mode\n",
    "- `y` -- make the current cell in code (Python) mode"
   ]
  },
  {
   "cell_type": "code",
   "execution_count": 2,
   "metadata": {},
   "outputs": [
    {
     "name": "stdout",
     "output_type": "stream",
     "text": [
      "Hello!\n"
     ]
    }
   ],
   "source": [
    "print('Hello!')     # this executes the \"print\" function, and asks it to display the text 'Hello!' on the screen"
   ]
  },
  {
   "cell_type": "code",
   "execution_count": 3,
   "metadata": {},
   "outputs": [],
   "source": [
    "# we need quotes around text\n",
    "# if we don't have quotes there, then Python will look for a function or variable with that name\n",
    "\n",
    "# whenever you want text to be displayed literally, put quotes around it\n",
    "# it doesn't matter whether you use ' or \", but it's traditional to use '"
   ]
  },
  {
   "cell_type": "code",
   "execution_count": 4,
   "metadata": {},
   "outputs": [
    {
     "name": "stdout",
     "output_type": "stream",
     "text": [
      "Reuven\n"
     ]
    }
   ],
   "source": [
    "print('Reuven')"
   ]
  },
  {
   "cell_type": "code",
   "execution_count": 5,
   "metadata": {},
   "outputs": [
    {
     "name": "stdout",
     "output_type": "stream",
     "text": [
      "2 + 2 = 4\n"
     ]
    }
   ],
   "source": [
    "print('2 + 2 = 4')"
   ]
  },
  {
   "cell_type": "code",
   "execution_count": 6,
   "metadata": {},
   "outputs": [],
   "source": [
    "# I want to be able to store data once, and use it many times\n",
    "# we can do that in a *variable*\n",
    "# variables are sort of like pronouns\n",
    "\n",
    "# assigning a value to a variable -- the value ('Reuven') is on the right, and the variable is on the left\n",
    "# notice that we use = for assignment.  This is *NOT* the same as = in mathematics!\n",
    "\n",
    "# when we use = for assignment, we're saying: Take the value on the right, and assign it to the variable on the left\n",
    "# Python is a \"dynamic\" language, meaning that any variable can contain any value.\n",
    "# Thus, we don't need to \"declare\" our variables in advance. \n",
    "# The first time you assign to a variable, it is created\n",
    "# The second time you assign to a variable, the new value is assigned to it, but the same variable exists\n",
    "\n",
    "name = 'Reuven'"
   ]
  },
  {
   "cell_type": "code",
   "execution_count": 7,
   "metadata": {},
   "outputs": [
    {
     "name": "stdout",
     "output_type": "stream",
     "text": [
      "Reuven\n"
     ]
    }
   ],
   "source": [
    "print(name)   # this is exactly the same as print('Reuven'), but more flexible"
   ]
  },
  {
   "cell_type": "code",
   "execution_count": 8,
   "metadata": {},
   "outputs": [
    {
     "name": "stdout",
     "output_type": "stream",
     "text": [
      "Hello, Reuven!\n"
     ]
    }
   ],
   "source": [
    "# What if I want to add some text before and after my name?\n",
    "# + allows us to join text strings together, getting a new one\n",
    "\n",
    "print('Hello, ' + name + '!')"
   ]
  },
  {
   "cell_type": "code",
   "execution_count": 9,
   "metadata": {},
   "outputs": [
    {
     "name": "stdout",
     "output_type": "stream",
     "text": [
      "Hello,Reuven!\n"
     ]
    }
   ],
   "source": [
    "print('Hello,' + name + '!')"
   ]
  },
  {
   "cell_type": "code",
   "execution_count": 10,
   "metadata": {},
   "outputs": [
    {
     "name": "stdout",
     "output_type": "stream",
     "text": [
      "30\n"
     ]
    }
   ],
   "source": [
    "# Just as we can assign text (\"string\") values to variables, we can also\n",
    "# assign numeric values to variables.  Don't put quotes around numbers:\n",
    "\n",
    "x = 10\n",
    "y = 20\n",
    "\n",
    "print(x+y)  # we can use + with numbers (not surprisingly), and after adding two numbers, we get a new number"
   ]
  },
  {
   "cell_type": "code",
   "execution_count": 11,
   "metadata": {},
   "outputs": [
    {
     "name": "stdout",
     "output_type": "stream",
     "text": [
      "1020\n"
     ]
    }
   ],
   "source": [
    "# what if I do this a little differently?\n",
    "\n",
    "x = '10'   # notice: text string\n",
    "y = '20'   # again: text string\n",
    "\n",
    "print(x+y)"
   ]
  },
  {
   "cell_type": "code",
   "execution_count": 13,
   "metadata": {
    "scrolled": true
   },
   "outputs": [
    {
     "ename": "TypeError",
     "evalue": "unsupported operand type(s) for +: 'int' and 'str'",
     "output_type": "error",
     "traceback": [
      "\u001b[0;31m---------------------------------------------------------------------------\u001b[0m",
      "\u001b[0;31mTypeError\u001b[0m                                 Traceback (most recent call last)",
      "\u001b[0;32m/var/folders/rr/0mnyyv811fs5vyp22gf4fxk00000gn/T/ipykernel_52484/755633120.py\u001b[0m in \u001b[0;36m<module>\u001b[0;34m\u001b[0m\n\u001b[1;32m      4\u001b[0m \u001b[0my\u001b[0m \u001b[0;34m=\u001b[0m \u001b[0;34m'20'\u001b[0m\u001b[0;34m\u001b[0m\u001b[0;34m\u001b[0m\u001b[0m\n\u001b[1;32m      5\u001b[0m \u001b[0;34m\u001b[0m\u001b[0m\n\u001b[0;32m----> 6\u001b[0;31m \u001b[0mprint\u001b[0m\u001b[0;34m(\u001b[0m\u001b[0mx\u001b[0m\u001b[0;34m+\u001b[0m\u001b[0my\u001b[0m\u001b[0;34m)\u001b[0m  \u001b[0;31m# Python doesn't know what to do when you add a number and a string -- so it gives us an error\u001b[0m\u001b[0;34m\u001b[0m\u001b[0;34m\u001b[0m\u001b[0m\n\u001b[0m",
      "\u001b[0;31mTypeError\u001b[0m: unsupported operand type(s) for +: 'int' and 'str'"
     ]
    }
   ],
   "source": [
    "# what happens if we mix numbers and text?\n",
    "\n",
    "x = 10\n",
    "y = '20'\n",
    "\n",
    "print(x+y)  # Python doesn't know what to do when you add a number and a string -- so it gives us an error"
   ]
  },
  {
   "cell_type": "markdown",
   "metadata": {},
   "source": [
    "# Exercise: Simple calculator\n",
    "\n",
    "1. Define two variables, `x` and `y`, each of which has a numeric (integer -- whole number) value.\n",
    "2. Print the sum of these two numbers. Don't try to mix text with the result, because that will give you an error."
   ]
  },
  {
   "cell_type": "code",
   "execution_count": 15,
   "metadata": {},
   "outputs": [
    {
     "name": "stdout",
     "output_type": "stream",
     "text": [
      "107\n"
     ]
    }
   ],
   "source": [
    "x = 32\n",
    "y = 75\n",
    "\n",
    "print(x+y)  \n",
    "\n",
    "# first, Python adds x+y, and gets a new value back\n",
    "# that value is then passed to the \"print\" function, which knows how to display anything"
   ]
  },
  {
   "cell_type": "code",
   "execution_count": 17,
   "metadata": {},
   "outputs": [
    {
     "data": {
      "text/plain": [
       "107"
      ]
     },
     "execution_count": 17,
     "metadata": {},
     "output_type": "execute_result"
    }
   ],
   "source": [
    "# here's a special, Jupyter-only Python trick (it WILL NOT WORK in regular programs)\n",
    "\n",
    "x+y   # if we get a value back from an expression, and if it's on the final line of a cell, we don't need to print"
   ]
  },
  {
   "cell_type": "code",
   "execution_count": 18,
   "metadata": {},
   "outputs": [
    {
     "data": {
      "text/plain": [
       "32"
      ]
     },
     "execution_count": 18,
     "metadata": {},
     "output_type": "execute_result"
    }
   ],
   "source": [
    "x"
   ]
  },
  {
   "cell_type": "code",
   "execution_count": 19,
   "metadata": {},
   "outputs": [
    {
     "data": {
      "text/plain": [
       "75"
      ]
     },
     "execution_count": 19,
     "metadata": {},
     "output_type": "execute_result"
    }
   ],
   "source": [
    "y"
   ]
  },
  {
   "cell_type": "markdown",
   "metadata": {},
   "source": [
    "# To install Jupyter, if you already have Python installed\n",
    "\n",
    "pip install -U jupyter \n",
    "\n",
    "# To run Jupyter, after you've installed it\n",
    "jupyter notebook\n",
    "\n",
    "If you're on Windows and didn't tell Python to put its programs in your `PATH` environment variable, this might well fail. "
   ]
  },
  {
   "cell_type": "code",
   "execution_count": null,
   "metadata": {},
   "outputs": [],
   "source": []
  }
 ],
 "metadata": {
  "kernelspec": {
   "display_name": "Python 3 (ipykernel)",
   "language": "python",
   "name": "python3"
  },
  "language_info": {
   "codemirror_mode": {
    "name": "ipython",
    "version": 3
   },
   "file_extension": ".py",
   "mimetype": "text/x-python",
   "name": "python",
   "nbconvert_exporter": "python",
   "pygments_lexer": "ipython3",
   "version": "3.10.8"
  }
 },
 "nbformat": 4,
 "nbformat_minor": 4
}
