{
 "cells": [
  {
   "cell_type": "markdown",
   "metadata": {},
   "source": [
    "# Agenda\n",
    "\n",
    "1. Fundamentals and core concepts\n",
    "    - Values\n",
    "    - Variables\n",
    "    - Different value types\n",
    "    - Comparisons\n",
    "    - `if` and `else` -- conditions\n",
    "    - Numbers\n",
    "    - Text (\"strings\")\n",
    "2. Loops, lists, and tuples\n",
    "    - Loops -- repeating yourself with `for` and `while`\n",
    "    - Lists -- a container for other data\n",
    "    - Tuples -- another container (a little bit)\n",
    "    - Unpacking \n",
    "3. Dictionaries and files\n",
    "    - Creating dicts\n",
    "    - Retrieving from dicts\n",
    "    - Looping over dicts\n",
    "    - Reading from (text) files\n",
    "    - Writing to (text) files\n",
    "4.   \n"
   ]
  },
  {
   "cell_type": "code",
   "execution_count": null,
   "metadata": {},
   "outputs": [],
   "source": []
  }
 ],
 "metadata": {
  "kernelspec": {
   "display_name": "Python 3 (ipykernel)",
   "language": "python",
   "name": "python3"
  },
  "language_info": {
   "codemirror_mode": {
    "name": "ipython",
    "version": 3
   },
   "file_extension": ".py",
   "mimetype": "text/x-python",
   "name": "python",
   "nbconvert_exporter": "python",
   "pygments_lexer": "ipython3",
   "version": "3.10.8"
  }
 },
 "nbformat": 4,
 "nbformat_minor": 4
}
