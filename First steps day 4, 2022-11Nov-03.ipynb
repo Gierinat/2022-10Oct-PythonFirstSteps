{
 "cells": [
  {
   "cell_type": "markdown",
   "id": "9b2e60ec",
   "metadata": {},
   "source": [
    "# Agenda: Day 4 functions\n",
    "\n",
    "1. What are functions? Nouns vs. verbs in programming\n",
    "2. Writing simple functions\n",
    "3. Arguments and parameters\n",
    "4. Return values\n",
    "5. Default argument values\n",
    "6. Complex return values and unpacking\n",
    "7. Local vs. global variables"
   ]
  },
  {
   "cell_type": "markdown",
   "id": "72e37c0a",
   "metadata": {},
   "source": [
    "# What are functions?\n",
    "\n",
    "When we're talking about programming and programming languages, we can think of our data as the nouns. \n",
    "\n",
    "When we want to do something with the data, we need a verb. In programming, those verbs are known as \"functions.\" (We can also call them methods, and as you might remember, we invoke methods a bit differently, but they're still functions.)\n",
    "\n",
    "We've already seen a bunch of functions:\n",
    "\n",
    "- `print` -- takes an argument, and prints it on the screen\n",
    "- `input` -- takes a string argument, displays it on the screen, asks the user to enter something, and then returns that user input\n",
    "- `len` -- takes a string, list, tuple, or dict, and returns its "
   ]
  }
 ],
 "metadata": {
  "kernelspec": {
   "display_name": "Python 3 (ipykernel)",
   "language": "python",
   "name": "python3"
  },
  "language_info": {
   "codemirror_mode": {
    "name": "ipython",
    "version": 3
   },
   "file_extension": ".py",
   "mimetype": "text/x-python",
   "name": "python",
   "nbconvert_exporter": "python",
   "pygments_lexer": "ipython3",
   "version": "3.11.0"
  }
 },
 "nbformat": 4,
 "nbformat_minor": 5
}
