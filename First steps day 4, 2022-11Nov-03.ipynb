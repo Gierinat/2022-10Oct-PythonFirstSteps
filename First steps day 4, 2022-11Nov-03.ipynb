{
 "cells": [
  {
   "cell_type": "markdown",
   "id": "c7fcc81f",
   "metadata": {},
   "source": [
    "# Agenda: Day 4 functions\n",
    "\n",
    "1. What are functions? Nouns vs. verbs in programming\n",
    "2. Writing simple functions\n",
    "3. Arguments and parameters\n",
    "4. Return values\n",
    "5. Default argument values\n",
    "6. Complex return values and unpacking\n",
    "7. Local vs. global variables"
   ]
  },
  {
   "cell_type": "markdown",
   "id": "59151a90",
   "metadata": {},
   "source": [
    "# What are functions?\n",
    "\n",
    "When we're talking about programming and programming languages, we can think of our data as the nouns. \n",
    "\n",
    "When we want to do something with the data, we need a verb. In programming, those verbs are known as \"functions.\" (We can also call them methods, and as you might remember, we invoke methods a bit differently, but they're still functions.)\n",
    "\n",
    "We've already seen a bunch of functions:\n",
    "\n",
    "- `print` -- takes an argument, and prints it on the screen\n",
    "- `input` -- takes a string argument, displays it on the screen, asks the user to enter something, and then returns that user input\n",
    "- `len` -- takes a string, list, tuple, or dict, and returns its length (for some definition of \"length\")\n",
    "- `open` -- takes a string, and returns a new file object\n",
    "\n",
    "Of course, there are also methods:\n",
    "\n",
    "- `str.split` -- returns a list of strings\n",
    "- `list.append` -- adds a new element to a list\n",
    "\n",
    "Learning to program is not just learning about the data structures, but also what functions/methods can be used with each data structure.\n",
    "\n",
    "Do we really need functions? No... but we want them?\n",
    "\n",
    "A lot of our lives are improved when we can combine many different things into a single thing, and then refer to that single thing.\n",
    "\n",
    "- Verb: Making an omelette, driving a car\n",
    "\n",
    "This idea in the computer (and engineering) world is known as \"abstraction.\" I'm ignoring all of the details, and concentrating on the big, high-level idea.\n",
    "\n",
    "Functions are a great example of abstraction: We can use a function to think about many different actions that the computer is taking, but summarize it in one word.  Then we can think about it at a higher level, but we can also communicate about it more easily, quickly, and obviously."
   ]
  },
  {
   "cell_type": "markdown",
   "id": "b8e9699d",
   "metadata": {},
   "source": [
    "# Defining a function\n",
    "\n",
    "When we define a new function in Python, we need to:\n",
    "\n",
    "- Start with the keyword `def`, short for \"define\"\n",
    "- Give the function a name\n",
    "- After the function name, we have `()`, and inside of those any parameters the function might have (not yet)\n",
    "- After a colon, we have an indented function *body*.  In the function body, we can have ABSOLUTELY ANY Python code that will run whenever we \"call\" the function."
   ]
  },
  {
   "cell_type": "code",
   "execution_count": 3,
   "id": "3a315b98",
   "metadata": {},
   "outputs": [],
   "source": [
    "def hello():\n",
    "    print('Hello!')         # calling the \"print\" function \n",
    "    print('Hello again!')   # calling the \"print\" function again!"
   ]
  },
  {
   "cell_type": "code",
   "execution_count": 2,
   "id": "9e42a027",
   "metadata": {},
   "outputs": [
    {
     "name": "stdout",
     "output_type": "stream",
     "text": [
      "Hello!\n",
      "Hello again!\n"
     ]
    }
   ],
   "source": [
    "# in order to run the function, I need to give Python its name, along with parentheses\n",
    "\n",
    "hello()  # this means: find the function called \"hello\", and execute its body, line by line"
   ]
  },
  {
   "cell_type": "markdown",
   "id": "b9fa0248",
   "metadata": {},
   "source": [
    "# DRY rule -- don't repeat yourself\n",
    "\n",
    "If you find yourself writing the same code (or almost the same code) in multiple places in a program, **STOP** and write a function instead. Then call the function in each of those places.\n",
    "\n",
    "This will reduce the amount of code you have to write, and the amount of code you need to maintain."
   ]
  },
  {
   "cell_type": "code",
   "execution_count": 6,
   "id": "91b769da",
   "metadata": {},
   "outputs": [],
   "source": [
    "# what happens if I define the \"hello\" function a second time?\n",
    "\n",
    "# defining a function the second time removes any access to the first version\n",
    "# we're assigning to a variable -- and just as you can't assign to a variable multple times\n",
    "# and expect Python to remember the previous values, you can't define a function multiple\n",
    "# times and expect it to remember the previous values.\n",
    "\n",
    "def hello():\n",
    "    print('Hello! Why are you bothering me?')"
   ]
  },
  {
   "cell_type": "code",
   "execution_count": 7,
   "id": "ca753691",
   "metadata": {},
   "outputs": [
    {
     "name": "stdout",
     "output_type": "stream",
     "text": [
      "Hello! Why are you bothering me?\n"
     ]
    }
   ],
   "source": [
    "hello()"
   ]
  },
  {
   "cell_type": "markdown",
   "id": "2d6ccf62",
   "metadata": {},
   "source": [
    "# Exercise: Calculator\n",
    "\n",
    "1. Write a function, called `calc`, whose goal is to ask the user to enter a number, an operator, and another number, and to print the answer to that math problem on the screen.\n",
    "2. The function will need to ask the user for three different inputs, each of which will be assigned to a different variable.\n",
    "3. The function will print, before it exits, the solution.\n",
    "\n",
    "Example:\n",
    "\n",
    "    First number: 10\n",
    "    Operator: +\n",
    "    Second number: 5\n",
    "    10 + 5 = 15\n",
    "    \n",
    "Hints/reminders:\n",
    "1. Don't forget that the result from calling `input` is a string\n",
    "2. You can turn a string into an integer with `int`\n",
    "3. You can check if a string can legally be turned into an integer with the `.isdigit()` method\n",
    "\n",
    "I should, from Python, be able to call\n",
    "\n",
    "    calc()\n",
    "    \n",
    "and then be asked the questions and see the output.    "
   ]
  },
  {
   "cell_type": "code",
   "execution_count": 10,
   "id": "4e54c2ff",
   "metadata": {},
   "outputs": [],
   "source": [
    "def calc():            # def, function name, then empty ()\n",
    "    first = input('First number: ').strip()\n",
    "    operator = input('Operator: ').strip()\n",
    "    second = input('Second number: ').strip()\n",
    "    \n",
    "    if first.isdigit() and second.isdigit():\n",
    "\n",
    "        first = int(first)\n",
    "        second = int(second)\n",
    "\n",
    "        if operator == '+':\n",
    "            result = first + second\n",
    "        elif operator == '-':\n",
    "            result = first - second\n",
    "        else:\n",
    "            result = f'Unknown operator {operator}' \n",
    "\n",
    "        print(f'{first} {operator} {second} = {result}')\n",
    "        \n",
    "    else:   # if they aren't both intable\n",
    "        print(f'{first} and {second} must both be integers for this to work')\n",
    "    "
   ]
  },
  {
   "cell_type": "code",
   "execution_count": 11,
   "id": "71db6450",
   "metadata": {},
   "outputs": [
    {
     "name": "stdout",
     "output_type": "stream",
     "text": [
      "First number: 10\n",
      "Operator: +\n",
      "Second number: 3\n",
      "10 + 3 = 13\n"
     ]
    }
   ],
   "source": [
    "calc()"
   ]
  },
  {
   "cell_type": "code",
   "execution_count": 12,
   "id": "774c784f",
   "metadata": {},
   "outputs": [
    {
     "name": "stdout",
     "output_type": "stream",
     "text": [
      "First number: 20\n",
      "Operator: -\n",
      "Second number: 8\n",
      "20 - 8 = 12\n"
     ]
    }
   ],
   "source": [
    "calc()"
   ]
  },
  {
   "cell_type": "code",
   "execution_count": 13,
   "id": "cf8a9eb9",
   "metadata": {},
   "outputs": [
    {
     "name": "stdout",
     "output_type": "stream",
     "text": [
      "First number: hello\n",
      "Operator: +\n",
      "Second number: out there\n",
      "hello and out there must both be integers for this to work\n"
     ]
    }
   ],
   "source": [
    "calc()"
   ]
  },
  {
   "cell_type": "markdown",
   "id": "5dcaeba1",
   "metadata": {},
   "source": [
    "# Arguments and parameters\n",
    "\n",
    "A function can have one or more *parameters*, variables which are set by whoever calls the function.\n",
    "\n",
    "For example, if I type `print('hello')` in Python, then `'hello'` (the string) is the argument that I pass to `print`. Inside of `print`, there's a variable that accepts that argument.  That variable is known as a parameter.\n",
    "\n",
    "In the simplest case, I can write a function that takes one argument, assigns it to a parameter, and then our function can do something with the argument."
   ]
  },
  {
   "cell_type": "code",
   "execution_count": 14,
   "id": "f21c88f7",
   "metadata": {},
   "outputs": [],
   "source": [
    "def hello(name):    # now I'm redefining hello to be a function that takes one argument, assigning it to \"name\"\n",
    "    print(f'Hello, {name}!')"
   ]
  },
  {
   "cell_type": "code",
   "execution_count": 16,
   "id": "09983485",
   "metadata": {},
   "outputs": [
    {
     "name": "stdout",
     "output_type": "stream",
     "text": [
      "Hello, world!\n"
     ]
    }
   ],
   "source": [
    "# when I call the function \"hello\", Python knows that it needs to get a value (an argument) to\n",
    "# assign to the parameter \"name\"\n",
    "\n",
    "\n",
    "# parameters: name\n",
    "# arguments:  'world'\n",
    "\n",
    "hello('world')     # calling the function, passing 'world' as an argument"
   ]
  },
  {
   "cell_type": "code",
   "execution_count": 17,
   "id": "9259c8d6",
   "metadata": {},
   "outputs": [
    {
     "ename": "TypeError",
     "evalue": "hello() missing 1 required positional argument: 'name'",
     "output_type": "error",
     "traceback": [
      "\u001b[0;31m---------------------------------------------------------------------------\u001b[0m",
      "\u001b[0;31mTypeError\u001b[0m                                 Traceback (most recent call last)",
      "Cell \u001b[0;32mIn [17], line 3\u001b[0m\n\u001b[1;32m      1\u001b[0m \u001b[38;5;66;03m# what happens if I call the function without any arguments?\u001b[39;00m\n\u001b[0;32m----> 3\u001b[0m \u001b[43mhello\u001b[49m\u001b[43m(\u001b[49m\u001b[43m)\u001b[49m\n",
      "\u001b[0;31mTypeError\u001b[0m: hello() missing 1 required positional argument: 'name'"
     ]
    }
   ],
   "source": [
    "# what happens if I call the function without any arguments?\n",
    "\n",
    "hello()"
   ]
  },
  {
   "cell_type": "code",
   "execution_count": 18,
   "id": "56476715",
   "metadata": {},
   "outputs": [
    {
     "ename": "TypeError",
     "evalue": "hello() takes 1 positional argument but 2 were given",
     "output_type": "error",
     "traceback": [
      "\u001b[0;31m---------------------------------------------------------------------------\u001b[0m",
      "\u001b[0;31mTypeError\u001b[0m                                 Traceback (most recent call last)",
      "Cell \u001b[0;32mIn [18], line 3\u001b[0m\n\u001b[1;32m      1\u001b[0m \u001b[38;5;66;03m# what if I call the function with too many arguments?\u001b[39;00m\n\u001b[0;32m----> 3\u001b[0m \u001b[43mhello\u001b[49m\u001b[43m(\u001b[49m\u001b[38;5;124;43m'\u001b[39;49m\u001b[38;5;124;43mworld\u001b[39;49m\u001b[38;5;124;43m'\u001b[39;49m\u001b[43m,\u001b[49m\u001b[43m \u001b[49m\u001b[38;5;124;43m'\u001b[39;49m\u001b[38;5;124;43magain\u001b[39;49m\u001b[38;5;124;43m'\u001b[39;49m\u001b[43m)\u001b[49m\n",
      "\u001b[0;31mTypeError\u001b[0m: hello() takes 1 positional argument but 2 were given"
     ]
    }
   ],
   "source": [
    "# what if I call the function with too many arguments?\n",
    "\n",
    "hello('world', 'again')"
   ]
  },
  {
   "cell_type": "code",
   "execution_count": 21,
   "id": "3d10c41d",
   "metadata": {},
   "outputs": [],
   "source": [
    "# define a function to take two arguments (i.e., define it with two parameters)\n",
    "\n",
    "def hello(first, last):  \n",
    "    print(f'Hello, {first} {last}!')"
   ]
  },
  {
   "cell_type": "code",
   "execution_count": 23,
   "id": "ddb7b199",
   "metadata": {},
   "outputs": [
    {
     "name": "stdout",
     "output_type": "stream",
     "text": [
      "Hello, Reuven Lerner!\n"
     ]
    }
   ],
   "source": [
    "# parameters: first, last\n",
    "# arguments: 'Reuven', 'Lerner'\n",
    "\n",
    "hello('Reuven', 'Lerner')"
   ]
  },
  {
   "cell_type": "markdown",
   "id": "3f9510f6",
   "metadata": {},
   "source": [
    "# Exercise: `mysum`\n",
    "\n",
    "Define a function, `mysum`, that takes a single argument -- a list or tuple of integers.  `mysum` will print the sum of these numbers on the screen.\n",
    "\n",
    "Note: There is a `sum` function in Python. Don't use it.\n",
    "\n",
    "If I call:\n",
    "\n",
    "    mysum([10, 20, 30])\n",
    "    \n",
    "it will print:\n",
    "\n",
    "    60"
   ]
  },
  {
   "cell_type": "code",
   "execution_count": 24,
   "id": "af049c24",
   "metadata": {},
   "outputs": [],
   "source": [
    "def mysum(numbers):    # def + function name + parameter numbers\n",
    "    total = 0\n",
    "    \n",
    "    for one_number in numbers:\n",
    "        total += one_number\n",
    "        \n",
    "    print(total)"
   ]
  },
  {
   "cell_type": "code",
   "execution_count": 25,
   "id": "64df66bc",
   "metadata": {},
   "outputs": [
    {
     "name": "stdout",
     "output_type": "stream",
     "text": [
      "60\n"
     ]
    }
   ],
   "source": [
    "# parameters: numbers\n",
    "# arguments: [10, 20, 30]\n",
    "\n",
    "mysum([10, 20, 30])"
   ]
  },
  {
   "cell_type": "code",
   "execution_count": 26,
   "id": "ad89f5d9",
   "metadata": {},
   "outputs": [],
   "source": [
    "def hello(name): \n",
    "    print(f'Hello, {name}!')"
   ]
  },
  {
   "cell_type": "code",
   "execution_count": 27,
   "id": "58e32718",
   "metadata": {},
   "outputs": [
    {
     "name": "stdout",
     "output_type": "stream",
     "text": [
      "Hello, Reuven!\n"
     ]
    }
   ],
   "source": [
    "hello('Reuven')   # this works fine, right?"
   ]
  },
  {
   "cell_type": "code",
   "execution_count": 28,
   "id": "13f30b74",
   "metadata": {},
   "outputs": [
    {
     "name": "stdout",
     "output_type": "stream",
     "text": [
      "Hello, 5!\n"
     ]
    }
   ],
   "source": [
    "# what kind of data can I pass to my function?\n",
    "\n",
    "hello(5)"
   ]
  },
  {
   "cell_type": "code",
   "execution_count": 29,
   "id": "9d530d10",
   "metadata": {},
   "outputs": [
    {
     "name": "stdout",
     "output_type": "stream",
     "text": [
      "Hello, [10, 20, 30]!\n"
     ]
    }
   ],
   "source": [
    "hello([10, 20, 30])"
   ]
  },
  {
   "cell_type": "code",
   "execution_count": 30,
   "id": "05c29965",
   "metadata": {},
   "outputs": [
    {
     "name": "stdout",
     "output_type": "stream",
     "text": [
      "Hello, {'a': 1, 'b': 2}!\n"
     ]
    }
   ],
   "source": [
    "hello({'a':1, 'b':2})"
   ]
  },
  {
   "cell_type": "markdown",
   "id": "83c84d2f",
   "metadata": {},
   "source": [
    "# Exercise: Calculator, part 2 -- the parameter edition\n",
    "\n",
    "1. Write our `calc` function from before, such that instead of asking the user to enter `first`, `operator`, and `second`, we get all three as arguments, assigned to parameters named `first`, `operator`, and `second`."
   ]
  },
  {
   "cell_type": "code",
   "execution_count": 32,
   "id": "4ccdaa35",
   "metadata": {},
   "outputs": [],
   "source": [
    "def calc(first, operator, second):          \n",
    "    if first.isdigit() and second.isdigit():\n",
    "\n",
    "        first = int(first)\n",
    "        second = int(second)\n",
    "\n",
    "        if operator == '+':\n",
    "            result = first + second\n",
    "        elif operator == '-':\n",
    "            result = first - second\n",
    "        else:\n",
    "            result = f'Unknown operator {operator}' \n",
    "\n",
    "        print(f'{first} {operator} {second} = {result}')\n",
    "        \n",
    "    else:   # if they aren't both intable\n",
    "        print(f'{first} and {second} must both be integers for this to work')\n",
    "    "
   ]
  },
  {
   "cell_type": "code",
   "execution_count": 33,
   "id": "92833768",
   "metadata": {},
   "outputs": [
    {
     "name": "stdout",
     "output_type": "stream",
     "text": [
      "10 + 3 = 13\n"
     ]
    }
   ],
   "source": [
    "calc('10', '+', '3')"
   ]
  },
  {
   "cell_type": "code",
   "execution_count": 34,
   "id": "48bfeff3",
   "metadata": {},
   "outputs": [],
   "source": [
    "def calc(first, operator, second):            # assume that first and second are ints\n",
    "        if operator == '+':\n",
    "            result = first + second\n",
    "        elif operator == '-':\n",
    "            result = first - second\n",
    "        else:\n",
    "            result = f'Unknown operator {operator}' \n",
    "\n",
    "        print(f'{first} {operator} {second} = {result}')\n"
   ]
  },
  {
   "cell_type": "code",
   "execution_count": 35,
   "id": "deca7003",
   "metadata": {},
   "outputs": [
    {
     "name": "stdout",
     "output_type": "stream",
     "text": [
      "10 + 3 = 13\n"
     ]
    }
   ],
   "source": [
    "calc(10, '+', 3)"
   ]
  },
  {
   "cell_type": "markdown",
   "id": "28e9a7e3",
   "metadata": {},
   "source": [
    "# Next up:\n",
    "\n",
    "1. Return values from functions vs. printing\n",
    "2. Default argument values\n",
    "\n"
   ]
  },
  {
   "cell_type": "code",
   "execution_count": null,
   "id": "f6182a5a",
   "metadata": {},
   "outputs": [],
   "source": []
  }
 ],
 "metadata": {
  "kernelspec": {
   "display_name": "Python 3 (ipykernel)",
   "language": "python",
   "name": "python3"
  },
  "language_info": {
   "codemirror_mode": {
    "name": "ipython",
    "version": 3
   },
   "file_extension": ".py",
   "mimetype": "text/x-python",
   "name": "python",
   "nbconvert_exporter": "python",
   "pygments_lexer": "ipython3",
   "version": "3.11.0"
  }
 },
 "nbformat": 4,
 "nbformat_minor": 5
}
