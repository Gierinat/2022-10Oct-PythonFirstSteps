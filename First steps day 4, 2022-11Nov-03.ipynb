{
 "cells": [
  {
   "cell_type": "markdown",
   "id": "50c3bcb6",
   "metadata": {},
   "source": [
    "# Agenda: Day 4 functions\n",
    "\n",
    "1. What are functions? Nouns vs. verbs in programming\n",
    "2. Writing simple functions\n",
    "3. Arguments and parameters\n",
    "4. Return values\n",
    "5. Default argument values\n",
    "6. Complex return values and unpacking\n",
    "7. Local vs. global variables"
   ]
  },
  {
   "cell_type": "markdown",
   "id": "0b2a6906",
   "metadata": {},
   "source": [
    "# What are functions?\n",
    "\n",
    "When we're talking about programming and programming languages, we can think of our data as the nouns. \n",
    "\n",
    "When we want to do something with the data, we need a verb. In programming, those verbs are known as \"functions.\" (We can also call them methods, and as you might remember, we invoke methods a bit differently, but they're still functions.)\n",
    "\n",
    "We've already seen a bunch of functions:\n",
    "\n",
    "- `print` -- takes an argument, and prints it on the screen\n",
    "- `input` -- takes a string argument, displays it on the screen, asks the user to enter something, and then returns that user input\n",
    "- `len` -- takes a string, list, tuple, or dict, and returns its length (for some definition of \"length\")\n",
    "- `open` -- takes a string, and returns a new file object\n",
    "\n",
    "Of course, there are also methods:\n",
    "\n",
    "- `str.split` -- returns a list of strings\n",
    "- `list.append` -- adds a new element to a list\n",
    "\n",
    "Learning to program is not just learning about the data structures, but also what functions/methods can be used with each data structure.\n",
    "\n",
    "Do we really need functions? No... but we want them?\n",
    "\n",
    "A lot of our lives are improved when we can combine many different things into a single thing, and then refer to that single thing.\n",
    "\n",
    "- Verb: Making an omelette, driving a car\n",
    "\n",
    "This idea in the computer (and engineering) world is known as \"abstraction.\" I'm ignoring all of the details, and concentrating on the big, high-level idea.\n",
    "\n",
    "Functions are a great example of abstraction: We can use a function to think about many different actions that the computer is taking, but summarize it in one word.  Then we can think about it at a higher level, but we can also communicate about it more easily, quickly, and obviously."
   ]
  },
  {
   "cell_type": "markdown",
   "id": "a58a2474",
   "metadata": {},
   "source": [
    "# Defining a function\n",
    "\n",
    "When we define a new function in Python, we need to:\n",
    "\n",
    "- Start with the keyword `def`, short for \"define\"\n",
    "- Give the function a name\n",
    "- After the function name, we have `()`, and inside of those any parameters the function might have (not yet)\n",
    "- After a colon, we have an indented function *body*.  In the function body, we can have ABSOLUTELY ANY Python code that will run whenever we \"call\" the function."
   ]
  },
  {
   "cell_type": "code",
   "execution_count": 3,
   "id": "0685024b",
   "metadata": {},
   "outputs": [],
   "source": [
    "def hello():\n",
    "    print('Hello!')         # calling the \"print\" function \n",
    "    print('Hello again!')   # calling the \"print\" function again!"
   ]
  },
  {
   "cell_type": "code",
   "execution_count": 2,
   "id": "8d113b3a",
   "metadata": {},
   "outputs": [
    {
     "name": "stdout",
     "output_type": "stream",
     "text": [
      "Hello!\n",
      "Hello again!\n"
     ]
    }
   ],
   "source": [
    "# in order to run the function, I need to give Python its name, along with parentheses\n",
    "\n",
    "hello()  # this means: find the function called \"hello\", and execute its body, line by line"
   ]
  },
  {
   "cell_type": "markdown",
   "id": "1842989a",
   "metadata": {},
   "source": [
    "# DRY rule -- don't repeat yourself\n",
    "\n",
    "If you find yourself writing the same code (or almost the same code) in multiple places in a program, **STOP** and write a function instead. Then call the function in each of those places.\n",
    "\n",
    "This will reduce the amount of code you have to write, and the amount of code you need to maintain."
   ]
  },
  {
   "cell_type": "code",
   "execution_count": 6,
   "id": "c2192c54",
   "metadata": {},
   "outputs": [],
   "source": [
    "# what happens if I define the \"hello\" function a second time?\n",
    "\n",
    "# defining a function the second time removes any access to the first version\n",
    "# we're assigning to a variable -- and just as you can't assign to a variable multple times\n",
    "# and expect Python to remember the previous values, you can't define a function multiple\n",
    "# times and expect it to remember the previous values.\n",
    "\n",
    "def hello():\n",
    "    print('Hello! Why are you bothering me?')"
   ]
  },
  {
   "cell_type": "code",
   "execution_count": 7,
   "id": "f158b928",
   "metadata": {},
   "outputs": [
    {
     "name": "stdout",
     "output_type": "stream",
     "text": [
      "Hello! Why are you bothering me?\n"
     ]
    }
   ],
   "source": [
    "hello()"
   ]
  },
  {
   "cell_type": "markdown",
   "id": "2b6fdafa",
   "metadata": {},
   "source": [
    "# Exercise: Calculator\n",
    "\n",
    "1. Write a function, called `calc`, whose goal is to ask the user to enter a number, an operator, and another number, and to print the answer to that math problem on the screen.\n",
    "2. The function will need to ask the user for three different inputs, each of which will be assigned to a different variable.\n",
    "3. The function will print, before it exits, the solution.\n",
    "\n",
    "Example:\n",
    "\n",
    "    First number: 10\n",
    "    Operator: +\n",
    "    Second number: 5\n",
    "    10 + 5 = 15\n",
    "    \n",
    "Hints/reminders:\n",
    "1. Don't forget that the result from calling `input` is a string\n",
    "2. You can turn a string into an integer with `int`\n",
    "3. You can check if a string can legally be turned into an integer with the `.isdigit()` method\n",
    "\n",
    "I should, from Python, be able to call\n",
    "\n",
    "    calc()\n",
    "    \n",
    "and then be asked the questions and see the output.    "
   ]
  },
  {
   "cell_type": "code",
   "execution_count": null,
   "id": "098cfdeb",
   "metadata": {},
   "outputs": [],
   "source": []
  }
 ],
 "metadata": {
  "kernelspec": {
   "display_name": "Python 3 (ipykernel)",
   "language": "python",
   "name": "python3"
  },
  "language_info": {
   "codemirror_mode": {
    "name": "ipython",
    "version": 3
   },
   "file_extension": ".py",
   "mimetype": "text/x-python",
   "name": "python",
   "nbconvert_exporter": "python",
   "pygments_lexer": "ipython3",
   "version": "3.11.0"
  }
 },
 "nbformat": 4,
 "nbformat_minor": 5
}
