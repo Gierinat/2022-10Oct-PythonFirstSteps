{
 "cells": [
  {
   "cell_type": "markdown",
   "id": "e23b3848",
   "metadata": {},
   "source": [
    "# Agenda: Day 4 functions\n",
    "\n",
    "1. What are functions? Nouns vs. verbs in programming\n",
    "2. Writing simple functions\n",
    "3. Arguments and parameters\n",
    "4. Return values\n",
    "5. Default argument values\n",
    "6. Complex return values and unpacking\n",
    "7. Local vs. global variables"
   ]
  },
  {
   "cell_type": "markdown",
   "id": "fefbd6f9",
   "metadata": {},
   "source": [
    "# What are functions?\n",
    "\n",
    "When we're talking about programming and programming languages, we can think of our data as the nouns. \n",
    "\n",
    "When we want to do something with the data, we need a verb. In programming, those verbs are known as \"functions.\" (We can also call them methods, and as you might remember, we invoke methods a bit differently, but they're still functions.)\n",
    "\n",
    "We've already seen a bunch of functions:\n",
    "\n",
    "- `print` -- takes an argument, and prints it on the screen\n",
    "- `input` -- takes a string argument, displays it on the screen, asks the user to enter something, and then returns that user input\n",
    "- `len` -- takes a string, list, tuple, or dict, and returns its length (for some definition of \"length\")\n",
    "- `open` -- takes a string, and returns a new file object\n",
    "\n",
    "Of course, there are also methods:\n",
    "\n",
    "- `str.split` -- returns a list of strings\n",
    "- `list.append` -- adds a new element to a list\n",
    "\n",
    "Learning to program is not just learning about the data structures, but also what functions/methods can be used with each data structure.\n",
    "\n",
    "Do we really need functions? No... but we want them?\n",
    "\n",
    "A lot of our lives are improved when we can combine many different things into a single thing, and then refer to that single thing.\n",
    "\n",
    "- Verb: Making an omelette, driving a car\n",
    "\n",
    "This idea in the computer (and engineering) world is known as \"abstraction.\" I'm ignoring all of the details, and concentrating on the big, high-level idea.\n",
    "\n",
    "Functions are a great example of abstraction: We can use a function to think about many different actions that the computer is taking, but summarize it in one word.  Then we can think about it at a higher level, but we can also communicate about it more easily, quickly, and obviously."
   ]
  },
  {
   "cell_type": "markdown",
   "id": "4ec0c70e",
   "metadata": {},
   "source": [
    "# Defining a function\n",
    "\n",
    "When we define a new function in Python, we need to:\n",
    "\n",
    "- Start with the keyword `def`, short for \"define\"\n",
    "- Give the function a name\n",
    "- After the function name, we have `()`, and inside of those any parameters the function might have (not yet)\n",
    "- After a colon, we have an indented function *body*.  In the function body, we can have ABSOLUTELY ANY Python code that will run whenever we \"call\" the function."
   ]
  },
  {
   "cell_type": "code",
   "execution_count": 3,
   "id": "9e5bbbb5",
   "metadata": {},
   "outputs": [],
   "source": [
    "def hello():\n",
    "    print('Hello!')         # calling the \"print\" function \n",
    "    print('Hello again!')   # calling the \"print\" function again!"
   ]
  },
  {
   "cell_type": "code",
   "execution_count": 2,
   "id": "52f4698e",
   "metadata": {},
   "outputs": [
    {
     "name": "stdout",
     "output_type": "stream",
     "text": [
      "Hello!\n",
      "Hello again!\n"
     ]
    }
   ],
   "source": [
    "# in order to run the function, I need to give Python its name, along with parentheses\n",
    "\n",
    "hello()  # this means: find the function called \"hello\", and execute its body, line by line"
   ]
  },
  {
   "cell_type": "markdown",
   "id": "3c2145af",
   "metadata": {},
   "source": [
    "# DRY rule -- don't repeat yourself\n",
    "\n",
    "If you find yourself writing the same code (or almost the same code) in multiple places in a program, **STOP** and write a function instead. Then call the function in each of those places.\n",
    "\n",
    "This will reduce the amount of code you have to write, and the amount of code you need to maintain."
   ]
  },
  {
   "cell_type": "code",
   "execution_count": 6,
   "id": "303140d4",
   "metadata": {},
   "outputs": [],
   "source": [
    "# what happens if I define the \"hello\" function a second time?\n",
    "\n",
    "# defining a function the second time removes any access to the first version\n",
    "# we're assigning to a variable -- and just as you can't assign to a variable multple times\n",
    "# and expect Python to remember the previous values, you can't define a function multiple\n",
    "# times and expect it to remember the previous values.\n",
    "\n",
    "def hello():\n",
    "    print('Hello! Why are you bothering me?')"
   ]
  },
  {
   "cell_type": "code",
   "execution_count": 7,
   "id": "e65b6d5f",
   "metadata": {},
   "outputs": [
    {
     "name": "stdout",
     "output_type": "stream",
     "text": [
      "Hello! Why are you bothering me?\n"
     ]
    }
   ],
   "source": [
    "hello()"
   ]
  },
  {
   "cell_type": "markdown",
   "id": "e6a3e006",
   "metadata": {},
   "source": [
    "# Exercise: Calculator\n",
    "\n",
    "1. Write a function, called `calc`, whose goal is to ask the user to enter a number, an operator, and another number, and to print the answer to that math problem on the screen.\n",
    "2. The function will need to ask the user for three different inputs, each of which will be assigned to a different variable.\n",
    "3. The function will print, before it exits, the solution.\n",
    "\n",
    "Example:\n",
    "\n",
    "    First number: 10\n",
    "    Operator: +\n",
    "    Second number: 5\n",
    "    10 + 5 = 15\n",
    "    \n",
    "Hints/reminders:\n",
    "1. Don't forget that the result from calling `input` is a string\n",
    "2. You can turn a string into an integer with `int`\n",
    "3. You can check if a string can legally be turned into an integer with the `.isdigit()` method\n",
    "\n",
    "I should, from Python, be able to call\n",
    "\n",
    "    calc()\n",
    "    \n",
    "and then be asked the questions and see the output.    "
   ]
  },
  {
   "cell_type": "code",
   "execution_count": 10,
   "id": "40b1de80",
   "metadata": {},
   "outputs": [],
   "source": [
    "def calc():            # def, function name, then empty ()\n",
    "    first = input('First number: ').strip()\n",
    "    operator = input('Operator: ').strip()\n",
    "    second = input('Second number: ').strip()\n",
    "    \n",
    "    if first.isdigit() and second.isdigit():\n",
    "\n",
    "        first = int(first)\n",
    "        second = int(second)\n",
    "\n",
    "        if operator == '+':\n",
    "            result = first + second\n",
    "        elif operator == '-':\n",
    "            result = first - second\n",
    "        else:\n",
    "            result = f'Unknown operator {operator}' \n",
    "\n",
    "        print(f'{first} {operator} {second} = {result}')\n",
    "        \n",
    "    else:   # if they aren't both intable\n",
    "        print(f'{first} and {second} must both be integers for this to work')\n",
    "    "
   ]
  },
  {
   "cell_type": "code",
   "execution_count": 11,
   "id": "0b944b65",
   "metadata": {},
   "outputs": [
    {
     "name": "stdout",
     "output_type": "stream",
     "text": [
      "First number: 10\n",
      "Operator: +\n",
      "Second number: 3\n",
      "10 + 3 = 13\n"
     ]
    }
   ],
   "source": [
    "calc()"
   ]
  },
  {
   "cell_type": "code",
   "execution_count": 12,
   "id": "dc146796",
   "metadata": {},
   "outputs": [
    {
     "name": "stdout",
     "output_type": "stream",
     "text": [
      "First number: 20\n",
      "Operator: -\n",
      "Second number: 8\n",
      "20 - 8 = 12\n"
     ]
    }
   ],
   "source": [
    "calc()"
   ]
  },
  {
   "cell_type": "code",
   "execution_count": 13,
   "id": "67934545",
   "metadata": {},
   "outputs": [
    {
     "name": "stdout",
     "output_type": "stream",
     "text": [
      "First number: hello\n",
      "Operator: +\n",
      "Second number: out there\n",
      "hello and out there must both be integers for this to work\n"
     ]
    }
   ],
   "source": [
    "calc()"
   ]
  },
  {
   "cell_type": "markdown",
   "id": "65e00952",
   "metadata": {},
   "source": [
    "# Arguments and parameters\n",
    "\n",
    "A function can have one or more *parameters*, variables which are set by whoever calls the function.\n",
    "\n",
    "For example, if I type `print('hello')` in Python, then `'hello'` (the string) is the argument that I pass to `print`. Inside of `print`, there's a variable that accepts that argument.  That variable is known as a parameter.\n",
    "\n",
    "In the simplest case, I can write a function that takes one argument, assigns it to a parameter, and then our function can do something with the argument."
   ]
  },
  {
   "cell_type": "code",
   "execution_count": 14,
   "id": "8db5492c",
   "metadata": {},
   "outputs": [],
   "source": [
    "def hello(name):    # now I'm redefining hello to be a function that takes one argument, assigning it to \"name\"\n",
    "    print(f'Hello, {name}!')"
   ]
  },
  {
   "cell_type": "code",
   "execution_count": 16,
   "id": "b10559ea",
   "metadata": {},
   "outputs": [
    {
     "name": "stdout",
     "output_type": "stream",
     "text": [
      "Hello, world!\n"
     ]
    }
   ],
   "source": [
    "# when I call the function \"hello\", Python knows that it needs to get a value (an argument) to\n",
    "# assign to the parameter \"name\"\n",
    "\n",
    "\n",
    "# parameters: name\n",
    "# arguments:  'world'\n",
    "\n",
    "hello('world')     # calling the function, passing 'world' as an argument"
   ]
  },
  {
   "cell_type": "code",
   "execution_count": 17,
   "id": "4be33583",
   "metadata": {},
   "outputs": [
    {
     "ename": "TypeError",
     "evalue": "hello() missing 1 required positional argument: 'name'",
     "output_type": "error",
     "traceback": [
      "\u001b[0;31m---------------------------------------------------------------------------\u001b[0m",
      "\u001b[0;31mTypeError\u001b[0m                                 Traceback (most recent call last)",
      "Cell \u001b[0;32mIn [17], line 3\u001b[0m\n\u001b[1;32m      1\u001b[0m \u001b[38;5;66;03m# what happens if I call the function without any arguments?\u001b[39;00m\n\u001b[0;32m----> 3\u001b[0m \u001b[43mhello\u001b[49m\u001b[43m(\u001b[49m\u001b[43m)\u001b[49m\n",
      "\u001b[0;31mTypeError\u001b[0m: hello() missing 1 required positional argument: 'name'"
     ]
    }
   ],
   "source": [
    "# what happens if I call the function without any arguments?\n",
    "\n",
    "hello()"
   ]
  },
  {
   "cell_type": "code",
   "execution_count": 18,
   "id": "e1038ae8",
   "metadata": {},
   "outputs": [
    {
     "ename": "TypeError",
     "evalue": "hello() takes 1 positional argument but 2 were given",
     "output_type": "error",
     "traceback": [
      "\u001b[0;31m---------------------------------------------------------------------------\u001b[0m",
      "\u001b[0;31mTypeError\u001b[0m                                 Traceback (most recent call last)",
      "Cell \u001b[0;32mIn [18], line 3\u001b[0m\n\u001b[1;32m      1\u001b[0m \u001b[38;5;66;03m# what if I call the function with too many arguments?\u001b[39;00m\n\u001b[0;32m----> 3\u001b[0m \u001b[43mhello\u001b[49m\u001b[43m(\u001b[49m\u001b[38;5;124;43m'\u001b[39;49m\u001b[38;5;124;43mworld\u001b[39;49m\u001b[38;5;124;43m'\u001b[39;49m\u001b[43m,\u001b[49m\u001b[43m \u001b[49m\u001b[38;5;124;43m'\u001b[39;49m\u001b[38;5;124;43magain\u001b[39;49m\u001b[38;5;124;43m'\u001b[39;49m\u001b[43m)\u001b[49m\n",
      "\u001b[0;31mTypeError\u001b[0m: hello() takes 1 positional argument but 2 were given"
     ]
    }
   ],
   "source": [
    "# what if I call the function with too many arguments?\n",
    "\n",
    "hello('world', 'again')"
   ]
  },
  {
   "cell_type": "code",
   "execution_count": 21,
   "id": "a6ab4c77",
   "metadata": {},
   "outputs": [],
   "source": [
    "# define a function to take two arguments (i.e., define it with two parameters)\n",
    "\n",
    "def hello(first, last):  \n",
    "    print(f'Hello, {first} {last}!')"
   ]
  },
  {
   "cell_type": "code",
   "execution_count": 23,
   "id": "c13ce802",
   "metadata": {},
   "outputs": [
    {
     "name": "stdout",
     "output_type": "stream",
     "text": [
      "Hello, Reuven Lerner!\n"
     ]
    }
   ],
   "source": [
    "# parameters: first, last\n",
    "# arguments: 'Reuven', 'Lerner'\n",
    "\n",
    "hello('Reuven', 'Lerner')"
   ]
  },
  {
   "cell_type": "markdown",
   "id": "d796b5da",
   "metadata": {},
   "source": [
    "# Exercise: `mysum`\n",
    "\n",
    "Define a function, `mysum`, that takes a single argument -- a list or tuple of integers.  `mysum` will print the sum of these numbers on the screen.\n",
    "\n",
    "Note: There is a `sum` function in Python. Don't use it.\n",
    "\n",
    "If I call:\n",
    "\n",
    "    mysum([10, 20, 30])\n",
    "    \n",
    "it will print:\n",
    "\n",
    "    60"
   ]
  },
  {
   "cell_type": "code",
   "execution_count": 24,
   "id": "8139bb7a",
   "metadata": {},
   "outputs": [],
   "source": [
    "def mysum(numbers):    # def + function name + parameter numbers\n",
    "    total = 0\n",
    "    \n",
    "    for one_number in numbers:\n",
    "        total += one_number\n",
    "        \n",
    "    print(total)"
   ]
  },
  {
   "cell_type": "code",
   "execution_count": 25,
   "id": "d1a90432",
   "metadata": {},
   "outputs": [
    {
     "name": "stdout",
     "output_type": "stream",
     "text": [
      "60\n"
     ]
    }
   ],
   "source": [
    "# parameters: numbers\n",
    "# arguments: [10, 20, 30]\n",
    "\n",
    "mysum([10, 20, 30])"
   ]
  },
  {
   "cell_type": "code",
   "execution_count": 26,
   "id": "7fe0cb70",
   "metadata": {},
   "outputs": [],
   "source": [
    "def hello(name): \n",
    "    print(f'Hello, {name}!')"
   ]
  },
  {
   "cell_type": "code",
   "execution_count": 27,
   "id": "47953789",
   "metadata": {},
   "outputs": [
    {
     "name": "stdout",
     "output_type": "stream",
     "text": [
      "Hello, Reuven!\n"
     ]
    }
   ],
   "source": [
    "hello('Reuven')   # this works fine, right?"
   ]
  },
  {
   "cell_type": "code",
   "execution_count": 28,
   "id": "f2acc015",
   "metadata": {},
   "outputs": [
    {
     "name": "stdout",
     "output_type": "stream",
     "text": [
      "Hello, 5!\n"
     ]
    }
   ],
   "source": [
    "# what kind of data can I pass to my function?\n",
    "\n",
    "hello(5)"
   ]
  },
  {
   "cell_type": "code",
   "execution_count": 29,
   "id": "cdda3578",
   "metadata": {},
   "outputs": [
    {
     "name": "stdout",
     "output_type": "stream",
     "text": [
      "Hello, [10, 20, 30]!\n"
     ]
    }
   ],
   "source": [
    "hello([10, 20, 30])"
   ]
  },
  {
   "cell_type": "code",
   "execution_count": 30,
   "id": "581e772c",
   "metadata": {},
   "outputs": [
    {
     "name": "stdout",
     "output_type": "stream",
     "text": [
      "Hello, {'a': 1, 'b': 2}!\n"
     ]
    }
   ],
   "source": [
    "hello({'a':1, 'b':2})"
   ]
  },
  {
   "cell_type": "markdown",
   "id": "03707f2e",
   "metadata": {},
   "source": [
    "# Exercise: Calculator, part 2 -- the parameter edition\n",
    "\n",
    "1. Write our `calc` function from before, such that instead of asking the user to enter `first`, `operator`, and `second`, we get all three as arguments, assigned to parameters named `first`, `operator`, and `second`."
   ]
  },
  {
   "cell_type": "code",
   "execution_count": 32,
   "id": "ff178242",
   "metadata": {},
   "outputs": [],
   "source": [
    "def calc(first, operator, second):          \n",
    "    if first.isdigit() and second.isdigit():\n",
    "\n",
    "        first = int(first)\n",
    "        second = int(second)\n",
    "\n",
    "        if operator == '+':\n",
    "            result = first + second\n",
    "        elif operator == '-':\n",
    "            result = first - second\n",
    "        else:\n",
    "            result = f'Unknown operator {operator}' \n",
    "\n",
    "        print(f'{first} {operator} {second} = {result}')\n",
    "        \n",
    "    else:   # if they aren't both intable\n",
    "        print(f'{first} and {second} must both be integers for this to work')\n",
    "    "
   ]
  },
  {
   "cell_type": "code",
   "execution_count": 33,
   "id": "81c1fef5",
   "metadata": {},
   "outputs": [
    {
     "name": "stdout",
     "output_type": "stream",
     "text": [
      "10 + 3 = 13\n"
     ]
    }
   ],
   "source": [
    "calc('10', '+', '3')"
   ]
  },
  {
   "cell_type": "code",
   "execution_count": 34,
   "id": "1dd3d833",
   "metadata": {},
   "outputs": [],
   "source": [
    "def calc(first, operator, second):            # assume that first and second are ints\n",
    "        if operator == '+':\n",
    "            result = first + second\n",
    "        elif operator == '-':\n",
    "            result = first - second\n",
    "        else:\n",
    "            result = f'Unknown operator {operator}' \n",
    "\n",
    "        print(f'{first} {operator} {second} = {result}')\n"
   ]
  },
  {
   "cell_type": "code",
   "execution_count": 35,
   "id": "66b6d4dc",
   "metadata": {},
   "outputs": [
    {
     "name": "stdout",
     "output_type": "stream",
     "text": [
      "10 + 3 = 13\n"
     ]
    }
   ],
   "source": [
    "calc(10, '+', 3)"
   ]
  },
  {
   "cell_type": "markdown",
   "id": "2512f8d3",
   "metadata": {},
   "source": [
    "# Next up:\n",
    "\n",
    "1. Return values from functions vs. printing\n",
    "2. Default argument values\n",
    "\n"
   ]
  },
  {
   "cell_type": "markdown",
   "id": "31b7af56",
   "metadata": {},
   "source": [
    "# What does a function return?\n",
    "\n",
    "In math, when we use a function, we expect to get a value from it. So if I call `sin(x)`, I'll get a number back.  The call to the function is replaced by a value that the function computed.\n",
    "\n",
    "In the same way, a Python function can *return* a value to its caller.  We've already seen this many times:\n",
    "\n",
    "    x = int('10')  # int returns an integer value, which we can assign to x\n",
    "    y = str(100)   # str returns a string value, which we can assign to y\n",
    "    s = input('Enter your name: ')    # input returns a string value, which we can assign to s\n",
    "    \n",
    "So far, have our functions returned any values? Sort of... but not really.    "
   ]
  },
  {
   "cell_type": "code",
   "execution_count": 36,
   "id": "25e59b31",
   "metadata": {},
   "outputs": [
    {
     "name": "stdout",
     "output_type": "stream",
     "text": [
      "10 + 3 = 13\n"
     ]
    }
   ],
   "source": [
    "# what's going to happen when I call calc?\n",
    "\n",
    "x = calc(10, '+', 3)"
   ]
  },
  {
   "cell_type": "code",
   "execution_count": 37,
   "id": "cb8371a8",
   "metadata": {},
   "outputs": [
    {
     "name": "stdout",
     "output_type": "stream",
     "text": [
      "None\n"
     ]
    }
   ],
   "source": [
    "# what value was assigned to x?\n",
    "\n",
    "print(x)"
   ]
  },
  {
   "cell_type": "markdown",
   "id": "aa88956a",
   "metadata": {},
   "source": [
    "# Return values\n",
    "\n",
    "If we aren't explicit about returning a value from our function, then the function returns a special value called `None` (yes, with a capital `N`).  So every function does return a value, but if you don't say what that value should be, then it returns `None`.\n",
    "\n",
    "How do we return a value from our function? We use the `return` keyword.  As soon as the function body encounters `return`, the function's execution stops, and the value just after `return` is returned."
   ]
  },
  {
   "cell_type": "code",
   "execution_count": 38,
   "id": "196f3530",
   "metadata": {},
   "outputs": [],
   "source": [
    "def calc(first, operator, second):            # assume that first and second are ints\n",
    "        if operator == '+':\n",
    "            result = first + second\n",
    "        elif operator == '-':\n",
    "            result = first - second\n",
    "        else:\n",
    "            result = f'Unknown operator {operator}' \n",
    "\n",
    "        return f'{first} {operator} {second} = {result}'   # return isn't a function, so no () after it\n"
   ]
  },
  {
   "cell_type": "code",
   "execution_count": 39,
   "id": "faa8bae4",
   "metadata": {},
   "outputs": [],
   "source": [
    "x = calc(10, '+', 3)"
   ]
  },
  {
   "cell_type": "code",
   "execution_count": 40,
   "id": "20caffb2",
   "metadata": {},
   "outputs": [
    {
     "data": {
      "text/plain": [
       "'10 + 3 = 13'"
      ]
     },
     "execution_count": 40,
     "metadata": {},
     "output_type": "execute_result"
    }
   ],
   "source": [
    "x"
   ]
  },
  {
   "cell_type": "markdown",
   "id": "da160851",
   "metadata": {},
   "source": [
    "# Returning is better than printing!\n",
    "\n",
    "Yes, you can write a function that prints its result on the screen. But if you do that, then you lose a ton of flexibility:\n",
    "\n",
    "- You can't assign that value to a variable\n",
    "- You can't inspect that value to know what type it is\n",
    "- You can't pass it along to another function as an argument\n",
    "\n",
    "What do you lose by returning a value, instead of printing it? Nothing -- because you can always call `print` on the returned value."
   ]
  },
  {
   "cell_type": "code",
   "execution_count": 41,
   "id": "74fffc9c",
   "metadata": {},
   "outputs": [
    {
     "name": "stdout",
     "output_type": "stream",
     "text": [
      "30\n"
     ]
    }
   ],
   "source": [
    "# remember mysum?\n",
    "\n",
    "def mysum(numbers):\n",
    "    total = 0\n",
    "    \n",
    "    for one_number in numbers:\n",
    "        total += one_number\n",
    "        \n",
    "    print(one_number)\n",
    "    \n",
    "x = mysum([10,20, 30])    "
   ]
  },
  {
   "cell_type": "code",
   "execution_count": 42,
   "id": "ac9ff958",
   "metadata": {},
   "outputs": [
    {
     "name": "stdout",
     "output_type": "stream",
     "text": [
      "None\n"
     ]
    }
   ],
   "source": [
    "print(x)"
   ]
  },
  {
   "cell_type": "code",
   "execution_count": 46,
   "id": "364aa933",
   "metadata": {},
   "outputs": [],
   "source": [
    "# let's fix mysum, so that it returns a value\n",
    "\n",
    "def mysum(numbers):\n",
    "    total = 0\n",
    "    \n",
    "    for one_number in numbers:\n",
    "        total += one_number\n",
    "        \n",
    "    return total\n",
    "    \n",
    "# right side executed before left side... first mysum runs, then its return value is assigned to x\n",
    "x = mysum([10,20, 30])    "
   ]
  },
  {
   "cell_type": "code",
   "execution_count": 47,
   "id": "f0c2da96",
   "metadata": {},
   "outputs": [
    {
     "data": {
      "text/plain": [
       "60"
      ]
     },
     "execution_count": 47,
     "metadata": {},
     "output_type": "execute_result"
    }
   ],
   "source": [
    "x"
   ]
  },
  {
   "cell_type": "markdown",
   "id": "7a61a103",
   "metadata": {},
   "source": [
    "# Exercise: Biggest and smallest\n",
    "\n",
    "1. Write a function, called `bas`, that takes a list of integers as its argument.  Assign that list of integers to the parameter `numbers`.\n",
    "2. Inside of the function, define two variables -- `biggest` and `smallest`.  Assign both of these variables the value of the first element in `numbers`, the list.\n",
    "3. Go through `numbers`, one element at a time.  If the current element is bigger than `biggest`, update it. If the current element is smallest than `smallest`, update it.\n",
    "4. The function should return a 2-element list, with the biggest and smallest values as its two elements.\n",
    "\n",
    "Example:\n",
    "\n",
    "    bas([10, 15, 3, -8, 12, 30, -4, 11])  # returns [30, -8]"
   ]
  },
  {
   "cell_type": "code",
   "execution_count": 48,
   "id": "2dc93b48",
   "metadata": {},
   "outputs": [],
   "source": [
    "def bas(numbers):\n",
    "    biggest = numbers[0]\n",
    "    smallest = numbers[0]\n",
    "    \n",
    "    for one_number in numbers:\n",
    "        if one_number > biggest:\n",
    "            biggest = one_number\n",
    "            \n",
    "        if one_number < smallest:\n",
    "            smallest = one_number\n",
    "            \n",
    "    return [biggest, smallest]"
   ]
  },
  {
   "cell_type": "code",
   "execution_count": 49,
   "id": "0d8c6d5f",
   "metadata": {},
   "outputs": [
    {
     "data": {
      "text/plain": [
       "[30, -8]"
      ]
     },
     "execution_count": 49,
     "metadata": {},
     "output_type": "execute_result"
    }
   ],
   "source": [
    " bas([10, 15, 3, -8, 12, 30, -4, 11]) "
   ]
  },
  {
   "cell_type": "code",
   "execution_count": 51,
   "id": "c0c3b698",
   "metadata": {},
   "outputs": [
    {
     "name": "stdout",
     "output_type": "stream",
     "text": [
      "[15, -8]\n"
     ]
    }
   ],
   "source": [
    "# 1. we call bas([10, 15, 3, -8])\n",
    "# 2. The return value from bas is then the argument to print\n",
    "# 3. We call print with [15, -8]\n",
    "# 4. The print function runs, and displays it on the screen\n",
    "\n",
    "print(bas([10, 15, 3, -8]))"
   ]
  },
  {
   "cell_type": "code",
   "execution_count": 52,
   "id": "dfe60ae3",
   "metadata": {},
   "outputs": [
    {
     "name": "stdout",
     "output_type": "stream",
     "text": [
      "Hello\n"
     ]
    }
   ],
   "source": [
    "print('Hello')"
   ]
  },
  {
   "cell_type": "code",
   "execution_count": 55,
   "id": "0b10ffe2",
   "metadata": {},
   "outputs": [
    {
     "name": "stdout",
     "output_type": "stream",
     "text": [
      "Hello\n"
     ]
    }
   ],
   "source": [
    "# print displays something on the screen, but returns None, so don't assign its return value!\n",
    "\n",
    "x = print('Hello')"
   ]
  },
  {
   "cell_type": "code",
   "execution_count": 54,
   "id": "7609d7aa",
   "metadata": {},
   "outputs": [
    {
     "name": "stdout",
     "output_type": "stream",
     "text": [
      "None\n"
     ]
    }
   ],
   "source": [
    "print(x)"
   ]
  },
  {
   "cell_type": "code",
   "execution_count": 56,
   "id": "a22bfbe9",
   "metadata": {},
   "outputs": [
    {
     "data": {
      "text/plain": [
       "[15, -8]"
      ]
     },
     "execution_count": 56,
     "metadata": {},
     "output_type": "execute_result"
    }
   ],
   "source": [
    "mylist = bas([10, 15, 3, -8])\n",
    "mylist"
   ]
  },
  {
   "cell_type": "code",
   "execution_count": 57,
   "id": "f8f38849",
   "metadata": {},
   "outputs": [
    {
     "data": {
      "text/plain": [
       "15"
      ]
     },
     "execution_count": 57,
     "metadata": {},
     "output_type": "execute_result"
    }
   ],
   "source": [
    "mylist[0]"
   ]
  },
  {
   "cell_type": "code",
   "execution_count": 58,
   "id": "0f0778d1",
   "metadata": {},
   "outputs": [
    {
     "data": {
      "text/plain": [
       "-8"
      ]
     },
     "execution_count": 58,
     "metadata": {},
     "output_type": "execute_result"
    }
   ],
   "source": [
    "mylist[1]"
   ]
  },
  {
   "cell_type": "code",
   "execution_count": 59,
   "id": "7c6660fa",
   "metadata": {},
   "outputs": [
    {
     "name": "stdout",
     "output_type": "stream",
     "text": [
      "-8\n"
     ]
    }
   ],
   "source": [
    "print(mylist[1])"
   ]
  },
  {
   "cell_type": "code",
   "execution_count": 62,
   "id": "6f192bf6",
   "metadata": {},
   "outputs": [
    {
     "name": "stdout",
     "output_type": "stream",
     "text": [
      "-8\n"
     ]
    }
   ],
   "source": [
    "# don't do this, but it will work!\n",
    "\n",
    "print(bas([10, 15, 3, -8])[1])    # call bas, get a 2-element list back, ask for index 1, print the result"
   ]
  },
  {
   "cell_type": "markdown",
   "id": "4cd7aa35",
   "metadata": {},
   "source": [
    "# Exercise: Vowel counts\n",
    "\n",
    "1. Define a function, `count_vowels`, that takes a string argument and returns a dictionary. The dict's keys will be the one-letter strings `a`, `e`, `i`, `o`, and `u`. The dict's values should all be 0.\n",
    "2. When we call the function, and pass it a string, the function will go through the string, one character at  a time.  If the current character is a vowel, add 1 to that vowel's count.\n",
    "3. When we're done going over the string, return the dict to the caller.\n",
    "\n",
    "Example:\n",
    "\n",
    "    count_vowels('hello out there')\n",
    "    {'a':0, 'e':3, 'i':0, 'o':2, 'u':1}"
   ]
  },
  {
   "cell_type": "code",
   "execution_count": 63,
   "id": "5cfa067b",
   "metadata": {},
   "outputs": [],
   "source": [
    "def count_vowels(s):\n",
    "    output = {'a':0, 'e':0, 'i':0, 'o':0, 'u':0}\n",
    "    \n",
    "    for one_character in s:              # go through the string, one character at a time\n",
    "        if one_character in output:      # is the current character a vowel?\n",
    "            output[one_character] += 1   # add 1 to the count for that vowel\n",
    "            \n",
    "    return output   # return the output dict to the caller"
   ]
  },
  {
   "cell_type": "code",
   "execution_count": 64,
   "id": "9df62a42",
   "metadata": {},
   "outputs": [
    {
     "data": {
      "text/plain": [
       "{'a': 0, 'e': 3, 'i': 0, 'o': 2, 'u': 1}"
      ]
     },
     "execution_count": 64,
     "metadata": {},
     "output_type": "execute_result"
    }
   ],
   "source": [
    "count_vowels('hello out there')"
   ]
  },
  {
   "cell_type": "markdown",
   "id": "0189c258",
   "metadata": {},
   "source": [
    "# Default argument values\n",
    "\n",
    "Let's say that I have a function that takes two arguments. It will *always* require two arguments. That's normally fine, but sometimes we need a bit more flexibility.\n",
    "\n",
    "We can get that if we use default argument values."
   ]
  },
  {
   "cell_type": "code",
   "execution_count": 65,
   "id": "c968a6e6",
   "metadata": {},
   "outputs": [
    {
     "data": {
      "text/plain": [
       "13"
      ]
     },
     "execution_count": 65,
     "metadata": {},
     "output_type": "execute_result"
    }
   ],
   "source": [
    "def add(first, second):\n",
    "    return first + second\n",
    "\n",
    "add(10, 3)"
   ]
  },
  {
   "cell_type": "code",
   "execution_count": 66,
   "id": "62ae1a7d",
   "metadata": {},
   "outputs": [
    {
     "data": {
      "text/plain": [
       "28"
      ]
     },
     "execution_count": 66,
     "metadata": {},
     "output_type": "execute_result"
    }
   ],
   "source": [
    "add(20, 8)"
   ]
  },
  {
   "cell_type": "code",
   "execution_count": 67,
   "id": "f3aa92e9",
   "metadata": {},
   "outputs": [
    {
     "ename": "TypeError",
     "evalue": "add() missing 1 required positional argument: 'second'",
     "output_type": "error",
     "traceback": [
      "\u001b[0;31m---------------------------------------------------------------------------\u001b[0m",
      "\u001b[0;31mTypeError\u001b[0m                                 Traceback (most recent call last)",
      "Cell \u001b[0;32mIn [67], line 2\u001b[0m\n\u001b[1;32m      1\u001b[0m \u001b[38;5;66;03m# what happens if I call add, and I only pass one argument?\u001b[39;00m\n\u001b[0;32m----> 2\u001b[0m \u001b[43madd\u001b[49m\u001b[43m(\u001b[49m\u001b[38;5;241;43m20\u001b[39;49m\u001b[43m)\u001b[49m\n",
      "\u001b[0;31mTypeError\u001b[0m: add() missing 1 required positional argument: 'second'"
     ]
    }
   ],
   "source": [
    "# what happens if I call add, and I only pass one argument?\n",
    "add(20)"
   ]
  },
  {
   "cell_type": "code",
   "execution_count": 68,
   "id": "663f3136",
   "metadata": {},
   "outputs": [],
   "source": [
    "# what if I want to be able to say: If I only pass one argument, return \n",
    "# that argument + 10.\n",
    "\n",
    "# I can define my function in a different way, with a default value\n",
    "\n",
    "def add(first, second=10):   # this means: if I don't pass a value for second, second=10\n",
    "    return first + second"
   ]
  },
  {
   "cell_type": "code",
   "execution_count": 70,
   "id": "54f16621",
   "metadata": {},
   "outputs": [
    {
     "data": {
      "text/plain": [
       "7"
      ]
     },
     "execution_count": 70,
     "metadata": {},
     "output_type": "execute_result"
    }
   ],
   "source": [
    "# parameters: first  second\n",
    "# arguments:    3      4\n",
    "\n",
    "add(3, 4)"
   ]
  },
  {
   "cell_type": "code",
   "execution_count": 71,
   "id": "0b9d04cc",
   "metadata": {},
   "outputs": [
    {
     "data": {
      "text/plain": [
       "22"
      ]
     },
     "execution_count": 71,
     "metadata": {},
     "output_type": "execute_result"
    }
   ],
   "source": [
    "# parameters: first  second\n",
    "# arguments:   12      10\n",
    "\n",
    "add(12)"
   ]
  },
  {
   "cell_type": "markdown",
   "id": "5293b10c",
   "metadata": {},
   "source": [
    "# Default argument values\n",
    "\n",
    "A function can have as many default values as you want. But all of the mandatory parameters must be named before all of the optional parameters, with default values.\n",
    "\n",
    "When would we use this?\n",
    "\n",
    "- Default names or usernames\n",
    "- Default math values\n",
    "- Default file extensions when we write to a file\n",
    "- Default fields separators when writing to a file\n",
    "- Default database name\n",
    "\n",
    "VERY IMPORTANT: Only use immutable defaults! If you use a mutable default (e.g., list or dict), then it might work... but you might end up having trouble down the road."
   ]
  },
  {
   "cell_type": "markdown",
   "id": "a8ea89d9",
   "metadata": {},
   "source": [
    "# Exercise: Calculator (yes, another one!)\n",
    "\n",
    "1. Write a function, `calc`, that takes three arguments:\n",
    "    - `first`, a number\n",
    "    - `second`, a number\n",
    "    - `operator`, a string that defaults to `'+'`\n",
    "2. Calling the function will result in the selected math operation (`+` or `-`) taking place, and the result returned.\n",
    "3. If the user doesn't pass an operator, then the default is `+`.\n",
    "    "
   ]
  },
  {
   "cell_type": "code",
   "execution_count": 72,
   "id": "91208cc6",
   "metadata": {},
   "outputs": [],
   "source": [
    "def calc(first, second, operator='+'):    \n",
    "    if operator == '+':\n",
    "        return first + second\n",
    "    elif operator == '-':\n",
    "        return first - second\n",
    "    else:\n",
    "        return f'{operator} is not supported'\n"
   ]
  },
  {
   "cell_type": "code",
   "execution_count": 73,
   "id": "8960cc39",
   "metadata": {},
   "outputs": [
    {
     "data": {
      "text/plain": [
       "7"
      ]
     },
     "execution_count": 73,
     "metadata": {},
     "output_type": "execute_result"
    }
   ],
   "source": [
    "calc(10, 3, '-')"
   ]
  },
  {
   "cell_type": "code",
   "execution_count": 74,
   "id": "7d3618a0",
   "metadata": {},
   "outputs": [
    {
     "data": {
      "text/plain": [
       "13"
      ]
     },
     "execution_count": 74,
     "metadata": {},
     "output_type": "execute_result"
    }
   ],
   "source": [
    "calc(10, 3, '+')"
   ]
  },
  {
   "cell_type": "code",
   "execution_count": 75,
   "id": "005a0836",
   "metadata": {},
   "outputs": [
    {
     "data": {
      "text/plain": [
       "13"
      ]
     },
     "execution_count": 75,
     "metadata": {},
     "output_type": "execute_result"
    }
   ],
   "source": [
    "calc(10, 3)  # default of '+' will do its magic"
   ]
  },
  {
   "cell_type": "markdown",
   "id": "e6c884cd",
   "metadata": {},
   "source": [
    "# Where are there defaults?\n",
    "\n",
    "Remember `str.split`?"
   ]
  },
  {
   "cell_type": "code",
   "execution_count": 76,
   "id": "eb5ca0ef",
   "metadata": {},
   "outputs": [
    {
     "data": {
      "text/plain": [
       "['abcd', 'ef', 'ghi', 'jklm']"
      ]
     },
     "execution_count": 76,
     "metadata": {},
     "output_type": "execute_result"
    }
   ],
   "source": [
    "s = 'abcd ef ghi jklm'\n",
    "\n",
    "s.split(' ')   # returns a list of strings, based on s, split on ' '"
   ]
  },
  {
   "cell_type": "code",
   "execution_count": 77,
   "id": "4e17e261",
   "metadata": {},
   "outputs": [
    {
     "data": {
      "text/plain": [
       "['abcd', 'ef', 'ghi', 'jklm']"
      ]
     },
     "execution_count": 77,
     "metadata": {},
     "output_type": "execute_result"
    }
   ],
   "source": [
    "# I can also say\n",
    "\n",
    "s.split()    # notice, I'm passing 0 arguments -- so there must be a default in here!"
   ]
  },
  {
   "cell_type": "code",
   "execution_count": 78,
   "id": "fa0c596f",
   "metadata": {},
   "outputs": [],
   "source": [
    "# indeed, str.split has a default argument of None.  If we call s.split() without any arguments,\n",
    "# then None is put into place, and it means: Use any and all whitespace, of any length, as\n",
    "# a delimiter."
   ]
  },
  {
   "cell_type": "code",
   "execution_count": 79,
   "id": "40122b0e",
   "metadata": {},
   "outputs": [
    {
     "name": "stdout",
     "output_type": "stream",
     "text": [
      "Help on method_descriptor:\n",
      "\n",
      "split(self, /, sep=None, maxsplit=-1)\n",
      "    Return a list of the substrings in the string, using sep as the separator string.\n",
      "    \n",
      "      sep\n",
      "        The separator used to split the string.\n",
      "    \n",
      "        When set to None (the default value), will split on any whitespace\n",
      "        character (including \\\\n \\\\r \\\\t \\\\f and spaces) and will discard\n",
      "        empty strings from the result.\n",
      "      maxsplit\n",
      "        Maximum number of splits (starting from the left).\n",
      "        -1 (the default value) means no limit.\n",
      "    \n",
      "    Note, str.split() is mainly useful for data that has been intentionally\n",
      "    delimited.  With natural text that includes punctuation, consider using\n",
      "    the regular expression module.\n",
      "\n"
     ]
    }
   ],
   "source": [
    "help(str.split)"
   ]
  },
  {
   "cell_type": "markdown",
   "id": "4e302f2d",
   "metadata": {},
   "source": [
    "# Next up\n",
    "\n",
    "1. Keyword arguments\n",
    "2. More with arguments (`*args`)\n",
    "3. Complex return values"
   ]
  },
  {
   "cell_type": "markdown",
   "id": "066d16fd",
   "metadata": {},
   "source": [
    "# Positional and keyword arguments\n",
    "\n",
    "I've already mentioned positional arguments.  When we call a function, positional arguments are assigned to parameters based on their positions.\n",
    "\n",
    "If I call `func(10, 20, 30)`, then 10 will be assigned to the first parameter, 20 to the second parameter, and 30 to the third parameter.\n",
    "\n",
    "It turns out that there is another type of parameter. When I mention \"parameter type,\" I'm not talking about the type of data we're passing.  Rather, I'm talking about how Python assigns the argument to the parameter.\n",
    "\n",
    "With *keyword arguments*, we explicitly tell Python which parameter should be assigned this argument.  All keyword arguments look like `name=value`."
   ]
  },
  {
   "cell_type": "code",
   "execution_count": 80,
   "id": "a2701c8c",
   "metadata": {},
   "outputs": [
    {
     "data": {
      "text/plain": [
       "14"
      ]
     },
     "execution_count": 80,
     "metadata": {},
     "output_type": "execute_result"
    }
   ],
   "source": [
    "def add(first, second):\n",
    "    return first + second\n",
    "\n",
    "\n",
    "# parameters   first, second\n",
    "# arguments     10      4\n",
    "\n",
    "add(10, 4)  # both 10 and 4 are positional arguments"
   ]
  },
  {
   "cell_type": "code",
   "execution_count": 81,
   "id": "514c7749",
   "metadata": {},
   "outputs": [
    {
     "data": {
      "text/plain": [
       "14"
      ]
     },
     "execution_count": 81,
     "metadata": {},
     "output_type": "execute_result"
    }
   ],
   "source": [
    "# parameters   first,   second\n",
    "# arguments      10        4\n",
    "\n",
    "add(first=10, second=4)   # both are keyword arguments"
   ]
  },
  {
   "cell_type": "code",
   "execution_count": 82,
   "id": "fc90ec9e",
   "metadata": {},
   "outputs": [
    {
     "data": {
      "text/plain": [
       "14"
      ]
     },
     "execution_count": 82,
     "metadata": {},
     "output_type": "execute_result"
    }
   ],
   "source": [
    "# can I pass keyword arguments in a different order? YES\n",
    "\n",
    "# parameters   first,   second\n",
    "# arguments     4       10\n",
    "\n",
    "add(second=10, first=4) "
   ]
  },
  {
   "cell_type": "markdown",
   "id": "fded313e",
   "metadata": {},
   "source": [
    "# Mixing positional and keyword arguments\n",
    "\n",
    "You can call a function with both positional and keyword arguments.  But if you do that, all positional arguments must be passed before all keyword arguments.\n",
    "\n",
    "Why do I want keyword arguments?\n",
    "\n",
    "- Sometimes it's easier to understand/read/maintain\n",
    "- Some functions take so many arguments that this is the only reasonable way to go\n"
   ]
  },
  {
   "cell_type": "code",
   "execution_count": 83,
   "id": "e851ffef",
   "metadata": {},
   "outputs": [
    {
     "data": {
      "text/plain": [
       "{'a': 1, 'b': 2, 'c': 3}"
      ]
     },
     "execution_count": 83,
     "metadata": {},
     "output_type": "execute_result"
    }
   ],
   "source": [
    "# I can create a dict with a list of tuples:\n",
    "\n",
    "dict([('a', 1), ('b', 2), ('c', 3)])"
   ]
  },
  {
   "cell_type": "code",
   "execution_count": 84,
   "id": "2e7ccf32",
   "metadata": {},
   "outputs": [
    {
     "data": {
      "text/plain": [
       "{'a': 1, 'b': 2, 'c': 3}"
      ]
     },
     "execution_count": 84,
     "metadata": {},
     "output_type": "execute_result"
    }
   ],
   "source": [
    "# I can also, instead, pass keyword arguments\n",
    "dict(a=1, b=2, c=3)"
   ]
  },
  {
   "cell_type": "markdown",
   "id": "3ae4623c",
   "metadata": {},
   "source": [
    "# Exercise: Greeting\n",
    "\n",
    "1. Write a function, `greet`, which takes two arguments -- `name` and `country`.\n",
    "2. The function should return a string nicely greeting the person from their country.\n",
    "3. Then, call the function using keyword arguments."
   ]
  },
  {
   "cell_type": "code",
   "execution_count": 86,
   "id": "bdb7847f",
   "metadata": {},
   "outputs": [
    {
     "name": "stdout",
     "output_type": "stream",
     "text": [
      "Hello, Reuven from Israel!\n"
     ]
    }
   ],
   "source": [
    "def greet(name, country):\n",
    "    return f'Hello, {name} from {country}!'\n",
    "\n",
    "print(greet('Reuven', 'Israel'))   # positional arguments"
   ]
  },
  {
   "cell_type": "code",
   "execution_count": 87,
   "id": "a2e21bda",
   "metadata": {},
   "outputs": [
    {
     "name": "stdout",
     "output_type": "stream",
     "text": [
      "Hello, Reuven from Israel!\n"
     ]
    }
   ],
   "source": [
    "print(greet(name='Reuven', country='Israel'))   # keyword arguments"
   ]
  },
  {
   "cell_type": "code",
   "execution_count": 88,
   "id": "a6e5f17b",
   "metadata": {},
   "outputs": [],
   "source": [
    "# let's go back to mysum, our function from before\n",
    "\n",
    "def mysum(numbers):\n",
    "    total = 0\n",
    "    \n",
    "    for one_number in numbers:\n",
    "        total += one_number\n",
    "        \n",
    "    return total"
   ]
  },
  {
   "cell_type": "code",
   "execution_count": 89,
   "id": "a2f3f584",
   "metadata": {},
   "outputs": [
    {
     "data": {
      "text/plain": [
       "60"
      ]
     },
     "execution_count": 89,
     "metadata": {},
     "output_type": "execute_result"
    }
   ],
   "source": [
    "mysum([10, 20, 30])"
   ]
  },
  {
   "cell_type": "code",
   "execution_count": 90,
   "id": "2e2333ee",
   "metadata": {},
   "outputs": [
    {
     "data": {
      "text/plain": [
       "150"
      ]
     },
     "execution_count": 90,
     "metadata": {},
     "output_type": "execute_result"
    }
   ],
   "source": [
    "mysum([10,20, 30, 40, 50])"
   ]
  },
  {
   "cell_type": "code",
   "execution_count": 91,
   "id": "0905c317",
   "metadata": {},
   "outputs": [
    {
     "ename": "TypeError",
     "evalue": "mysum() takes 1 positional argument but 3 were given",
     "output_type": "error",
     "traceback": [
      "\u001b[0;31m---------------------------------------------------------------------------\u001b[0m",
      "\u001b[0;31mTypeError\u001b[0m                                 Traceback (most recent call last)",
      "Cell \u001b[0;32mIn [91], line 4\u001b[0m\n\u001b[1;32m      1\u001b[0m \u001b[38;5;66;03m# it's a bit annoying that I have to pass a list of numbers\u001b[39;00m\n\u001b[1;32m      2\u001b[0m \u001b[38;5;66;03m# can't I just pass the numbers themselves?\u001b[39;00m\n\u001b[0;32m----> 4\u001b[0m \u001b[43mmysum\u001b[49m\u001b[43m(\u001b[49m\u001b[38;5;241;43m10\u001b[39;49m\u001b[43m,\u001b[49m\u001b[43m \u001b[49m\u001b[38;5;241;43m20\u001b[39;49m\u001b[43m,\u001b[49m\u001b[43m \u001b[49m\u001b[38;5;241;43m30\u001b[39;49m\u001b[43m)\u001b[49m\n",
      "\u001b[0;31mTypeError\u001b[0m: mysum() takes 1 positional argument but 3 were given"
     ]
    }
   ],
   "source": [
    "# it's a bit annoying that I have to pass a list of numbers\n",
    "# can't I just pass the numbers themselves?\n",
    "\n",
    "mysum(10, 20, 30)"
   ]
  },
  {
   "cell_type": "markdown",
   "id": "210e2388",
   "metadata": {},
   "source": [
    "# Special parameter: `*args`  (pronounced: \"splat args\")\n",
    "\n",
    "If a function has a parameter named `*args` (actually, any parameter name is OK, but the `*` must be there), then it is always going to be a tuple.  It will get assigned any positional arguments that no other parameter was assigned.\n",
    "\n",
    "If the only parameter is `*args`, then it is assigned all of the positional arguments."
   ]
  },
  {
   "cell_type": "code",
   "execution_count": 92,
   "id": "ca9546d3",
   "metadata": {},
   "outputs": [],
   "source": [
    "def myfunc(a, b, *args):\n",
    "    return f'{a=}, {b=}, {args=}'  # special syntax to print the variable name and its value"
   ]
  },
  {
   "cell_type": "code",
   "execution_count": 93,
   "id": "e9497867",
   "metadata": {},
   "outputs": [
    {
     "data": {
      "text/plain": [
       "'a=10, b=20, args=(30, 40, 50)'"
      ]
     },
     "execution_count": 93,
     "metadata": {},
     "output_type": "execute_result"
    }
   ],
   "source": [
    "myfunc(10, 20, 30, 40, 50)"
   ]
  },
  {
   "cell_type": "code",
   "execution_count": 94,
   "id": "43a5a58d",
   "metadata": {},
   "outputs": [
    {
     "data": {
      "text/plain": [
       "'a=10, b=20, args=()'"
      ]
     },
     "execution_count": 94,
     "metadata": {},
     "output_type": "execute_result"
    }
   ],
   "source": [
    "myfunc(10, 20)"
   ]
  },
  {
   "cell_type": "code",
   "execution_count": 95,
   "id": "726fd961",
   "metadata": {},
   "outputs": [],
   "source": [
    "def myfunc(*args):\n",
    "    return f'{args=}' "
   ]
  },
  {
   "cell_type": "code",
   "execution_count": 96,
   "id": "47471fef",
   "metadata": {},
   "outputs": [
    {
     "data": {
      "text/plain": [
       "'args=(10, 20, 30, 40, 50)'"
      ]
     },
     "execution_count": 96,
     "metadata": {},
     "output_type": "execute_result"
    }
   ],
   "source": [
    "myfunc(10, 20, 30, 40, 50)"
   ]
  },
  {
   "cell_type": "code",
   "execution_count": 97,
   "id": "1e3219b0",
   "metadata": {},
   "outputs": [],
   "source": [
    "def mysum(*numbers):   # numbers will be a tuple with all of the arguments passed to mysum\n",
    "    total = 0\n",
    "    \n",
    "    for one_number in numbers:\n",
    "        total += one_number\n",
    "        \n",
    "    return total"
   ]
  },
  {
   "cell_type": "code",
   "execution_count": 98,
   "id": "6d9e61eb",
   "metadata": {},
   "outputs": [
    {
     "data": {
      "text/plain": [
       "60"
      ]
     },
     "execution_count": 98,
     "metadata": {},
     "output_type": "execute_result"
    }
   ],
   "source": [
    "mysum(10, 20, 30)"
   ]
  },
  {
   "cell_type": "code",
   "execution_count": 99,
   "id": "5559bfaf",
   "metadata": {},
   "outputs": [
    {
     "data": {
      "text/plain": [
       "30"
      ]
     },
     "execution_count": 99,
     "metadata": {},
     "output_type": "execute_result"
    }
   ],
   "source": [
    "mysum(2,4,6,8,10)"
   ]
  },
  {
   "cell_type": "markdown",
   "id": "43d30a54",
   "metadata": {},
   "source": [
    "# Exercise: Numbers in range\n",
    "\n",
    "1. Write a function, `in_range`, which takes at least two arguments:\n",
    "    - `min_value` (int)\n",
    "    - `max_value` (int)\n",
    "2. It'll also take any number of additional ints.    \n",
    "3. The return value from the function will be a list of all of the numbers passed after `min_value` and `max_value` that are greater than or equal to `min_value` and less than or equal to `max_value`.\n",
    "\n",
    "Example:\n",
    "\n",
    "    in_range(10, 20, 5, 7, 9, 11, 13, 15, 17, 19, 21, 23)\n",
    "    [11, 13, 15, 17, 19]\n",
    "    \n",
    "Hint/reminder:\n",
    "1. You can create an empty list with `[]`.\n",
    "2. You can add an element to a list with `.append`."
   ]
  },
  {
   "cell_type": "code",
   "execution_count": 100,
   "id": "96dc16bd",
   "metadata": {},
   "outputs": [],
   "source": [
    "# function definition\n",
    "# includes all of our parameters\n",
    "# min_value -- an integer\n",
    "# max_value -- an integer\n",
    "# args -- because we call it *args, it'll be a tuple with all positional arguments\n",
    "#  that were not assigned to other parameters.\n",
    "# *args completely ignores any keyword arguments that might be used\n",
    "\n",
    "def in_range(min_value, max_value, *args):\n",
    "    output = []\n",
    "    \n",
    "    for one_value in args:      # go through each of the values we got\n",
    "        if min_value <= one_value <= max_value:\n",
    "            output.append(one_value)\n",
    "\n",
    "    return output"
   ]
  },
  {
   "cell_type": "code",
   "execution_count": 101,
   "id": "a29fd51a",
   "metadata": {},
   "outputs": [
    {
     "data": {
      "text/plain": [
       "[11, 13, 15, 17, 19]"
      ]
     },
     "execution_count": 101,
     "metadata": {},
     "output_type": "execute_result"
    }
   ],
   "source": [
    "in_range(10, 20, 5, 7, 9, 11, 13, 15, 17, 19, 21, 23)"
   ]
  },
  {
   "cell_type": "markdown",
   "id": "255fd1e4",
   "metadata": {},
   "source": [
    "# Complex return values\n",
    "\n",
    "What can I return from a function?  We've seen, so far:\n",
    "\n",
    "- Integers\n",
    "- Strings\n",
    "- Lists\n",
    "- Dicts\n",
    "\n",
    "Actually, you can return *any* Python object from a function. It's not rare to do that.\n",
    "\n"
   ]
  },
  {
   "cell_type": "code",
   "execution_count": 104,
   "id": "2cb26ef8",
   "metadata": {},
   "outputs": [],
   "source": [
    "# returning a tuple from a function is not that exciting-- we're just returning a tuple\n",
    "# and since we can return any data structure in a Python function, that's fine\n",
    "\n",
    "def status():\n",
    "    return(200, {'text':'ok', 'explanation': 'everything is great!'})"
   ]
  },
  {
   "cell_type": "code",
   "execution_count": 105,
   "id": "2541896c",
   "metadata": {},
   "outputs": [
    {
     "data": {
      "text/plain": [
       "(200, {'text': 'ok', 'explanation': 'everything is great!'})"
      ]
     },
     "execution_count": 105,
     "metadata": {},
     "output_type": "execute_result"
    }
   ],
   "source": [
    "status()"
   ]
  },
  {
   "cell_type": "code",
   "execution_count": 106,
   "id": "eb7b1774",
   "metadata": {},
   "outputs": [],
   "source": [
    "# BUT remember that we can use unpacking to grab the different parts of the tuple\n",
    "\n",
    "code, verbose_output = status()"
   ]
  },
  {
   "cell_type": "code",
   "execution_count": 107,
   "id": "37dfdbfb",
   "metadata": {},
   "outputs": [
    {
     "data": {
      "text/plain": [
       "200"
      ]
     },
     "execution_count": 107,
     "metadata": {},
     "output_type": "execute_result"
    }
   ],
   "source": [
    "code"
   ]
  },
  {
   "cell_type": "code",
   "execution_count": 108,
   "id": "a2c42f96",
   "metadata": {},
   "outputs": [
    {
     "data": {
      "text/plain": [
       "{'text': 'ok', 'explanation': 'everything is great!'}"
      ]
     },
     "execution_count": 108,
     "metadata": {},
     "output_type": "execute_result"
    }
   ],
   "source": [
    "verbose_output"
   ]
  },
  {
   "cell_type": "markdown",
   "id": "42f92108",
   "metadata": {},
   "source": [
    "# Exercise: Count characters, complex edition\n",
    "\n",
    "1. Defina"
   ]
  }
 ],
 "metadata": {
  "kernelspec": {
   "display_name": "Python 3 (ipykernel)",
   "language": "python",
   "name": "python3"
  },
  "language_info": {
   "codemirror_mode": {
    "name": "ipython",
    "version": 3
   },
   "file_extension": ".py",
   "mimetype": "text/x-python",
   "name": "python",
   "nbconvert_exporter": "python",
   "pygments_lexer": "ipython3",
   "version": "3.11.0"
  }
 },
 "nbformat": 4,
 "nbformat_minor": 5
}
