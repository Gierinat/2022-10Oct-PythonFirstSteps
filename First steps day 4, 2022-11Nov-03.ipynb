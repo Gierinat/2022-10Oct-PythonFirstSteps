{
 "cells": [
  {
   "cell_type": "markdown",
   "id": "a0849470",
   "metadata": {},
   "source": [
    "# Agenda: Day 4 functions\n",
    "\n",
    "1. What are functions? Nouns vs. verbs in programming\n",
    "2. Writing simple functions\n",
    "3. Arguments and parameters\n",
    "4. Return values\n",
    "5. Default argument values\n",
    "6. Complex return values and unpacking\n",
    "7. Local vs. global variables"
   ]
  },
  {
   "cell_type": "markdown",
   "id": "a0955129",
   "metadata": {},
   "source": [
    "# What are functions?\n",
    "\n",
    "When we're talking about programming and programming languages, we can think of our data as the nouns. \n",
    "\n",
    "When we want to do something with the data, we need a verb. In programming, those verbs are known as \"functions.\" (We can also call them methods, and as you might remember, we invoke methods a bit differently, but they're still functions.)\n",
    "\n",
    "We've already seen a bunch of functions:\n",
    "\n",
    "- `print` -- takes an argument, and prints it on the screen\n",
    "- `input` -- takes a string argument, displays it on the screen, asks the user to enter something, and then returns that user input\n",
    "- `len` -- takes a string, list, tuple, or dict, and returns its length (for some definition of \"length\")\n",
    "- `open` -- takes a string, and returns a new file object\n",
    "\n",
    "Of course, there are also methods:\n",
    "\n",
    "- `str.split` -- returns a list of strings\n",
    "- `list.append` -- adds a new element to a list\n",
    "\n",
    "Learning to program is not just learning about the data structures, but also what functions/methods can be used with each data structure.\n",
    "\n",
    "Do we really need functions? No... but we want them?\n",
    "\n",
    "A lot of our lives are improved when we can combine many different things into a single thing, and then refer to that single thing.\n",
    "\n",
    "- Verb: Making an omelette, driving a car\n",
    "\n",
    "This idea in the computer (and engineering) world is known as \"abstraction.\" I'm ignoring all of the details, and concentrating on the big, high-level idea.\n",
    "\n",
    "Functions are a great example of abstraction: We can use a function to think about many different actions that the computer is taking, but summarize it in one word.  Then we can think about it at a higher level, but we can also communicate about it more easily, quickly, and obviously."
   ]
  },
  {
   "cell_type": "markdown",
   "id": "be8d9203",
   "metadata": {},
   "source": [
    "# Defining a function\n",
    "\n",
    "When we define a new function in Python, we need to:\n",
    "\n",
    "- Start with the keyword `def`, short for \"define\"\n",
    "- Give the function a name\n",
    "- After the function name, we have `()`, and inside of those any parameters the function might have (not yet)\n",
    "- After a colon, we have an indented function *body*.  In the function body,"
   ]
  }
 ],
 "metadata": {
  "kernelspec": {
   "display_name": "Python 3 (ipykernel)",
   "language": "python",
   "name": "python3"
  },
  "language_info": {
   "codemirror_mode": {
    "name": "ipython",
    "version": 3
   },
   "file_extension": ".py",
   "mimetype": "text/x-python",
   "name": "python",
   "nbconvert_exporter": "python",
   "pygments_lexer": "ipython3",
   "version": "3.11.0"
  }
 },
 "nbformat": 4,
 "nbformat_minor": 5
}
