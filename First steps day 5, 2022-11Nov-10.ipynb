{
 "cells": [
  {
   "cell_type": "markdown",
   "id": "05e588a3",
   "metadata": {},
   "source": [
    "# Agenda: Week 5 (Modules and packages)\n",
    "\n",
    "1. Review last week's challenge\n",
    "2. Intro to modules\n",
    "    - What are they?\n",
    "    - How can we use them?\n",
    "3. Using `import`\n",
    "    - Different forms of `import`\n",
    "4. Python's standard library    \n",
    "5. Develop our own (simple) module\n",
    "6. Modules vs. packages\n",
    "7. PyPI (the Python Package Index)\n",
    "    - Using `pip`\n",
    "    - Installing third-party modules\n",
    "    - Using third-party modules\n",
    "8. What's next? Where do we go from here?    "
   ]
  },
  {
   "cell_type": "markdown",
   "id": "7481ba83",
   "metadata": {},
   "source": [
    "# Modules\n",
    "\n",
    "I've probably mentioned, several times, the \"DRY rule\" of programming, namely \"Don't repeat yourself.\"\n",
    "\n",
    "- If I have the same code, several lines in a row, then I can apply the DRY rule and replace those lines with a loop.\n",
    "- If I have the same code, in several places in my program, then I can apply the DRY rule and replace those lines with a function.\n",
    "\n",
    "If the same code is repeated, then:\n",
    "- You have more to remember\n",
    "- When (not if!) you need to debug/fix/modify the code, you have to do it in several places\n",
    "\n",
    "By DRYing up "
   ]
  }
 ],
 "metadata": {
  "kernelspec": {
   "display_name": "Python 3 (ipykernel)",
   "language": "python",
   "name": "python3"
  },
  "language_info": {
   "codemirror_mode": {
    "name": "ipython",
    "version": 3
   },
   "file_extension": ".py",
   "mimetype": "text/x-python",
   "name": "python",
   "nbconvert_exporter": "python",
   "pygments_lexer": "ipython3",
   "version": "3.11.0"
  }
 },
 "nbformat": 4,
 "nbformat_minor": 5
}
