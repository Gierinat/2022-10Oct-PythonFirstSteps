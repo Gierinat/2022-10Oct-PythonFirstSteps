{
 "cells": [
  {
   "cell_type": "markdown",
   "id": "9142f3ea",
   "metadata": {},
   "source": [
    "# Agenda: Week 5 (Modules and packages)\n",
    "\n",
    "1. Review last week's challenge\n",
    "2. Intro to modules\n",
    "    - What are they?\n",
    "    - How can we use them?\n",
    "3. Using `import`\n",
    "    - Different forms of `import`\n",
    "4. Python's standard library    \n",
    "5. Develop our own (simple) module\n",
    "6. Modules vs. packages\n",
    "7. PyPI (the Python Package Index)\n",
    "    - Using `pip`\n",
    "    - Installing third-party modules\n",
    "    - Using third-party modules\n",
    "8. What's next? Where do we go from here?    "
   ]
  },
  {
   "cell_type": "markdown",
   "id": "5912f9d9",
   "metadata": {},
   "source": [
    "# Modules\n",
    "\n",
    "I've probably mentioned, several times, the \"DRY rule\" of programming, namely \"Don't repeat yourself.\"\n",
    "\n",
    "- If I have the same code, several lines in a row, then I can apply the DRY rule and replace those lines with a loop.\n",
    "- If I have the same code, in several places in my program, then I can apply the DRY rule and replace those lines with a function.\n",
    "\n",
    "If the same code is repeated, then:\n",
    "- You have more to remember\n",
    "- When (not if!) you need to debug/fix/modify the code, you have to do it in several places\n",
    "\n",
    "By \"DRYing up your code,\" you are saving yourself work and cognitive load (having to remember).\n",
    "\n",
    "- If I have the same code, in several different programs, then I can apply the DRY rule and put that code in a *library*. In Python, we call our libraries \"modules.\""
   ]
  },
  {
   "cell_type": "markdown",
   "id": "17ca0af5",
   "metadata": {},
   "source": [
    "# Using modules\n",
    "\n",
    "Python comes with many modules in its \"standard library.\" If we want to use functionality in one of those modules, then we need to use the `import` statement.\n",
    "\n",
    "It looks like this:\n",
    "\n",
    "```python\n",
    "import modname\n",
    "```\n",
    "\n",
    "Once we've done that, `modname` is defined as a global variable, an object of type \"module,\" from which we can then run functions and grab data defined in that module."
   ]
  },
  {
   "cell_type": "code",
   "execution_count": 1,
   "id": "82929ee4",
   "metadata": {},
   "outputs": [],
   "source": [
    "# for example, the \"random\" module\n",
    "\n",
    "import random"
   ]
  },
  {
   "cell_type": "markdown",
   "id": "4e730a65",
   "metadata": {},
   "source": [
    "# `import` is weird!\n",
    "\n",
    "1. It's not a function. So don't use parentheses after it\n",
    "2. The argument to `import` is not a filename. It's a variable -- the variable we want to define, with the module's contents.\n",
    "3. Python looks for a file with the same name as the module, plus the `.py` extension. If it finds such a file, then it loads the module into memory -- all of its functions, classes, and data definitions.\n",
    "4. Functions and data defined on the module are then available as `modname.funcname`.  The module comes first, then a `.`, then the function we want to use."
   ]
  },
  {
   "cell_type": "code",
   "execution_count": 2,
   "id": "b69b3221",
   "metadata": {},
   "outputs": [
    {
     "data": {
      "text/plain": [
       "55"
      ]
     },
     "execution_count": 2,
     "metadata": {},
     "output_type": "execute_result"
    }
   ],
   "source": [
    "import random    # this loads the \"random\" module into memory -- and yes, it's OK to do it more than once\n",
    "\n",
    "random.randint(0, 100)   # go into random, find randint (a function), and execute it with (0, 100) as args"
   ]
  },
  {
   "cell_type": "code",
   "execution_count": 3,
   "id": "31495aa7",
   "metadata": {},
   "outputs": [
    {
     "data": {
      "text/plain": [
       "50"
      ]
     },
     "execution_count": 3,
     "metadata": {},
     "output_type": "execute_result"
    }
   ],
   "source": [
    "random.randint(0, 100)"
   ]
  },
  {
   "cell_type": "markdown",
   "id": "e2f1f7f5",
   "metadata": {},
   "source": [
    "# Lots of questions about what we just did!\n",
    "\n",
    "1. What else is in the module? We know about `randint`, but what else is there?\n",
    "\n",
    "We can use the `dir` function to ask a Python object what attributes (i.e., names after a `.`) are defined on an object. It won't give us documentation, but it's a good, quick-and-dirty start."
   ]
  },
  {
   "cell_type": "code",
   "execution_count": 4,
   "id": "3826369a",
   "metadata": {},
   "outputs": [
    {
     "data": {
      "text/plain": [
       "['BPF',\n",
       " 'LOG4',\n",
       " 'NV_MAGICCONST',\n",
       " 'RECIP_BPF',\n",
       " 'Random',\n",
       " 'SG_MAGICCONST',\n",
       " 'SystemRandom',\n",
       " 'TWOPI',\n",
       " '_ONE',\n",
       " '_Sequence',\n",
       " '_Set',\n",
       " '__all__',\n",
       " '__builtins__',\n",
       " '__cached__',\n",
       " '__doc__',\n",
       " '__file__',\n",
       " '__loader__',\n",
       " '__name__',\n",
       " '__package__',\n",
       " '__spec__',\n",
       " '_accumulate',\n",
       " '_acos',\n",
       " '_bisect',\n",
       " '_ceil',\n",
       " '_cos',\n",
       " '_e',\n",
       " '_exp',\n",
       " '_floor',\n",
       " '_index',\n",
       " '_inst',\n",
       " '_isfinite',\n",
       " '_log',\n",
       " '_os',\n",
       " '_pi',\n",
       " '_random',\n",
       " '_repeat',\n",
       " '_sha512',\n",
       " '_sin',\n",
       " '_sqrt',\n",
       " '_test',\n",
       " '_test_generator',\n",
       " '_urandom',\n",
       " '_warn',\n",
       " 'betavariate',\n",
       " 'choice',\n",
       " 'choices',\n",
       " 'expovariate',\n",
       " 'gammavariate',\n",
       " 'gauss',\n",
       " 'getrandbits',\n",
       " 'getstate',\n",
       " 'lognormvariate',\n",
       " 'normalvariate',\n",
       " 'paretovariate',\n",
       " 'randbytes',\n",
       " 'randint',\n",
       " 'random',\n",
       " 'randrange',\n",
       " 'sample',\n",
       " 'seed',\n",
       " 'setstate',\n",
       " 'shuffle',\n",
       " 'triangular',\n",
       " 'uniform',\n",
       " 'vonmisesvariate',\n",
       " 'weibullvariate']"
      ]
     },
     "execution_count": 4,
     "metadata": {},
     "output_type": "execute_result"
    }
   ],
   "source": [
    "dir(random)"
   ]
  },
  {
   "cell_type": "markdown",
   "id": "d18a1828",
   "metadata": {},
   "source": [
    "2. How can we know what is data, and what is a function?\n",
    "\n",
    "Answer: You have to read the documentation, or ask the objects themselves.\n",
    "\n"
   ]
  },
  {
   "cell_type": "code",
   "execution_count": 5,
   "id": "7a93ee1d",
   "metadata": {},
   "outputs": [
    {
     "data": {
      "text/plain": [
       "method"
      ]
     },
     "execution_count": 5,
     "metadata": {},
     "output_type": "execute_result"
    }
   ],
   "source": [
    "type(random.seed)"
   ]
  },
  {
   "cell_type": "code",
   "execution_count": 6,
   "id": "7c054d72",
   "metadata": {},
   "outputs": [],
   "source": [
    "random.seed(100)"
   ]
  },
  {
   "cell_type": "markdown",
   "id": "967923ea",
   "metadata": {},
   "source": [
    "3. Where did Python load this information from?\n",
    "\n",
    "We can look at the module object that we created to find out!"
   ]
  },
  {
   "cell_type": "code",
   "execution_count": 7,
   "id": "1a5c7405",
   "metadata": {},
   "outputs": [
    {
     "data": {
      "text/plain": [
       "module"
      ]
     },
     "execution_count": 7,
     "metadata": {},
     "output_type": "execute_result"
    }
   ],
   "source": [
    "type(random)  # what kind of object was assigned to random?"
   ]
  },
  {
   "cell_type": "code",
   "execution_count": 9,
   "id": "2e9b11c3",
   "metadata": {},
   "outputs": [
    {
     "data": {
      "text/plain": [
       "'/usr/local/Cellar/python@3.11/3.11.0/Frameworks/Python.framework/Versions/3.11/lib/python3.11/random.py'"
      ]
     },
     "execution_count": 9,
     "metadata": {},
     "output_type": "execute_result"
    }
   ],
   "source": [
    "# Module objects are basically warehouses for names\n",
    "# they don't do much other than let us access names defined there.\n",
    "\n",
    "# still, the data came from a file, right? \n",
    "\n",
    "random.__file__     # this is pronounced \"random dot dunder file\" (dunder == double underscore)"
   ]
  },
  {
   "cell_type": "markdown",
   "id": "6d04356e",
   "metadata": {},
   "source": [
    "When we said `import random`, Python looked for `random.py` in a bunch of directories. When it found `random.py`, it stopped looking further.\n",
    "\n",
    "Which directories? The ones defined in `sys.path`.\n",
    "\n",
    "So...\n",
    "1. We can import `sys`\n",
    "2. Then we can ask for the value of `sys.path`, a list of strings describing directories where Python modules might be."
   ]
  },
  {
   "cell_type": "code",
   "execution_count": 10,
   "id": "225a367e",
   "metadata": {},
   "outputs": [
    {
     "data": {
      "text/plain": [
       "['/Users/reuven/Courses/Current/OReilly-2022-10Oct-PythonFirstSteps',\n",
       " '/usr/local/Cellar/python@3.11/3.11.0/Frameworks/Python.framework/Versions/3.11/lib/python311.zip',\n",
       " '/usr/local/Cellar/python@3.11/3.11.0/Frameworks/Python.framework/Versions/3.11/lib/python3.11',\n",
       " '/usr/local/Cellar/python@3.11/3.11.0/Frameworks/Python.framework/Versions/3.11/lib/python3.11/lib-dynload',\n",
       " '',\n",
       " '/usr/local/lib/python3.11/site-packages',\n",
       " '/usr/local/opt/python-tk@3.11/libexec']"
      ]
     },
     "execution_count": 10,
     "metadata": {},
     "output_type": "execute_result"
    }
   ],
   "source": [
    "import sys\n",
    "sys.path"
   ]
  },
  {
   "cell_type": "code",
   "execution_count": 11,
   "id": "f60a41b0",
   "metadata": {},
   "outputs": [
    {
     "ename": "ModuleNotFoundError",
     "evalue": "No module named 'asdfafafaffa'",
     "output_type": "error",
     "traceback": [
      "\u001b[0;31m---------------------------------------------------------------------------\u001b[0m",
      "\u001b[0;31mModuleNotFoundError\u001b[0m                       Traceback (most recent call last)",
      "Cell \u001b[0;32mIn [11], line 1\u001b[0m\n\u001b[0;32m----> 1\u001b[0m \u001b[38;5;28;01mimport\u001b[39;00m \u001b[38;5;21;01masdfafafaffa\u001b[39;00m\n",
      "\u001b[0;31mModuleNotFoundError\u001b[0m: No module named 'asdfafafaffa'"
     ]
    }
   ],
   "source": [
    "import asdfafafaffa\n",
    "\n"
   ]
  },
  {
   "cell_type": "markdown",
   "id": "769dd4ce",
   "metadata": {},
   "source": [
    "# Exercise: Comparing random numbers\n",
    "\n",
    "1. Import the `random` module.\n",
    "2. Use the `random.randint` function in the module to generate two random numbers between 0 and 100.\n",
    "3. Tell the user which of the numbers comes before the other -- or that they're the same (if they are)."
   ]
  },
  {
   "cell_type": "code",
   "execution_count": 22,
   "id": "84ecf27a",
   "metadata": {},
   "outputs": [
    {
     "name": "stdout",
     "output_type": "stream",
     "text": [
      "82 > 26\n"
     ]
    }
   ],
   "source": [
    "import random  \n",
    "\n",
    "num1 = random.randint(0, 100)   # call random.randint(0, 100) and assign its results to num1\n",
    "num2 = random.randint(0, 100)   # call random.randint(0, 100) and assign its results to num2\n",
    "\n",
    "if num1 < num2:\n",
    "    print(f'{num1} < {num2}')\n",
    "elif num1 > num2:\n",
    "    print(f'{num1} > {num2}')\n",
    "else:\n",
    "    print(f'{num1} == {num2}')\n"
   ]
  },
  {
   "cell_type": "code",
   "execution_count": 23,
   "id": "6252feb3",
   "metadata": {},
   "outputs": [
    {
     "ename": "NameError",
     "evalue": "name 'randint' is not defined",
     "output_type": "error",
     "traceback": [
      "\u001b[0;31m---------------------------------------------------------------------------\u001b[0m",
      "\u001b[0;31mNameError\u001b[0m                                 Traceback (most recent call last)",
      "Cell \u001b[0;32mIn [23], line 3\u001b[0m\n\u001b[1;32m      1\u001b[0m \u001b[38;5;66;03m# what if I try to call randint without mentioning \"random\"?\u001b[39;00m\n\u001b[0;32m----> 3\u001b[0m x \u001b[38;5;241m=\u001b[39m \u001b[43mrandint\u001b[49m(\u001b[38;5;241m0\u001b[39m, \u001b[38;5;241m100\u001b[39m)\n",
      "\u001b[0;31mNameError\u001b[0m: name 'randint' is not defined"
     ]
    }
   ],
   "source": [
    "# what if I try to call randint without mentioning \"random\"?\n",
    "\n",
    "x = randint(0, 100)"
   ]
  },
  {
   "cell_type": "code",
   "execution_count": 24,
   "id": "ff100c52",
   "metadata": {},
   "outputs": [],
   "source": [
    "# if I'm going to use randint a *lot* in my program, it's a pain to always have to say\n",
    "# random.randint. \n",
    "\n",
    "# I can get around that by telling the import system: Yes, import the module. But define the function\n",
    "# (randint) as a global variable, not inside of the \"random\" module's namespace\n",
    "\n",
    "from random import randint   # this means: define randint as a global name here, so I don't have to use random"
   ]
  },
  {
   "cell_type": "code",
   "execution_count": 25,
   "id": "b61699ed",
   "metadata": {},
   "outputs": [
    {
     "data": {
      "text/plain": [
       "42"
      ]
     },
     "execution_count": 25,
     "metadata": {},
     "output_type": "execute_result"
    }
   ],
   "source": [
    "randint(0, 100)"
   ]
  },
  {
   "cell_type": "markdown",
   "id": "53c12be2",
   "metadata": {},
   "source": [
    "# Options for importing\n",
    "\n",
    "1. `import MODNAME` -- then `MODNAME` is defined as a variable, and we can access its functionality via `MODNAME`.\n",
    "2. `from MODNAME import THING` -- then `THING` is defined as a variable, and we don't need to go through `MODNAME` for it. Note that this does *not* define `MODNAME` as a global variable!\n",
    "3. `import MODNAME as ALIAS` -- then we don't define `MODNAME` but rather `ALIAS`.  This is good if we might have something else with the same name, or if we want a shorter name. \n",
    "4. `from MODNAME import THING as T` -- then `T` is a global variable that refers to `MODNAME.THING`, but we don't define either `MODNAME` or `THING`."
   ]
  },
  {
   "cell_type": "markdown",
   "id": "6c0cd0c0",
   "metadata": {},
   "source": [
    "# Exercise: Circle area\n",
    "\n",
    "1. Define a function, `circle_area`, that takes a single argument - the length of a circle's radius.\n",
    "2. The function should return the area of the circle, which can be calculated as π * r * r.\n",
    "3. Use the definition of π that's defined in `math.pi`.\n",
    "4. Test that the function works."
   ]
  },
  {
   "cell_type": "code",
   "execution_count": 26,
   "id": "c15ea482",
   "metadata": {},
   "outputs": [
    {
     "data": {
      "text/plain": [
       "314.1592653589793"
      ]
     },
     "execution_count": 26,
     "metadata": {},
     "output_type": "execute_result"
    }
   ],
   "source": [
    "import math\n",
    "\n",
    "def circle_area(r):\n",
    "    return math.pi * r * r\n",
    "\n",
    "circle_area(10)"
   ]
  },
  {
   "cell_type": "code",
   "execution_count": 27,
   "id": "dc33c79c",
   "metadata": {},
   "outputs": [
    {
     "data": {
      "text/plain": [
       "254.46900494077323"
      ]
     },
     "execution_count": 27,
     "metadata": {},
     "output_type": "execute_result"
    }
   ],
   "source": [
    "from math import pi    # this doesn't define math, but does define pi\n",
    "\n",
    "def circle_area(r):\n",
    "    return pi * r * r\n",
    "\n",
    "circle_area(9)"
   ]
  },
  {
   "cell_type": "markdown",
   "id": "bd89208b",
   "metadata": {},
   "source": [
    "# The type of `import` you should *not* use\n",
    "\n",
    "You will sometimes see code that looks like this:\n",
    "\n",
    "    from MODULE import *\n",
    "    \n",
    "This means that Python should not only load the module into memory, but also define all of its names as global variables in our namespace.\n",
    "\n",
    "This is a bad idea, for several reasons:\n",
    "\n",
    "1. You can't know in advance what names are defined in the module. What if you are using the same variable name? Now you have a \"namespace collision.\"\n",
    "2. From an aesthetic perspective, it's nice to have things separate. By using `from .. import *`, you're mushing everything together.\n",
    "\n"
   ]
  },
  {
   "cell_type": "markdown",
   "id": "4693a1be",
   "metadata": {},
   "source": [
    "# Next up\n",
    "\n",
    "1. Python standard library\n",
    "2. Defining our own (simple) module\n",
    "\n"
   ]
  },
  {
   "cell_type": "markdown",
   "id": "65c88f6b",
   "metadata": {},
   "source": [
    "# Python standard library\n",
    "\n",
    "This is the list of modules that comes with Python. Yes, you can write modules. And yes, you can download and install modules. But before you do either of those, it's useful to know what comes with Python in the standard library.\n",
    "\n",
    "Note: The standard library is **HUGE**. No one, but no one, remembers everything in it.\n",
    "\n",
    "Python documentation is here: https://docs.python.org/3/\n",
    "\n",
    "If you click on \"standard library reference,\" you'll see a list of the modules in the standard library."
   ]
  },
  {
   "cell_type": "markdown",
   "id": "845ebf96",
   "metadata": {},
   "source": [
    "# Exercise: Directory file sizes\n",
    "\n",
    "1. Write a function, `all_file_sizes`, which takes a single argument, a string with a directory name.\n",
    "2. Use the `os.listdir` function to get a list of the files in that directory.  This function returns a list of strings, all filenames in that directory.\n",
    "3. Use a `for` loop on each element (filename) in that list.  Get the file's size by running `os.stat` on the filename.  This function returns a special data structure; you want the `.st_size` attribute from it.\n",
    "4. Print the filename and its size.\n",
    "\n",
    "Outline:\n",
    "- The function gets a directory name.\n",
    "- Use `os.listdir` to get a list of files in that directory.\n",
    "- Go through each file, and run `os.stat` (a function in `os`) on it\n",
    "- This will return a special data structure with stat info.  Use `.st_size` on it to get the size.\n",
    "- Print the filename + size."
   ]
  },
  {
   "cell_type": "code",
   "execution_count": null,
   "id": "f2dc859c",
   "metadata": {},
   "outputs": [],
   "source": []
  }
 ],
 "metadata": {
  "kernelspec": {
   "display_name": "Python 3 (ipykernel)",
   "language": "python",
   "name": "python3"
  },
  "language_info": {
   "codemirror_mode": {
    "name": "ipython",
    "version": 3
   },
   "file_extension": ".py",
   "mimetype": "text/x-python",
   "name": "python",
   "nbconvert_exporter": "python",
   "pygments_lexer": "ipython3",
   "version": "3.11.0"
  }
 },
 "nbformat": 4,
 "nbformat_minor": 5
}
