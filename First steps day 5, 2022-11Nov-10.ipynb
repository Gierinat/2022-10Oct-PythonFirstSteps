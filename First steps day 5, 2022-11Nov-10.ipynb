{
 "cells": [
  {
   "cell_type": "markdown",
   "id": "6e6e61d5",
   "metadata": {},
   "source": [
    "# Agenda: Week 5 (Modules and packages)\n",
    "\n",
    "1. Review last week's challenge\n",
    "2. Intro to modules\n",
    "    - What are they?\n",
    "    - How can we use them?\n",
    "3. Using `import`\n",
    "    - Different forms of `import`\n",
    "4. Python's standard library    \n",
    "5. Develop our own (simple) module\n",
    "6. Modules vs. packages\n",
    "7. PyPI (the Python Package Index)\n",
    "    - Using `pip`\n",
    "    - Installing third-party modules\n",
    "    - Using third-party modules\n",
    "8. What's next? Where do we go from here?    "
   ]
  },
  {
   "cell_type": "markdown",
   "id": "f08952f1",
   "metadata": {},
   "source": [
    "# Modules\n",
    "\n",
    "I've probably mentioned, several times, the \"DRY rule\" of programming, namely \"Don't repeat yourself.\"\n",
    "\n",
    "- If I have the same code, several lines in a row, then I can apply the DRY rule and replace those lines with a loop.\n",
    "- If I have the same code, in several places in my program, then I can apply the DRY rule and replace those lines with a function.\n",
    "\n",
    "If the same code is repeated, then:\n",
    "- You have more to remember\n",
    "- When (not if!) you need to debug/fix/modify the code, you have to do it in several places\n",
    "\n",
    "By \"DRYing up your code,\" you are saving yourself work and cognitive load (having to remember).\n",
    "\n",
    "- If I have the same code, in several different programs, then I can apply the DRY rule and put that code in a *library*. In Python, we call our libraries \"modules.\""
   ]
  },
  {
   "cell_type": "markdown",
   "id": "5e4cfded",
   "metadata": {},
   "source": [
    "# Using modules\n",
    "\n",
    "Python comes with many modules in its \"standard library.\" If we want to use functionality in one of those modules, then we need to use the `import` statement.\n",
    "\n",
    "It looks like this:\n",
    "\n",
    "```python\n",
    "import modname\n",
    "```\n",
    "\n",
    "Once we've done that, `modname` is defined as a global variable, an object of type \"module,\" from which we can then run functions and grab data defined in that module."
   ]
  },
  {
   "cell_type": "code",
   "execution_count": 1,
   "id": "291a89e2",
   "metadata": {},
   "outputs": [],
   "source": [
    "# for example, the \"random\" module\n",
    "\n",
    "import random"
   ]
  },
  {
   "cell_type": "markdown",
   "id": "1edc689f",
   "metadata": {},
   "source": [
    "# `import` is weird!\n",
    "\n",
    "1. It's not a function. So don't use parentheses after it\n",
    "2. The argument to `import` is not a filename. It's a variable -- the variable we want to define, with the module's contents.\n",
    "3. Python looks for a file with the same name as the module, plus the `.py` extension. If it finds such a file, then it loads the module into memory -- all of its functions, classes, and data definitions.\n",
    "4. Functions and data defined on the module are then available as `modname.funcname`.  The module comes first, then a `.`, then the function we want to use."
   ]
  },
  {
   "cell_type": "code",
   "execution_count": 2,
   "id": "b283b27e",
   "metadata": {},
   "outputs": [
    {
     "data": {
      "text/plain": [
       "55"
      ]
     },
     "execution_count": 2,
     "metadata": {},
     "output_type": "execute_result"
    }
   ],
   "source": [
    "import random    # this loads the \"random\" module into memory -- and yes, it's OK to do it more than once\n",
    "\n",
    "random.randint(0, 100)   # go into random, find randint (a function), and execute it with (0, 100) as args"
   ]
  },
  {
   "cell_type": "code",
   "execution_count": 3,
   "id": "67ed568e",
   "metadata": {},
   "outputs": [
    {
     "data": {
      "text/plain": [
       "50"
      ]
     },
     "execution_count": 3,
     "metadata": {},
     "output_type": "execute_result"
    }
   ],
   "source": [
    "random.randint(0, 100)"
   ]
  },
  {
   "cell_type": "markdown",
   "id": "34553b9f",
   "metadata": {},
   "source": [
    "# Lots of questions about what we just did!\n",
    "\n",
    "1. What else is in the module? We know about `randint`, but what else is there?\n",
    "\n",
    "We can use the `dir` function to ask a Python object what attributes (i.e., names after a `.`) are defined on an object. It won't give us documentation, but it's a good, quick-and-dirty start."
   ]
  },
  {
   "cell_type": "code",
   "execution_count": 4,
   "id": "b048853d",
   "metadata": {},
   "outputs": [
    {
     "data": {
      "text/plain": [
       "['BPF',\n",
       " 'LOG4',\n",
       " 'NV_MAGICCONST',\n",
       " 'RECIP_BPF',\n",
       " 'Random',\n",
       " 'SG_MAGICCONST',\n",
       " 'SystemRandom',\n",
       " 'TWOPI',\n",
       " '_ONE',\n",
       " '_Sequence',\n",
       " '_Set',\n",
       " '__all__',\n",
       " '__builtins__',\n",
       " '__cached__',\n",
       " '__doc__',\n",
       " '__file__',\n",
       " '__loader__',\n",
       " '__name__',\n",
       " '__package__',\n",
       " '__spec__',\n",
       " '_accumulate',\n",
       " '_acos',\n",
       " '_bisect',\n",
       " '_ceil',\n",
       " '_cos',\n",
       " '_e',\n",
       " '_exp',\n",
       " '_floor',\n",
       " '_index',\n",
       " '_inst',\n",
       " '_isfinite',\n",
       " '_log',\n",
       " '_os',\n",
       " '_pi',\n",
       " '_random',\n",
       " '_repeat',\n",
       " '_sha512',\n",
       " '_sin',\n",
       " '_sqrt',\n",
       " '_test',\n",
       " '_test_generator',\n",
       " '_urandom',\n",
       " '_warn',\n",
       " 'betavariate',\n",
       " 'choice',\n",
       " 'choices',\n",
       " 'expovariate',\n",
       " 'gammavariate',\n",
       " 'gauss',\n",
       " 'getrandbits',\n",
       " 'getstate',\n",
       " 'lognormvariate',\n",
       " 'normalvariate',\n",
       " 'paretovariate',\n",
       " 'randbytes',\n",
       " 'randint',\n",
       " 'random',\n",
       " 'randrange',\n",
       " 'sample',\n",
       " 'seed',\n",
       " 'setstate',\n",
       " 'shuffle',\n",
       " 'triangular',\n",
       " 'uniform',\n",
       " 'vonmisesvariate',\n",
       " 'weibullvariate']"
      ]
     },
     "execution_count": 4,
     "metadata": {},
     "output_type": "execute_result"
    }
   ],
   "source": [
    "dir(random)"
   ]
  },
  {
   "cell_type": "markdown",
   "id": "9a51959c",
   "metadata": {},
   "source": [
    "2. How can we know what is data, and what is a function?\n",
    "\n",
    "Answer: You have to read the documentation, or ask the objects themselves.\n",
    "\n"
   ]
  },
  {
   "cell_type": "code",
   "execution_count": 5,
   "id": "915056a5",
   "metadata": {},
   "outputs": [
    {
     "data": {
      "text/plain": [
       "method"
      ]
     },
     "execution_count": 5,
     "metadata": {},
     "output_type": "execute_result"
    }
   ],
   "source": [
    "type(random.seed)"
   ]
  },
  {
   "cell_type": "code",
   "execution_count": 6,
   "id": "6db7009d",
   "metadata": {},
   "outputs": [],
   "source": [
    "random.seed(100)"
   ]
  },
  {
   "cell_type": "markdown",
   "id": "88fc7bba",
   "metadata": {},
   "source": [
    "3. Where did Python load this information from?\n",
    "\n",
    "We can look at the module object that we created to find out!"
   ]
  },
  {
   "cell_type": "code",
   "execution_count": 7,
   "id": "11539581",
   "metadata": {},
   "outputs": [
    {
     "data": {
      "text/plain": [
       "module"
      ]
     },
     "execution_count": 7,
     "metadata": {},
     "output_type": "execute_result"
    }
   ],
   "source": [
    "type(random)  # what kind of object was assigned to random?"
   ]
  },
  {
   "cell_type": "code",
   "execution_count": 9,
   "id": "b1c9e3a9",
   "metadata": {},
   "outputs": [
    {
     "data": {
      "text/plain": [
       "'/usr/local/Cellar/python@3.11/3.11.0/Frameworks/Python.framework/Versions/3.11/lib/python3.11/random.py'"
      ]
     },
     "execution_count": 9,
     "metadata": {},
     "output_type": "execute_result"
    }
   ],
   "source": [
    "# Module objects are basically warehouses for names\n",
    "# they don't do much other than let us access names defined there.\n",
    "\n",
    "# still, the data came from a file, right? \n",
    "\n",
    "random.__file__     # this is pronounced \"random dot dunder file\" (dunder == double underscore)"
   ]
  },
  {
   "cell_type": "markdown",
   "id": "797637d7",
   "metadata": {},
   "source": [
    "When we said `import random`, Python looked for `random.py` in a bunch of directories. When it found `random.py`, it stopped looking further.\n",
    "\n",
    "Which directories? The ones defined in `sys.path`.\n",
    "\n",
    "So...\n",
    "1. We can import `sys`\n",
    "2. Then we can ask for the value of `sys.path`, a list of strings describing directories where Python modules might be."
   ]
  },
  {
   "cell_type": "code",
   "execution_count": 10,
   "id": "22a45282",
   "metadata": {},
   "outputs": [
    {
     "data": {
      "text/plain": [
       "['/Users/reuven/Courses/Current/OReilly-2022-10Oct-PythonFirstSteps',\n",
       " '/usr/local/Cellar/python@3.11/3.11.0/Frameworks/Python.framework/Versions/3.11/lib/python311.zip',\n",
       " '/usr/local/Cellar/python@3.11/3.11.0/Frameworks/Python.framework/Versions/3.11/lib/python3.11',\n",
       " '/usr/local/Cellar/python@3.11/3.11.0/Frameworks/Python.framework/Versions/3.11/lib/python3.11/lib-dynload',\n",
       " '',\n",
       " '/usr/local/lib/python3.11/site-packages',\n",
       " '/usr/local/opt/python-tk@3.11/libexec']"
      ]
     },
     "execution_count": 10,
     "metadata": {},
     "output_type": "execute_result"
    }
   ],
   "source": [
    "import sys\n",
    "sys.path"
   ]
  },
  {
   "cell_type": "code",
   "execution_count": null,
   "id": "345abd7a",
   "metadata": {},
   "outputs": [],
   "source": []
  }
 ],
 "metadata": {
  "kernelspec": {
   "display_name": "Python 3 (ipykernel)",
   "language": "python",
   "name": "python3"
  },
  "language_info": {
   "codemirror_mode": {
    "name": "ipython",
    "version": 3
   },
   "file_extension": ".py",
   "mimetype": "text/x-python",
   "name": "python",
   "nbconvert_exporter": "python",
   "pygments_lexer": "ipython3",
   "version": "3.11.0"
  }
 },
 "nbformat": 4,
 "nbformat_minor": 5
}
