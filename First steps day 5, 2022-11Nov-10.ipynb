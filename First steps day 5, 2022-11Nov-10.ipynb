{
 "cells": [
  {
   "cell_type": "markdown",
   "id": "a9ca9565",
   "metadata": {},
   "source": [
    "# Agenda: Week 5 (Modules and packages)\n",
    "\n",
    "1. Review last week's challenge\n",
    "2. Intro to modules\n",
    "    - What are they?\n",
    "    - How can we use them?\n",
    "3. Using `import`\n",
    "    - Different forms of `import`\n",
    "4. Importing modules from the standard library    "
   ]
  },
  {
   "cell_type": "code",
   "execution_count": null,
   "id": "5ad8ff59",
   "metadata": {},
   "outputs": [],
   "source": []
  }
 ],
 "metadata": {
  "kernelspec": {
   "display_name": "Python 3 (ipykernel)",
   "language": "python",
   "name": "python3"
  },
  "language_info": {
   "codemirror_mode": {
    "name": "ipython",
    "version": 3
   },
   "file_extension": ".py",
   "mimetype": "text/x-python",
   "name": "python",
   "nbconvert_exporter": "python",
   "pygments_lexer": "ipython3",
   "version": "3.11.0"
  }
 },
 "nbformat": 4,
 "nbformat_minor": 5
}
