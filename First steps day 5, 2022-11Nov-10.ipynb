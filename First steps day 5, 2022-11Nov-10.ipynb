{
 "cells": [
  {
   "cell_type": "markdown",
   "id": "b8223205",
   "metadata": {},
   "source": [
    "# Agenda: Week 5 (Modules and packages)\n",
    "\n",
    "1. Review last week's challenge\n",
    "2. Intro to modules\n",
    "    - What are they?\n",
    "    - How can we use them?\n",
    "3. Using `import`\n",
    "    - Different forms of `import`\n",
    "4. Python's standard library    \n",
    "5. Develop our own (simple) module\n",
    "6. Modules vs. packages\n",
    "7. PyPI (the Python Package Index)\n",
    "    - Using `pip`\n",
    "    - Installing third-party modules\n",
    "    - Using third-party modules\n",
    "8. What's next? Where do we go from here?    "
   ]
  },
  {
   "cell_type": "markdown",
   "id": "cc4e2c77",
   "metadata": {},
   "source": [
    "# Modules\n",
    "\n",
    "I've probably mentioned, several times, the \"DRY rule\" of programming, namely \"Don't repeat yourself.\"\n",
    "\n",
    "- If I have the same code, several lines in a row, then I can apply the DRY rule and replace those lines with a loop.\n",
    "- If I have the same code, in several places in my program, then I can apply the DRY rule and replace those lines with a function.\n",
    "\n",
    "If the same code is repeated, then:\n",
    "- You have more to remember\n",
    "- When (not if!) you need to debug/fix/modify the code, you have to do it in several places\n",
    "\n",
    "By \"DRYing up your code,\" you are saving yourself work and cognitive load (having to remember).\n",
    "\n",
    "- If I have the same code, in several different programs, then I can apply the DRY rule and put that code in a *library*. In Python, we call our libraries \"modules.\""
   ]
  },
  {
   "cell_type": "markdown",
   "id": "8654b35f",
   "metadata": {},
   "source": [
    "# Using modules\n",
    "\n",
    "Python comes with many modules in its \"standard library.\" If we want to use functionality in one of those modules, then we need to use the `import` statement.\n",
    "\n",
    "It looks like this:\n",
    "\n",
    "```python\n",
    "import modname\n",
    "```\n",
    "\n",
    "Once we've done that, `modname` is defined as a global variable, an object of type \"module,\" from which we can then run functions and grab data defined in that module."
   ]
  },
  {
   "cell_type": "code",
   "execution_count": 1,
   "id": "32bed355",
   "metadata": {},
   "outputs": [],
   "source": [
    "# for example, the \"random\" module\n",
    "\n",
    "import random"
   ]
  },
  {
   "cell_type": "markdown",
   "id": "0b56b60a",
   "metadata": {},
   "source": [
    "# `import` is weird!\n",
    "\n",
    "1. It's not a function. So don't use parentheses after it\n",
    "2. The argument to `import` is not a filename. It's a variable -- the variable we want to define, with the module's contents."
   ]
  }
 ],
 "metadata": {
  "kernelspec": {
   "display_name": "Python 3 (ipykernel)",
   "language": "python",
   "name": "python3"
  },
  "language_info": {
   "codemirror_mode": {
    "name": "ipython",
    "version": 3
   },
   "file_extension": ".py",
   "mimetype": "text/x-python",
   "name": "python",
   "nbconvert_exporter": "python",
   "pygments_lexer": "ipython3",
   "version": "3.11.0"
  }
 },
 "nbformat": 4,
 "nbformat_minor": 5
}
