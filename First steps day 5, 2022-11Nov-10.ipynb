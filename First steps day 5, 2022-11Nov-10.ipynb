{
 "cells": [
  {
   "cell_type": "markdown",
   "id": "e0c988e5",
   "metadata": {},
   "source": [
    "# Agenda: Week 5 (Modules and packages)\n",
    "\n",
    "1. Review last week's challenge\n",
    "2. Intro to modules\n",
    "    - What are they?\n",
    "    - How can we use them?\n",
    "3. Using `import`\n",
    "    - Different forms of `import`\n",
    "4. Python's standard library    \n",
    "5. Develop our own (simple) module\n",
    "6. Modules vs. packages\n",
    "7. PyPI (the Python Package Index)\n",
    "    - Using `pip`\n",
    "    - Installing third-party modules\n",
    "    - Using third-party modules\n",
    "8. What's next? Where do we go from here?    "
   ]
  },
  {
   "cell_type": "markdown",
   "id": "936df83a",
   "metadata": {},
   "source": [
    "# Modules\n",
    "\n",
    "I've probably mentioned, several times, the \"DRY rule\" of programming, namely \"Don't repeat yourself.\"\n",
    "\n",
    "- If I have the same code, several lines in a row, then I can apply the DRY rule and replace those lines with a loop.\n",
    "- If I have the same code, in several places in my program, then I can apply the DRY rule and replace those lines with a function.\n",
    "\n",
    "If the same code is repeated, then:\n",
    "- You have more to remember\n",
    "- When (not if!) you need to debug/fix/modify the code, you have to do it in several places\n",
    "\n",
    "By \"DRYing up your code,\" you are saving yourself work and cognitive load (having to remember).\n",
    "\n",
    "- If I have the same code, in several different programs, then I can apply the DRY rule and put that code in a *library*. In Python, we call our libraries \"modules.\""
   ]
  },
  {
   "cell_type": "markdown",
   "id": "80c1fc88",
   "metadata": {},
   "source": [
    "# Using modules\n",
    "\n",
    "Python comes with many modules in its \"standard library.\" If we want to use functionality in one of those modules, then we need to use the `import` statement.\n",
    "\n",
    "It looks like this:\n",
    "\n",
    "```python\n",
    "import modname\n",
    "```\n",
    "\n",
    "Once we've done that, `modname` is defined as a global variable, an object of type \"module,\" from which we can then run functions and grab data defined in that module."
   ]
  },
  {
   "cell_type": "code",
   "execution_count": 1,
   "id": "46f92c5d",
   "metadata": {},
   "outputs": [],
   "source": [
    "# for example, the \"random\" module\n",
    "\n",
    "import random"
   ]
  },
  {
   "cell_type": "markdown",
   "id": "b06a9146",
   "metadata": {},
   "source": [
    "# `import` is weird!\n",
    "\n",
    "1. It's not a function. So don't use parentheses after it\n",
    "2. The argument to `import` is not a filename. It's a variable -- the variable we want to define, with the module's contents.\n",
    "3. Python looks for a file with the same name as the module, plus the `.py` extension. If it finds such a file, then it loads the module into memory -- all of its functions, classes, and data definitions.\n",
    "4. Functions and data defined on the module are then available as `modname.funcname`.  The module comes first, then a `.`, then the function we want to use."
   ]
  },
  {
   "cell_type": "code",
   "execution_count": 2,
   "id": "8426d65c",
   "metadata": {},
   "outputs": [
    {
     "data": {
      "text/plain": [
       "55"
      ]
     },
     "execution_count": 2,
     "metadata": {},
     "output_type": "execute_result"
    }
   ],
   "source": [
    "import random    # this loads the \"random\" module into memory -- and yes, it's OK to do it more than once\n",
    "\n",
    "random.randint(0, 100)   # go into random, find randint (a function), and execute it with (0, 100) as args"
   ]
  },
  {
   "cell_type": "code",
   "execution_count": 3,
   "id": "08277628",
   "metadata": {},
   "outputs": [
    {
     "data": {
      "text/plain": [
       "50"
      ]
     },
     "execution_count": 3,
     "metadata": {},
     "output_type": "execute_result"
    }
   ],
   "source": [
    "random.randint(0, 100)"
   ]
  },
  {
   "cell_type": "markdown",
   "id": "9323a801",
   "metadata": {},
   "source": [
    "# Lots of questions about what we just did!\n",
    "\n",
    "1. What else is in the module? We know about `randint`, but what else is there?\n",
    "\n",
    "We can use the `dir` function to ask a Python object what attributes (i.e., names after a `.`) are defined on an object. It won't give us documentation, but it's a good, quick-and-dirty start."
   ]
  },
  {
   "cell_type": "code",
   "execution_count": 4,
   "id": "20b641a1",
   "metadata": {},
   "outputs": [
    {
     "data": {
      "text/plain": [
       "['BPF',\n",
       " 'LOG4',\n",
       " 'NV_MAGICCONST',\n",
       " 'RECIP_BPF',\n",
       " 'Random',\n",
       " 'SG_MAGICCONST',\n",
       " 'SystemRandom',\n",
       " 'TWOPI',\n",
       " '_ONE',\n",
       " '_Sequence',\n",
       " '_Set',\n",
       " '__all__',\n",
       " '__builtins__',\n",
       " '__cached__',\n",
       " '__doc__',\n",
       " '__file__',\n",
       " '__loader__',\n",
       " '__name__',\n",
       " '__package__',\n",
       " '__spec__',\n",
       " '_accumulate',\n",
       " '_acos',\n",
       " '_bisect',\n",
       " '_ceil',\n",
       " '_cos',\n",
       " '_e',\n",
       " '_exp',\n",
       " '_floor',\n",
       " '_index',\n",
       " '_inst',\n",
       " '_isfinite',\n",
       " '_log',\n",
       " '_os',\n",
       " '_pi',\n",
       " '_random',\n",
       " '_repeat',\n",
       " '_sha512',\n",
       " '_sin',\n",
       " '_sqrt',\n",
       " '_test',\n",
       " '_test_generator',\n",
       " '_urandom',\n",
       " '_warn',\n",
       " 'betavariate',\n",
       " 'choice',\n",
       " 'choices',\n",
       " 'expovariate',\n",
       " 'gammavariate',\n",
       " 'gauss',\n",
       " 'getrandbits',\n",
       " 'getstate',\n",
       " 'lognormvariate',\n",
       " 'normalvariate',\n",
       " 'paretovariate',\n",
       " 'randbytes',\n",
       " 'randint',\n",
       " 'random',\n",
       " 'randrange',\n",
       " 'sample',\n",
       " 'seed',\n",
       " 'setstate',\n",
       " 'shuffle',\n",
       " 'triangular',\n",
       " 'uniform',\n",
       " 'vonmisesvariate',\n",
       " 'weibullvariate']"
      ]
     },
     "execution_count": 4,
     "metadata": {},
     "output_type": "execute_result"
    }
   ],
   "source": [
    "dir(random)"
   ]
  },
  {
   "cell_type": "markdown",
   "id": "9c6b342c",
   "metadata": {},
   "source": [
    "2. How can we know what is data, and what is a function?\n",
    "\n",
    "Answer: You have to read the documentation, or ask the objects themselves.\n",
    "\n"
   ]
  },
  {
   "cell_type": "code",
   "execution_count": 5,
   "id": "bc00b8da",
   "metadata": {},
   "outputs": [
    {
     "data": {
      "text/plain": [
       "method"
      ]
     },
     "execution_count": 5,
     "metadata": {},
     "output_type": "execute_result"
    }
   ],
   "source": [
    "type(random.seed)"
   ]
  },
  {
   "cell_type": "code",
   "execution_count": 6,
   "id": "b5e078df",
   "metadata": {},
   "outputs": [],
   "source": [
    "random.seed(100)"
   ]
  },
  {
   "cell_type": "markdown",
   "id": "20440ce7",
   "metadata": {},
   "source": [
    "3. Where did Python load this information from?\n",
    "\n",
    "We can look at the module object that we created to find out!"
   ]
  },
  {
   "cell_type": "code",
   "execution_count": 7,
   "id": "35fe5c75",
   "metadata": {},
   "outputs": [
    {
     "data": {
      "text/plain": [
       "module"
      ]
     },
     "execution_count": 7,
     "metadata": {},
     "output_type": "execute_result"
    }
   ],
   "source": [
    "type(random)  # what kind of object was assigned to random?"
   ]
  },
  {
   "cell_type": "code",
   "execution_count": 9,
   "id": "0fd38800",
   "metadata": {},
   "outputs": [
    {
     "data": {
      "text/plain": [
       "'/usr/local/Cellar/python@3.11/3.11.0/Frameworks/Python.framework/Versions/3.11/lib/python3.11/random.py'"
      ]
     },
     "execution_count": 9,
     "metadata": {},
     "output_type": "execute_result"
    }
   ],
   "source": [
    "# Module objects are basically warehouses for names\n",
    "# they don't do much other than let us access names defined there.\n",
    "\n",
    "# still, the data came from a file, right? \n",
    "\n",
    "random.__file__     # this is pronounced \"random dot dunder file\" (dunder == double underscore)"
   ]
  },
  {
   "cell_type": "markdown",
   "id": "f1ab935a",
   "metadata": {},
   "source": [
    "When we said `import random`, Python looked for `random.py` in a bunch of directories. When it found `random.py`, it stopped looking further.\n",
    "\n",
    "Which directories? The ones defined in `sys.path`.\n",
    "\n",
    "So...\n",
    "1. We can import `sys`\n",
    "2. Then we can ask for the value of `sys.path`, a list of strings describing directories where Python modules might be."
   ]
  },
  {
   "cell_type": "code",
   "execution_count": 10,
   "id": "59e79a11",
   "metadata": {},
   "outputs": [
    {
     "data": {
      "text/plain": [
       "['/Users/reuven/Courses/Current/OReilly-2022-10Oct-PythonFirstSteps',\n",
       " '/usr/local/Cellar/python@3.11/3.11.0/Frameworks/Python.framework/Versions/3.11/lib/python311.zip',\n",
       " '/usr/local/Cellar/python@3.11/3.11.0/Frameworks/Python.framework/Versions/3.11/lib/python3.11',\n",
       " '/usr/local/Cellar/python@3.11/3.11.0/Frameworks/Python.framework/Versions/3.11/lib/python3.11/lib-dynload',\n",
       " '',\n",
       " '/usr/local/lib/python3.11/site-packages',\n",
       " '/usr/local/opt/python-tk@3.11/libexec']"
      ]
     },
     "execution_count": 10,
     "metadata": {},
     "output_type": "execute_result"
    }
   ],
   "source": [
    "import sys\n",
    "sys.path"
   ]
  },
  {
   "cell_type": "code",
   "execution_count": 11,
   "id": "aa6cd40f",
   "metadata": {},
   "outputs": [
    {
     "ename": "ModuleNotFoundError",
     "evalue": "No module named 'asdfafafaffa'",
     "output_type": "error",
     "traceback": [
      "\u001b[0;31m---------------------------------------------------------------------------\u001b[0m",
      "\u001b[0;31mModuleNotFoundError\u001b[0m                       Traceback (most recent call last)",
      "Cell \u001b[0;32mIn [11], line 1\u001b[0m\n\u001b[0;32m----> 1\u001b[0m \u001b[38;5;28;01mimport\u001b[39;00m \u001b[38;5;21;01masdfafafaffa\u001b[39;00m\n",
      "\u001b[0;31mModuleNotFoundError\u001b[0m: No module named 'asdfafafaffa'"
     ]
    }
   ],
   "source": [
    "import asdfafafaffa\n",
    "\n"
   ]
  },
  {
   "cell_type": "markdown",
   "id": "3a080e24",
   "metadata": {},
   "source": [
    "# Exercise: Comparing random numbers\n",
    "\n",
    "1. Import the `random` module.\n",
    "2. Use the `random.randint` function in the module to generate two random numbers between 0 and 100.\n",
    "3. Tell the user which of the numbers comes before the other -- or that they're the same (if they are)."
   ]
  },
  {
   "cell_type": "code",
   "execution_count": 22,
   "id": "64dbe02c",
   "metadata": {},
   "outputs": [
    {
     "name": "stdout",
     "output_type": "stream",
     "text": [
      "82 > 26\n"
     ]
    }
   ],
   "source": [
    "import random  \n",
    "\n",
    "num1 = random.randint(0, 100)   # call random.randint(0, 100) and assign its results to num1\n",
    "num2 = random.randint(0, 100)   # call random.randint(0, 100) and assign its results to num2\n",
    "\n",
    "if num1 < num2:\n",
    "    print(f'{num1} < {num2}')\n",
    "elif num1 > num2:\n",
    "    print(f'{num1} > {num2}')\n",
    "else:\n",
    "    print(f'{num1} == {num2}')\n"
   ]
  },
  {
   "cell_type": "code",
   "execution_count": 23,
   "id": "8b627d90",
   "metadata": {},
   "outputs": [
    {
     "ename": "NameError",
     "evalue": "name 'randint' is not defined",
     "output_type": "error",
     "traceback": [
      "\u001b[0;31m---------------------------------------------------------------------------\u001b[0m",
      "\u001b[0;31mNameError\u001b[0m                                 Traceback (most recent call last)",
      "Cell \u001b[0;32mIn [23], line 3\u001b[0m\n\u001b[1;32m      1\u001b[0m \u001b[38;5;66;03m# what if I try to call randint without mentioning \"random\"?\u001b[39;00m\n\u001b[0;32m----> 3\u001b[0m x \u001b[38;5;241m=\u001b[39m \u001b[43mrandint\u001b[49m(\u001b[38;5;241m0\u001b[39m, \u001b[38;5;241m100\u001b[39m)\n",
      "\u001b[0;31mNameError\u001b[0m: name 'randint' is not defined"
     ]
    }
   ],
   "source": [
    "# what if I try to call randint without mentioning \"random\"?\n",
    "\n",
    "x = randint(0, 100)"
   ]
  },
  {
   "cell_type": "code",
   "execution_count": 24,
   "id": "15f26492",
   "metadata": {},
   "outputs": [],
   "source": [
    "# if I'm going to use randint a *lot* in my program, it's a pain to always have to say\n",
    "# random.randint. \n",
    "\n",
    "# I can get around that by telling the import system: Yes, import the module. But define the function\n",
    "# (randint) as a global variable, not inside of the \"random\" module's namespace\n",
    "\n",
    "from random import randint   # this means: define randint as a global name here, so I don't have to use random"
   ]
  },
  {
   "cell_type": "code",
   "execution_count": 25,
   "id": "315f95ca",
   "metadata": {},
   "outputs": [
    {
     "data": {
      "text/plain": [
       "42"
      ]
     },
     "execution_count": 25,
     "metadata": {},
     "output_type": "execute_result"
    }
   ],
   "source": [
    "randint(0, 100)"
   ]
  },
  {
   "cell_type": "markdown",
   "id": "5a54af52",
   "metadata": {},
   "source": [
    "# Options for importing\n",
    "\n",
    "1. `import MODNAME` -- then `MODNAME` is defined as a variable, and we can access its functionality via `MODNAME`.\n",
    "2. `from MODNAME import THING` -- then `THING` is defined as a variable, and we don't need to go through `MODNAME` for it. Note that this does *not* define `MODNAME` as a global variable!\n",
    "3. `import MODNAME as ALIAS` -- then we don't define `MODNAME` but rather `ALIAS`.  This is good if we might have something else with the same name, or if we want a shorter name. \n",
    "4. `from MODNAME import THING as T` -- then `T` is a global variable that refers to `MODNAME.THING`, but we don't define either `MODNAME` or `THING`."
   ]
  },
  {
   "cell_type": "markdown",
   "id": "25ceeb7c",
   "metadata": {},
   "source": [
    "# Exercise: Circle area\n",
    "\n",
    "1. Define a function, `circle_area`, that takes a single argument - the length of a circle's radius.\n",
    "2. The function should return the area of the circle, which can be calculated as π * r * r.\n",
    "3. Use the definition of π that's defined in `math.pi`.\n",
    "4. Test that the function works."
   ]
  },
  {
   "cell_type": "code",
   "execution_count": 26,
   "id": "9412a791",
   "metadata": {},
   "outputs": [
    {
     "data": {
      "text/plain": [
       "314.1592653589793"
      ]
     },
     "execution_count": 26,
     "metadata": {},
     "output_type": "execute_result"
    }
   ],
   "source": [
    "import math\n",
    "\n",
    "def circle_area(r):\n",
    "    return math.pi * r * r\n",
    "\n",
    "circle_area(10)"
   ]
  },
  {
   "cell_type": "code",
   "execution_count": 27,
   "id": "9040d89e",
   "metadata": {},
   "outputs": [
    {
     "data": {
      "text/plain": [
       "254.46900494077323"
      ]
     },
     "execution_count": 27,
     "metadata": {},
     "output_type": "execute_result"
    }
   ],
   "source": [
    "from math import pi    # this doesn't define math, but does define pi\n",
    "\n",
    "def circle_area(r):\n",
    "    return pi * r * r\n",
    "\n",
    "circle_area(9)"
   ]
  },
  {
   "cell_type": "markdown",
   "id": "d1cb387b",
   "metadata": {},
   "source": [
    "# The type of `import` you should *not* use\n",
    "\n",
    "You will sometimes see code that looks like this:\n",
    "\n",
    "    from MODULE import *\n",
    "    \n",
    "This means that Python should not only load the module into memory, but also define all of its names as global variables in our namespace.\n",
    "\n",
    "This is a bad idea, for several reasons:\n",
    "\n",
    "1. You can't know in advance what names are defined in the module. What if you are using the same variable name? Now you have a \"namespace collision.\"\n",
    "2. From an aesthetic perspective, it's nice to have things separate. By using `from .. import *`, you're mushing everything together.\n",
    "\n"
   ]
  },
  {
   "cell_type": "markdown",
   "id": "4e473f09",
   "metadata": {},
   "source": [
    "# Next up\n",
    "\n",
    "1. Python standard library\n",
    "2. Defining our own (simple) module\n",
    "\n"
   ]
  },
  {
   "cell_type": "markdown",
   "id": "383d5f6f",
   "metadata": {},
   "source": [
    "# Python standard library\n",
    "\n",
    "This is the list of modules that comes with Python. Yes, you can write modules. And yes, you can download and install modules. But before you do either of those, it's useful to know what comes with Python in the standard library.\n",
    "\n",
    "Note: The standard library is **HUGE**. No one, but no one, remembers everything in it.\n",
    "\n",
    "Python documentation is here: https://docs.python.org/3/\n",
    "\n",
    "If you click on \"standard library reference,\" you'll see a list of the modules in the standard library."
   ]
  },
  {
   "cell_type": "markdown",
   "id": "11f65c2e",
   "metadata": {},
   "source": [
    "# Exercise: Directory file sizes\n",
    "\n",
    "1. Write a function, `all_file_sizes`, which takes a single argument, a string with a directory name.\n",
    "2. Use the `os.listdir` function to get a list of the files in that directory.  This function returns a list of strings, all filenames in that directory.\n",
    "3. Use a `for` loop on each element (filename) in that list.  Get the file's size by running `os.stat` on the filename.  This function returns a special data structure; you want the `.st_size` attribute from it.\n",
    "4. Print the filename and its size.\n",
    "\n",
    "Outline:\n",
    "- The function gets a directory name.\n",
    "- Use `os.listdir` to get a list of files in that directory.\n",
    "- Go through each file, and run `os.stat` (a function in `os`) on it\n",
    "- This will return a special data structure with stat info.  Use `.st_size` on it to get the size.\n",
    "- Print the filename + size."
   ]
  },
  {
   "cell_type": "code",
   "execution_count": 38,
   "id": "6929ad96",
   "metadata": {},
   "outputs": [
    {
     "name": "stdout",
     "output_type": "stream",
     "text": [
      "myconfig.txt: 28\n",
      "mini-access-log.txt: 36562\n",
      ".DS_Store: 6148\n",
      "nums.txt: 42\n",
      "shoe-data.txt: 1676\n",
      "First steps day 5, 2022-11Nov-10.ipynb: 20252\n",
      "linux-etc-passwd.txt: 2683\n",
      "README.md: 549\n",
      "First steps day 3, 2022-10Oct-27.ipynb: 108331\n",
      "wcfile.txt: 165\n",
      "README.md~: 490\n",
      "exercise-files.zip: 6148\n",
      "First steps day 2, 2022-10Oct-20.ipynb: 81474\n",
      "First steps day 1, 2022-10Oct-13.ipynb: 75063\n",
      "myfile.txt: 16\n",
      ".ipynb_checkpoints: 256\n",
      ".git: 416\n",
      "First steps day 4, 2022-11Nov-03.ipynb: 69115\n"
     ]
    }
   ],
   "source": [
    "import os\n",
    "\n",
    "def all_file_sizes(dirname):                       # dirname will be a string -- a directory name\n",
    "    for one_filename in os.listdir(dirname):       # call os.listdir(dirname), and print the result\n",
    "            size = os.stat(one_filename).st_size\n",
    "            \n",
    "            print(f'{one_filename}: {size}')\n",
    "    \n",
    "    \n",
    "all_file_sizes('.')    "
   ]
  },
  {
   "cell_type": "markdown",
   "id": "2f1407e2",
   "metadata": {},
   "source": [
    "# How can I define a module?\n",
    "\n",
    "When I say `import modname`, Python looks in `sys.path` for `modname.py`, and then loads it.\n",
    "\n",
    "The first directory in `sys.path` is always the current directory, where the Python program is running.\n",
    "\n",
    "If we want, we could write a module and then load it!"
   ]
  },
  {
   "cell_type": "code",
   "execution_count": 39,
   "id": "5ab10261",
   "metadata": {},
   "outputs": [],
   "source": [
    "# what will happen if I now import mymod?\n",
    "# it's an empty file.  Will it work?"
   ]
  },
  {
   "cell_type": "code",
   "execution_count": 40,
   "id": "4d30ce27",
   "metadata": {},
   "outputs": [],
   "source": [
    "import mymod"
   ]
  },
  {
   "cell_type": "code",
   "execution_count": 41,
   "id": "95f3f476",
   "metadata": {},
   "outputs": [
    {
     "data": {
      "text/plain": [
       "['__builtins__',\n",
       " '__cached__',\n",
       " '__doc__',\n",
       " '__file__',\n",
       " '__loader__',\n",
       " '__name__',\n",
       " '__package__',\n",
       " '__spec__']"
      ]
     },
     "execution_count": 41,
     "metadata": {},
     "output_type": "execute_result"
    }
   ],
   "source": [
    "dir(mymod)  # what attributes have been defined on mymod?"
   ]
  },
  {
   "cell_type": "code",
   "execution_count": 44,
   "id": "d0b2d1f0",
   "metadata": {},
   "outputs": [],
   "source": [
    "import mymod  # import only works once in a Python session! "
   ]
  },
  {
   "cell_type": "code",
   "execution_count": 43,
   "id": "7e352885",
   "metadata": {},
   "outputs": [
    {
     "data": {
      "text/plain": [
       "['__builtins__',\n",
       " '__cached__',\n",
       " '__doc__',\n",
       " '__file__',\n",
       " '__loader__',\n",
       " '__name__',\n",
       " '__package__',\n",
       " '__spec__']"
      ]
     },
     "execution_count": 43,
     "metadata": {},
     "output_type": "execute_result"
    }
   ],
   "source": [
    "dir(mymod)"
   ]
  },
  {
   "cell_type": "code",
   "execution_count": 45,
   "id": "41cd03ef",
   "metadata": {},
   "outputs": [
    {
     "data": {
      "text/plain": [
       "<module 'mymod' from '/Users/reuven/Courses/Current/OReilly-2022-10Oct-PythonFirstSteps/mymod.py'>"
      ]
     },
     "execution_count": 45,
     "metadata": {},
     "output_type": "execute_result"
    }
   ],
   "source": [
    "# let's get \"reload\" defined, a function that reloads a module.\n",
    "# (this used to be in the standard library.)\n",
    "\n",
    "from importlib import reload   # load the \"reload\" function from importlib\n",
    "\n",
    "reload(mymod)                  # reload the module"
   ]
  },
  {
   "cell_type": "code",
   "execution_count": 46,
   "id": "5da013c5",
   "metadata": {},
   "outputs": [
    {
     "data": {
      "text/plain": [
       "['__builtins__',\n",
       " '__cached__',\n",
       " '__doc__',\n",
       " '__file__',\n",
       " '__loader__',\n",
       " '__name__',\n",
       " '__package__',\n",
       " '__spec__',\n",
       " 'hello',\n",
       " 'x',\n",
       " 'y']"
      ]
     },
     "execution_count": 46,
     "metadata": {},
     "output_type": "execute_result"
    }
   ],
   "source": [
    "dir(mymod)"
   ]
  },
  {
   "cell_type": "code",
   "execution_count": 47,
   "id": "ce4a52c4",
   "metadata": {},
   "outputs": [
    {
     "data": {
      "text/plain": [
       "100"
      ]
     },
     "execution_count": 47,
     "metadata": {},
     "output_type": "execute_result"
    }
   ],
   "source": [
    "mymod.x"
   ]
  },
  {
   "cell_type": "code",
   "execution_count": 48,
   "id": "5d97becb",
   "metadata": {},
   "outputs": [
    {
     "data": {
      "text/plain": [
       "[10, 20, 30]"
      ]
     },
     "execution_count": 48,
     "metadata": {},
     "output_type": "execute_result"
    }
   ],
   "source": [
    "mymod.y"
   ]
  },
  {
   "cell_type": "code",
   "execution_count": 49,
   "id": "89f76e51",
   "metadata": {},
   "outputs": [
    {
     "data": {
      "text/plain": [
       "'Hello, world!'"
      ]
     },
     "execution_count": 49,
     "metadata": {},
     "output_type": "execute_result"
    }
   ],
   "source": [
    "mymod.hello('world')"
   ]
  },
  {
   "cell_type": "markdown",
   "id": "5b94813a",
   "metadata": {},
   "source": [
    "# Exercise: Temp conversion module\n",
    "\n",
    "1. Create a new module, `convert_temp.py`, containing two functions, `c2f` and `f2c`, which convert from Celsius to Fahrentheight (or back).  The functions assume that they get a single number as input.\n",
    "2. The return value will be the converted temperature.\n",
    "3. import this module, and show that you can convert temperatures in either direction."
   ]
  },
  {
   "cell_type": "code",
   "execution_count": 50,
   "id": "1eaf18fe",
   "metadata": {},
   "outputs": [],
   "source": [
    "import temperatures"
   ]
  },
  {
   "cell_type": "code",
   "execution_count": 51,
   "id": "61d3826c",
   "metadata": {},
   "outputs": [
    {
     "data": {
      "text/plain": [
       "-40.0"
      ]
     },
     "execution_count": 51,
     "metadata": {},
     "output_type": "execute_result"
    }
   ],
   "source": [
    "temperatures.c2f(-40)"
   ]
  },
  {
   "cell_type": "code",
   "execution_count": 52,
   "id": "d0c0130c",
   "metadata": {},
   "outputs": [
    {
     "data": {
      "text/plain": [
       "212.0"
      ]
     },
     "execution_count": 52,
     "metadata": {},
     "output_type": "execute_result"
    }
   ],
   "source": [
    "temperatures.c2f(100)"
   ]
  },
  {
   "cell_type": "code",
   "execution_count": 53,
   "id": "a7dbd085",
   "metadata": {},
   "outputs": [
    {
     "data": {
      "text/plain": [
       "32.0"
      ]
     },
     "execution_count": 53,
     "metadata": {},
     "output_type": "execute_result"
    }
   ],
   "source": [
    "temperatures.c2f(0)"
   ]
  },
  {
   "cell_type": "code",
   "execution_count": 54,
   "id": "08e0de52",
   "metadata": {},
   "outputs": [
    {
     "data": {
      "text/plain": [
       "-40.0"
      ]
     },
     "execution_count": 54,
     "metadata": {},
     "output_type": "execute_result"
    }
   ],
   "source": [
    "temperatures.f2c(-40)"
   ]
  },
  {
   "cell_type": "code",
   "execution_count": 55,
   "id": "3caa784d",
   "metadata": {},
   "outputs": [
    {
     "data": {
      "text/plain": [
       "100.0"
      ]
     },
     "execution_count": 55,
     "metadata": {},
     "output_type": "execute_result"
    }
   ],
   "source": [
    "temperatures.f2c(212)"
   ]
  },
  {
   "cell_type": "code",
   "execution_count": 56,
   "id": "25d9073e",
   "metadata": {},
   "outputs": [
    {
     "data": {
      "text/plain": [
       "0.0"
      ]
     },
     "execution_count": 56,
     "metadata": {},
     "output_type": "execute_result"
    }
   ],
   "source": [
    "temperatures.f2c(32)"
   ]
  },
  {
   "cell_type": "markdown",
   "id": "fd0567c1",
   "metadata": {},
   "source": [
    "# Next up:\n",
    "\n",
    "1. What happens in a module when we `import` it?\n",
    "2. `__name__` and other module-related idioms\n",
    "3. Packages (a little)\n",
    "4. PyPI"
   ]
  },
  {
   "cell_type": "code",
   "execution_count": 57,
   "id": "4179b1b3",
   "metadata": {},
   "outputs": [
    {
     "data": {
      "text/plain": [
       "<module 'temperatures' from '/Users/reuven/Courses/Current/OReilly-2022-10Oct-PythonFirstSteps/temperatures.py'>"
      ]
     },
     "execution_count": 57,
     "metadata": {},
     "output_type": "execute_result"
    }
   ],
   "source": [
    "reload(temperatures)"
   ]
  },
  {
   "cell_type": "code",
   "execution_count": 58,
   "id": "5f77818d",
   "metadata": {},
   "outputs": [
    {
     "name": "stdout",
     "output_type": "stream",
     "text": [
      "Hello from the temp module!\n",
      "Goodbye from the temp module!\n"
     ]
    },
    {
     "data": {
      "text/plain": [
       "<module 'temperatures' from '/Users/reuven/Courses/Current/OReilly-2022-10Oct-PythonFirstSteps/temperatures.py'>"
      ]
     },
     "execution_count": 58,
     "metadata": {},
     "output_type": "execute_result"
    }
   ],
   "source": [
    "reload(temperatures)"
   ]
  },
  {
   "cell_type": "code",
   "execution_count": 59,
   "id": "b4852d5a",
   "metadata": {},
   "outputs": [
    {
     "data": {
      "text/plain": [
       "['__builtins__',\n",
       " '__cached__',\n",
       " '__doc__',\n",
       " '__file__',\n",
       " '__loader__',\n",
       " '__name__',\n",
       " '__package__',\n",
       " '__spec__',\n",
       " 'c2f',\n",
       " 'f2c']"
      ]
     },
     "execution_count": 59,
     "metadata": {},
     "output_type": "execute_result"
    }
   ],
   "source": [
    "dir(temperatures)"
   ]
  },
  {
   "cell_type": "markdown",
   "id": "e69d8d3e",
   "metadata": {},
   "source": [
    "The two functions that we defined in our `temperatures` module are, after the module is imported, available as attributes (i.e., names after a `.`) on the `temperatures` module object.\n",
    "\n",
    "So global variables (and function names) in our module then become attributes out of the module.\n",
    "\n",
    "Does this work in the reverse way, too?\n",
    "\n",
    "That is: Does `__file__`, the name of the file that we have on the module object, exist as a global variable inside of the module?\n",
    "\n"
   ]
  },
  {
   "cell_type": "code",
   "execution_count": 60,
   "id": "2699b0d4",
   "metadata": {},
   "outputs": [
    {
     "data": {
      "text/plain": [
       "'/Users/reuven/Courses/Current/OReilly-2022-10Oct-PythonFirstSteps/temperatures.py'"
      ]
     },
     "execution_count": 60,
     "metadata": {},
     "output_type": "execute_result"
    }
   ],
   "source": [
    "temperatures.__file__"
   ]
  },
  {
   "cell_type": "code",
   "execution_count": 62,
   "id": "f9328074",
   "metadata": {},
   "outputs": [
    {
     "name": "stdout",
     "output_type": "stream",
     "text": [
      "Hello from the temp module!\n",
      "Now in file: /Users/reuven/Courses/Current/OReilly-2022-10Oct-PythonFirstSteps/temperatures.py\n",
      "Goodbye from the temp module!\n"
     ]
    },
    {
     "data": {
      "text/plain": [
       "<module 'temperatures' from '/Users/reuven/Courses/Current/OReilly-2022-10Oct-PythonFirstSteps/temperatures.py'>"
      ]
     },
     "execution_count": 62,
     "metadata": {},
     "output_type": "execute_result"
    }
   ],
   "source": [
    "reload(temperatures)"
   ]
  },
  {
   "cell_type": "code",
   "execution_count": 63,
   "id": "c8b82b01",
   "metadata": {},
   "outputs": [
    {
     "name": "stdout",
     "output_type": "stream",
     "text": [
      "Hello from temperatures!\n",
      "Now in file: /Users/reuven/Courses/Current/OReilly-2022-10Oct-PythonFirstSteps/temperatures.py\n",
      "Goodbye from temperatures!\n"
     ]
    },
    {
     "data": {
      "text/plain": [
       "<module 'temperatures' from '/Users/reuven/Courses/Current/OReilly-2022-10Oct-PythonFirstSteps/temperatures.py'>"
      ]
     },
     "execution_count": 63,
     "metadata": {},
     "output_type": "execute_result"
    }
   ],
   "source": [
    "reload(temperatures)"
   ]
  },
  {
   "cell_type": "markdown",
   "id": "eea40c31",
   "metadata": {},
   "source": [
    "Bottom line:\n",
    "\n",
    "1. The module is executed when we import it\n",
    "2. The special \"dunder\" attributes on the module object are available as global variables inside of the module.\n",
    "    - The `__file__` attribute becomes the global variable `__file__`\n",
    "    - The `__name__` attribute becomes the global variable `__name__`\n",
    "\n",
    "# `__name__` and `'__main__'`\n",
    "\n",
    "When we `import` a module, the special `__name__` variable is defined to be a string, the same as the filename.\n",
    "\n",
    "But if we run a module directly from the command line, as a Python program, then `__name__` gets a special value. That value is the string `'__main__'`.  Yes, it's confusing that `__name__` is a variable and `'__main__'` is a string.\n",
    "\n",
    "We said before that printing when someone imports a module is considered rude. But it's OK to print when a program is run standalone.\n",
    "\n",
    "I want to modify `temperatures.py`, such that when we `import` the module, it doesn't say anything. But when we execute the module, it does."
   ]
  },
  {
   "cell_type": "markdown",
   "id": "65e887c4",
   "metadata": {},
   "source": [
    "# Exercise: Interactive temperatures\n",
    "\n",
    "1. Modify `temperatures.py`, so that it has a line near the bottom: `if __name__ == '__main__':`.\n",
    "2. If the program is imported, do nothing special.\n",
    "3. If the program is run standalone, then ask the user to enter a number and a letter (C or F). Invoke the appropriate function, and print the conversion."
   ]
  },
  {
   "cell_type": "code",
   "execution_count": 64,
   "id": "a10e9dd6",
   "metadata": {},
   "outputs": [
    {
     "name": "stdout",
     "output_type": "stream",
     "text": [
      "Hello from temperatures!\n",
      "Now in file: /Users/reuven/Courses/Current/OReilly-2022-10Oct-PythonFirstSteps/temperatures.py\n",
      "Goodbye from temperatures!\n"
     ]
    },
    {
     "data": {
      "text/plain": [
       "<module 'temperatures' from '/Users/reuven/Courses/Current/OReilly-2022-10Oct-PythonFirstSteps/temperatures.py'>"
      ]
     },
     "execution_count": 64,
     "metadata": {},
     "output_type": "execute_result"
    }
   ],
   "source": [
    "reload(temperatures)"
   ]
  },
  {
   "cell_type": "code",
   "execution_count": 1,
   "id": "6096edc6",
   "metadata": {},
   "outputs": [],
   "source": [
    "import temperatures"
   ]
  },
  {
   "cell_type": "code",
   "execution_count": 2,
   "id": "052938d9",
   "metadata": {},
   "outputs": [],
   "source": [
    "from importlib import reload"
   ]
  },
  {
   "cell_type": "code",
   "execution_count": 5,
   "id": "a8b6b62a",
   "metadata": {},
   "outputs": [
    {
     "data": {
      "text/plain": [
       "<module 'temperatures' from '/Users/reuven/Courses/Current/OReilly-2022-10Oct-PythonFirstSteps/temperatures.py'>"
      ]
     },
     "execution_count": 5,
     "metadata": {},
     "output_type": "execute_result"
    }
   ],
   "source": [
    "reload(temperatures)"
   ]
  },
  {
   "cell_type": "code",
   "execution_count": 6,
   "id": "39040308",
   "metadata": {},
   "outputs": [
    {
     "data": {
      "text/plain": [
       "212.0"
      ]
     },
     "execution_count": 6,
     "metadata": {},
     "output_type": "execute_result"
    }
   ],
   "source": [
    "temperatures.c2f(100)"
   ]
  },
  {
   "cell_type": "markdown",
   "id": "119f7ee6",
   "metadata": {},
   "source": [
    "# Turning a module into a package\n",
    "\n",
    "Python modules are individual files, as we've seen, containing code — mostly function and data definitions.\n",
    "\n",
    "If we have a lot of functionality that could be in a module, but which would be overwhelming to put into a single file, we can use a \"package\" -- a directory containing modules. This way, I can treat multiple files as a single file, which is easier to organize.\n",
    "\n",
    "Many items in the standard library, even though we call them \"modules,\" are really \"packages\" -- directories containing multiple modules.\n",
    "\n",
    "A \"distribution package\" is the same as a regular package, but adds meta-data to it — what other packages does this package need to use? What versions of those packages? \n",
    "\n",
    "We're not going to talk about creating distribution packages, but you can do it pretty easily with https://python-poetry.org/.\n",
    "\n",
    "Where are all of the distribution packages that I can use? The answer is: PyPI (https://pypi.org/)."
   ]
  },
  {
   "cell_type": "markdown",
   "id": "eb58d914",
   "metadata": {},
   "source": [
    "# Exercise: `requests`\n",
    "\n",
    "`requests` is one of the most popular Python packages on PyPI. It allows you to have a HTTP client in your Python program. It can do anything that a browser can do.\n",
    "\n",
    "1. Use `pip` to install the `requests` package from PyPI.  (that is: `pip install requests`)\n",
    "2. In a program, `import requests`\n",
    "3. Then use the `requests.get` method to retrieve the page associated with a URL.  This will return a \"response\" object.\n",
    "4. You can invoke the `content` method on the response object, and get back a bytestring (sort of like a string). Just print the length of the bytestring."
   ]
  },
  {
   "cell_type": "code",
   "execution_count": 7,
   "id": "d6024a83",
   "metadata": {},
   "outputs": [
    {
     "name": "stdout",
     "output_type": "stream",
     "text": [
      "50877\n"
     ]
    }
   ],
   "source": [
    "import requests   # this assumes that requests has already been installed (with pip) on the machine\n",
    "\n",
    "response = requests.get('https://python.org/')\n",
    "\n",
    "print(len(response.content))"
   ]
  },
  {
   "cell_type": "markdown",
   "id": "8783cf8f",
   "metadata": {},
   "source": [
    "# Next up\n",
    "\n",
    "1. Beautiful Soup -- quick demo\n",
    "2. More on PyPI\n",
    "    - Safety\n",
    "    - Licenses\n",
    "    - Finding good packages\n",
    "3. What's next? (And general Q&A)\n"
   ]
  },
  {
   "cell_type": "code",
   "execution_count": 8,
   "id": "52b13dfe",
   "metadata": {},
   "outputs": [],
   "source": [
    "from bs4 import BeautifulSoup\n",
    "\n",
    "html = requests.get('https://python.org/').content    # get the python.org homepage's HTML\n",
    "\n",
    "soup = BeautifulSoup(html, 'html.parser')"
   ]
  },
  {
   "cell_type": "code",
   "execution_count": 9,
   "id": "a39f7e47",
   "metadata": {},
   "outputs": [
    {
     "data": {
      "text/plain": [
       "<!DOCTYPE html>\n",
       "\n",
       "<!--[if lt IE 7]>   <html class=\"no-js ie6 lt-ie7 lt-ie8 lt-ie9\">   <![endif]-->\n",
       "<!--[if IE 7]>      <html class=\"no-js ie7 lt-ie8 lt-ie9\">          <![endif]-->\n",
       "<!--[if IE 8]>      <html class=\"no-js ie8 lt-ie9\">                 <![endif]-->\n",
       "<!--[if gt IE 8]><!--><html class=\"no-js\" dir=\"ltr\" lang=\"en\"> <!--<![endif]-->\n",
       "<head>\n",
       "<meta charset=\"utf-8\"/>\n",
       "<meta content=\"IE=edge\" http-equiv=\"X-UA-Compatible\"/>\n",
       "<link href=\"//ajax.googleapis.com/ajax/libs/jquery/1.8.2/jquery.min.js\" rel=\"prefetch\"/>\n",
       "<link href=\"//ajax.googleapis.com/ajax/libs/jqueryui/1.12.1/jquery-ui.min.js\" rel=\"prefetch\"/>\n",
       "<meta content=\"Python.org\" name=\"application-name\"/>\n",
       "<meta content=\"The official home of the Python Programming Language\" name=\"msapplication-tooltip\"/>\n",
       "<meta content=\"Python.org\" name=\"apple-mobile-web-app-title\"/>\n",
       "<meta content=\"yes\" name=\"apple-mobile-web-app-capable\"/>\n",
       "<meta content=\"black\" name=\"apple-mobile-web-app-status-bar-style\"/>\n",
       "<meta content=\"width=device-width, initial-scale=1.0\" name=\"viewport\"/>\n",
       "<meta content=\"True\" name=\"HandheldFriendly\"/>\n",
       "<meta content=\"telephone=no\" name=\"format-detection\"/>\n",
       "<meta content=\"on\" http-equiv=\"cleartype\"/>\n",
       "<meta content=\"false\" http-equiv=\"imagetoolbar\"/>\n",
       "<script async=\"\" crossorigin=\"anonymous\" integrity=\"sha256-U3hKDidudIaxBDEzwGJApJgPEf2mWk6cfMWghrAa6i0= sha384-UcmsCqcNRSLW/dV3Lo1oCi2/VaurXbib6p4HyUEOeIa/4OpsrnucrugAefzVZJfI sha512-q4t1L4xEjGV2R4hzqCa41P8jrgFUS8xTb8rdNv4FGvw7FpydVj/kkxBJHOiaoxHa8olCcx1Slk9K+3sNbsM4ug==\" src=\"https://media.ethicalads.io/media/client/v1.4.0/ethicalads.min.js\"></script>\n",
       "<script src=\"/static/js/libs/modernizr.js\"></script>\n",
       "<link href=\"/static/stylesheets/style.2135bffe4dde.css\" media=\"all\" rel=\"stylesheet\" title=\"default\" type=\"text/css\">\n",
       "<link href=\"/static/stylesheets/mq.f9187444a4a1.css\" media=\"not print, braille, embossed, speech, tty\" rel=\"stylesheet\" type=\"text/css\">\n",
       "<!--[if (lte IE 8)&(!IEMobile)]>\n",
       "    <link href=\"/static/stylesheets/no-mq.bf0c425cdb73.css\" rel=\"stylesheet\" type=\"text/css\" media=\"screen\" />\n",
       "    \n",
       "    \n",
       "    <![endif]-->\n",
       "<link href=\"//ajax.googleapis.com/ajax/libs/jqueryui/1.12.1/themes/smoothness/jquery-ui.css\" rel=\"stylesheet\"/>\n",
       "<link href=\"/static/favicon.ico\" rel=\"icon\" type=\"image/x-icon\"/>\n",
       "<link href=\"/static/apple-touch-icon-144x144-precomposed.png\" rel=\"apple-touch-icon-precomposed\" sizes=\"144x144\"/>\n",
       "<link href=\"/static/apple-touch-icon-114x114-precomposed.png\" rel=\"apple-touch-icon-precomposed\" sizes=\"114x114\"/>\n",
       "<link href=\"/static/apple-touch-icon-72x72-precomposed.png\" rel=\"apple-touch-icon-precomposed\" sizes=\"72x72\"/>\n",
       "<link href=\"/static/apple-touch-icon-precomposed.png\" rel=\"apple-touch-icon-precomposed\"/>\n",
       "<link href=\"/static/apple-touch-icon-precomposed.png\" rel=\"apple-touch-icon\"/>\n",
       "<meta content=\"/static/metro-icon-144x144-precomposed.png\" name=\"msapplication-TileImage\"/><!-- white shape -->\n",
       "<meta content=\"#3673a5\" name=\"msapplication-TileColor\"/><!-- python blue -->\n",
       "<meta content=\"#3673a5\" name=\"msapplication-navbutton-color\"/>\n",
       "<title>Welcome to Python.org</title>\n",
       "<meta content=\"The official home of the Python Programming Language\" name=\"description\"/>\n",
       "<meta content=\"Python programming language object oriented web free open source software license documentation download community\" name=\"keywords\"/>\n",
       "<meta content=\"website\" property=\"og:type\"/>\n",
       "<meta content=\"Python.org\" property=\"og:site_name\"/>\n",
       "<meta content=\"Welcome to Python.org\" property=\"og:title\"/>\n",
       "<meta content=\"The official home of the Python Programming Language\" property=\"og:description\"/>\n",
       "<meta content=\"https://www.python.org/static/opengraph-icon-200x200.png\" property=\"og:image\"/>\n",
       "<meta content=\"https://www.python.org/static/opengraph-icon-200x200.png\" property=\"og:image:secure_url\"/>\n",
       "<meta content=\"https://www.python.org/\" property=\"og:url\"/>\n",
       "<link href=\"/humans.txt\" rel=\"author\"/>\n",
       "<link href=\"https://www.python.org/dev/peps/peps.rss/\" rel=\"alternate\" title=\"Python Enhancement Proposals\" type=\"application/rss+xml\"/>\n",
       "<link href=\"https://www.python.org/jobs/feed/rss/\" rel=\"alternate\" title=\"Python Job Opportunities\" type=\"application/rss+xml\"/>\n",
       "<link href=\"https://feeds.feedburner.com/PythonSoftwareFoundationNews\" rel=\"alternate\" title=\"Python Software Foundation News\" type=\"application/rss+xml\"/>\n",
       "<link href=\"https://feeds.feedburner.com/PythonInsider\" rel=\"alternate\" title=\"Python Insider\" type=\"application/rss+xml\"/>\n",
       "<script type=\"application/ld+json\">\n",
       "     {\n",
       "       \"@context\": \"https://schema.org\",\n",
       "       \"@type\": \"WebSite\",\n",
       "       \"url\": \"https://www.python.org/\",\n",
       "       \"potentialAction\": {\n",
       "         \"@type\": \"SearchAction\",\n",
       "         \"target\": \"https://www.python.org/search/?q={search_term_string}\",\n",
       "         \"query-input\": \"required name=search_term_string\"\n",
       "       }\n",
       "     }\n",
       "    </script>\n",
       "<script type=\"text/javascript\">\n",
       "    var _gaq = _gaq || [];\n",
       "    _gaq.push(['_setAccount', 'UA-39055973-1']);\n",
       "    _gaq.push(['_trackPageview']);\n",
       "\n",
       "    (function() {\n",
       "        var ga = document.createElement('script'); ga.type = 'text/javascript'; ga.async = true;\n",
       "        ga.src = ('https:' == document.location.protocol ? 'https://ssl' : 'http://www') + '.google-analytics.com/ga.js';\n",
       "        var s = document.getElementsByTagName('script')[0]; s.parentNode.insertBefore(ga, s);\n",
       "    })();\n",
       "    </script>\n",
       "</link></link></head>\n",
       "<body class=\"python home\" id=\"homepage\">\n",
       "<div id=\"touchnav-wrapper\">\n",
       "<div class=\"do-not-print\" id=\"nojs\">\n",
       "<p><strong>Notice:</strong> While JavaScript is not essential for this website, your interaction with the content will be limited. Please turn JavaScript on for the full experience. </p>\n",
       "</div>\n",
       "<!--[if lte IE 8]>\n",
       "        <div id=\"oldie-warning\" class=\"do-not-print\">\n",
       "            <p>\n",
       "                <strong>Notice:</strong> Your browser is <em>ancient</em>. Please\n",
       "                <a href=\"http://browsehappy.com/\">upgrade to a different browser</a> to experience a better web.\n",
       "            </p>\n",
       "        </div>\n",
       "        <![endif]-->\n",
       "<!-- Sister Site Links -->\n",
       "<div class=\"top-bar do-not-print\" id=\"top\">\n",
       "<nav class=\"meta-navigation container\" role=\"navigation\">\n",
       "<div class=\"skip-link screen-reader-text\">\n",
       "<a href=\"#content\" title=\"Skip to content\">Skip to content</a>\n",
       "</div>\n",
       "<a aria-hidden=\"true\" class=\"jump-link\" href=\"#python-network\" id=\"close-python-network\">\n",
       "<span aria-hidden=\"true\" class=\"icon-arrow-down\"><span>▼</span></span> Close\n",
       "                </a>\n",
       "<ul class=\"menu\" role=\"tree\">\n",
       "<li class=\"python-meta current_item selectedcurrent_branch selected\">\n",
       "<a class=\"current_item selectedcurrent_branch selected\" href=\"/\" title=\"The Python Programming Language\">Python</a>\n",
       "</li>\n",
       "<li class=\"psf-meta\">\n",
       "<a href=\"/psf-landing/\" title=\"The Python Software Foundation\">PSF</a>\n",
       "</li>\n",
       "<li class=\"docs-meta\">\n",
       "<a href=\"https://docs.python.org\" title=\"Python Documentation\">Docs</a>\n",
       "</li>\n",
       "<li class=\"pypi-meta\">\n",
       "<a href=\"https://pypi.org/\" title=\"Python Package Index\">PyPI</a>\n",
       "</li>\n",
       "<li class=\"jobs-meta\">\n",
       "<a href=\"/jobs/\" title=\"Python Job Board\">Jobs</a>\n",
       "</li>\n",
       "<li class=\"shop-meta\">\n",
       "<a href=\"/community-landing/\">Community</a>\n",
       "</li>\n",
       "</ul>\n",
       "<a aria-hidden=\"true\" class=\"jump-link\" href=\"#top\" id=\"python-network\">\n",
       "<span aria-hidden=\"true\" class=\"icon-arrow-up\"><span>▲</span></span> The Python Network\n",
       "                </a>\n",
       "</nav>\n",
       "</div>\n",
       "<!-- Header elements -->\n",
       "<header class=\"main-header\" role=\"banner\">\n",
       "<div class=\"container\">\n",
       "<h1 class=\"site-headline\">\n",
       "<a href=\"/\"><img alt=\"python™\" class=\"python-logo\" src=\"/static/img/python-logo.png\"/></a>\n",
       "</h1>\n",
       "<div class=\"options-bar-container do-not-print\">\n",
       "<a class=\"donate-button\" href=\"https://psfmember.org/civicrm/contribute/transact?reset=1&amp;id=2\">Donate</a>\n",
       "<div class=\"options-bar\">\n",
       "<a class=\"jump-to-menu\" href=\"#site-map\" id=\"site-map-link\"><span class=\"menu-icon\">≡</span> Menu</a><form action=\"/search/\" class=\"search-the-site\" method=\"get\">\n",
       "<fieldset title=\"Search Python.org\">\n",
       "<span aria-hidden=\"true\" class=\"icon-search\"></span>\n",
       "<label class=\"screen-reader-text\" for=\"id-search-field\">Search This Site</label>\n",
       "<input class=\"search-field\" id=\"id-search-field\" name=\"q\" placeholder=\"Search\" role=\"textbox\" tabindex=\"1\" type=\"search\" value=\"\"/>\n",
       "<button class=\"search-button\" id=\"submit\" name=\"submit\" tabindex=\"3\" title=\"Submit this Search\" type=\"submit\">\n",
       "                                    GO\n",
       "                                </button>\n",
       "<!--[if IE]><input type=\"text\" style=\"display: none;\" disabled=\"disabled\" size=\"1\" tabindex=\"4\"><![endif]-->\n",
       "</fieldset>\n",
       "</form><span class=\"breaker\"></span><div aria-hidden=\"true\" class=\"adjust-font-size\">\n",
       "<ul aria-label=\"Adjust Text Size on Page\" class=\"navigation menu\">\n",
       "<li aria-haspopup=\"true\" class=\"tier-1 last\">\n",
       "<a class=\"action-trigger\" href=\"#\"><strong><small>A</small> A</strong></a>\n",
       "<ul class=\"subnav menu\">\n",
       "<li class=\"tier-2 element-1\" role=\"treeitem\"><a class=\"text-shrink\" href=\"javascript:;\" title=\"Make Text Smaller\">Smaller</a></li>\n",
       "<li class=\"tier-2 element-2\" role=\"treeitem\"><a class=\"text-grow\" href=\"javascript:;\" title=\"Make Text Larger\">Larger</a></li>\n",
       "<li class=\"tier-2 element-3\" role=\"treeitem\"><a class=\"text-reset\" href=\"javascript:;\" title=\"Reset any font size changes I have made\">Reset</a></li>\n",
       "</ul>\n",
       "</li>\n",
       "</ul>\n",
       "</div><div class=\"winkwink-nudgenudge\">\n",
       "<ul aria-label=\"Social Media Navigation\" class=\"navigation menu\">\n",
       "<li aria-haspopup=\"true\" class=\"tier-1 last\">\n",
       "<a class=\"action-trigger\" href=\"#\">Socialize</a>\n",
       "<ul class=\"subnav menu\">\n",
       "<li class=\"tier-2 element-1\" role=\"treeitem\"><a href=\"https://www.facebook.com/pythonlang?fref=ts\"><span aria-hidden=\"true\" class=\"icon-facebook\"></span>Facebook</a></li>\n",
       "<li class=\"tier-2 element-2\" role=\"treeitem\"><a href=\"https://twitter.com/ThePSF\"><span aria-hidden=\"true\" class=\"icon-twitter\"></span>Twitter</a></li>\n",
       "<li class=\"tier-2 element-3\" role=\"treeitem\"><a href=\"/community/irc/\"><span aria-hidden=\"true\" class=\"icon-freenode\"></span>Chat on IRC</a></li>\n",
       "</ul>\n",
       "</li>\n",
       "</ul>\n",
       "</div>\n",
       "<span data-html-include=\"/authenticated\"></span>\n",
       "</div><!-- end options-bar -->\n",
       "</div>\n",
       "<nav class=\"python-navigation main-navigation do-not-print\" id=\"mainnav\" role=\"navigation\">\n",
       "<ul aria-label=\"Main Navigation\" class=\"navigation menu\" role=\"menubar\">\n",
       "<li aria-haspopup=\"true\" class=\"tier-1 element-1\" id=\"about\">\n",
       "<a class=\"\" href=\"/about/\" title=\"\">About</a>\n",
       "<ul aria-hidden=\"true\" class=\"subnav menu\" role=\"menu\">\n",
       "<li class=\"tier-2 element-1\" role=\"treeitem\"><a href=\"/about/apps/\" title=\"\">Applications</a></li>\n",
       "<li class=\"tier-2 element-2\" role=\"treeitem\"><a href=\"/about/quotes/\" title=\"\">Quotes</a></li>\n",
       "<li class=\"tier-2 element-3\" role=\"treeitem\"><a href=\"/about/gettingstarted/\" title=\"\">Getting Started</a></li>\n",
       "<li class=\"tier-2 element-4\" role=\"treeitem\"><a href=\"/about/help/\" title=\"\">Help</a></li>\n",
       "<li class=\"tier-2 element-5\" role=\"treeitem\"><a href=\"http://brochure.getpython.info/\" title=\"\">Python Brochure</a></li>\n",
       "</ul>\n",
       "</li>\n",
       "<li aria-haspopup=\"true\" class=\"tier-1 element-2\" id=\"downloads\">\n",
       "<a class=\"\" href=\"/downloads/\" title=\"\">Downloads</a>\n",
       "<ul aria-hidden=\"true\" class=\"subnav menu\" role=\"menu\">\n",
       "<li class=\"tier-2 element-1\" role=\"treeitem\"><a href=\"/downloads/\" title=\"\">All releases</a></li>\n",
       "<li class=\"tier-2 element-2\" role=\"treeitem\"><a href=\"/downloads/source/\" title=\"\">Source code</a></li>\n",
       "<li class=\"tier-2 element-3\" role=\"treeitem\"><a href=\"/downloads/windows/\" title=\"\">Windows</a></li>\n",
       "<li class=\"tier-2 element-4\" role=\"treeitem\"><a href=\"/downloads/macos/\" title=\"\">macOS</a></li>\n",
       "<li class=\"tier-2 element-5\" role=\"treeitem\"><a href=\"/download/other/\" title=\"\">Other Platforms</a></li>\n",
       "<li class=\"tier-2 element-6\" role=\"treeitem\"><a href=\"https://docs.python.org/3/license.html\" title=\"\">License</a></li>\n",
       "<li class=\"tier-2 element-7\" role=\"treeitem\"><a href=\"/download/alternatives\" title=\"\">Alternative Implementations</a></li>\n",
       "</ul>\n",
       "</li>\n",
       "<li aria-haspopup=\"true\" class=\"tier-1 element-3\" id=\"documentation\">\n",
       "<a class=\"\" href=\"/doc/\" title=\"\">Documentation</a>\n",
       "<ul aria-hidden=\"true\" class=\"subnav menu\" role=\"menu\">\n",
       "<li class=\"tier-2 element-1\" role=\"treeitem\"><a href=\"/doc/\" title=\"\">Docs</a></li>\n",
       "<li class=\"tier-2 element-2\" role=\"treeitem\"><a href=\"/doc/av\" title=\"\">Audio/Visual Talks</a></li>\n",
       "<li class=\"tier-2 element-3\" role=\"treeitem\"><a href=\"https://wiki.python.org/moin/BeginnersGuide\" title=\"\">Beginner's Guide</a></li>\n",
       "<li class=\"tier-2 element-4\" role=\"treeitem\"><a href=\"https://devguide.python.org/\" title=\"\">Developer's Guide</a></li>\n",
       "<li class=\"tier-2 element-5\" role=\"treeitem\"><a href=\"https://docs.python.org/faq/\" title=\"\">FAQ</a></li>\n",
       "<li class=\"tier-2 element-6\" role=\"treeitem\"><a href=\"http://wiki.python.org/moin/Languages\" title=\"\">Non-English Docs</a></li>\n",
       "<li class=\"tier-2 element-7\" role=\"treeitem\"><a href=\"http://python.org/dev/peps/\" title=\"\">PEP Index</a></li>\n",
       "<li class=\"tier-2 element-8\" role=\"treeitem\"><a href=\"https://wiki.python.org/moin/PythonBooks\" title=\"\">Python Books</a></li>\n",
       "<li class=\"tier-2 element-9\" role=\"treeitem\"><a href=\"/doc/essays/\" title=\"\">Python Essays</a></li>\n",
       "</ul>\n",
       "</li>\n",
       "<li aria-haspopup=\"true\" class=\"tier-1 element-4\" id=\"community\">\n",
       "<a class=\"\" href=\"/community/\" title=\"\">Community</a>\n",
       "<ul aria-hidden=\"true\" class=\"subnav menu\" role=\"menu\">\n",
       "<li class=\"tier-2 element-1\" role=\"treeitem\"><a href=\"/community/diversity/\" title=\"\">Diversity</a></li>\n",
       "<li class=\"tier-2 element-2\" role=\"treeitem\"><a href=\"/community/lists/\" title=\"\">Mailing Lists</a></li>\n",
       "<li class=\"tier-2 element-3\" role=\"treeitem\"><a href=\"/community/irc/\" title=\"\">IRC</a></li>\n",
       "<li class=\"tier-2 element-4\" role=\"treeitem\"><a href=\"/community/forums/\" title=\"\">Forums</a></li>\n",
       "<li class=\"tier-2 element-5\" role=\"treeitem\"><a href=\"/psf/annual-report/2021/\" title=\"\">PSF Annual Impact Report</a></li>\n",
       "<li class=\"tier-2 element-6\" role=\"treeitem\"><a href=\"/community/workshops/\" title=\"\">Python Conferences</a></li>\n",
       "<li class=\"tier-2 element-7\" role=\"treeitem\"><a href=\"/community/sigs/\" title=\"\">Special Interest Groups</a></li>\n",
       "<li class=\"tier-2 element-8\" role=\"treeitem\"><a href=\"/community/logos/\" title=\"\">Python Logo</a></li>\n",
       "<li class=\"tier-2 element-9\" role=\"treeitem\"><a href=\"https://wiki.python.org/moin/\" title=\"\">Python Wiki</a></li>\n",
       "<li class=\"tier-2 element-10\" role=\"treeitem\"><a href=\"/community/merchandise/\" title=\"\">Merchandise</a></li>\n",
       "<li class=\"tier-2 element-11\" role=\"treeitem\"><a href=\"/community/awards\" title=\"\">Community Awards</a></li>\n",
       "<li class=\"tier-2 element-12\" role=\"treeitem\"><a href=\"/psf/conduct/\" title=\"\">Code of Conduct</a></li>\n",
       "<li class=\"tier-2 element-13\" role=\"treeitem\"><a href=\"/psf/get-involved/\" title=\"\">Get Involved</a></li>\n",
       "<li class=\"tier-2 element-14\" role=\"treeitem\"><a href=\"/psf/community-stories/\" title=\"\">Shared Stories</a></li>\n",
       "</ul>\n",
       "</li>\n",
       "<li aria-haspopup=\"true\" class=\"tier-1 element-5\" id=\"success-stories\">\n",
       "<a class=\"\" href=\"/success-stories/\" title=\"success-stories\">Success Stories</a>\n",
       "<ul aria-hidden=\"true\" class=\"subnav menu\" role=\"menu\">\n",
       "<li class=\"tier-2 element-1\" role=\"treeitem\"><a href=\"/success-stories/category/arts/\" title=\"\">Arts</a></li>\n",
       "<li class=\"tier-2 element-2\" role=\"treeitem\"><a href=\"/success-stories/category/business/\" title=\"\">Business</a></li>\n",
       "<li class=\"tier-2 element-3\" role=\"treeitem\"><a href=\"/success-stories/category/education/\" title=\"\">Education</a></li>\n",
       "<li class=\"tier-2 element-4\" role=\"treeitem\"><a href=\"/success-stories/category/engineering/\" title=\"\">Engineering</a></li>\n",
       "<li class=\"tier-2 element-5\" role=\"treeitem\"><a href=\"/success-stories/category/government/\" title=\"\">Government</a></li>\n",
       "<li class=\"tier-2 element-6\" role=\"treeitem\"><a href=\"/success-stories/category/scientific/\" title=\"\">Scientific</a></li>\n",
       "<li class=\"tier-2 element-7\" role=\"treeitem\"><a href=\"/success-stories/category/software-development/\" title=\"\">Software Development</a></li>\n",
       "</ul>\n",
       "</li>\n",
       "<li aria-haspopup=\"true\" class=\"tier-1 element-6\" id=\"news\">\n",
       "<a class=\"\" href=\"/blogs/\" title=\"News from around the Python world\">News</a>\n",
       "<ul aria-hidden=\"true\" class=\"subnav menu\" role=\"menu\">\n",
       "<li class=\"tier-2 element-1\" role=\"treeitem\"><a href=\"/blogs/\" title=\"Python Insider Blog Posts\">Python News</a></li>\n",
       "<li class=\"tier-2 element-2\" role=\"treeitem\"><a href=\"/psf/newsletter/\" title=\"Python Software Foundation Newsletter\">PSF Newsletter</a></li>\n",
       "<li class=\"tier-2 element-3\" role=\"treeitem\"><a href=\"http://planetpython.org/\" title=\"Planet Python\">Community News</a></li>\n",
       "<li class=\"tier-2 element-4\" role=\"treeitem\"><a href=\"http://pyfound.blogspot.com/\" title=\"PSF Blog\">PSF News</a></li>\n",
       "<li class=\"tier-2 element-5\" role=\"treeitem\"><a href=\"http://pycon.blogspot.com/\" title=\"PyCon Blog\">PyCon News</a></li>\n",
       "</ul>\n",
       "</li>\n",
       "<li aria-haspopup=\"true\" class=\"tier-1 element-7\" id=\"events\">\n",
       "<a class=\"\" href=\"/events/\" title=\"\">Events</a>\n",
       "<ul aria-hidden=\"true\" class=\"subnav menu\" role=\"menu\">\n",
       "<li class=\"tier-2 element-1\" role=\"treeitem\"><a href=\"/events/python-events/\" title=\"\">Python Events</a></li>\n",
       "<li class=\"tier-2 element-2\" role=\"treeitem\"><a href=\"/events/python-user-group/\" title=\"\">User Group Events</a></li>\n",
       "<li class=\"tier-2 element-3\" role=\"treeitem\"><a href=\"/events/python-events/past/\" title=\"\">Python Events Archive</a></li>\n",
       "<li class=\"tier-2 element-4\" role=\"treeitem\"><a href=\"/events/python-user-group/past/\" title=\"\">User Group Events Archive</a></li>\n",
       "<li class=\"tier-2 element-5\" role=\"treeitem\"><a href=\"https://wiki.python.org/moin/PythonEventsCalendar#Submitting_an_Event\" title=\"\">Submit an Event</a></li>\n",
       "</ul>\n",
       "</li>\n",
       "</ul>\n",
       "</nav>\n",
       "<div class=\"header-banner\"> <!-- for optional \"do-not-print\" class -->\n",
       "<div class=\"flex-slideshow slideshow\" id=\"dive-into-python\">\n",
       "<ul class=\"launch-shell menu\" id=\"launch-shell\">\n",
       "<li>\n",
       "<a class=\"button prompt\" data-shell-container=\"#dive-into-python\" href=\"/shell/\" id=\"start-shell\">&gt;_\n",
       "                        <span class=\"message\">Launch Interactive Shell</span>\n",
       "</a>\n",
       "</li>\n",
       "</ul>\n",
       "<ul class=\"slides menu\">\n",
       "<li>\n",
       "<div class=\"slide-code\"><pre><code><span class=\"comment\"># Python 3: Fibonacci series up to n</span>\n",
       "&gt;&gt;&gt; def fib(n):\n",
       "&gt;&gt;&gt;     a, b = 0, 1\n",
       "&gt;&gt;&gt;     while a &lt; n:\n",
       "&gt;&gt;&gt;         print(a, end=' ')\n",
       "&gt;&gt;&gt;         a, b = b, a+b\n",
       "&gt;&gt;&gt;     print()\n",
       "&gt;&gt;&gt; fib(1000)\n",
       "<span class=\"output\">0 1 1 2 3 5 8 13 21 34 55 89 144 233 377 610 987</span></code></pre></div>\n",
       "<div class=\"slide-copy\"><h1>Functions Defined</h1>\n",
       "<p>The core of extensible programming is defining functions. Python allows mandatory and optional arguments, keyword arguments, and even arbitrary argument lists. <a href=\"//docs.python.org/3/tutorial/controlflow.html#defining-functions\">More about defining functions in Python 3</a></p></div>\n",
       "</li>\n",
       "<li>\n",
       "<div class=\"slide-code\"><pre><code><span class=\"comment\"># Python 3: List comprehensions</span>\n",
       "&gt;&gt;&gt; fruits = ['Banana', 'Apple', 'Lime']\n",
       "&gt;&gt;&gt; loud_fruits = [fruit.upper() for fruit in fruits]\n",
       "&gt;&gt;&gt; print(loud_fruits)\n",
       "<span class=\"output\">['BANANA', 'APPLE', 'LIME']</span>\n",
       "\n",
       "<span class=\"comment\"># List and the enumerate function</span>\n",
       "&gt;&gt;&gt; list(enumerate(fruits))\n",
       "<span class=\"output\">[(0, 'Banana'), (1, 'Apple'), (2, 'Lime')]</span></code></pre></div>\n",
       "<div class=\"slide-copy\"><h1>Compound Data Types</h1>\n",
       "<p>Lists (known as arrays in other languages) are one of the compound data types that Python understands. Lists can be indexed, sliced and manipulated with other built-in functions. <a href=\"//docs.python.org/3/tutorial/introduction.html#lists\">More about lists in Python 3</a></p></div>\n",
       "</li>\n",
       "<li>\n",
       "<div class=\"slide-code\"><pre><code><span class=\"comment\"># Python 3: Simple arithmetic</span>\n",
       "&gt;&gt;&gt; 1 / 2\n",
       "<span class=\"output\">0.5</span>\n",
       "&gt;&gt;&gt; 2 ** 3\n",
       "<span class=\"output\">8</span>\n",
       "&gt;&gt;&gt; 17 / 3  <span class=\"comment\"># classic division returns a float</span>\n",
       "<span class=\"output\">5.666666666666667</span>\n",
       "&gt;&gt;&gt; 17 // 3  <span class=\"comment\"># floor division</span>\n",
       "<span class=\"output\">5</span></code></pre></div>\n",
       "<div class=\"slide-copy\"><h1>Intuitive Interpretation</h1>\n",
       "<p>Calculations are simple with Python, and expression syntax is straightforward: the operators <code>+</code>, <code>-</code>, <code>*</code> and <code>/</code> work as expected; parentheses <code>()</code> can be used for grouping. <a href=\"http://docs.python.org/3/tutorial/introduction.html#using-python-as-a-calculator\">More about simple math functions in Python 3</a>.</p></div>\n",
       "</li>\n",
       "<li>\n",
       "<div class=\"slide-code\"><pre><code><span class=\"comment\"># For loop on a list</span>\n",
       "&gt;&gt;&gt; numbers = [2, 4, 6, 8]\n",
       "&gt;&gt;&gt; product = 1\n",
       "&gt;&gt;&gt; for number in numbers:\n",
       "...    product = product * number\n",
       "... \n",
       "&gt;&gt;&gt; print('The product is:', product)\n",
       "<span class=\"output\">The product is: 384</span></code></pre></div>\n",
       "<div class=\"slide-copy\"><h1>All the Flow You’d Expect</h1>\n",
       "<p>Python knows the usual control flow statements that other languages speak — <code>if</code>, <code>for</code>, <code>while</code> and <code>range</code> — with some of its own twists, of course. <a href=\"//docs.python.org/3/tutorial/controlflow.html\">More control flow tools in Python 3</a></p></div>\n",
       "</li>\n",
       "<li>\n",
       "<div class=\"slide-code\"><pre><code><span class='\\\"comment\\\"'># Simple output (with Unicode)</span>\n",
       "&gt;&gt;&gt; print(\\\"Hello, I'm Python!\\\")\n",
       "<span class='\\\"output\\\"'>Hello, I'm Python!</span>\n",
       "<span class='\\\"comment\\\"'># Input, assignment</span>\n",
       "&gt;&gt;&gt; name = input('What is your name?\\\\n')\n",
       "<span class='\\\"output\\\"'>What is your name?\n",
       "Python</span>\n",
       "&gt;&gt;&gt; print(f'Hi, {name}.')\n",
       "<span class='\\\"output\\\"'>Hi, Python.</span></code>\n",
       "</pre></div>\n",
       "<div class=\"slide-copy\"><h1>Quick &amp; Easy to Learn</h1>\n",
       "<p>Experienced programmers in any other language can pick up Python very quickly, and beginners find the clean syntax and indentation structure easy to learn. <a href=\"//docs.python.org/3/tutorial/\">Whet your appetite</a> with our Python 3 overview.</p></div>\n",
       "</li>\n",
       "</ul>\n",
       "</div>\n",
       "</div>\n",
       "<div class=\"introduction\">\n",
       "<p>Python is a programming language that lets you work quickly <span class=\"breaker\"></span>and integrate systems more effectively. <a class=\"readmore\" href=\"/doc/\">Learn More</a></p>\n",
       "</div>\n",
       "</div><!-- end .container -->\n",
       "</header>\n",
       "<div class=\"content-wrapper\" id=\"content\">\n",
       "<!-- Main Content Column -->\n",
       "<div class=\"container\">\n",
       "<section class=\"main-content\" role=\"main\">\n",
       "<div class=\"notification-bar notification-bar--survey\" style=\"background-color: #ffdf76; color: #664e04; border-color: #004d7a; text-align: center; background-color: #004d7a; color: #fff; padding: 10px; margin: .5em; position: relative; width: 95%; background-color: #ffdf76; color: #664e04; border-color: #004d7a; border-radius: 1em;\">\n",
       "<span class=\"notification-bar__icon\">\n",
       "<i aria-hidden=\"true\" class=\"fa fa-chart-line\"></i>\n",
       "</span>\n",
       "<span class=\"notification-bar__message\">Support Python in 2022! Check out the special deal open only till November 22nd.   <a class=\"button button--dark button--small button--primary\" href=\"https://www.python.org/psf/donations/2022-q4-drive/\" rel=\"noopener\" style=\"color: #606060; border-color: #006dad; background-color: #006dad;\" target=\"_blank\">Join in today!</a>\n",
       "</span>\n",
       "</div>\n",
       "<div class=\"row\">\n",
       "<div class=\"small-widget get-started-widget\">\n",
       "<h2 class=\"widget-title\"><span aria-hidden=\"true\" class=\"icon-get-started\"></span>Get Started</h2>\n",
       "<p>Whether you're new to programming or an experienced developer, it's easy to learn and use Python.</p>\n",
       "<p><a href=\"/about/gettingstarted/\">Start with our Beginner’s Guide</a></p>\n",
       "</div>\n",
       "<div class=\"small-widget download-widget\">\n",
       "<h2 class=\"widget-title\"><span aria-hidden=\"true\" class=\"icon-download\"></span>Download</h2>\n",
       "<p>Python source code and installers are available for download for all versions!</p>\n",
       "<p>Latest: <a href=\"/downloads/release/python-3110/\">Python 3.11.0</a></p>\n",
       "</div>\n",
       "<div class=\"small-widget documentation-widget\">\n",
       "<h2 class=\"widget-title\"><span aria-hidden=\"true\" class=\"icon-documentation\"></span>Docs</h2>\n",
       "<p>Documentation for Python's standard library, along with tutorials and guides, are available online.</p>\n",
       "<p><a href=\"https://docs.python.org\">docs.python.org</a></p>\n",
       "</div>\n",
       "<div class=\"small-widget jobs-widget last\">\n",
       "<h2 class=\"widget-title\"><span aria-hidden=\"true\" class=\"icon-jobs\"></span>Jobs</h2>\n",
       "<p>Looking for work or have a Python related position that you're trying to hire for? Our <strong>relaunched community-run job board</strong> is the place to go.</p>\n",
       "<p><a href=\"//jobs.python.org\">jobs.python.org</a></p>\n",
       "</div>\n",
       "</div>\n",
       "<div class=\"list-widgets row\">\n",
       "<div class=\"medium-widget blog-widget\">\n",
       "<div class=\"shrubbery\">\n",
       "<h2 class=\"widget-title\"><span aria-hidden=\"true\" class=\"icon-news\"></span>Latest News</h2>\n",
       "<p class=\"give-me-more\"><a href=\"https://blog.python.org\" title=\"More News\">More</a></p>\n",
       "<ul class=\"menu\">\n",
       "<li>\n",
       "<time datetime=\"2022-11-07T17:30:00+00:00\"><span class=\"say-no-more\">2022-</span>11-07</time>\n",
       "<a href=\"https://pyfound.blogspot.com/2022/11/its-time-for-our-annual-year-end-psf.html\">It's time for our annual year-end PSF fundraiser and membership drive 🎉</a></li>\n",
       "<li>\n",
       "<time datetime=\"2022-11-01T19:25:00.000001+00:00\"><span class=\"say-no-more\">2022-</span>11-01</time>\n",
       "<a href=\"https://pyfound.blogspot.com/2022/11/thank-you-for-making-pycon-us-amazing.html\">Thank You for Making PyCon US amazing, Jackie!</a></li>\n",
       "<li>\n",
       "<time datetime=\"2022-10-26T16:09:00.000002+00:00\"><span class=\"say-no-more\">2022-</span>10-26</time>\n",
       "<a href=\"https://pyfound.blogspot.com/2022/10/announcing-python-software-foundation.html\">Announcing Python Software Foundation Fellow Members for Q3 2022! 🎉</a></li>\n",
       "<li>\n",
       "<time datetime=\"2022-10-25T18:34:53.000001+00:00\"><span class=\"say-no-more\">2022-</span>10-25</time>\n",
       "<a href=\"https://mailchi.mp/python/psf-nov-15542325\">Python Software Foundation - October 2022 Newsletter</a></li>\n",
       "<li>\n",
       "<time datetime=\"2022-10-25T04:00:00.000001+00:00\"><span class=\"say-no-more\">2022-</span>10-25</time>\n",
       "<a href=\"https://pythoninsider.blogspot.com/2022/10/python-3120-alpha-1-released.html\">Python 3.12.0 alpha 1 released</a></li>\n",
       "</ul>\n",
       "</div><!-- end .shrubbery -->\n",
       "</div>\n",
       "<div class=\"medium-widget event-widget last\">\n",
       "<div class=\"shrubbery\">\n",
       "<h2 class=\"widget-title\"><span aria-hidden=\"true\" class=\"icon-calendar\"></span>Upcoming Events</h2>\n",
       "<p class=\"give-me-more\"><a href=\"/events/calendars/\" title=\"More Events\">More</a></p>\n",
       "<ul class=\"menu\">\n",
       "<li>\n",
       "<time datetime=\"2022-11-12T00:00:00+00:00\"><span class=\"say-no-more\">2022-</span>11-12</time>\n",
       "<a href=\"/events/python-events/1320/\">PyCon Ireland 2022</a></li>\n",
       "<li>\n",
       "<time datetime=\"2022-11-15T00:00:00+00:00\"><span class=\"say-no-more\">2022-</span>11-15</time>\n",
       "<a href=\"/events/python-events/1378/\">PyChain 2022</a></li>\n",
       "<li>\n",
       "<time datetime=\"2022-11-17T01:00:00+00:00\"><span class=\"say-no-more\">2022-</span>11-17</time>\n",
       "<a href=\"/events/python-user-group/1383/\">Call for Proposals - Speaking at PyCon US 2023 - Fireside Chat with Mariatta Wijaya, Conference Chair</a></li>\n",
       "<li>\n",
       "<time datetime=\"2022-11-26T00:00:00+00:00\"><span class=\"say-no-more\">2022-</span>11-26</time>\n",
       "<a href=\"/events/python-events/1331/\">Pyjamas Conf 2022</a></li>\n",
       "<li>\n",
       "<time datetime=\"2022-11-26T08:00:00+00:00\"><span class=\"say-no-more\">2022-</span>11-26</time>\n",
       "<a href=\"/events/python-user-group/1335/\">Django Girls Groningen</a></li>\n",
       "</ul>\n",
       "</div>\n",
       "</div>\n",
       "</div>\n",
       "<div class=\"row\">\n",
       "<div class=\"medium-widget success-stories-widget\">\n",
       "<div class=\"shrubbery\">\n",
       "<h2 class=\"widget-title\"><span aria-hidden=\"true\" class=\"icon-success-stories\"></span>Success Stories</h2>\n",
       "<p class=\"give-me-more\"><a href=\"/success-stories/\" title=\"More Success Stories\">More</a></p>\n",
       "<div class=\"success-story-item\" id=\"success-story-1101\">\n",
       "<blockquote>\n",
       "<a href=\"/success-stories/a-startup-healthcare-tech-firm-is-now-poised-for-the-future/\">“We feel much better equipped now to handle the challenges. And if we run into an issue, we’ll come to Caktus to hammer it out,\" said Stephen Johnston, VP of Engineering, at Force Therapeutics.</a>\n",
       "</blockquote>\n",
       "<table border=\"0\" cellpadding=\"0\" cellspacing=\"0\" class=\"quote-from\" width=\"100%\">\n",
       "<tbody>\n",
       "<tr>\n",
       "<td><p><a href=\"/success-stories/a-startup-healthcare-tech-firm-is-now-poised-for-the-future/\">A Startup Healthcare Tech Firm Is Now Poised for the Future</a> <em>by Caktus Group</em></p></td>\n",
       "</tr>\n",
       "</tbody>\n",
       "</table>\n",
       "</div>\n",
       "</div><!-- end .shrubbery -->\n",
       "</div>\n",
       "<div class=\"medium-widget applications-widget last\">\n",
       "<div class=\"shrubbery\">\n",
       "<h2 class=\"widget-title\"><span aria-hidden=\"true\" class=\"icon-python\"></span>Use Python for…</h2>\n",
       "<p class=\"give-me-more\"><a href=\"/about/apps\" title=\"More Applications\">More</a></p>\n",
       "<ul class=\"menu\">\n",
       "<li><b>Web Development</b>:\n",
       "        <span class=\"tag-wrapper\"><a class=\"tag\" href=\"http://www.djangoproject.com/\">Django</a>, <a class=\"tag\" href=\"http://www.pylonsproject.org/\">Pyramid</a>, <a class=\"tag\" href=\"http://bottlepy.org\">Bottle</a>, <a class=\"tag\" href=\"http://tornadoweb.org\">Tornado</a>, <a class=\"tag\" href=\"http://flask.pocoo.org/\">Flask</a>, <a class=\"tag\" href=\"http://www.web2py.com/\">web2py</a></span></li>\n",
       "<li><b>GUI Development</b>:\n",
       "        <span class=\"tag-wrapper\"><a class=\"tag\" href=\"http://wiki.python.org/moin/TkInter\">tkInter</a>, <a class=\"tag\" href=\"https://wiki.gnome.org/Projects/PyGObject\">PyGObject</a>, <a class=\"tag\" href=\"http://www.riverbankcomputing.co.uk/software/pyqt/intro\">PyQt</a>, <a class=\"tag\" href=\"https://wiki.qt.io/PySide\">PySide</a>, <a class=\"tag\" href=\"https://kivy.org/\">Kivy</a>, <a class=\"tag\" href=\"http://www.wxpython.org/\">wxPython</a></span></li>\n",
       "<li><b>Scientific and Numeric</b>:\n",
       "        <span class=\"tag-wrapper\">\n",
       "<a class=\"tag\" href=\"http://www.scipy.org\">SciPy</a>, <a class=\"tag\" href=\"http://pandas.pydata.org/\">Pandas</a>, <a class=\"tag\" href=\"http://ipython.org\">IPython</a></span></li>\n",
       "<li><b>Software Development</b>:\n",
       "        <span class=\"tag-wrapper\"><a class=\"tag\" href=\"http://buildbot.net/\">Buildbot</a>, <a class=\"tag\" href=\"http://trac.edgewall.org/\">Trac</a>, <a class=\"tag\" href=\"http://roundup.sourceforge.net/\">Roundup</a></span></li>\n",
       "<li><b>System Administration</b>:\n",
       "        <span class=\"tag-wrapper\"><a class=\"tag\" href=\"http://www.ansible.com\">Ansible</a>, <a class=\"tag\" href=\"https://saltproject.io\">Salt</a>, <a class=\"tag\" href=\"https://www.openstack.org\">OpenStack</a>, <a class=\"tag\" href=\"https://xon.sh\">xonsh</a></span></li>\n",
       "</ul>\n",
       "</div><!-- end .shrubbery -->\n",
       "</div>\n",
       "</div>\n",
       "<div class=\"pep-widget\">\n",
       "<h2 class=\"widget-title\">\n",
       "<span class=\"prompt\">&gt;&gt;&gt;</span> <a href=\"/dev/peps/\">Python Enhancement Proposals<span class=\"say-no-more\"> (PEPs)</span></a>: The future of Python<span class=\"say-no-more\"> is discussed here.</span>\n",
       "<a aria-hidden=\"true\" class=\"rss-link\" href=\"/dev/peps/peps.rss\"><span class=\"icon-feed\"></span> RSS</a>\n",
       "</h2>\n",
       "</div>\n",
       "<div class=\"psf-widget\">\n",
       "<div class=\"python-logo\"></div>\n",
       "<h2 class=\"widget-title\">\n",
       "<span class=\"prompt\">&gt;&gt;&gt;</span> <a href=\"/psf/\">Python Software Foundation</a>\n",
       "</h2>\n",
       "<p>The mission of the Python Software Foundation is to promote, protect, and advance the Python programming language, and to support and facilitate the growth of a diverse and international community of Python programmers. <a class=\"readmore\" href=\"/psf/\">Learn more</a> </p>\n",
       "<p class=\"click-these\">\n",
       "<a class=\"button\" href=\"/users/membership/\">Become a Member</a>\n",
       "<a class=\"button\" href=\"/psf/donations/\">Donate to the PSF</a>\n",
       "</p>\n",
       "</div>\n",
       "</section>\n",
       "</div><!-- end .container -->\n",
       "</div><!-- end #content .content-wrapper -->\n",
       "<!-- Footer and social media list -->\n",
       "<footer class=\"main-footer\" id=\"site-map\" role=\"contentinfo\">\n",
       "<div class=\"main-footer-links\">\n",
       "<div class=\"container\">\n",
       "<a class=\"jump-link\" href=\"#python-network\" id=\"back-to-top-1\"><span aria-hidden=\"true\" class=\"icon-arrow-up\"><span>▲</span></span> Back to Top</a>\n",
       "<ul class=\"sitemap navigation menu do-not-print\" id=\"container\" role=\"tree\">\n",
       "<li class=\"tier-1 element-1\">\n",
       "<a href=\"/about/\">About</a>\n",
       "<ul class=\"subnav menu\">\n",
       "<li class=\"tier-2 element-1\" role=\"treeitem\"><a href=\"/about/apps/\" title=\"\">Applications</a></li>\n",
       "<li class=\"tier-2 element-2\" role=\"treeitem\"><a href=\"/about/quotes/\" title=\"\">Quotes</a></li>\n",
       "<li class=\"tier-2 element-3\" role=\"treeitem\"><a href=\"/about/gettingstarted/\" title=\"\">Getting Started</a></li>\n",
       "<li class=\"tier-2 element-4\" role=\"treeitem\"><a href=\"/about/help/\" title=\"\">Help</a></li>\n",
       "<li class=\"tier-2 element-5\" role=\"treeitem\"><a href=\"http://brochure.getpython.info/\" title=\"\">Python Brochure</a></li>\n",
       "</ul>\n",
       "</li>\n",
       "<li class=\"tier-1 element-2\">\n",
       "<a href=\"/downloads/\">Downloads</a>\n",
       "<ul class=\"subnav menu\">\n",
       "<li class=\"tier-2 element-1\" role=\"treeitem\"><a href=\"/downloads/\" title=\"\">All releases</a></li>\n",
       "<li class=\"tier-2 element-2\" role=\"treeitem\"><a href=\"/downloads/source/\" title=\"\">Source code</a></li>\n",
       "<li class=\"tier-2 element-3\" role=\"treeitem\"><a href=\"/downloads/windows/\" title=\"\">Windows</a></li>\n",
       "<li class=\"tier-2 element-4\" role=\"treeitem\"><a href=\"/downloads/macos/\" title=\"\">macOS</a></li>\n",
       "<li class=\"tier-2 element-5\" role=\"treeitem\"><a href=\"/download/other/\" title=\"\">Other Platforms</a></li>\n",
       "<li class=\"tier-2 element-6\" role=\"treeitem\"><a href=\"https://docs.python.org/3/license.html\" title=\"\">License</a></li>\n",
       "<li class=\"tier-2 element-7\" role=\"treeitem\"><a href=\"/download/alternatives\" title=\"\">Alternative Implementations</a></li>\n",
       "</ul>\n",
       "</li>\n",
       "<li class=\"tier-1 element-3\">\n",
       "<a href=\"/doc/\">Documentation</a>\n",
       "<ul class=\"subnav menu\">\n",
       "<li class=\"tier-2 element-1\" role=\"treeitem\"><a href=\"/doc/\" title=\"\">Docs</a></li>\n",
       "<li class=\"tier-2 element-2\" role=\"treeitem\"><a href=\"/doc/av\" title=\"\">Audio/Visual Talks</a></li>\n",
       "<li class=\"tier-2 element-3\" role=\"treeitem\"><a href=\"https://wiki.python.org/moin/BeginnersGuide\" title=\"\">Beginner's Guide</a></li>\n",
       "<li class=\"tier-2 element-4\" role=\"treeitem\"><a href=\"https://devguide.python.org/\" title=\"\">Developer's Guide</a></li>\n",
       "<li class=\"tier-2 element-5\" role=\"treeitem\"><a href=\"https://docs.python.org/faq/\" title=\"\">FAQ</a></li>\n",
       "<li class=\"tier-2 element-6\" role=\"treeitem\"><a href=\"http://wiki.python.org/moin/Languages\" title=\"\">Non-English Docs</a></li>\n",
       "<li class=\"tier-2 element-7\" role=\"treeitem\"><a href=\"http://python.org/dev/peps/\" title=\"\">PEP Index</a></li>\n",
       "<li class=\"tier-2 element-8\" role=\"treeitem\"><a href=\"https://wiki.python.org/moin/PythonBooks\" title=\"\">Python Books</a></li>\n",
       "<li class=\"tier-2 element-9\" role=\"treeitem\"><a href=\"/doc/essays/\" title=\"\">Python Essays</a></li>\n",
       "</ul>\n",
       "</li>\n",
       "<li class=\"tier-1 element-4\">\n",
       "<a href=\"/community/\">Community</a>\n",
       "<ul class=\"subnav menu\">\n",
       "<li class=\"tier-2 element-1\" role=\"treeitem\"><a href=\"/community/diversity/\" title=\"\">Diversity</a></li>\n",
       "<li class=\"tier-2 element-2\" role=\"treeitem\"><a href=\"/community/lists/\" title=\"\">Mailing Lists</a></li>\n",
       "<li class=\"tier-2 element-3\" role=\"treeitem\"><a href=\"/community/irc/\" title=\"\">IRC</a></li>\n",
       "<li class=\"tier-2 element-4\" role=\"treeitem\"><a href=\"/community/forums/\" title=\"\">Forums</a></li>\n",
       "<li class=\"tier-2 element-5\" role=\"treeitem\"><a href=\"/psf/annual-report/2021/\" title=\"\">PSF Annual Impact Report</a></li>\n",
       "<li class=\"tier-2 element-6\" role=\"treeitem\"><a href=\"/community/workshops/\" title=\"\">Python Conferences</a></li>\n",
       "<li class=\"tier-2 element-7\" role=\"treeitem\"><a href=\"/community/sigs/\" title=\"\">Special Interest Groups</a></li>\n",
       "<li class=\"tier-2 element-8\" role=\"treeitem\"><a href=\"/community/logos/\" title=\"\">Python Logo</a></li>\n",
       "<li class=\"tier-2 element-9\" role=\"treeitem\"><a href=\"https://wiki.python.org/moin/\" title=\"\">Python Wiki</a></li>\n",
       "<li class=\"tier-2 element-10\" role=\"treeitem\"><a href=\"/community/merchandise/\" title=\"\">Merchandise</a></li>\n",
       "<li class=\"tier-2 element-11\" role=\"treeitem\"><a href=\"/community/awards\" title=\"\">Community Awards</a></li>\n",
       "<li class=\"tier-2 element-12\" role=\"treeitem\"><a href=\"/psf/conduct/\" title=\"\">Code of Conduct</a></li>\n",
       "<li class=\"tier-2 element-13\" role=\"treeitem\"><a href=\"/psf/get-involved/\" title=\"\">Get Involved</a></li>\n",
       "<li class=\"tier-2 element-14\" role=\"treeitem\"><a href=\"/psf/community-stories/\" title=\"\">Shared Stories</a></li>\n",
       "</ul>\n",
       "</li>\n",
       "<li class=\"tier-1 element-5\">\n",
       "<a href=\"/success-stories/\" title=\"success-stories\">Success Stories</a>\n",
       "<ul class=\"subnav menu\">\n",
       "<li class=\"tier-2 element-1\" role=\"treeitem\"><a href=\"/success-stories/category/arts/\" title=\"\">Arts</a></li>\n",
       "<li class=\"tier-2 element-2\" role=\"treeitem\"><a href=\"/success-stories/category/business/\" title=\"\">Business</a></li>\n",
       "<li class=\"tier-2 element-3\" role=\"treeitem\"><a href=\"/success-stories/category/education/\" title=\"\">Education</a></li>\n",
       "<li class=\"tier-2 element-4\" role=\"treeitem\"><a href=\"/success-stories/category/engineering/\" title=\"\">Engineering</a></li>\n",
       "<li class=\"tier-2 element-5\" role=\"treeitem\"><a href=\"/success-stories/category/government/\" title=\"\">Government</a></li>\n",
       "<li class=\"tier-2 element-6\" role=\"treeitem\"><a href=\"/success-stories/category/scientific/\" title=\"\">Scientific</a></li>\n",
       "<li class=\"tier-2 element-7\" role=\"treeitem\"><a href=\"/success-stories/category/software-development/\" title=\"\">Software Development</a></li>\n",
       "</ul>\n",
       "</li>\n",
       "<li class=\"tier-1 element-6\">\n",
       "<a href=\"/blogs/\" title=\"News from around the Python world\">News</a>\n",
       "<ul class=\"subnav menu\">\n",
       "<li class=\"tier-2 element-1\" role=\"treeitem\"><a href=\"/blogs/\" title=\"Python Insider Blog Posts\">Python News</a></li>\n",
       "<li class=\"tier-2 element-2\" role=\"treeitem\"><a href=\"/psf/newsletter/\" title=\"Python Software Foundation Newsletter\">PSF Newsletter</a></li>\n",
       "<li class=\"tier-2 element-3\" role=\"treeitem\"><a href=\"http://planetpython.org/\" title=\"Planet Python\">Community News</a></li>\n",
       "<li class=\"tier-2 element-4\" role=\"treeitem\"><a href=\"http://pyfound.blogspot.com/\" title=\"PSF Blog\">PSF News</a></li>\n",
       "<li class=\"tier-2 element-5\" role=\"treeitem\"><a href=\"http://pycon.blogspot.com/\" title=\"PyCon Blog\">PyCon News</a></li>\n",
       "</ul>\n",
       "</li>\n",
       "<li class=\"tier-1 element-7\">\n",
       "<a href=\"/events/\">Events</a>\n",
       "<ul class=\"subnav menu\">\n",
       "<li class=\"tier-2 element-1\" role=\"treeitem\"><a href=\"/events/python-events/\" title=\"\">Python Events</a></li>\n",
       "<li class=\"tier-2 element-2\" role=\"treeitem\"><a href=\"/events/python-user-group/\" title=\"\">User Group Events</a></li>\n",
       "<li class=\"tier-2 element-3\" role=\"treeitem\"><a href=\"/events/python-events/past/\" title=\"\">Python Events Archive</a></li>\n",
       "<li class=\"tier-2 element-4\" role=\"treeitem\"><a href=\"/events/python-user-group/past/\" title=\"\">User Group Events Archive</a></li>\n",
       "<li class=\"tier-2 element-5\" role=\"treeitem\"><a href=\"https://wiki.python.org/moin/PythonEventsCalendar#Submitting_an_Event\" title=\"\">Submit an Event</a></li>\n",
       "</ul>\n",
       "</li>\n",
       "<li class=\"tier-1 element-8\">\n",
       "<a href=\"/dev/\">Contributing</a>\n",
       "<ul class=\"subnav menu\">\n",
       "<li class=\"tier-2 element-1\" role=\"treeitem\"><a href=\"https://devguide.python.org/\" title=\"\">Developer's Guide</a></li>\n",
       "<li class=\"tier-2 element-2\" role=\"treeitem\"><a href=\"https://bugs.python.org/\" title=\"\">Issue Tracker</a></li>\n",
       "<li class=\"tier-2 element-3\" role=\"treeitem\"><a href=\"https://mail.python.org/mailman/listinfo/python-dev\" title=\"\">python-dev list</a></li>\n",
       "<li class=\"tier-2 element-4\" role=\"treeitem\"><a href=\"/dev/core-mentorship/\" title=\"\">Core Mentorship</a></li>\n",
       "<li class=\"tier-2 element-5\" role=\"treeitem\"><a href=\"/dev/security/\" title=\"\">Report a Security Issue</a></li>\n",
       "</ul>\n",
       "</li>\n",
       "</ul>\n",
       "<a class=\"jump-link\" href=\"#python-network\" id=\"back-to-top-2\"><span aria-hidden=\"true\" class=\"icon-arrow-up\"><span>▲</span></span> Back to Top</a>\n",
       "</div><!-- end .container -->\n",
       "</div> <!-- end .main-footer-links -->\n",
       "<div class=\"site-base\">\n",
       "<div class=\"container\">\n",
       "<ul class=\"footer-links navigation menu do-not-print\" role=\"tree\">\n",
       "<li class=\"tier-1 element-1\"><a href=\"/about/help/\">Help &amp; <span class=\"say-no-more\">General</span> Contact</a></li>\n",
       "<li class=\"tier-1 element-2\"><a href=\"/community/diversity/\">Diversity <span class=\"say-no-more\">Initiatives</span></a></li>\n",
       "<li class=\"tier-1 element-3\"><a href=\"https://github.com/python/pythondotorg/issues\">Submit Website Bug</a></li>\n",
       "<li class=\"tier-1 element-4\">\n",
       "<a href=\"https://status.python.org/\">Status <span class=\"python-status-indicator-default\" id=\"python-status-indicator\"></span></a>\n",
       "</li>\n",
       "</ul>\n",
       "<div class=\"copyright\">\n",
       "<p><small>\n",
       "<span class=\"pre\">Copyright ©2001-2022.</span>\n",
       "                             <span class=\"pre\"><a href=\"/psf-landing/\">Python Software Foundation</a></span>\n",
       "                             <span class=\"pre\"><a href=\"/about/legal/\">Legal Statements</a></span>\n",
       "                             <span class=\"pre\"><a href=\"/privacy/\">Privacy Policy</a></span>\n",
       "                             <span class=\"pre\"><a href=\"/psf/sponsorship/sponsors/#heroku\">Powered by Heroku</a></span>\n",
       "</small></p>\n",
       "</div>\n",
       "</div><!-- end .container -->\n",
       "</div><!-- end .site-base -->\n",
       "</footer>\n",
       "</div><!-- end #touchnav-wrapper -->\n",
       "<script src=\"//ajax.googleapis.com/ajax/libs/jquery/1.8.2/jquery.min.js\"></script>\n",
       "<script>window.jQuery || document.write('<script src=\"/static/js/libs/jquery-1.8.2.min.js\"><\\/script>')</script>\n",
       "<script src=\"//ajax.googleapis.com/ajax/libs/jqueryui/1.12.1/jquery-ui.min.js\"></script>\n",
       "<script>window.jQuery || document.write('<script src=\"/static/js/libs/jquery-ui-1.12.1.min.js\"><\\/script>')</script>\n",
       "<script src=\"/static/js/libs/masonry.pkgd.min.js\"></script>\n",
       "<script src=\"/static/js/libs/html-includes.js\"></script>\n",
       "<script charset=\"utf-8\" src=\"/static/js/main-min.f5487accf7ed.js\" type=\"text/javascript\"></script>\n",
       "<!--[if lte IE 7]>\n",
       "    <script type=\"text/javascript\" src=\"/static/js/plugins/IE8-min.8af6e26c7a3b.js\" charset=\"utf-8\"></script>\n",
       "    \n",
       "    \n",
       "    <![endif]-->\n",
       "<!--[if lte IE 8]>\n",
       "    <script type=\"text/javascript\" src=\"/static/js/plugins/getComputedStyle-min.d41d8cd98f00.js\" charset=\"utf-8\"></script>\n",
       "    \n",
       "    \n",
       "    <![endif]-->\n",
       "</body>\n",
       "</html>"
      ]
     },
     "execution_count": 9,
     "metadata": {},
     "output_type": "execute_result"
    }
   ],
   "source": [
    "soup\n"
   ]
  },
  {
   "cell_type": "code",
   "execution_count": 11,
   "id": "ca0071b3",
   "metadata": {},
   "outputs": [
    {
     "data": {
      "text/plain": [
       "'<!DOCTYPE html>\\n<!--[if lt IE 7]>   <html class=\"no-js ie6 lt-ie7 lt-ie8 lt-ie9\">   <![endif]-->\\n<!--[if IE 7]>      <html class=\"no-js ie7 lt-ie8 lt-ie9\">          <![endif]-->\\n<!--[if IE 8]>      <html class=\"no-js ie8 lt-ie9\">                 <![endif]-->\\n<!--[if gt IE 8]><!-->\\n<html class=\"no-js\" dir=\"ltr\" lang=\"en\">\\n <!--<![endif]-->\\n <head>\\n  <meta charset=\"utf-8\"/>\\n  <meta content=\"IE=edge\" http-equiv=\"X-UA-Compatible\"/>\\n  <link href=\"//ajax.googleapis.com/ajax/libs/jquery/1.8.2/jquery.min.js\" rel=\"prefetch\"/>\\n  <link href=\"//ajax.googleapis.com/ajax/libs/jqueryui/1.12.1/jquery-ui.min.js\" rel=\"prefetch\"/>\\n  <meta content=\"Python.org\" name=\"application-name\"/>\\n  <meta content=\"The official home of the Python Programming Language\" name=\"msapplication-tooltip\"/>\\n  <meta content=\"Python.org\" name=\"apple-mobile-web-app-title\"/>\\n  <meta content=\"yes\" name=\"apple-mobile-web-app-capable\"/>\\n  <meta content=\"black\" name=\"apple-mobile-web-app-status-bar-style\"/>\\n  <meta content=\"width=device-width, initial-scale=1.0\" name=\"viewport\"/>\\n  <meta content=\"True\" name=\"HandheldFriendly\"/>\\n  <meta content=\"telephone=no\" name=\"format-detection\"/>\\n  <meta content=\"on\" http-equiv=\"cleartype\"/>\\n  <meta content=\"false\" http-equiv=\"imagetoolbar\"/>\\n  <script async=\"\" crossorigin=\"anonymous\" integrity=\"sha256-U3hKDidudIaxBDEzwGJApJgPEf2mWk6cfMWghrAa6i0= sha384-UcmsCqcNRSLW/dV3Lo1oCi2/VaurXbib6p4HyUEOeIa/4OpsrnucrugAefzVZJfI sha512-q4t1L4xEjGV2R4hzqCa41P8jrgFUS8xTb8rdNv4FGvw7FpydVj/kkxBJHOiaoxHa8olCcx1Slk9K+3sNbsM4ug==\" src=\"https://media.ethicalads.io/media/client/v1.4.0/ethicalads.min.js\">\\n  </script>\\n  <script src=\"/static/js/libs/modernizr.js\">\\n  </script>\\n  <link href=\"/static/stylesheets/style.2135bffe4dde.css\" media=\"all\" rel=\"stylesheet\" title=\"default\" type=\"text/css\">\\n   <link href=\"/static/stylesheets/mq.f9187444a4a1.css\" media=\"not print, braille, embossed, speech, tty\" rel=\"stylesheet\" type=\"text/css\">\\n    <!--[if (lte IE 8)&(!IEMobile)]>\\n    <link href=\"/static/stylesheets/no-mq.bf0c425cdb73.css\" rel=\"stylesheet\" type=\"text/css\" media=\"screen\" />\\n    \\n    \\n    <![endif]-->\\n    <link href=\"//ajax.googleapis.com/ajax/libs/jqueryui/1.12.1/themes/smoothness/jquery-ui.css\" rel=\"stylesheet\"/>\\n    <link href=\"/static/favicon.ico\" rel=\"icon\" type=\"image/x-icon\"/>\\n    <link href=\"/static/apple-touch-icon-144x144-precomposed.png\" rel=\"apple-touch-icon-precomposed\" sizes=\"144x144\"/>\\n    <link href=\"/static/apple-touch-icon-114x114-precomposed.png\" rel=\"apple-touch-icon-precomposed\" sizes=\"114x114\"/>\\n    <link href=\"/static/apple-touch-icon-72x72-precomposed.png\" rel=\"apple-touch-icon-precomposed\" sizes=\"72x72\"/>\\n    <link href=\"/static/apple-touch-icon-precomposed.png\" rel=\"apple-touch-icon-precomposed\"/>\\n    <link href=\"/static/apple-touch-icon-precomposed.png\" rel=\"apple-touch-icon\"/>\\n    <meta content=\"/static/metro-icon-144x144-precomposed.png\" name=\"msapplication-TileImage\"/>\\n    <!-- white shape -->\\n    <meta content=\"#3673a5\" name=\"msapplication-TileColor\"/>\\n    <!-- python blue -->\\n    <meta content=\"#3673a5\" name=\"msapplication-navbutton-color\"/>\\n    <title>\\n     Welcome to Python.org\\n    </title>\\n    <meta content=\"The official home of the Python Programming Language\" name=\"description\"/>\\n    <meta content=\"Python programming language object oriented web free open source software license documentation download community\" name=\"keywords\"/>\\n    <meta content=\"website\" property=\"og:type\"/>\\n    <meta content=\"Python.org\" property=\"og:site_name\"/>\\n    <meta content=\"Welcome to Python.org\" property=\"og:title\"/>\\n    <meta content=\"The official home of the Python Programming Language\" property=\"og:description\"/>\\n    <meta content=\"https://www.python.org/static/opengraph-icon-200x200.png\" property=\"og:image\"/>\\n    <meta content=\"https://www.python.org/static/opengraph-icon-200x200.png\" property=\"og:image:secure_url\"/>\\n    <meta content=\"https://www.python.org/\" property=\"og:url\"/>\\n    <link href=\"/humans.txt\" rel=\"author\"/>\\n    <link href=\"https://www.python.org/dev/peps/peps.rss/\" rel=\"alternate\" title=\"Python Enhancement Proposals\" type=\"application/rss+xml\"/>\\n    <link href=\"https://www.python.org/jobs/feed/rss/\" rel=\"alternate\" title=\"Python Job Opportunities\" type=\"application/rss+xml\"/>\\n    <link href=\"https://feeds.feedburner.com/PythonSoftwareFoundationNews\" rel=\"alternate\" title=\"Python Software Foundation News\" type=\"application/rss+xml\"/>\\n    <link href=\"https://feeds.feedburner.com/PythonInsider\" rel=\"alternate\" title=\"Python Insider\" type=\"application/rss+xml\"/>\\n    <script type=\"application/ld+json\">\\n     {\\n       \"@context\": \"https://schema.org\",\\n       \"@type\": \"WebSite\",\\n       \"url\": \"https://www.python.org/\",\\n       \"potentialAction\": {\\n         \"@type\": \"SearchAction\",\\n         \"target\": \"https://www.python.org/search/?q={search_term_string}\",\\n         \"query-input\": \"required name=search_term_string\"\\n       }\\n     }\\n    </script>\\n    <script type=\"text/javascript\">\\n     var _gaq = _gaq || [];\\n    _gaq.push([\\'_setAccount\\', \\'UA-39055973-1\\']);\\n    _gaq.push([\\'_trackPageview\\']);\\n\\n    (function() {\\n        var ga = document.createElement(\\'script\\'); ga.type = \\'text/javascript\\'; ga.async = true;\\n        ga.src = (\\'https:\\' == document.location.protocol ? \\'https://ssl\\' : \\'http://www\\') + \\'.google-analytics.com/ga.js\\';\\n        var s = document.getElementsByTagName(\\'script\\')[0]; s.parentNode.insertBefore(ga, s);\\n    })();\\n    </script>\\n   </link>\\n  </link>\\n </head>\\n <body class=\"python home\" id=\"homepage\">\\n  <div id=\"touchnav-wrapper\">\\n   <div class=\"do-not-print\" id=\"nojs\">\\n    <p>\\n     <strong>\\n      Notice:\\n     </strong>\\n     While JavaScript is not essential for this website, your interaction with the content will be limited. Please turn JavaScript on for the full experience.\\n    </p>\\n   </div>\\n   <!--[if lte IE 8]>\\n        <div id=\"oldie-warning\" class=\"do-not-print\">\\n            <p>\\n                <strong>Notice:</strong> Your browser is <em>ancient</em>. Please\\n                <a href=\"http://browsehappy.com/\">upgrade to a different browser</a> to experience a better web.\\n            </p>\\n        </div>\\n        <![endif]-->\\n   <!-- Sister Site Links -->\\n   <div class=\"top-bar do-not-print\" id=\"top\">\\n    <nav class=\"meta-navigation container\" role=\"navigation\">\\n     <div class=\"skip-link screen-reader-text\">\\n      <a href=\"#content\" title=\"Skip to content\">\\n       Skip to content\\n      </a>\\n     </div>\\n     <a aria-hidden=\"true\" class=\"jump-link\" href=\"#python-network\" id=\"close-python-network\">\\n      <span aria-hidden=\"true\" class=\"icon-arrow-down\">\\n       <span>\\n        ▼\\n       </span>\\n      </span>\\n      Close\\n     </a>\\n     <ul class=\"menu\" role=\"tree\">\\n      <li class=\"python-meta current_item selectedcurrent_branch selected\">\\n       <a class=\"current_item selectedcurrent_branch selected\" href=\"/\" title=\"The Python Programming Language\">\\n        Python\\n       </a>\\n      </li>\\n      <li class=\"psf-meta\">\\n       <a href=\"/psf-landing/\" title=\"The Python Software Foundation\">\\n        PSF\\n       </a>\\n      </li>\\n      <li class=\"docs-meta\">\\n       <a href=\"https://docs.python.org\" title=\"Python Documentation\">\\n        Docs\\n       </a>\\n      </li>\\n      <li class=\"pypi-meta\">\\n       <a href=\"https://pypi.org/\" title=\"Python Package Index\">\\n        PyPI\\n       </a>\\n      </li>\\n      <li class=\"jobs-meta\">\\n       <a href=\"/jobs/\" title=\"Python Job Board\">\\n        Jobs\\n       </a>\\n      </li>\\n      <li class=\"shop-meta\">\\n       <a href=\"/community-landing/\">\\n        Community\\n       </a>\\n      </li>\\n     </ul>\\n     <a aria-hidden=\"true\" class=\"jump-link\" href=\"#top\" id=\"python-network\">\\n      <span aria-hidden=\"true\" class=\"icon-arrow-up\">\\n       <span>\\n        ▲\\n       </span>\\n      </span>\\n      The Python Network\\n     </a>\\n    </nav>\\n   </div>\\n   <!-- Header elements -->\\n   <header class=\"main-header\" role=\"banner\">\\n    <div class=\"container\">\\n     <h1 class=\"site-headline\">\\n      <a href=\"/\">\\n       <img alt=\"python™\" class=\"python-logo\" src=\"/static/img/python-logo.png\"/>\\n      </a>\\n     </h1>\\n     <div class=\"options-bar-container do-not-print\">\\n      <a class=\"donate-button\" href=\"https://psfmember.org/civicrm/contribute/transact?reset=1&amp;id=2\">\\n       Donate\\n      </a>\\n      <div class=\"options-bar\">\\n       <a class=\"jump-to-menu\" href=\"#site-map\" id=\"site-map-link\">\\n        <span class=\"menu-icon\">\\n         ≡\\n        </span>\\n        Menu\\n       </a>\\n       <form action=\"/search/\" class=\"search-the-site\" method=\"get\">\\n        <fieldset title=\"Search Python.org\">\\n         <span aria-hidden=\"true\" class=\"icon-search\">\\n         </span>\\n         <label class=\"screen-reader-text\" for=\"id-search-field\">\\n          Search This Site\\n         </label>\\n         <input class=\"search-field\" id=\"id-search-field\" name=\"q\" placeholder=\"Search\" role=\"textbox\" tabindex=\"1\" type=\"search\" value=\"\"/>\\n         <button class=\"search-button\" id=\"submit\" name=\"submit\" tabindex=\"3\" title=\"Submit this Search\" type=\"submit\">\\n          GO\\n         </button>\\n         <!--[if IE]><input type=\"text\" style=\"display: none;\" disabled=\"disabled\" size=\"1\" tabindex=\"4\"><![endif]-->\\n        </fieldset>\\n       </form>\\n       <span class=\"breaker\">\\n       </span>\\n       <div aria-hidden=\"true\" class=\"adjust-font-size\">\\n        <ul aria-label=\"Adjust Text Size on Page\" class=\"navigation menu\">\\n         <li aria-haspopup=\"true\" class=\"tier-1 last\">\\n          <a class=\"action-trigger\" href=\"#\">\\n           <strong>\\n            <small>\\n             A\\n            </small>\\n            A\\n           </strong>\\n          </a>\\n          <ul class=\"subnav menu\">\\n           <li class=\"tier-2 element-1\" role=\"treeitem\">\\n            <a class=\"text-shrink\" href=\"javascript:;\" title=\"Make Text Smaller\">\\n             Smaller\\n            </a>\\n           </li>\\n           <li class=\"tier-2 element-2\" role=\"treeitem\">\\n            <a class=\"text-grow\" href=\"javascript:;\" title=\"Make Text Larger\">\\n             Larger\\n            </a>\\n           </li>\\n           <li class=\"tier-2 element-3\" role=\"treeitem\">\\n            <a class=\"text-reset\" href=\"javascript:;\" title=\"Reset any font size changes I have made\">\\n             Reset\\n            </a>\\n           </li>\\n          </ul>\\n         </li>\\n        </ul>\\n       </div>\\n       <div class=\"winkwink-nudgenudge\">\\n        <ul aria-label=\"Social Media Navigation\" class=\"navigation menu\">\\n         <li aria-haspopup=\"true\" class=\"tier-1 last\">\\n          <a class=\"action-trigger\" href=\"#\">\\n           Socialize\\n          </a>\\n          <ul class=\"subnav menu\">\\n           <li class=\"tier-2 element-1\" role=\"treeitem\">\\n            <a href=\"https://www.facebook.com/pythonlang?fref=ts\">\\n             <span aria-hidden=\"true\" class=\"icon-facebook\">\\n             </span>\\n             Facebook\\n            </a>\\n           </li>\\n           <li class=\"tier-2 element-2\" role=\"treeitem\">\\n            <a href=\"https://twitter.com/ThePSF\">\\n             <span aria-hidden=\"true\" class=\"icon-twitter\">\\n             </span>\\n             Twitter\\n            </a>\\n           </li>\\n           <li class=\"tier-2 element-3\" role=\"treeitem\">\\n            <a href=\"/community/irc/\">\\n             <span aria-hidden=\"true\" class=\"icon-freenode\">\\n             </span>\\n             Chat on IRC\\n            </a>\\n           </li>\\n          </ul>\\n         </li>\\n        </ul>\\n       </div>\\n       <span data-html-include=\"/authenticated\">\\n       </span>\\n      </div>\\n      <!-- end options-bar -->\\n     </div>\\n     <nav class=\"python-navigation main-navigation do-not-print\" id=\"mainnav\" role=\"navigation\">\\n      <ul aria-label=\"Main Navigation\" class=\"navigation menu\" role=\"menubar\">\\n       <li aria-haspopup=\"true\" class=\"tier-1 element-1\" id=\"about\">\\n        <a class=\"\" href=\"/about/\" title=\"\">\\n         About\\n        </a>\\n        <ul aria-hidden=\"true\" class=\"subnav menu\" role=\"menu\">\\n         <li class=\"tier-2 element-1\" role=\"treeitem\">\\n          <a href=\"/about/apps/\" title=\"\">\\n           Applications\\n          </a>\\n         </li>\\n         <li class=\"tier-2 element-2\" role=\"treeitem\">\\n          <a href=\"/about/quotes/\" title=\"\">\\n           Quotes\\n          </a>\\n         </li>\\n         <li class=\"tier-2 element-3\" role=\"treeitem\">\\n          <a href=\"/about/gettingstarted/\" title=\"\">\\n           Getting Started\\n          </a>\\n         </li>\\n         <li class=\"tier-2 element-4\" role=\"treeitem\">\\n          <a href=\"/about/help/\" title=\"\">\\n           Help\\n          </a>\\n         </li>\\n         <li class=\"tier-2 element-5\" role=\"treeitem\">\\n          <a href=\"http://brochure.getpython.info/\" title=\"\">\\n           Python Brochure\\n          </a>\\n         </li>\\n        </ul>\\n       </li>\\n       <li aria-haspopup=\"true\" class=\"tier-1 element-2\" id=\"downloads\">\\n        <a class=\"\" href=\"/downloads/\" title=\"\">\\n         Downloads\\n        </a>\\n        <ul aria-hidden=\"true\" class=\"subnav menu\" role=\"menu\">\\n         <li class=\"tier-2 element-1\" role=\"treeitem\">\\n          <a href=\"/downloads/\" title=\"\">\\n           All releases\\n          </a>\\n         </li>\\n         <li class=\"tier-2 element-2\" role=\"treeitem\">\\n          <a href=\"/downloads/source/\" title=\"\">\\n           Source code\\n          </a>\\n         </li>\\n         <li class=\"tier-2 element-3\" role=\"treeitem\">\\n          <a href=\"/downloads/windows/\" title=\"\">\\n           Windows\\n          </a>\\n         </li>\\n         <li class=\"tier-2 element-4\" role=\"treeitem\">\\n          <a href=\"/downloads/macos/\" title=\"\">\\n           macOS\\n          </a>\\n         </li>\\n         <li class=\"tier-2 element-5\" role=\"treeitem\">\\n          <a href=\"/download/other/\" title=\"\">\\n           Other Platforms\\n          </a>\\n         </li>\\n         <li class=\"tier-2 element-6\" role=\"treeitem\">\\n          <a href=\"https://docs.python.org/3/license.html\" title=\"\">\\n           License\\n          </a>\\n         </li>\\n         <li class=\"tier-2 element-7\" role=\"treeitem\">\\n          <a href=\"/download/alternatives\" title=\"\">\\n           Alternative Implementations\\n          </a>\\n         </li>\\n        </ul>\\n       </li>\\n       <li aria-haspopup=\"true\" class=\"tier-1 element-3\" id=\"documentation\">\\n        <a class=\"\" href=\"/doc/\" title=\"\">\\n         Documentation\\n        </a>\\n        <ul aria-hidden=\"true\" class=\"subnav menu\" role=\"menu\">\\n         <li class=\"tier-2 element-1\" role=\"treeitem\">\\n          <a href=\"/doc/\" title=\"\">\\n           Docs\\n          </a>\\n         </li>\\n         <li class=\"tier-2 element-2\" role=\"treeitem\">\\n          <a href=\"/doc/av\" title=\"\">\\n           Audio/Visual Talks\\n          </a>\\n         </li>\\n         <li class=\"tier-2 element-3\" role=\"treeitem\">\\n          <a href=\"https://wiki.python.org/moin/BeginnersGuide\" title=\"\">\\n           Beginner\\'s Guide\\n          </a>\\n         </li>\\n         <li class=\"tier-2 element-4\" role=\"treeitem\">\\n          <a href=\"https://devguide.python.org/\" title=\"\">\\n           Developer\\'s Guide\\n          </a>\\n         </li>\\n         <li class=\"tier-2 element-5\" role=\"treeitem\">\\n          <a href=\"https://docs.python.org/faq/\" title=\"\">\\n           FAQ\\n          </a>\\n         </li>\\n         <li class=\"tier-2 element-6\" role=\"treeitem\">\\n          <a href=\"http://wiki.python.org/moin/Languages\" title=\"\">\\n           Non-English Docs\\n          </a>\\n         </li>\\n         <li class=\"tier-2 element-7\" role=\"treeitem\">\\n          <a href=\"http://python.org/dev/peps/\" title=\"\">\\n           PEP Index\\n          </a>\\n         </li>\\n         <li class=\"tier-2 element-8\" role=\"treeitem\">\\n          <a href=\"https://wiki.python.org/moin/PythonBooks\" title=\"\">\\n           Python Books\\n          </a>\\n         </li>\\n         <li class=\"tier-2 element-9\" role=\"treeitem\">\\n          <a href=\"/doc/essays/\" title=\"\">\\n           Python Essays\\n          </a>\\n         </li>\\n        </ul>\\n       </li>\\n       <li aria-haspopup=\"true\" class=\"tier-1 element-4\" id=\"community\">\\n        <a class=\"\" href=\"/community/\" title=\"\">\\n         Community\\n        </a>\\n        <ul aria-hidden=\"true\" class=\"subnav menu\" role=\"menu\">\\n         <li class=\"tier-2 element-1\" role=\"treeitem\">\\n          <a href=\"/community/diversity/\" title=\"\">\\n           Diversity\\n          </a>\\n         </li>\\n         <li class=\"tier-2 element-2\" role=\"treeitem\">\\n          <a href=\"/community/lists/\" title=\"\">\\n           Mailing Lists\\n          </a>\\n         </li>\\n         <li class=\"tier-2 element-3\" role=\"treeitem\">\\n          <a href=\"/community/irc/\" title=\"\">\\n           IRC\\n          </a>\\n         </li>\\n         <li class=\"tier-2 element-4\" role=\"treeitem\">\\n          <a href=\"/community/forums/\" title=\"\">\\n           Forums\\n          </a>\\n         </li>\\n         <li class=\"tier-2 element-5\" role=\"treeitem\">\\n          <a href=\"/psf/annual-report/2021/\" title=\"\">\\n           PSF Annual Impact Report\\n          </a>\\n         </li>\\n         <li class=\"tier-2 element-6\" role=\"treeitem\">\\n          <a href=\"/community/workshops/\" title=\"\">\\n           Python Conferences\\n          </a>\\n         </li>\\n         <li class=\"tier-2 element-7\" role=\"treeitem\">\\n          <a href=\"/community/sigs/\" title=\"\">\\n           Special Interest Groups\\n          </a>\\n         </li>\\n         <li class=\"tier-2 element-8\" role=\"treeitem\">\\n          <a href=\"/community/logos/\" title=\"\">\\n           Python Logo\\n          </a>\\n         </li>\\n         <li class=\"tier-2 element-9\" role=\"treeitem\">\\n          <a href=\"https://wiki.python.org/moin/\" title=\"\">\\n           Python Wiki\\n          </a>\\n         </li>\\n         <li class=\"tier-2 element-10\" role=\"treeitem\">\\n          <a href=\"/community/merchandise/\" title=\"\">\\n           Merchandise\\n          </a>\\n         </li>\\n         <li class=\"tier-2 element-11\" role=\"treeitem\">\\n          <a href=\"/community/awards\" title=\"\">\\n           Community Awards\\n          </a>\\n         </li>\\n         <li class=\"tier-2 element-12\" role=\"treeitem\">\\n          <a href=\"/psf/conduct/\" title=\"\">\\n           Code of Conduct\\n          </a>\\n         </li>\\n         <li class=\"tier-2 element-13\" role=\"treeitem\">\\n          <a href=\"/psf/get-involved/\" title=\"\">\\n           Get Involved\\n          </a>\\n         </li>\\n         <li class=\"tier-2 element-14\" role=\"treeitem\">\\n          <a href=\"/psf/community-stories/\" title=\"\">\\n           Shared Stories\\n          </a>\\n         </li>\\n        </ul>\\n       </li>\\n       <li aria-haspopup=\"true\" class=\"tier-1 element-5\" id=\"success-stories\">\\n        <a class=\"\" href=\"/success-stories/\" title=\"success-stories\">\\n         Success Stories\\n        </a>\\n        <ul aria-hidden=\"true\" class=\"subnav menu\" role=\"menu\">\\n         <li class=\"tier-2 element-1\" role=\"treeitem\">\\n          <a href=\"/success-stories/category/arts/\" title=\"\">\\n           Arts\\n          </a>\\n         </li>\\n         <li class=\"tier-2 element-2\" role=\"treeitem\">\\n          <a href=\"/success-stories/category/business/\" title=\"\">\\n           Business\\n          </a>\\n         </li>\\n         <li class=\"tier-2 element-3\" role=\"treeitem\">\\n          <a href=\"/success-stories/category/education/\" title=\"\">\\n           Education\\n          </a>\\n         </li>\\n         <li class=\"tier-2 element-4\" role=\"treeitem\">\\n          <a href=\"/success-stories/category/engineering/\" title=\"\">\\n           Engineering\\n          </a>\\n         </li>\\n         <li class=\"tier-2 element-5\" role=\"treeitem\">\\n          <a href=\"/success-stories/category/government/\" title=\"\">\\n           Government\\n          </a>\\n         </li>\\n         <li class=\"tier-2 element-6\" role=\"treeitem\">\\n          <a href=\"/success-stories/category/scientific/\" title=\"\">\\n           Scientific\\n          </a>\\n         </li>\\n         <li class=\"tier-2 element-7\" role=\"treeitem\">\\n          <a href=\"/success-stories/category/software-development/\" title=\"\">\\n           Software Development\\n          </a>\\n         </li>\\n        </ul>\\n       </li>\\n       <li aria-haspopup=\"true\" class=\"tier-1 element-6\" id=\"news\">\\n        <a class=\"\" href=\"/blogs/\" title=\"News from around the Python world\">\\n         News\\n        </a>\\n        <ul aria-hidden=\"true\" class=\"subnav menu\" role=\"menu\">\\n         <li class=\"tier-2 element-1\" role=\"treeitem\">\\n          <a href=\"/blogs/\" title=\"Python Insider Blog Posts\">\\n           Python News\\n          </a>\\n         </li>\\n         <li class=\"tier-2 element-2\" role=\"treeitem\">\\n          <a href=\"/psf/newsletter/\" title=\"Python Software Foundation Newsletter\">\\n           PSF Newsletter\\n          </a>\\n         </li>\\n         <li class=\"tier-2 element-3\" role=\"treeitem\">\\n          <a href=\"http://planetpython.org/\" title=\"Planet Python\">\\n           Community News\\n          </a>\\n         </li>\\n         <li class=\"tier-2 element-4\" role=\"treeitem\">\\n          <a href=\"http://pyfound.blogspot.com/\" title=\"PSF Blog\">\\n           PSF News\\n          </a>\\n         </li>\\n         <li class=\"tier-2 element-5\" role=\"treeitem\">\\n          <a href=\"http://pycon.blogspot.com/\" title=\"PyCon Blog\">\\n           PyCon News\\n          </a>\\n         </li>\\n        </ul>\\n       </li>\\n       <li aria-haspopup=\"true\" class=\"tier-1 element-7\" id=\"events\">\\n        <a class=\"\" href=\"/events/\" title=\"\">\\n         Events\\n        </a>\\n        <ul aria-hidden=\"true\" class=\"subnav menu\" role=\"menu\">\\n         <li class=\"tier-2 element-1\" role=\"treeitem\">\\n          <a href=\"/events/python-events/\" title=\"\">\\n           Python Events\\n          </a>\\n         </li>\\n         <li class=\"tier-2 element-2\" role=\"treeitem\">\\n          <a href=\"/events/python-user-group/\" title=\"\">\\n           User Group Events\\n          </a>\\n         </li>\\n         <li class=\"tier-2 element-3\" role=\"treeitem\">\\n          <a href=\"/events/python-events/past/\" title=\"\">\\n           Python Events Archive\\n          </a>\\n         </li>\\n         <li class=\"tier-2 element-4\" role=\"treeitem\">\\n          <a href=\"/events/python-user-group/past/\" title=\"\">\\n           User Group Events Archive\\n          </a>\\n         </li>\\n         <li class=\"tier-2 element-5\" role=\"treeitem\">\\n          <a href=\"https://wiki.python.org/moin/PythonEventsCalendar#Submitting_an_Event\" title=\"\">\\n           Submit an Event\\n          </a>\\n         </li>\\n        </ul>\\n       </li>\\n      </ul>\\n     </nav>\\n     <div class=\"header-banner\">\\n      <!-- for optional \"do-not-print\" class -->\\n      <div class=\"flex-slideshow slideshow\" id=\"dive-into-python\">\\n       <ul class=\"launch-shell menu\" id=\"launch-shell\">\\n        <li>\\n         <a class=\"button prompt\" data-shell-container=\"#dive-into-python\" href=\"/shell/\" id=\"start-shell\">\\n          &gt;_\\n          <span class=\"message\">\\n           Launch Interactive Shell\\n          </span>\\n         </a>\\n        </li>\\n       </ul>\\n       <ul class=\"slides menu\">\\n        <li>\\n         <div class=\"slide-code\">\\n          <pre><code><span class=\"comment\"># Python 3: Fibonacci series up to n</span>\\r\\n&gt;&gt;&gt; def fib(n):\\r\\n&gt;&gt;&gt;     a, b = 0, 1\\r\\n&gt;&gt;&gt;     while a &lt; n:\\r\\n&gt;&gt;&gt;         print(a, end=\\' \\')\\r\\n&gt;&gt;&gt;         a, b = b, a+b\\r\\n&gt;&gt;&gt;     print()\\r\\n&gt;&gt;&gt; fib(1000)\\r\\n<span class=\"output\">0 1 1 2 3 5 8 13 21 34 55 89 144 233 377 610 987</span></code></pre>\\n         </div>\\n         <div class=\"slide-copy\">\\n          <h1>\\n           Functions Defined\\n          </h1>\\n          <p>\\n           The core of extensible programming is defining functions. Python allows mandatory and optional arguments, keyword arguments, and even arbitrary argument lists.\\n           <a href=\"//docs.python.org/3/tutorial/controlflow.html#defining-functions\">\\n            More about defining functions in Python\\xa03\\n           </a>\\n          </p>\\n         </div>\\n        </li>\\n        <li>\\n         <div class=\"slide-code\">\\n          <pre><code><span class=\"comment\"># Python 3: List comprehensions</span>\\r\\n&gt;&gt;&gt; fruits = [\\'Banana\\', \\'Apple\\', \\'Lime\\']\\r\\n&gt;&gt;&gt; loud_fruits = [fruit.upper() for fruit in fruits]\\r\\n&gt;&gt;&gt; print(loud_fruits)\\r\\n<span class=\"output\">[\\'BANANA\\', \\'APPLE\\', \\'LIME\\']</span>\\r\\n\\r\\n<span class=\"comment\"># List and the enumerate function</span>\\r\\n&gt;&gt;&gt; list(enumerate(fruits))\\r\\n<span class=\"output\">[(0, \\'Banana\\'), (1, \\'Apple\\'), (2, \\'Lime\\')]</span></code></pre>\\n         </div>\\n         <div class=\"slide-copy\">\\n          <h1>\\n           Compound Data Types\\n          </h1>\\n          <p>\\n           Lists (known as arrays in other languages) are one of the compound data types that Python understands. Lists can be indexed, sliced and manipulated with other built-in functions.\\n           <a href=\"//docs.python.org/3/tutorial/introduction.html#lists\">\\n            More about lists in Python\\xa03\\n           </a>\\n          </p>\\n         </div>\\n        </li>\\n        <li>\\n         <div class=\"slide-code\">\\n          <pre><code><span class=\"comment\"># Python 3: Simple arithmetic</span>\\r\\n&gt;&gt;&gt; 1 / 2\\r\\n<span class=\"output\">0.5</span>\\r\\n&gt;&gt;&gt; 2 ** 3\\r\\n<span class=\"output\">8</span>\\r\\n&gt;&gt;&gt; 17 / 3  <span class=\"comment\"># classic division returns a float</span>\\r\\n<span class=\"output\">5.666666666666667</span>\\r\\n&gt;&gt;&gt; 17 // 3  <span class=\"comment\"># floor division</span>\\r\\n<span class=\"output\">5</span></code></pre>\\n         </div>\\n         <div class=\"slide-copy\">\\n          <h1>\\n           Intuitive Interpretation\\n          </h1>\\n          <p>\\n           Calculations are simple with Python, and expression syntax is straightforward: the operators\\n           <code>\\n            +\\n           </code>\\n           ,\\n           <code>\\n            -\\n           </code>\\n           ,\\n           <code>\\n            *\\n           </code>\\n           and\\n           <code>\\n            /\\n           </code>\\n           work as expected; parentheses\\n           <code>\\n            ()\\n           </code>\\n           can be used for grouping.\\n           <a href=\"http://docs.python.org/3/tutorial/introduction.html#using-python-as-a-calculator\">\\n            More about simple math functions in Python\\xa03\\n           </a>\\n           .\\n          </p>\\n         </div>\\n        </li>\\n        <li>\\n         <div class=\"slide-code\">\\n          <pre><code><span class=\"comment\"># For loop on a list</span>\\r\\n&gt;&gt;&gt; numbers = [2, 4, 6, 8]\\r\\n&gt;&gt;&gt; product = 1\\r\\n&gt;&gt;&gt; for number in numbers:\\r\\n...    product = product * number\\r\\n... \\r\\n&gt;&gt;&gt; print(\\'The product is:\\', product)\\r\\n<span class=\"output\">The product is: 384</span></code></pre>\\n         </div>\\n         <div class=\"slide-copy\">\\n          <h1>\\n           All the Flow You’d Expect\\n          </h1>\\n          <p>\\n           Python knows the usual control flow statements that other languages speak —\\n           <code>\\n            if\\n           </code>\\n           ,\\n           <code>\\n            for\\n           </code>\\n           ,\\n           <code>\\n            while\\n           </code>\\n           and\\n           <code>\\n            range\\n           </code>\\n           — with some of its own twists, of course.\\n           <a href=\"//docs.python.org/3/tutorial/controlflow.html\">\\n            More control flow tools in Python\\xa03\\n           </a>\\n          </p>\\n         </div>\\n        </li>\\n        <li>\\n         <div class=\"slide-code\">\\n          <pre><code><span class=\\'\\\\\"comment\\\\\"\\'># Simple output (with Unicode)</span>\\r\\n&gt;&gt;&gt; print(\\\\\"Hello, I\\'m Python!\\\\\")\\r\\n<span class=\\'\\\\\"output\\\\\"\\'>Hello, I\\'m Python!</span>\\r\\n<span class=\\'\\\\\"comment\\\\\"\\'># Input, assignment</span>\\r\\n&gt;&gt;&gt; name = input(\\'What is your name?\\\\\\\\n\\')\\r\\n<span class=\\'\\\\\"output\\\\\"\\'>What is your name?\\r\\nPython</span>\\r\\n&gt;&gt;&gt; print(f\\'Hi, {name}.\\')\\r\\n<span class=\\'\\\\\"output\\\\\"\\'>Hi, Python.</span></code>\\r\\n</pre>\\n         </div>\\n         <div class=\"slide-copy\">\\n          <h1>\\n           Quick &amp; Easy to Learn\\n          </h1>\\n          <p>\\n           Experienced programmers in any other language can pick up Python very quickly, and beginners find the clean syntax and indentation structure easy to learn.\\n           <a href=\"//docs.python.org/3/tutorial/\">\\n            Whet your appetite\\n           </a>\\n           with our Python\\xa03 overview.\\n          </p>\\n         </div>\\n        </li>\\n       </ul>\\n      </div>\\n     </div>\\n     <div class=\"introduction\">\\n      <p>\\n       Python is a programming language that lets you work quickly\\n       <span class=\"breaker\">\\n       </span>\\n       and integrate systems more effectively.\\n       <a class=\"readmore\" href=\"/doc/\">\\n        Learn More\\n       </a>\\n      </p>\\n     </div>\\n    </div>\\n    <!-- end .container -->\\n   </header>\\n   <div class=\"content-wrapper\" id=\"content\">\\n    <!-- Main Content Column -->\\n    <div class=\"container\">\\n     <section class=\"main-content\" role=\"main\">\\n      <div class=\"notification-bar notification-bar--survey\" style=\"background-color: #ffdf76; color: #664e04; border-color: #004d7a; text-align: center; background-color: #004d7a; color: #fff; padding: 10px; margin: .5em; position: relative; width: 95%; background-color: #ffdf76; color: #664e04; border-color: #004d7a; border-radius: 1em;\">\\n       <span class=\"notification-bar__icon\">\\n        <i aria-hidden=\"true\" class=\"fa fa-chart-line\">\\n        </i>\\n       </span>\\n       <span class=\"notification-bar__message\">\\n        Support Python in 2022! Check out the special deal open only till November 22nd.\\n        <a class=\"button button--dark button--small button--primary\" href=\"https://www.python.org/psf/donations/2022-q4-drive/\" rel=\"noopener\" style=\"color: #606060; border-color: #006dad; background-color: #006dad;\" target=\"_blank\">\\n         Join in today!\\n        </a>\\n       </span>\\n      </div>\\n      <div class=\"row\">\\n       <div class=\"small-widget get-started-widget\">\\n        <h2 class=\"widget-title\">\\n         <span aria-hidden=\"true\" class=\"icon-get-started\">\\n         </span>\\n         Get Started\\n        </h2>\\n        <p>\\n         Whether you\\'re new to programming or an experienced developer, it\\'s easy to learn and use Python.\\n        </p>\\n        <p>\\n         <a href=\"/about/gettingstarted/\">\\n          Start with our Beginner’s Guide\\n         </a>\\n        </p>\\n       </div>\\n       <div class=\"small-widget download-widget\">\\n        <h2 class=\"widget-title\">\\n         <span aria-hidden=\"true\" class=\"icon-download\">\\n         </span>\\n         Download\\n        </h2>\\n        <p>\\n         Python source code and installers are available for download for all versions!\\n        </p>\\n        <p>\\n         Latest:\\n         <a href=\"/downloads/release/python-3110/\">\\n          Python 3.11.0\\n         </a>\\n        </p>\\n       </div>\\n       <div class=\"small-widget documentation-widget\">\\n        <h2 class=\"widget-title\">\\n         <span aria-hidden=\"true\" class=\"icon-documentation\">\\n         </span>\\n         Docs\\n        </h2>\\n        <p>\\n         Documentation for Python\\'s standard library, along with tutorials and guides, are available online.\\n        </p>\\n        <p>\\n         <a href=\"https://docs.python.org\">\\n          docs.python.org\\n         </a>\\n        </p>\\n       </div>\\n       <div class=\"small-widget jobs-widget last\">\\n        <h2 class=\"widget-title\">\\n         <span aria-hidden=\"true\" class=\"icon-jobs\">\\n         </span>\\n         Jobs\\n        </h2>\\n        <p>\\n         Looking for work or have a Python related position that you\\'re trying to hire for? Our\\n         <strong>\\n          relaunched community-run job board\\n         </strong>\\n         is the place to go.\\n        </p>\\n        <p>\\n         <a href=\"//jobs.python.org\">\\n          jobs.python.org\\n         </a>\\n        </p>\\n       </div>\\n      </div>\\n      <div class=\"list-widgets row\">\\n       <div class=\"medium-widget blog-widget\">\\n        <div class=\"shrubbery\">\\n         <h2 class=\"widget-title\">\\n          <span aria-hidden=\"true\" class=\"icon-news\">\\n          </span>\\n          Latest News\\n         </h2>\\n         <p class=\"give-me-more\">\\n          <a href=\"https://blog.python.org\" title=\"More News\">\\n           More\\n          </a>\\n         </p>\\n         <ul class=\"menu\">\\n          <li>\\n           <time datetime=\"2022-11-07T17:30:00+00:00\">\\n            <span class=\"say-no-more\">\\n             2022-\\n            </span>\\n            11-07\\n           </time>\\n           <a href=\"https://pyfound.blogspot.com/2022/11/its-time-for-our-annual-year-end-psf.html\">\\n            It\\'s time for our annual year-end PSF fundraiser and membership drive 🎉\\n           </a>\\n          </li>\\n          <li>\\n           <time datetime=\"2022-11-01T19:25:00.000001+00:00\">\\n            <span class=\"say-no-more\">\\n             2022-\\n            </span>\\n            11-01\\n           </time>\\n           <a href=\"https://pyfound.blogspot.com/2022/11/thank-you-for-making-pycon-us-amazing.html\">\\n            Thank You for Making PyCon US amazing, Jackie!\\n           </a>\\n          </li>\\n          <li>\\n           <time datetime=\"2022-10-26T16:09:00.000002+00:00\">\\n            <span class=\"say-no-more\">\\n             2022-\\n            </span>\\n            10-26\\n           </time>\\n           <a href=\"https://pyfound.blogspot.com/2022/10/announcing-python-software-foundation.html\">\\n            Announcing Python Software Foundation Fellow Members for Q3 2022! 🎉\\n           </a>\\n          </li>\\n          <li>\\n           <time datetime=\"2022-10-25T18:34:53.000001+00:00\">\\n            <span class=\"say-no-more\">\\n             2022-\\n            </span>\\n            10-25\\n           </time>\\n           <a href=\"https://mailchi.mp/python/psf-nov-15542325\">\\n            Python Software Foundation - October 2022 Newsletter\\n           </a>\\n          </li>\\n          <li>\\n           <time datetime=\"2022-10-25T04:00:00.000001+00:00\">\\n            <span class=\"say-no-more\">\\n             2022-\\n            </span>\\n            10-25\\n           </time>\\n           <a href=\"https://pythoninsider.blogspot.com/2022/10/python-3120-alpha-1-released.html\">\\n            Python 3.12.0 alpha 1 released\\n           </a>\\n          </li>\\n         </ul>\\n        </div>\\n        <!-- end .shrubbery -->\\n       </div>\\n       <div class=\"medium-widget event-widget last\">\\n        <div class=\"shrubbery\">\\n         <h2 class=\"widget-title\">\\n          <span aria-hidden=\"true\" class=\"icon-calendar\">\\n          </span>\\n          Upcoming Events\\n         </h2>\\n         <p class=\"give-me-more\">\\n          <a href=\"/events/calendars/\" title=\"More Events\">\\n           More\\n          </a>\\n         </p>\\n         <ul class=\"menu\">\\n          <li>\\n           <time datetime=\"2022-11-12T00:00:00+00:00\">\\n            <span class=\"say-no-more\">\\n             2022-\\n            </span>\\n            11-12\\n           </time>\\n           <a href=\"/events/python-events/1320/\">\\n            PyCon Ireland 2022\\n           </a>\\n          </li>\\n          <li>\\n           <time datetime=\"2022-11-15T00:00:00+00:00\">\\n            <span class=\"say-no-more\">\\n             2022-\\n            </span>\\n            11-15\\n           </time>\\n           <a href=\"/events/python-events/1378/\">\\n            PyChain 2022\\n           </a>\\n          </li>\\n          <li>\\n           <time datetime=\"2022-11-17T01:00:00+00:00\">\\n            <span class=\"say-no-more\">\\n             2022-\\n            </span>\\n            11-17\\n           </time>\\n           <a href=\"/events/python-user-group/1383/\">\\n            Call for Proposals - Speaking at PyCon US 2023 - Fireside Chat with Mariatta Wijaya, Conference Chair\\n           </a>\\n          </li>\\n          <li>\\n           <time datetime=\"2022-11-26T00:00:00+00:00\">\\n            <span class=\"say-no-more\">\\n             2022-\\n            </span>\\n            11-26\\n           </time>\\n           <a href=\"/events/python-events/1331/\">\\n            Pyjamas Conf 2022\\n           </a>\\n          </li>\\n          <li>\\n           <time datetime=\"2022-11-26T08:00:00+00:00\">\\n            <span class=\"say-no-more\">\\n             2022-\\n            </span>\\n            11-26\\n           </time>\\n           <a href=\"/events/python-user-group/1335/\">\\n            Django Girls Groningen\\n           </a>\\n          </li>\\n         </ul>\\n        </div>\\n       </div>\\n      </div>\\n      <div class=\"row\">\\n       <div class=\"medium-widget success-stories-widget\">\\n        <div class=\"shrubbery\">\\n         <h2 class=\"widget-title\">\\n          <span aria-hidden=\"true\" class=\"icon-success-stories\">\\n          </span>\\n          Success Stories\\n         </h2>\\n         <p class=\"give-me-more\">\\n          <a href=\"/success-stories/\" title=\"More Success Stories\">\\n           More\\n          </a>\\n         </p>\\n         <div class=\"success-story-item\" id=\"success-story-1101\">\\n          <blockquote>\\n           <a href=\"/success-stories/a-startup-healthcare-tech-firm-is-now-poised-for-the-future/\">\\n            “We feel much better equipped now to handle the challenges. And if we run into an issue, we’ll come to Caktus to hammer it out,\" said Stephen Johnston, VP of Engineering, at Force Therapeutics.\\n           </a>\\n          </blockquote>\\n          <table border=\"0\" cellpadding=\"0\" cellspacing=\"0\" class=\"quote-from\" width=\"100%\">\\n           <tbody>\\n            <tr>\\n             <td>\\n              <p>\\n               <a href=\"/success-stories/a-startup-healthcare-tech-firm-is-now-poised-for-the-future/\">\\n                A Startup Healthcare Tech Firm Is Now Poised for the Future\\n               </a>\\n               <em>\\n                by Caktus Group\\n               </em>\\n              </p>\\n             </td>\\n            </tr>\\n           </tbody>\\n          </table>\\n         </div>\\n        </div>\\n        <!-- end .shrubbery -->\\n       </div>\\n       <div class=\"medium-widget applications-widget last\">\\n        <div class=\"shrubbery\">\\n         <h2 class=\"widget-title\">\\n          <span aria-hidden=\"true\" class=\"icon-python\">\\n          </span>\\n          Use Python for…\\n         </h2>\\n         <p class=\"give-me-more\">\\n          <a href=\"/about/apps\" title=\"More Applications\">\\n           More\\n          </a>\\n         </p>\\n         <ul class=\"menu\">\\n          <li>\\n           <b>\\n            Web Development\\n           </b>\\n           :\\n           <span class=\"tag-wrapper\">\\n            <a class=\"tag\" href=\"http://www.djangoproject.com/\">\\n             Django\\n            </a>\\n            ,\\n            <a class=\"tag\" href=\"http://www.pylonsproject.org/\">\\n             Pyramid\\n            </a>\\n            ,\\n            <a class=\"tag\" href=\"http://bottlepy.org\">\\n             Bottle\\n            </a>\\n            ,\\n            <a class=\"tag\" href=\"http://tornadoweb.org\">\\n             Tornado\\n            </a>\\n            ,\\n            <a class=\"tag\" href=\"http://flask.pocoo.org/\">\\n             Flask\\n            </a>\\n            ,\\n            <a class=\"tag\" href=\"http://www.web2py.com/\">\\n             web2py\\n            </a>\\n           </span>\\n          </li>\\n          <li>\\n           <b>\\n            GUI Development\\n           </b>\\n           :\\n           <span class=\"tag-wrapper\">\\n            <a class=\"tag\" href=\"http://wiki.python.org/moin/TkInter\">\\n             tkInter\\n            </a>\\n            ,\\n            <a class=\"tag\" href=\"https://wiki.gnome.org/Projects/PyGObject\">\\n             PyGObject\\n            </a>\\n            ,\\n            <a class=\"tag\" href=\"http://www.riverbankcomputing.co.uk/software/pyqt/intro\">\\n             PyQt\\n            </a>\\n            ,\\n            <a class=\"tag\" href=\"https://wiki.qt.io/PySide\">\\n             PySide\\n            </a>\\n            ,\\n            <a class=\"tag\" href=\"https://kivy.org/\">\\n             Kivy\\n            </a>\\n            ,\\n            <a class=\"tag\" href=\"http://www.wxpython.org/\">\\n             wxPython\\n            </a>\\n           </span>\\n          </li>\\n          <li>\\n           <b>\\n            Scientific and Numeric\\n           </b>\\n           :\\n           <span class=\"tag-wrapper\">\\n            <a class=\"tag\" href=\"http://www.scipy.org\">\\n             SciPy\\n            </a>\\n            ,\\n            <a class=\"tag\" href=\"http://pandas.pydata.org/\">\\n             Pandas\\n            </a>\\n            ,\\n            <a class=\"tag\" href=\"http://ipython.org\">\\n             IPython\\n            </a>\\n           </span>\\n          </li>\\n          <li>\\n           <b>\\n            Software Development\\n           </b>\\n           :\\n           <span class=\"tag-wrapper\">\\n            <a class=\"tag\" href=\"http://buildbot.net/\">\\n             Buildbot\\n            </a>\\n            ,\\n            <a class=\"tag\" href=\"http://trac.edgewall.org/\">\\n             Trac\\n            </a>\\n            ,\\n            <a class=\"tag\" href=\"http://roundup.sourceforge.net/\">\\n             Roundup\\n            </a>\\n           </span>\\n          </li>\\n          <li>\\n           <b>\\n            System Administration\\n           </b>\\n           :\\n           <span class=\"tag-wrapper\">\\n            <a class=\"tag\" href=\"http://www.ansible.com\">\\n             Ansible\\n            </a>\\n            ,\\n            <a class=\"tag\" href=\"https://saltproject.io\">\\n             Salt\\n            </a>\\n            ,\\n            <a class=\"tag\" href=\"https://www.openstack.org\">\\n             OpenStack\\n            </a>\\n            ,\\n            <a class=\"tag\" href=\"https://xon.sh\">\\n             xonsh\\n            </a>\\n           </span>\\n          </li>\\n         </ul>\\n        </div>\\n        <!-- end .shrubbery -->\\n       </div>\\n      </div>\\n      <div class=\"pep-widget\">\\n       <h2 class=\"widget-title\">\\n        <span class=\"prompt\">\\n         &gt;&gt;&gt;\\n        </span>\\n        <a href=\"/dev/peps/\">\\n         Python Enhancement Proposals\\n         <span class=\"say-no-more\">\\n          (PEPs)\\n         </span>\\n        </a>\\n        : The future of Python\\n        <span class=\"say-no-more\">\\n         is discussed here.\\n        </span>\\n        <a aria-hidden=\"true\" class=\"rss-link\" href=\"/dev/peps/peps.rss\">\\n         <span class=\"icon-feed\">\\n         </span>\\n         RSS\\n        </a>\\n       </h2>\\n      </div>\\n      <div class=\"psf-widget\">\\n       <div class=\"python-logo\">\\n       </div>\\n       <h2 class=\"widget-title\">\\n        <span class=\"prompt\">\\n         &gt;&gt;&gt;\\n        </span>\\n        <a href=\"/psf/\">\\n         Python Software Foundation\\n        </a>\\n       </h2>\\n       <p>\\n        The mission of the Python Software Foundation is to promote, protect, and advance the Python programming language, and to support and facilitate the growth of a diverse and international community of Python programmers.\\n        <a class=\"readmore\" href=\"/psf/\">\\n         Learn more\\n        </a>\\n       </p>\\n       <p class=\"click-these\">\\n        <a class=\"button\" href=\"/users/membership/\">\\n         Become a Member\\n        </a>\\n        <a class=\"button\" href=\"/psf/donations/\">\\n         Donate to the PSF\\n        </a>\\n       </p>\\n      </div>\\n     </section>\\n    </div>\\n    <!-- end .container -->\\n   </div>\\n   <!-- end #content .content-wrapper -->\\n   <!-- Footer and social media list -->\\n   <footer class=\"main-footer\" id=\"site-map\" role=\"contentinfo\">\\n    <div class=\"main-footer-links\">\\n     <div class=\"container\">\\n      <a class=\"jump-link\" href=\"#python-network\" id=\"back-to-top-1\">\\n       <span aria-hidden=\"true\" class=\"icon-arrow-up\">\\n        <span>\\n         ▲\\n        </span>\\n       </span>\\n       Back to Top\\n      </a>\\n      <ul class=\"sitemap navigation menu do-not-print\" id=\"container\" role=\"tree\">\\n       <li class=\"tier-1 element-1\">\\n        <a href=\"/about/\">\\n         About\\n        </a>\\n        <ul class=\"subnav menu\">\\n         <li class=\"tier-2 element-1\" role=\"treeitem\">\\n          <a href=\"/about/apps/\" title=\"\">\\n           Applications\\n          </a>\\n         </li>\\n         <li class=\"tier-2 element-2\" role=\"treeitem\">\\n          <a href=\"/about/quotes/\" title=\"\">\\n           Quotes\\n          </a>\\n         </li>\\n         <li class=\"tier-2 element-3\" role=\"treeitem\">\\n          <a href=\"/about/gettingstarted/\" title=\"\">\\n           Getting Started\\n          </a>\\n         </li>\\n         <li class=\"tier-2 element-4\" role=\"treeitem\">\\n          <a href=\"/about/help/\" title=\"\">\\n           Help\\n          </a>\\n         </li>\\n         <li class=\"tier-2 element-5\" role=\"treeitem\">\\n          <a href=\"http://brochure.getpython.info/\" title=\"\">\\n           Python Brochure\\n          </a>\\n         </li>\\n        </ul>\\n       </li>\\n       <li class=\"tier-1 element-2\">\\n        <a href=\"/downloads/\">\\n         Downloads\\n        </a>\\n        <ul class=\"subnav menu\">\\n         <li class=\"tier-2 element-1\" role=\"treeitem\">\\n          <a href=\"/downloads/\" title=\"\">\\n           All releases\\n          </a>\\n         </li>\\n         <li class=\"tier-2 element-2\" role=\"treeitem\">\\n          <a href=\"/downloads/source/\" title=\"\">\\n           Source code\\n          </a>\\n         </li>\\n         <li class=\"tier-2 element-3\" role=\"treeitem\">\\n          <a href=\"/downloads/windows/\" title=\"\">\\n           Windows\\n          </a>\\n         </li>\\n         <li class=\"tier-2 element-4\" role=\"treeitem\">\\n          <a href=\"/downloads/macos/\" title=\"\">\\n           macOS\\n          </a>\\n         </li>\\n         <li class=\"tier-2 element-5\" role=\"treeitem\">\\n          <a href=\"/download/other/\" title=\"\">\\n           Other Platforms\\n          </a>\\n         </li>\\n         <li class=\"tier-2 element-6\" role=\"treeitem\">\\n          <a href=\"https://docs.python.org/3/license.html\" title=\"\">\\n           License\\n          </a>\\n         </li>\\n         <li class=\"tier-2 element-7\" role=\"treeitem\">\\n          <a href=\"/download/alternatives\" title=\"\">\\n           Alternative Implementations\\n          </a>\\n         </li>\\n        </ul>\\n       </li>\\n       <li class=\"tier-1 element-3\">\\n        <a href=\"/doc/\">\\n         Documentation\\n        </a>\\n        <ul class=\"subnav menu\">\\n         <li class=\"tier-2 element-1\" role=\"treeitem\">\\n          <a href=\"/doc/\" title=\"\">\\n           Docs\\n          </a>\\n         </li>\\n         <li class=\"tier-2 element-2\" role=\"treeitem\">\\n          <a href=\"/doc/av\" title=\"\">\\n           Audio/Visual Talks\\n          </a>\\n         </li>\\n         <li class=\"tier-2 element-3\" role=\"treeitem\">\\n          <a href=\"https://wiki.python.org/moin/BeginnersGuide\" title=\"\">\\n           Beginner\\'s Guide\\n          </a>\\n         </li>\\n         <li class=\"tier-2 element-4\" role=\"treeitem\">\\n          <a href=\"https://devguide.python.org/\" title=\"\">\\n           Developer\\'s Guide\\n          </a>\\n         </li>\\n         <li class=\"tier-2 element-5\" role=\"treeitem\">\\n          <a href=\"https://docs.python.org/faq/\" title=\"\">\\n           FAQ\\n          </a>\\n         </li>\\n         <li class=\"tier-2 element-6\" role=\"treeitem\">\\n          <a href=\"http://wiki.python.org/moin/Languages\" title=\"\">\\n           Non-English Docs\\n          </a>\\n         </li>\\n         <li class=\"tier-2 element-7\" role=\"treeitem\">\\n          <a href=\"http://python.org/dev/peps/\" title=\"\">\\n           PEP Index\\n          </a>\\n         </li>\\n         <li class=\"tier-2 element-8\" role=\"treeitem\">\\n          <a href=\"https://wiki.python.org/moin/PythonBooks\" title=\"\">\\n           Python Books\\n          </a>\\n         </li>\\n         <li class=\"tier-2 element-9\" role=\"treeitem\">\\n          <a href=\"/doc/essays/\" title=\"\">\\n           Python Essays\\n          </a>\\n         </li>\\n        </ul>\\n       </li>\\n       <li class=\"tier-1 element-4\">\\n        <a href=\"/community/\">\\n         Community\\n        </a>\\n        <ul class=\"subnav menu\">\\n         <li class=\"tier-2 element-1\" role=\"treeitem\">\\n          <a href=\"/community/diversity/\" title=\"\">\\n           Diversity\\n          </a>\\n         </li>\\n         <li class=\"tier-2 element-2\" role=\"treeitem\">\\n          <a href=\"/community/lists/\" title=\"\">\\n           Mailing Lists\\n          </a>\\n         </li>\\n         <li class=\"tier-2 element-3\" role=\"treeitem\">\\n          <a href=\"/community/irc/\" title=\"\">\\n           IRC\\n          </a>\\n         </li>\\n         <li class=\"tier-2 element-4\" role=\"treeitem\">\\n          <a href=\"/community/forums/\" title=\"\">\\n           Forums\\n          </a>\\n         </li>\\n         <li class=\"tier-2 element-5\" role=\"treeitem\">\\n          <a href=\"/psf/annual-report/2021/\" title=\"\">\\n           PSF Annual Impact Report\\n          </a>\\n         </li>\\n         <li class=\"tier-2 element-6\" role=\"treeitem\">\\n          <a href=\"/community/workshops/\" title=\"\">\\n           Python Conferences\\n          </a>\\n         </li>\\n         <li class=\"tier-2 element-7\" role=\"treeitem\">\\n          <a href=\"/community/sigs/\" title=\"\">\\n           Special Interest Groups\\n          </a>\\n         </li>\\n         <li class=\"tier-2 element-8\" role=\"treeitem\">\\n          <a href=\"/community/logos/\" title=\"\">\\n           Python Logo\\n          </a>\\n         </li>\\n         <li class=\"tier-2 element-9\" role=\"treeitem\">\\n          <a href=\"https://wiki.python.org/moin/\" title=\"\">\\n           Python Wiki\\n          </a>\\n         </li>\\n         <li class=\"tier-2 element-10\" role=\"treeitem\">\\n          <a href=\"/community/merchandise/\" title=\"\">\\n           Merchandise\\n          </a>\\n         </li>\\n         <li class=\"tier-2 element-11\" role=\"treeitem\">\\n          <a href=\"/community/awards\" title=\"\">\\n           Community Awards\\n          </a>\\n         </li>\\n         <li class=\"tier-2 element-12\" role=\"treeitem\">\\n          <a href=\"/psf/conduct/\" title=\"\">\\n           Code of Conduct\\n          </a>\\n         </li>\\n         <li class=\"tier-2 element-13\" role=\"treeitem\">\\n          <a href=\"/psf/get-involved/\" title=\"\">\\n           Get Involved\\n          </a>\\n         </li>\\n         <li class=\"tier-2 element-14\" role=\"treeitem\">\\n          <a href=\"/psf/community-stories/\" title=\"\">\\n           Shared Stories\\n          </a>\\n         </li>\\n        </ul>\\n       </li>\\n       <li class=\"tier-1 element-5\">\\n        <a href=\"/success-stories/\" title=\"success-stories\">\\n         Success Stories\\n        </a>\\n        <ul class=\"subnav menu\">\\n         <li class=\"tier-2 element-1\" role=\"treeitem\">\\n          <a href=\"/success-stories/category/arts/\" title=\"\">\\n           Arts\\n          </a>\\n         </li>\\n         <li class=\"tier-2 element-2\" role=\"treeitem\">\\n          <a href=\"/success-stories/category/business/\" title=\"\">\\n           Business\\n          </a>\\n         </li>\\n         <li class=\"tier-2 element-3\" role=\"treeitem\">\\n          <a href=\"/success-stories/category/education/\" title=\"\">\\n           Education\\n          </a>\\n         </li>\\n         <li class=\"tier-2 element-4\" role=\"treeitem\">\\n          <a href=\"/success-stories/category/engineering/\" title=\"\">\\n           Engineering\\n          </a>\\n         </li>\\n         <li class=\"tier-2 element-5\" role=\"treeitem\">\\n          <a href=\"/success-stories/category/government/\" title=\"\">\\n           Government\\n          </a>\\n         </li>\\n         <li class=\"tier-2 element-6\" role=\"treeitem\">\\n          <a href=\"/success-stories/category/scientific/\" title=\"\">\\n           Scientific\\n          </a>\\n         </li>\\n         <li class=\"tier-2 element-7\" role=\"treeitem\">\\n          <a href=\"/success-stories/category/software-development/\" title=\"\">\\n           Software Development\\n          </a>\\n         </li>\\n        </ul>\\n       </li>\\n       <li class=\"tier-1 element-6\">\\n        <a href=\"/blogs/\" title=\"News from around the Python world\">\\n         News\\n        </a>\\n        <ul class=\"subnav menu\">\\n         <li class=\"tier-2 element-1\" role=\"treeitem\">\\n          <a href=\"/blogs/\" title=\"Python Insider Blog Posts\">\\n           Python News\\n          </a>\\n         </li>\\n         <li class=\"tier-2 element-2\" role=\"treeitem\">\\n          <a href=\"/psf/newsletter/\" title=\"Python Software Foundation Newsletter\">\\n           PSF Newsletter\\n          </a>\\n         </li>\\n         <li class=\"tier-2 element-3\" role=\"treeitem\">\\n          <a href=\"http://planetpython.org/\" title=\"Planet Python\">\\n           Community News\\n          </a>\\n         </li>\\n         <li class=\"tier-2 element-4\" role=\"treeitem\">\\n          <a href=\"http://pyfound.blogspot.com/\" title=\"PSF Blog\">\\n           PSF News\\n          </a>\\n         </li>\\n         <li class=\"tier-2 element-5\" role=\"treeitem\">\\n          <a href=\"http://pycon.blogspot.com/\" title=\"PyCon Blog\">\\n           PyCon News\\n          </a>\\n         </li>\\n        </ul>\\n       </li>\\n       <li class=\"tier-1 element-7\">\\n        <a href=\"/events/\">\\n         Events\\n        </a>\\n        <ul class=\"subnav menu\">\\n         <li class=\"tier-2 element-1\" role=\"treeitem\">\\n          <a href=\"/events/python-events/\" title=\"\">\\n           Python Events\\n          </a>\\n         </li>\\n         <li class=\"tier-2 element-2\" role=\"treeitem\">\\n          <a href=\"/events/python-user-group/\" title=\"\">\\n           User Group Events\\n          </a>\\n         </li>\\n         <li class=\"tier-2 element-3\" role=\"treeitem\">\\n          <a href=\"/events/python-events/past/\" title=\"\">\\n           Python Events Archive\\n          </a>\\n         </li>\\n         <li class=\"tier-2 element-4\" role=\"treeitem\">\\n          <a href=\"/events/python-user-group/past/\" title=\"\">\\n           User Group Events Archive\\n          </a>\\n         </li>\\n         <li class=\"tier-2 element-5\" role=\"treeitem\">\\n          <a href=\"https://wiki.python.org/moin/PythonEventsCalendar#Submitting_an_Event\" title=\"\">\\n           Submit an Event\\n          </a>\\n         </li>\\n        </ul>\\n       </li>\\n       <li class=\"tier-1 element-8\">\\n        <a href=\"/dev/\">\\n         Contributing\\n        </a>\\n        <ul class=\"subnav menu\">\\n         <li class=\"tier-2 element-1\" role=\"treeitem\">\\n          <a href=\"https://devguide.python.org/\" title=\"\">\\n           Developer\\'s Guide\\n          </a>\\n         </li>\\n         <li class=\"tier-2 element-2\" role=\"treeitem\">\\n          <a href=\"https://bugs.python.org/\" title=\"\">\\n           Issue Tracker\\n          </a>\\n         </li>\\n         <li class=\"tier-2 element-3\" role=\"treeitem\">\\n          <a href=\"https://mail.python.org/mailman/listinfo/python-dev\" title=\"\">\\n           python-dev list\\n          </a>\\n         </li>\\n         <li class=\"tier-2 element-4\" role=\"treeitem\">\\n          <a href=\"/dev/core-mentorship/\" title=\"\">\\n           Core Mentorship\\n          </a>\\n         </li>\\n         <li class=\"tier-2 element-5\" role=\"treeitem\">\\n          <a href=\"/dev/security/\" title=\"\">\\n           Report a Security Issue\\n          </a>\\n         </li>\\n        </ul>\\n       </li>\\n      </ul>\\n      <a class=\"jump-link\" href=\"#python-network\" id=\"back-to-top-2\">\\n       <span aria-hidden=\"true\" class=\"icon-arrow-up\">\\n        <span>\\n         ▲\\n        </span>\\n       </span>\\n       Back to Top\\n      </a>\\n     </div>\\n     <!-- end .container -->\\n    </div>\\n    <!-- end .main-footer-links -->\\n    <div class=\"site-base\">\\n     <div class=\"container\">\\n      <ul class=\"footer-links navigation menu do-not-print\" role=\"tree\">\\n       <li class=\"tier-1 element-1\">\\n        <a href=\"/about/help/\">\\n         Help &amp;\\n         <span class=\"say-no-more\">\\n          General\\n         </span>\\n         Contact\\n        </a>\\n       </li>\\n       <li class=\"tier-1 element-2\">\\n        <a href=\"/community/diversity/\">\\n         Diversity\\n         <span class=\"say-no-more\">\\n          Initiatives\\n         </span>\\n        </a>\\n       </li>\\n       <li class=\"tier-1 element-3\">\\n        <a href=\"https://github.com/python/pythondotorg/issues\">\\n         Submit Website Bug\\n        </a>\\n       </li>\\n       <li class=\"tier-1 element-4\">\\n        <a href=\"https://status.python.org/\">\\n         Status\\n         <span class=\"python-status-indicator-default\" id=\"python-status-indicator\">\\n         </span>\\n        </a>\\n       </li>\\n      </ul>\\n      <div class=\"copyright\">\\n       <p>\\n        <small>\\n         <span class=\"pre\">\\n          Copyright ©2001-2022.\\n         </span>\\n         <span class=\"pre\">\\n          <a href=\"/psf-landing/\">\\n           Python Software Foundation\\n          </a>\\n         </span>\\n         <span class=\"pre\">\\n          <a href=\"/about/legal/\">\\n           Legal Statements\\n          </a>\\n         </span>\\n         <span class=\"pre\">\\n          <a href=\"/privacy/\">\\n           Privacy Policy\\n          </a>\\n         </span>\\n         <span class=\"pre\">\\n          <a href=\"/psf/sponsorship/sponsors/#heroku\">\\n           Powered by Heroku\\n          </a>\\n         </span>\\n        </small>\\n       </p>\\n      </div>\\n     </div>\\n     <!-- end .container -->\\n    </div>\\n    <!-- end .site-base -->\\n   </footer>\\n  </div>\\n  <!-- end #touchnav-wrapper -->\\n  <script src=\"//ajax.googleapis.com/ajax/libs/jquery/1.8.2/jquery.min.js\">\\n  </script>\\n  <script>\\n   window.jQuery || document.write(\\'<script src=\"/static/js/libs/jquery-1.8.2.min.js\"><\\\\/script>\\')\\n  </script>\\n  <script src=\"//ajax.googleapis.com/ajax/libs/jqueryui/1.12.1/jquery-ui.min.js\">\\n  </script>\\n  <script>\\n   window.jQuery || document.write(\\'<script src=\"/static/js/libs/jquery-ui-1.12.1.min.js\"><\\\\/script>\\')\\n  </script>\\n  <script src=\"/static/js/libs/masonry.pkgd.min.js\">\\n  </script>\\n  <script src=\"/static/js/libs/html-includes.js\">\\n  </script>\\n  <script charset=\"utf-8\" src=\"/static/js/main-min.f5487accf7ed.js\" type=\"text/javascript\">\\n  </script>\\n  <!--[if lte IE 7]>\\n    <script type=\"text/javascript\" src=\"/static/js/plugins/IE8-min.8af6e26c7a3b.js\" charset=\"utf-8\"></script>\\n    \\n    \\n    <![endif]-->\\n  <!--[if lte IE 8]>\\n    <script type=\"text/javascript\" src=\"/static/js/plugins/getComputedStyle-min.d41d8cd98f00.js\" charset=\"utf-8\"></script>\\n    \\n    \\n    <![endif]-->\\n </body>\\n</html>\\n'"
      ]
     },
     "execution_count": 11,
     "metadata": {},
     "output_type": "execute_result"
    }
   ],
   "source": [
    "soup.prettify()"
   ]
  },
  {
   "cell_type": "code",
   "execution_count": 12,
   "id": "e06cce82",
   "metadata": {},
   "outputs": [
    {
     "data": {
      "text/plain": [
       "<title>Welcome to Python.org</title>"
      ]
     },
     "execution_count": 12,
     "metadata": {},
     "output_type": "execute_result"
    }
   ],
   "source": [
    "soup.title"
   ]
  },
  {
   "cell_type": "code",
   "execution_count": 13,
   "id": "69f21766",
   "metadata": {},
   "outputs": [
    {
     "data": {
      "text/plain": [
       "'\\n\\n\\n\\n \\n\\n\\n\\n\\n\\n\\n\\n\\n\\n\\n\\n\\n\\n\\n\\n\\n\\n\\n\\n\\n\\n\\n\\n\\n\\n\\n\\n\\n\\n\\nWelcome to Python.org\\n\\n\\n\\n\\n\\n\\n\\n\\n\\n\\n\\n\\n\\n\\n\\n\\n\\n\\n\\n\\nNotice: While JavaScript is not essential for this website, your interaction with the content will be limited. Please turn JavaScript on for the full experience. \\n\\n\\n\\n\\n\\n\\nSkip to content\\n\\n\\n▼ Close\\n                \\n\\n\\nPython\\n\\n\\nPSF\\n\\n\\nDocs\\n\\n\\nPyPI\\n\\n\\nJobs\\n\\n\\nCommunity\\n\\n\\n\\n▲ The Python Network\\n                \\n\\n\\n\\n\\n\\n\\n\\n\\n\\nDonate\\n\\n≡ Menu\\n\\n\\nSearch This Site\\n\\n\\n                                    GO\\n                                \\n\\n\\n\\n\\n\\nA A\\n\\nSmaller\\nLarger\\nReset\\n\\n\\n\\n\\n\\n\\nSocialize\\n\\nFacebook\\nTwitter\\nChat on IRC\\n\\n\\n\\n\\n\\n\\n\\n\\n\\n\\nAbout\\n\\nApplications\\nQuotes\\nGetting Started\\nHelp\\nPython Brochure\\n\\n\\n\\nDownloads\\n\\nAll releases\\nSource code\\nWindows\\nmacOS\\nOther Platforms\\nLicense\\nAlternative Implementations\\n\\n\\n\\nDocumentation\\n\\nDocs\\nAudio/Visual Talks\\nBeginner\\'s Guide\\nDeveloper\\'s Guide\\nFAQ\\nNon-English Docs\\nPEP Index\\nPython Books\\nPython Essays\\n\\n\\n\\nCommunity\\n\\nDiversity\\nMailing Lists\\nIRC\\nForums\\nPSF Annual Impact Report\\nPython Conferences\\nSpecial Interest Groups\\nPython Logo\\nPython Wiki\\nMerchandise\\nCommunity Awards\\nCode of Conduct\\nGet Involved\\nShared Stories\\n\\n\\n\\nSuccess Stories\\n\\nArts\\nBusiness\\nEducation\\nEngineering\\nGovernment\\nScientific\\nSoftware Development\\n\\n\\n\\nNews\\n\\nPython News\\nPSF Newsletter\\nCommunity News\\nPSF News\\nPyCon News\\n\\n\\n\\nEvents\\n\\nPython Events\\nUser Group Events\\nPython Events Archive\\nUser Group Events Archive\\nSubmit an Event\\n\\n\\n\\n\\n \\n\\n\\n\\n>_\\n                        Launch Interactive Shell\\n\\n\\n\\n\\n\\n# Python 3: Fibonacci series up to n\\r\\n>>> def fib(n):\\r\\n>>>     a, b = 0, 1\\r\\n>>>     while a < n:\\r\\n>>>         print(a, end=\\' \\')\\r\\n>>>         a, b = b, a+b\\r\\n>>>     print()\\r\\n>>> fib(1000)\\r\\n0 1 1 2 3 5 8 13 21 34 55 89 144 233 377 610 987\\nFunctions Defined\\nThe core of extensible programming is defining functions. Python allows mandatory and optional arguments, keyword arguments, and even arbitrary argument lists. More about defining functions in Python\\xa03\\n\\n\\n# Python 3: List comprehensions\\r\\n>>> fruits = [\\'Banana\\', \\'Apple\\', \\'Lime\\']\\r\\n>>> loud_fruits = [fruit.upper() for fruit in fruits]\\r\\n>>> print(loud_fruits)\\r\\n[\\'BANANA\\', \\'APPLE\\', \\'LIME\\']\\r\\n\\r\\n# List and the enumerate function\\r\\n>>> list(enumerate(fruits))\\r\\n[(0, \\'Banana\\'), (1, \\'Apple\\'), (2, \\'Lime\\')]\\nCompound Data Types\\nLists (known as arrays in other languages) are one of the compound data types that Python understands. Lists can be indexed, sliced and manipulated with other built-in functions. More about lists in Python\\xa03\\n\\n\\n# Python 3: Simple arithmetic\\r\\n>>> 1 / 2\\r\\n0.5\\r\\n>>> 2 ** 3\\r\\n8\\r\\n>>> 17 / 3  # classic division returns a float\\r\\n5.666666666666667\\r\\n>>> 17 // 3  # floor division\\r\\n5\\nIntuitive Interpretation\\nCalculations are simple with Python, and expression syntax is straightforward: the operators +, -, * and / work as expected; parentheses () can be used for grouping. More about simple math functions in Python\\xa03.\\n\\n\\n# For loop on a list\\r\\n>>> numbers = [2, 4, 6, 8]\\r\\n>>> product = 1\\r\\n>>> for number in numbers:\\r\\n...    product = product * number\\r\\n... \\r\\n>>> print(\\'The product is:\\', product)\\r\\nThe product is: 384\\nAll the Flow You’d Expect\\nPython knows the usual control flow statements that other languages speak — if, for, while and range — with some of its own twists, of course. More control flow tools in Python\\xa03\\n\\n\\n# Simple output (with Unicode)\\r\\n>>> print(\\\\\"Hello, I\\'m Python!\\\\\")\\r\\nHello, I\\'m Python!\\r\\n# Input, assignment\\r\\n>>> name = input(\\'What is your name?\\\\\\\\n\\')\\r\\nWhat is your name?\\r\\nPython\\r\\n>>> print(f\\'Hi, {name}.\\')\\r\\nHi, Python.\\r\\n\\nQuick & Easy to Learn\\nExperienced programmers in any other language can pick up Python very quickly, and beginners find the clean syntax and indentation structure easy to learn. Whet your appetite with our Python\\xa03 overview.\\n\\n\\n\\n\\n\\nPython is a programming language that lets you work quickly and integrate systems more effectively. Learn More\\n\\n\\n\\n\\n\\n\\n\\n\\n\\n\\n\\nSupport Python in 2022! Check out the special deal open only till November 22nd. \\xa0\\xa0Join in today!\\n\\n\\n\\n\\nGet Started\\nWhether you\\'re new to programming or an experienced developer, it\\'s easy to learn and use Python.\\nStart with our Beginner’s Guide\\n\\n\\nDownload\\nPython source code and installers are available for download for all versions!\\nLatest: Python 3.11.0\\n\\n\\nDocs\\nDocumentation for Python\\'s standard library, along with tutorials and guides, are available online.\\ndocs.python.org\\n\\n\\nJobs\\nLooking for work or have a Python related position that you\\'re trying to hire for? Our relaunched community-run job board is the place to go.\\njobs.python.org\\n\\n\\n\\n\\n\\nLatest News\\nMore\\n\\n\\n2022-11-07\\nIt\\'s time for our annual year-end PSF fundraiser and membership drive 🎉\\n\\n2022-11-01\\nThank You for Making PyCon US amazing, Jackie!\\n\\n2022-10-26\\nAnnouncing Python Software Foundation Fellow Members for Q3 2022! 🎉\\n\\n2022-10-25\\nPython Software Foundation - October 2022 Newsletter\\n\\n2022-10-25\\nPython 3.12.0 alpha 1 released\\n\\n\\n\\n\\n\\nUpcoming Events\\nMore\\n\\n\\n2022-11-12\\nPyCon Ireland 2022\\n\\n2022-11-15\\nPyChain 2022\\n\\n2022-11-17\\nCall for Proposals - Speaking at PyCon US 2023 - Fireside Chat with Mariatta Wijaya, Conference Chair\\n\\n2022-11-26\\nPyjamas Conf 2022\\n\\n2022-11-26\\nDjango Girls Groningen\\n\\n\\n\\n\\n\\n\\n\\nSuccess Stories\\nMore\\n\\n\\n“We feel much better equipped now to handle the challenges. And if we run into an issue, we’ll come to Caktus to hammer it out,\" said Stephen Johnston, VP of Engineering, at Force Therapeutics.\\n\\n\\n\\n\\nA Startup Healthcare Tech Firm Is Now Poised for the Future by Caktus Group\\n\\n\\n\\n\\n\\n\\n\\n\\nUse Python for…\\nMore\\n\\nWeb Development:\\r\\n        Django, Pyramid, Bottle, Tornado, Flask, web2py\\nGUI Development:\\r\\n        tkInter, PyGObject, PyQt, PySide, Kivy, wxPython\\nScientific and Numeric:\\r\\n        \\nSciPy, Pandas, IPython\\nSoftware Development:\\r\\n        Buildbot, Trac, Roundup\\nSystem Administration:\\r\\n        Ansible, Salt, OpenStack, xonsh\\n\\n\\n\\n\\n\\n\\n>>> Python Enhancement Proposals (PEPs): The future of Python is discussed here.\\n RSS\\n\\n\\n\\n\\n\\n>>> Python Software Foundation\\n\\nThe mission of the Python Software Foundation is to promote, protect, and advance the Python programming language, and to support and facilitate the growth of a diverse and international community of Python programmers. Learn more \\n\\nBecome a Member\\nDonate to the PSF\\n\\n\\n\\n\\n\\n\\n\\n\\n\\n▲ Back to Top\\n\\n\\nAbout\\n\\nApplications\\nQuotes\\nGetting Started\\nHelp\\nPython Brochure\\n\\n\\n\\nDownloads\\n\\nAll releases\\nSource code\\nWindows\\nmacOS\\nOther Platforms\\nLicense\\nAlternative Implementations\\n\\n\\n\\nDocumentation\\n\\nDocs\\nAudio/Visual Talks\\nBeginner\\'s Guide\\nDeveloper\\'s Guide\\nFAQ\\nNon-English Docs\\nPEP Index\\nPython Books\\nPython Essays\\n\\n\\n\\nCommunity\\n\\nDiversity\\nMailing Lists\\nIRC\\nForums\\nPSF Annual Impact Report\\nPython Conferences\\nSpecial Interest Groups\\nPython Logo\\nPython Wiki\\nMerchandise\\nCommunity Awards\\nCode of Conduct\\nGet Involved\\nShared Stories\\n\\n\\n\\nSuccess Stories\\n\\nArts\\nBusiness\\nEducation\\nEngineering\\nGovernment\\nScientific\\nSoftware Development\\n\\n\\n\\nNews\\n\\nPython News\\nPSF Newsletter\\nCommunity News\\nPSF News\\nPyCon News\\n\\n\\n\\nEvents\\n\\nPython Events\\nUser Group Events\\nPython Events Archive\\nUser Group Events Archive\\nSubmit an Event\\n\\n\\n\\nContributing\\n\\nDeveloper\\'s Guide\\nIssue Tracker\\npython-dev list\\nCore Mentorship\\nReport a Security Issue\\n\\n\\n\\n▲ Back to Top\\n\\n \\n\\n\\n\\nHelp & General Contact\\nDiversity Initiatives\\nSubmit Website Bug\\n\\nStatus \\n\\n\\n\\n\\nCopyright ©2001-2022.\\n                            \\xa0Python Software Foundation\\n                            \\xa0Legal Statements\\n                            \\xa0Privacy Policy\\n                            \\xa0Powered by Heroku\\n\\n\\n\\n\\n\\n\\n\\n\\n\\n\\n\\n\\n\\n\\n\\n\\n\\n'"
      ]
     },
     "execution_count": 13,
     "metadata": {},
     "output_type": "execute_result"
    }
   ],
   "source": [
    "soup.text"
   ]
  },
  {
   "cell_type": "code",
   "execution_count": 14,
   "id": "bfbe5ee5",
   "metadata": {},
   "outputs": [
    {
     "ename": "error",
     "evalue": "(25, 'Inappropriate ioctl for device')",
     "output_type": "error",
     "traceback": [
      "\u001b[0;31m---------------------------------------------------------------------------\u001b[0m",
      "\u001b[0;31merror\u001b[0m                                     Traceback (most recent call last)",
      "Cell \u001b[0;32mIn [14], line 1\u001b[0m\n\u001b[0;32m----> 1\u001b[0m \u001b[38;5;28;01mimport\u001b[39;00m \u001b[38;5;21;01mweather\u001b[39;00m\n\u001b[1;32m      2\u001b[0m forecast\u001b[38;5;241m=\u001b[39mweather\u001b[38;5;241m.\u001b[39mforecast()\n\u001b[1;32m      3\u001b[0m forecast\u001b[38;5;241m.\u001b[39mtoday[\u001b[38;5;124m'\u001b[39m\u001b[38;5;124m6:00\u001b[39m\u001b[38;5;124m'\u001b[39m]\u001b[38;5;241m.\u001b[39mtemp \u001b[38;5;66;03m# Get temperature in current location at 6.00\u001b[39;00m\n",
      "File \u001b[0;32m/usr/local/lib/python3.11/site-packages/weather/__init__.py:36\u001b[0m\n\u001b[1;32m     34\u001b[0m \u001b[38;5;28;01mimport\u001b[39;00m \u001b[38;5;21;01mdatetime\u001b[39;00m\n\u001b[1;32m     35\u001b[0m \u001b[38;5;28;01mimport\u001b[39;00m \u001b[38;5;21;01mtermutils\u001b[39;00m\n\u001b[0;32m---> 36\u001b[0m \u001b[38;5;28;01mimport\u001b[39;00m \u001b[38;5;21;01mgetchlib\u001b[39;00m\n\u001b[1;32m     37\u001b[0m \u001b[38;5;124;03m'''Python library for getting weather from different sources.\u001b[39;00m\n\u001b[1;32m     38\u001b[0m \u001b[38;5;124;03mExample:\u001b[39;00m\n\u001b[1;32m     39\u001b[0m \u001b[38;5;124;03m>>> import weather\u001b[39;00m\n\u001b[0;32m   (...)\u001b[0m\n\u001b[1;32m     46\u001b[0m \n\u001b[1;32m     47\u001b[0m \u001b[38;5;124;03m'''\u001b[39;00m\n\u001b[1;32m     48\u001b[0m termcolor\u001b[38;5;241m.\u001b[39mCOLORS\u001b[38;5;241m=\u001b[39m{key:value\u001b[38;5;241m+\u001b[39m\u001b[38;5;241m60\u001b[39m \u001b[38;5;28;01mfor\u001b[39;00m key,value \u001b[38;5;129;01min\u001b[39;00m termcolor\u001b[38;5;241m.\u001b[39mCOLORS\u001b[38;5;241m.\u001b[39mitems()}\n",
      "File \u001b[0;32m/usr/local/lib/python3.11/site-packages/getchlib/__init__.py:1\u001b[0m\n\u001b[0;32m----> 1\u001b[0m \u001b[38;5;28;01mfrom\u001b[39;00m \u001b[38;5;21;01m.\u001b[39;00m\u001b[38;5;21;01mhotkey\u001b[39;00m \u001b[38;5;28;01mimport\u001b[39;00m \u001b[38;5;241m*\u001b[39m\n\u001b[1;32m      2\u001b[0m \u001b[38;5;28;01mfrom\u001b[39;00m \u001b[38;5;21;01m.\u001b[39;00m\u001b[38;5;21;01mpressed\u001b[39;00m \u001b[38;5;28;01mimport\u001b[39;00m \u001b[38;5;241m*\u001b[39m\n\u001b[1;32m      3\u001b[0m \u001b[38;5;28;01mfrom\u001b[39;00m \u001b[38;5;21;01m.\u001b[39;00m \u001b[38;5;28;01mimport\u001b[39;00m keynames\n",
      "File \u001b[0;32m/usr/local/lib/python3.11/site-packages/getchlib/hotkey.py:1\u001b[0m\n\u001b[0;32m----> 1\u001b[0m \u001b[38;5;28;01mfrom\u001b[39;00m \u001b[38;5;21;01m.\u001b[39;00m \u001b[38;5;28;01mimport\u001b[39;00m term\n\u001b[1;32m      2\u001b[0m \u001b[38;5;28;01mfrom\u001b[39;00m \u001b[38;5;21;01m.\u001b[39;00m\u001b[38;5;21;01mgetkey\u001b[39;00m \u001b[38;5;28;01mimport\u001b[39;00m getkey\n\u001b[1;32m      3\u001b[0m \u001b[38;5;28;01mfrom\u001b[39;00m \u001b[38;5;21;01m.\u001b[39;00m\u001b[38;5;21;01mdecorators\u001b[39;00m \u001b[38;5;28;01mimport\u001b[39;00m with_args\n",
      "File \u001b[0;32m/usr/local/lib/python3.11/site-packages/getchlib/term.py:18\u001b[0m\n\u001b[1;32m     16\u001b[0m     \u001b[38;5;28;01mdef\u001b[39;00m \u001b[38;5;21m__exit__\u001b[39m(\u001b[38;5;28mself\u001b[39m,\u001b[38;5;241m*\u001b[39mfoo):\n\u001b[1;32m     17\u001b[0m         \u001b[38;5;28mself\u001b[39m\u001b[38;5;241m.\u001b[39mon()\n\u001b[0;32m---> 18\u001b[0m buffering\u001b[38;5;241m=\u001b[39m\u001b[43mBuffering\u001b[49m\u001b[43m(\u001b[49m\u001b[43msys\u001b[49m\u001b[38;5;241;43m.\u001b[39;49m\u001b[43mstdin\u001b[49m\u001b[43m)\u001b[49m\n",
      "File \u001b[0;32m/usr/local/lib/python3.11/site-packages/getchlib/term.py:9\u001b[0m, in \u001b[0;36mBuffering.__init__\u001b[0;34m(self, file)\u001b[0m\n\u001b[1;32m      7\u001b[0m \u001b[38;5;28mself\u001b[39m\u001b[38;5;241m.\u001b[39mfd\u001b[38;5;241m=\u001b[39mfile\u001b[38;5;241m.\u001b[39mfileno()\n\u001b[1;32m      8\u001b[0m \u001b[38;5;28mself\u001b[39m\u001b[38;5;241m.\u001b[39mfile\u001b[38;5;241m=\u001b[39mfile\n\u001b[0;32m----> 9\u001b[0m \u001b[38;5;28mself\u001b[39m\u001b[38;5;241m.\u001b[39msettings\u001b[38;5;241m=\u001b[39m\u001b[43mtermios\u001b[49m\u001b[38;5;241;43m.\u001b[39;49m\u001b[43mtcgetattr\u001b[49m\u001b[43m(\u001b[49m\u001b[43mfile\u001b[49m\u001b[43m)\u001b[49m\n",
      "\u001b[0;31merror\u001b[0m: (25, 'Inappropriate ioctl for device')"
     ]
    }
   ],
   "source": [
    "import weather\n",
    "forecast=weather.forecast()\n",
    "forecast.today['6:00'].temp # Get temperature in current location at 6.00"
   ]
  },
  {
   "cell_type": "markdown",
   "id": "d5ed19a4",
   "metadata": {},
   "source": [
    "# Exercise:\n",
    "\n",
    "1. Install `weather2` from PyPI\n",
    "2. Make a few calls (even if they're only from the documentation) to the weather service.\n",
    "3. Note: Looks like it won't work in Jupyter.  "
   ]
  },
  {
   "cell_type": "code",
   "execution_count": null,
   "id": "e73b341d",
   "metadata": {},
   "outputs": [],
   "source": []
  }
 ],
 "metadata": {
  "kernelspec": {
   "display_name": "Python 3 (ipykernel)",
   "language": "python",
   "name": "python3"
  },
  "language_info": {
   "codemirror_mode": {
    "name": "ipython",
    "version": 3
   },
   "file_extension": ".py",
   "mimetype": "text/x-python",
   "name": "python",
   "nbconvert_exporter": "python",
   "pygments_lexer": "ipython3",
   "version": "3.11.0"
  }
 },
 "nbformat": 4,
 "nbformat_minor": 5
}
