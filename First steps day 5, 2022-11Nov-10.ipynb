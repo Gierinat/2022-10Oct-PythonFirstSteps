{
 "cells": [
  {
   "cell_type": "markdown",
   "id": "c78149f5",
   "metadata": {},
   "source": [
    "# Agenda: Week 5 (Modules and packages)\n",
    "\n",
    "1. Review last week's challenge\n",
    "2. Intro to modules\n",
    "    - What are they?\n",
    "    - How can we use them?\n",
    "3. Using `import`\n",
    "    - Different forms of `import`\n",
    "4. Python's standard library    \n",
    "5. Develop our own (simple) module\n",
    "6. Modules vs. packages\n",
    "7. PyPI (the Python Package Index)\n",
    "    - Using `pip`\n",
    "    - Installing third-party modules\n",
    "    - Using third-party modules\n",
    "8. What's next? Where do we go from here?    "
   ]
  },
  {
   "cell_type": "markdown",
   "id": "72b8f592",
   "metadata": {},
   "source": [
    "# Modules\n",
    "\n"
   ]
  }
 ],
 "metadata": {
  "kernelspec": {
   "display_name": "Python 3 (ipykernel)",
   "language": "python",
   "name": "python3"
  },
  "language_info": {
   "codemirror_mode": {
    "name": "ipython",
    "version": 3
   },
   "file_extension": ".py",
   "mimetype": "text/x-python",
   "name": "python",
   "nbconvert_exporter": "python",
   "pygments_lexer": "ipython3",
   "version": "3.11.0"
  }
 },
 "nbformat": 4,
 "nbformat_minor": 5
}
