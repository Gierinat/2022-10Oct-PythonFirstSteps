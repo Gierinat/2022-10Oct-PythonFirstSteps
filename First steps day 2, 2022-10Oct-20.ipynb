{
 "cells": [
  {
   "cell_type": "markdown",
   "id": "80e8fc06",
   "metadata": {},
   "source": [
    "# Agenda for week #2: Loops, lists, and tuples\n",
    "\n",
    "1. Q&A\n",
    "2. Loops\n",
    "    - `for` loops\n",
    "    - `range` and numbers\n",
    "    - `while` loops\n",
    "    - exiting early from a loop\n",
    "    - where's the index? How can we get around the lack of an index?\n",
    "3. List\n",
    "    - Creating them\n",
    "    - What can they hold? What would we use them for?\n",
    "    - Lists are *mutable* -- they can be changed!\n",
    "4. Strings to lists, and back again\n",
    "    - Turning strings into lists with `str.split`\n",
    "    - Turning lists into strings with `str.join`\n",
    "5. A little bit about tuples\n",
    "    - What are tuples?\n",
    "    - Tuple unpacking -- an important and useful assignment technique in Python\n"
   ]
  },
  {
   "cell_type": "markdown",
   "id": "6e9e07e5",
   "metadata": {},
   "source": [
    "# Assignment -- what does it mean?\n",
    "\n",
    "When we assign a value to a variable in Python, we're basically giving a pronoun to that value."
   ]
  },
  {
   "cell_type": "code",
   "execution_count": 1,
   "id": "336dfcfe",
   "metadata": {},
   "outputs": [],
   "source": [
    "# once we've executed this cell, the variable x (which didn't previously exist) now refers\n",
    "# to the integer value 10.\n",
    "\n",
    "x = 10"
   ]
  },
  {
   "cell_type": "code",
   "execution_count": 2,
   "id": "37c44160",
   "metadata": {},
   "outputs": [],
   "source": [
    "# if I assign the variable x to a new value, it refers to that new value,\n",
    "# with no memory of the previous value.\n",
    "\n",
    "x = 20 "
   ]
  },
  {
   "cell_type": "code",
   "execution_count": 3,
   "id": "8f71a973",
   "metadata": {},
   "outputs": [
    {
     "data": {
      "text/plain": [
       "20"
      ]
     },
     "execution_count": 3,
     "metadata": {},
     "output_type": "execute_result"
    }
   ],
   "source": [
    "x"
   ]
  },
  {
   "cell_type": "code",
   "execution_count": 4,
   "id": "6976e651",
   "metadata": {},
   "outputs": [],
   "source": [
    "x = 10\n",
    "y = 20"
   ]
  },
  {
   "cell_type": "code",
   "execution_count": 5,
   "id": "0635a9bb",
   "metadata": {},
   "outputs": [
    {
     "data": {
      "text/plain": [
       "10"
      ]
     },
     "execution_count": 5,
     "metadata": {},
     "output_type": "execute_result"
    }
   ],
   "source": [
    "x"
   ]
  },
  {
   "cell_type": "code",
   "execution_count": 6,
   "id": "0d6887a6",
   "metadata": {},
   "outputs": [
    {
     "data": {
      "text/plain": [
       "20"
      ]
     },
     "execution_count": 6,
     "metadata": {},
     "output_type": "execute_result"
    }
   ],
   "source": [
    "y"
   ]
  },
  {
   "cell_type": "code",
   "execution_count": 8,
   "id": "0540de91",
   "metadata": {},
   "outputs": [],
   "source": [
    "x = 10    # we've (re-)assigned the value 10 to x\n",
    "y = 30    # we've reassigned y to refer to the integer 30"
   ]
  },
  {
   "cell_type": "markdown",
   "id": "ec010fde",
   "metadata": {},
   "source": [
    "# Python Tutor!\n",
    "\n",
    "Check it out at https://PythonTutor.com/"
   ]
  },
  {
   "cell_type": "markdown",
   "id": "22a92c57",
   "metadata": {},
   "source": [
    "# How can I print every element of a 4-character string?"
   ]
  },
  {
   "cell_type": "code",
   "execution_count": 9,
   "id": "7159949e",
   "metadata": {},
   "outputs": [
    {
     "name": "stdout",
     "output_type": "stream",
     "text": [
      "a\n",
      "b\n",
      "c\n",
      "d\n"
     ]
    }
   ],
   "source": [
    "s = 'abcd'\n",
    "\n",
    "print(s[0])   # remember the indexes start with 0!  \n",
    "print(s[1])\n",
    "print(s[2])\n",
    "print(s[3])   # if it's a 4-character string, then the final index will be 3"
   ]
  },
  {
   "cell_type": "markdown",
   "id": "3f3d686e",
   "metadata": {},
   "source": [
    "# DRY -- Don't repeat yourself!\n",
    "\n",
    "If you find yourself repeating code in your program, you've almost certainly done something wrong. You want to avoid repeated code at almost any cost.\n",
    "\n",
    "- If you repeat code, and then have to edit it, you have to track down all of the places where you wrote it, and update it.\n",
    "- If you repeat code, it gets hard to think about, in part because the code just gets much longer\n",
    "\n",
    "If you have (almost) the same code repeated, several lines in a row, then you should consider a *loop*.\n",
    "\n",
    "Python has two kinds of loops (and only two kinds!):\n",
    "- `for`\n",
    "- `while`"
   ]
  },
  {
   "cell_type": "markdown",
   "id": "ff0e640e",
   "metadata": {},
   "source": [
    "# Parts of a `for` loop\n",
    "\n",
    "1. We use the keywords `for` and `in`.\n",
    "2. At the end of the `for` line, just before the colon (`:`), we have the object we want to iterate over, that we want to run our `for` loop on.  In this case, it's the string `'abcd'`.\n",
    "3. Between the words `for` and `in`, we have a variable.  This is known as the \"iteration variable.\" This variable is assigned each successive value that we get back from the string `'abcd'`.\n",
    "4. After the loop variable is assigned, we execute everything in the indented block.\n",
    "5. When the block has finished executing, the `for` loop once again asks for the next value from the string.\n",
    "6. When we run out of values, the loop ends.\n",
    "\n",
    "When we run the `for` loop, `for` turns to the object (in this case, the string `'abcd'`), and asks: Are you iterable? That is, do you know how to operate inside of a `for` loop?\n",
    "\n",
    "If so, then the object tell us \"yes,\" and we say: Great, give me your next thing.\n",
    "\n",
    "That next thing (whatever we get) is assigned to the variable - in this case, `one_letter`. This variable doesn't need to be defined in advance -- and in fact, if it was defined before, that definition has now been obliterated in favor of the newly assigned values from the loop."
   ]
  },
  {
   "cell_type": "code",
   "execution_count": 10,
   "id": "422f5a9d",
   "metadata": {},
   "outputs": [
    {
     "name": "stdout",
     "output_type": "stream",
     "text": [
      "a\n",
      "b\n",
      "c\n",
      "d\n"
     ]
    }
   ],
   "source": [
    "# example of a for loop\n",
    "\n",
    "for one_letter in 'abcd':   # I could call my variable ANYTHING I WANT and get the same result!\n",
    "    print(one_letter)"
   ]
  },
  {
   "cell_type": "code",
   "execution_count": 11,
   "id": "2b63c6a4",
   "metadata": {},
   "outputs": [
    {
     "name": "stdout",
     "output_type": "stream",
     "text": [
      "a\n",
      "b\n",
      "c\n",
      "d\n"
     ]
    }
   ],
   "source": [
    "for avocado in 'abcd': # variable names are for us, the humans, who are writing + debugging + editing code!\n",
    "    print(avocado)"
   ]
  },
  {
   "cell_type": "markdown",
   "id": "7f07085a",
   "metadata": {},
   "source": [
    "# Identifier (name) styles\n",
    "\n",
    "In Python, we typically use what's known as \"snake case,\" with all lowercase letters and `_` between words.\n",
    "\n",
    "Another common way to write names, which we only do in Python when defining our own data types (\"classes\"), is CamelCase, in which the first letter is capitalized, as is the first letter of every additional word in the mushed-together new words we've written.\n",
    "\n",
    "An identifier (variable or function name) cannot contain `-` or spaces. So if you want more than one word, you'll have to choose whether to use CamelCase or snake_case -- and most Python people have chosen snake_case for most of the time."
   ]
  },
  {
   "cell_type": "code",
   "execution_count": 13,
   "id": "d4c87977",
   "metadata": {},
   "outputs": [
    {
     "name": "stdout",
     "output_type": "stream",
     "text": [
      "2 is a digit\n",
      "  is whitespace\n",
      "+ is a math symbol\n",
      "  is whitespace\n",
      "2 is a digit\n",
      "  is whitespace\n",
      "= is a math symbol\n",
      "  is whitespace\n",
      "4 is a digit\n"
     ]
    }
   ],
   "source": [
    "# slightly more interesting example\n",
    "\n",
    "s = '2 + 2 = 4'\n",
    "\n",
    "for one_character in s:\n",
    "    if one_character.isdigit():\n",
    "        print(f'{one_character} is a digit')\n",
    "    elif one_character.isspace():\n",
    "        print(f'{one_character} is whitespace')\n",
    "    elif one_character in '+-*/=':\n",
    "        print(f'{one_character} is a math symbol')\n",
    "    else:\n",
    "        print(f'I do not know what to do with {one_character}')"
   ]
  },
  {
   "cell_type": "markdown",
   "id": "c35a1b11",
   "metadata": {},
   "source": [
    "# Why loop?\n",
    "\n",
    "We can go through every element of an object, one at a time, and execute some code on each individual element. So far, the only iterable data we've seen has been a string, in which iterating gives us one character at a time.  But many other Python types are iterable, as we'll see -- both today (lists and tuples) and next time (with dicts and files)."
   ]
  },
  {
   "cell_type": "markdown",
   "id": "088c2418",
   "metadata": {},
   "source": [
    "# Exercise: Vowel and consonant counter\n",
    "\n",
    "1. Define two variables, `vowel_count` and `consonant_count`. Set both to 0.\n",
    "2. Ask the user to enter a word, only containing letters.\n",
    "3. Go through the string, one character at time:\n",
    "    - If the charcter is a vowel (a, e, i, o, or u) then add 1 to `vowel_count`\n",
    "    - If the character is a consonant, then add 1 to `consonant_count`\n",
    "    - We can assume that our user only entered lowercase letters.\n",
    "4. Print the number of vowels and consonants in the string.    "
   ]
  },
  {
   "cell_type": "code",
   "execution_count": 14,
   "id": "0f42848c",
   "metadata": {},
   "outputs": [
    {
     "name": "stdout",
     "output_type": "stream",
     "text": [
      "Enter a word: encyclopedia\n",
      "vowel_count = 5\n",
      "consonant_count = 7\n"
     ]
    }
   ],
   "source": [
    "vowel_count = 0\n",
    "consonant_count = 0\n",
    "\n",
    "# get input from the user (as a string), remove leading/trailing spaces, assign to s\n",
    "s = input('Enter a word: ').strip()\n",
    "\n",
    "for one_character in s:\n",
    "    if one_character in 'aeiou':   # is the character a vowel?\n",
    "        vowel_count += 1           # add 1 to the value of vowel_count\n",
    "    elif one_character in 'bcdfghjklmnpqrstvwxyz':\n",
    "        consonant_count += 1       \n",
    "    else:\n",
    "        print(f'What is {one_character}? I do not know what to do with it')\n",
    "        \n",
    "print(f'vowel_count = {vowel_count}')        \n",
    "print(f'consonant_count = {consonant_count}')"
   ]
  },
  {
   "cell_type": "code",
   "execution_count": 15,
   "id": "ce06bfc0",
   "metadata": {},
   "outputs": [
    {
     "ename": "TypeError",
     "evalue": "'int' object is not iterable",
     "output_type": "error",
     "traceback": [
      "\u001b[0;31m---------------------------------------------------------------------------\u001b[0m",
      "\u001b[0;31mTypeError\u001b[0m                                 Traceback (most recent call last)",
      "\u001b[0;32m/var/folders/rr/0mnyyv811fs5vyp22gf4fxk00000gn/T/ipykernel_88973/284560243.py\u001b[0m in \u001b[0;36m<module>\u001b[0;34m\u001b[0m\n\u001b[1;32m      1\u001b[0m \u001b[0;31m# what happens if I try to execute a for loop on a non-iterable data type?\u001b[0m\u001b[0;34m\u001b[0m\u001b[0;34m\u001b[0m\u001b[0m\n\u001b[1;32m      2\u001b[0m \u001b[0;34m\u001b[0m\u001b[0m\n\u001b[0;32m----> 3\u001b[0;31m \u001b[0;32mfor\u001b[0m \u001b[0mone_item\u001b[0m \u001b[0;32min\u001b[0m \u001b[0;36m5\u001b[0m\u001b[0;34m:\u001b[0m\u001b[0;34m\u001b[0m\u001b[0;34m\u001b[0m\u001b[0m\n\u001b[0m\u001b[1;32m      4\u001b[0m     \u001b[0mprint\u001b[0m\u001b[0;34m(\u001b[0m\u001b[0mone_item\u001b[0m\u001b[0;34m)\u001b[0m\u001b[0;34m\u001b[0m\u001b[0;34m\u001b[0m\u001b[0m\n",
      "\u001b[0;31mTypeError\u001b[0m: 'int' object is not iterable"
     ]
    }
   ],
   "source": [
    "# what happens if I try to execute a for loop on a non-iterable data type?\n",
    "\n",
    "for one_item in 5:\n",
    "    print(one_item)"
   ]
  },
  {
   "cell_type": "code",
   "execution_count": 16,
   "id": "a2df04e0",
   "metadata": {},
   "outputs": [
    {
     "name": "stdout",
     "output_type": "stream",
     "text": [
      "Hooray!\n",
      "Hooray!\n",
      "Hooray!\n"
     ]
    }
   ],
   "source": [
    "# what if I want to do something 3 times? or 5 times? or 10 times?\n",
    "\n",
    "print('Hooray!')\n",
    "print('Hooray!')\n",
    "print('Hooray!')\n"
   ]
  },
  {
   "cell_type": "code",
   "execution_count": 17,
   "id": "a4cd2cba",
   "metadata": {},
   "outputs": [
    {
     "ename": "TypeError",
     "evalue": "'int' object is not iterable",
     "output_type": "error",
     "traceback": [
      "\u001b[0;31m---------------------------------------------------------------------------\u001b[0m",
      "\u001b[0;31mTypeError\u001b[0m                                 Traceback (most recent call last)",
      "\u001b[0;32m/var/folders/rr/0mnyyv811fs5vyp22gf4fxk00000gn/T/ipykernel_88973/3866588789.py\u001b[0m in \u001b[0;36m<module>\u001b[0;34m\u001b[0m\n\u001b[1;32m      1\u001b[0m \u001b[0;31m# the above code isn't very DRY (don't repeat yourself). Let's shrink it into a \"for\" loop:\u001b[0m\u001b[0;34m\u001b[0m\u001b[0;34m\u001b[0m\u001b[0m\n\u001b[1;32m      2\u001b[0m \u001b[0;34m\u001b[0m\u001b[0m\n\u001b[0;32m----> 3\u001b[0;31m \u001b[0;32mfor\u001b[0m \u001b[0mone_item\u001b[0m \u001b[0;32min\u001b[0m \u001b[0;36m3\u001b[0m\u001b[0;34m:\u001b[0m\u001b[0;34m\u001b[0m\u001b[0;34m\u001b[0m\u001b[0m\n\u001b[0m\u001b[1;32m      4\u001b[0m     \u001b[0mprint\u001b[0m\u001b[0;34m(\u001b[0m\u001b[0;34m'Hooray!'\u001b[0m\u001b[0;34m)\u001b[0m\u001b[0;34m\u001b[0m\u001b[0;34m\u001b[0m\u001b[0m\n",
      "\u001b[0;31mTypeError\u001b[0m: 'int' object is not iterable"
     ]
    }
   ],
   "source": [
    "# the above code isn't very DRY (don't repeat yourself). Let's shrink it into a \"for\" loop:\n",
    "\n",
    "for one_item in 3:    # this will not work!\n",
    "    print('Hooray!')\n"
   ]
  },
  {
   "cell_type": "code",
   "execution_count": 18,
   "id": "1627c556",
   "metadata": {},
   "outputs": [
    {
     "name": "stdout",
     "output_type": "stream",
     "text": [
      "Hooray!\n",
      "Hooray!\n",
      "Hooray!\n"
     ]
    }
   ],
   "source": [
    "# Python provides us with the \"range\" builtin\n",
    "# this allows us to iterate a certain number of times\n",
    "\n",
    "# the for loop turns to the result of invoking range(3) and asks: are you iterable?\n",
    "# the answer: yes!\n",
    "\n",
    "for one_item in range(3):    # this *WILL* work! \n",
    "    print('Hooray!')\n"
   ]
  },
  {
   "cell_type": "code",
   "execution_count": 20,
   "id": "5f349209",
   "metadata": {},
   "outputs": [
    {
     "name": "stdout",
     "output_type": "stream",
     "text": [
      "0: Hooray!\n",
      "1: Hooray!\n",
      "2: Hooray!\n"
     ]
    }
   ],
   "source": [
    "# what is the value of one_item in each iteration here?\n",
    "\n",
    "# when I iterate over range(3), I get 3 numbers -- 0, 1, and 2\n",
    "# you'll always get integers starting at 0 until (and not including) the mentioned value\n",
    "\n",
    "for one_item in range(3):    # this *WILL* work! \n",
    "    print(f'{one_item}: Hooray!')\n"
   ]
  },
  {
   "cell_type": "markdown",
   "id": "3a7b0544",
   "metadata": {},
   "source": [
    "# Exercise: Name triangles\n",
    "\n",
    "1. Ask the user to enter their name.\n",
    "2. Print the name, once for each letter in the name. But you won't print the whole thing each time:\n",
    "    - On the first line, print only the first letter\n",
    "    - On the 2nd line, print the first two letters\n",
    "    - On the 3rd line, print the first three letters\n",
    "    - All the way to.. on the final line, print the full name.\n",
    "    \n",
    "Example:\n",
    "\n",
    "    Enter your name: Reuven\n",
    "    R\n",
    "    Re\n",
    "    Reu\n",
    "    Reuv\n",
    "    Reuve\n",
    "    Reuven\n",
    "    \n",
    "Hints:\n",
    "\n",
    "1. Remember that you can get the length of a string with the `len` function.\n",
    "2. Also remember that you can retrieve a subset of a string with a \"slice,\" with `[start:end]` syntax.\n"
   ]
  },
  {
   "cell_type": "code",
   "execution_count": 22,
   "id": "4f6af130",
   "metadata": {},
   "outputs": [
    {
     "name": "stdout",
     "output_type": "stream",
     "text": [
      "R\n",
      "Re\n",
      "Reu\n",
      "Reuv\n",
      "Reuve\n",
      "Reuven\n"
     ]
    }
   ],
   "source": [
    "# let's start off by *not* using a loop\n",
    "\n",
    "name = 'Reuven'\n",
    "\n",
    "print(name[:1])\n",
    "print(name[:2])\n",
    "print(name[:3])\n",
    "print(name[:4])\n",
    "print(name[:5])\n",
    "print(name[:6])  # notice that a slice's outer bounds can go *beyond* the string's final index!"
   ]
  },
  {
   "cell_type": "code",
   "execution_count": 23,
   "id": "79e6a41a",
   "metadata": {},
   "outputs": [
    {
     "name": "stdout",
     "output_type": "stream",
     "text": [
      "R\n",
      "Re\n",
      "Reu\n",
      "Reuv\n",
      "Reuve\n",
      "Reuven\n"
     ]
    }
   ],
   "source": [
    "name = 'Reuven'\n",
    "\n",
    "for index in range(6):   # range will give us numbers from 0, up to and not including 6\n",
    "    print(name[:index+1])\n"
   ]
  },
  {
   "cell_type": "code",
   "execution_count": 26,
   "id": "42902ad2",
   "metadata": {},
   "outputs": [
    {
     "name": "stdout",
     "output_type": "stream",
     "text": [
      "Enter your name: A\n",
      "A\n"
     ]
    }
   ],
   "source": [
    "name = input('Enter your name: ').strip()\n",
    "\n",
    "for index in range(len(name)):   \n",
    "    print(name[:index+1])"
   ]
  },
  {
   "cell_type": "markdown",
   "id": "4cb741e0",
   "metadata": {},
   "source": [
    "# Next up:\n",
    "\n",
    "1. `while` loops\n",
    "2. Where's the index in `for` loops? (Getting around this problem)"
   ]
  },
  {
   "cell_type": "markdown",
   "id": "bb27f228",
   "metadata": {},
   "source": [
    "# `while` loops\n",
    "\n",
    "In a `for` loop, we're iterating over each element of something -- so far, we've seen that we can iterate over strings and ranges.  We know that the loop will execute once, and exactly once, for each element in our object.\n",
    "\n",
    "What if we don't know how many times we're going to need to iterate? What if we know under what conditions we'll want to stop, but not how long it'll take before we get there?\n",
    "\n",
    "Given a child with clothes on the floor:\n",
    "\n",
    "- We could say: Pick up each of the clothes on the floor! That's a `for` loop -- an action to be performed for each item.\n",
    "- We could also say: So long as there are clothes on the floor, pick them up and put them away. That's a `while` loop -- we indicate the condition under which the loop can exit.\n",
    "\n",
    "Another way to think about a `while` loop is as an `if` statement that runs repeatedly, until the condition is `False`."
   ]
  },
  {
   "cell_type": "code",
   "execution_count": 27,
   "id": "4a1c2f1d",
   "metadata": {},
   "outputs": [
    {
     "name": "stdout",
     "output_type": "stream",
     "text": [
      "5\n",
      "4\n",
      "3\n",
      "2\n",
      "1\n"
     ]
    }
   ],
   "source": [
    "x = 5\n",
    "\n",
    "# in a while loop, we'll execute the loop body so long as the condition is True\n",
    "# when the condition is False, the loop exits.\n",
    "\n",
    "while x > 0:   # here, we have our while loop + its condition, which is currently True\n",
    "    print(x)\n",
    "    x -= 1     # here, we reduce x by 1"
   ]
  },
  {
   "cell_type": "code",
   "execution_count": null,
   "id": "c20aa08f",
   "metadata": {},
   "outputs": [],
   "source": [
    "# what if we don't have line 8 in our while loop, and we never reduce x's value? We end up\n",
    "# with a loop that never exits -- an infinite loop."
   ]
  },
  {
   "cell_type": "markdown",
   "id": "5b188b5a",
   "metadata": {},
   "source": [
    "# Exercise: Sum until 100\n",
    "\n",
    "1. Define a variable, `total`, to be 0.\n",
    "2. Ask the user repeatedly to enter a number.\n",
    "    - If the user enters a non-number (you can check with `.isdigit()`), then scold them and let them try again\n",
    "    - If the user enters a number, then add it to `total`, and print the new `total`.\n",
    "3. When `total` is 100 or greater, then exit, and print its value.\n",
    "\n",
    "Example:\n",
    "\n",
    "    Number: 50\n",
    "    total is now 50\n",
    "    Number: 30\n",
    "    total is now 80\n",
    "    Number: hello\n",
    "    hello is not a number\n",
    "    Number: 30\n",
    "    total is now 110\n",
    "    \n",
    "Hints/ideas:\n",
    "\n",
    "1. Remember that `input` returns a string.\n",
    "2. You can check if a string contains only digits 0-9 with the `isdigit` method\n",
    "3. You can get an integer based on a string with `int`"
   ]
  },
  {
   "cell_type": "code",
   "execution_count": 28,
   "id": "8b434304",
   "metadata": {},
   "outputs": [
    {
     "name": "stdout",
     "output_type": "stream",
     "text": [
      "Number: 30\n",
      "total is now 30\n",
      "Number: 40\n",
      "total is now 70\n",
      "Number: abcd\n",
      "abcd is not a number\n",
      "Number: 0\n",
      "total is now 70\n",
      "Number: 0\n",
      "total is now 70\n",
      "Number: 0\n",
      "total is now 70\n",
      "Number: 1\n",
      "total is now 71\n",
      "Number: 2\n",
      "total is now 73\n",
      "Number: 3\n",
      "total is now 76\n",
      "Number: 4\n",
      "total is now 80\n",
      "Number: 5\n",
      "total is now 85\n",
      "Number: 6\n",
      "total is now 91\n",
      "Number: 7\n",
      "total is now 98\n",
      "Number: 8\n",
      "total is now 106\n",
      "Total is 106\n"
     ]
    }
   ],
   "source": [
    "# why use a while loop here? why not just use a for loop?\n",
    "# answer: we don't know how many inputs we'll need in order to reach the total of 100.\n",
    "\n",
    "total = 0\n",
    "\n",
    "while total < 100:\n",
    "    s = input('Number: ').strip()\n",
    "    \n",
    "    if s.isdigit():          # does s only contain digits?\n",
    "        total += int(s)      # we can safely create an integer based on it, and add it to total\n",
    "        print(f'total is now {total}')\n",
    "    else:                    # if s doesn't only contain digits, we'll scold them\n",
    "        print(f'{s} is not a number')\n",
    "        \n",
    "print(f'Total is {total}')        "
   ]
  },
  {
   "cell_type": "code",
   "execution_count": 29,
   "id": "43adc862",
   "metadata": {},
   "outputs": [
    {
     "name": "stdout",
     "output_type": "stream",
     "text": [
      "Number: 30\n",
      "total is now 30\n",
      "Number: -20\n",
      "-20 is not a number\n",
      "Number: \n",
      " is not a number\n",
      "Number: 100\n",
      "total is now 130\n",
      "Total is 130\n"
     ]
    }
   ],
   "source": [
    "\n",
    "total = 0\n",
    "\n",
    "while total < 100:\n",
    "    s = input('Number: ').strip()\n",
    "    \n",
    "    if s.isdigit():          # does s only contain digits?\n",
    "        total += int(s)      # we can safely create an integer based on it, and add it to total\n",
    "        print(f'total is now {total}')\n",
    "    else:                    # if s doesn't only contain digits, we'll scold them\n",
    "        print(f'{s} is not a number')\n",
    "        \n",
    "print(f'Total is {total}')        "
   ]
  },
  {
   "cell_type": "markdown",
   "id": "ed59e73b",
   "metadata": {},
   "source": [
    "# Indexes\n",
    "\n",
    "In other languages, you *need* an index in a `for` loop, because the loop is responsible for retrieving items from the data structure.\n",
    "\n",
    "In other words: The loop goes through the numbers, the indexes, that we can use to retrieve data.  And then we retrieve based on that index.\n",
    "\n",
    "In Python, things work **completely differently**! We don't need the index, because we get the individual elements themselves, one at a time!  In Python, I get the characters from a string, or the numbers from a range -- I don't need the index to get them, because I get them directly.\n",
    "\n",
    "But sometimes, I want to have an index.  Maybe I want to display the indexes.  Maybe I want to calculate things based on them.\n",
    "\n",
    "How can I get an index?"
   ]
  },
  {
   "cell_type": "code",
   "execution_count": 30,
   "id": "a36b2b6c",
   "metadata": {},
   "outputs": [
    {
     "name": "stdout",
     "output_type": "stream",
     "text": [
      "0: a\n",
      "1: b\n",
      "2: c\n",
      "3: d\n",
      "4: e\n"
     ]
    }
   ],
   "source": [
    "# one way to deal with indexes: manually!\n",
    "\n",
    "index = 0\n",
    "\n",
    "for one_character in 'abcde':\n",
    "    print(f'{index}: {one_character}')\n",
    "    index += 1   # I am incrementing the value of the index with each iteration"
   ]
  },
  {
   "cell_type": "code",
   "execution_count": 32,
   "id": "912aeefa",
   "metadata": {},
   "outputs": [
    {
     "name": "stdout",
     "output_type": "stream",
     "text": [
      "0: a\n",
      "1: b\n",
      "2: c\n",
      "3: d\n",
      "4: e\n"
     ]
    }
   ],
   "source": [
    "# another way, which looks weird (and which we'll explain later in greater detail)\n",
    "\n",
    "# I can use the \"enumerate\" builtin\n",
    "# this is a wrapper around a string or other iterable \n",
    "# then we run our \"for\" loop on enumerate(our_data)\n",
    "\n",
    "# with each iteration, we get *TWO* values - an index, and the original data's value\n",
    "\n",
    "for index, one_character in enumerate('abcde'):  # we are iterating over TWO values, so we need two variables\n",
    "    print(f'{index}: {one_character}')"
   ]
  },
  {
   "cell_type": "markdown",
   "id": "432cff1b",
   "metadata": {},
   "source": [
    "# Exercise: Powers of 10\n",
    "\n",
    "As you might know, in our decimal system, the number 1234 is really the same as saying:\n",
    "\n",
    "    (1 * 1000) + (2 * 100) + (3 * 10) + (4 * 1)\n",
    "    \n",
    "or, we can express it as:\n",
    "\n",
    "    (1 * 10**3) + (2 * 10**2) + (3 * 10**1) + (4 * 10**0)\n",
    "    \n",
    "I want you to ask the user to input an integer.  Print the integer in this expanded form, as I have on line 5.\n",
    "\n",
    "Example:\n",
    "\n",
    "    Number: 5432\n",
    "    5 * 1000\n",
    "    4 * 100\n",
    "    3 * 10\n",
    "    2 * 1\n",
    "    \n",
    "Hints:\n",
    "\n",
    "1. It'll help to use `enumerate`, to know what index you're on\n",
    "2. You can use `len` on the user's input (a string) to know what power you need to use\n",
    "3. Assume that the user has really entered a number"
   ]
  },
  {
   "cell_type": "code",
   "execution_count": 39,
   "id": "6f1e976a",
   "metadata": {},
   "outputs": [
    {
     "name": "stdout",
     "output_type": "stream",
     "text": [
      "Number: 5432\n",
      "5 * 1000\n",
      "4 * 100\n",
      "3 * 10\n",
      "2 * 1\n"
     ]
    }
   ],
   "source": [
    "# get the input from the user\n",
    "number = input('Number: ').strip()\n",
    "\n",
    "# go through each digit \n",
    "for index, one_digit in enumerate(number):\n",
    "    power = len(number) - index - 1\n",
    "    print(f'{one_digit} * {10 ** power}')\n",
    "\n"
   ]
  },
  {
   "cell_type": "code",
   "execution_count": 40,
   "id": "64779428",
   "metadata": {},
   "outputs": [],
   "source": [
    "# controlling our loops (both \"for\" and \"while\")\n",
    "\n",
    "# what if I want to exit from a loop early? There are two ways to do this:\n",
    "# - exit from the entire loop\n",
    "# - exit from the current iteration, moving onto the next one\n",
    "\n",
    "# the first is done with \"break\" -- this keyword exits from the current loop immediately.\n",
    "# typically, \"break\" is used when you realize you've achieved a goal, and don't need to loop any more.\n",
    "\n",
    "# The second is done with \"continue\" -- this keyword exits the current iteration, but lets the loop go\n",
    "#  back for the next one.\n",
    "# typically, continue is used when you encounter a value that you don't want or need, but you want\n",
    "#   to go onto the next iteration."
   ]
  },
  {
   "cell_type": "code",
   "execution_count": 43,
   "id": "91879a74",
   "metadata": {},
   "outputs": [
    {
     "name": "stdout",
     "output_type": "stream",
     "text": [
      "total = 0\n",
      "Number: 20\n",
      "total = 20\n",
      "Number: 30\n",
      "total = 50\n",
      "Number: hello\n",
      "That is not numeric; try again\n",
      "total = 50\n",
      "Number: 100\n",
      "total = 150\n",
      "Number: \n",
      "total is 150\n"
     ]
    }
   ],
   "source": [
    "# let's sum numbers, until the user enters an empty string\n",
    "\n",
    "total = 0\n",
    "\n",
    "while True:    # this is an infinite loop! \n",
    "    print(f'total = {total}')\n",
    "    s = input('Number: ').strip()\n",
    "    \n",
    "    if s == '':   # did we get an empty string? stop the loop\n",
    "        break\n",
    "        \n",
    "    if not s.isdigit():   # does s contain non-digit characters? If so, go back to the top of the loop\n",
    "        print(f'That is not numeric; try again')\n",
    "        continue\n",
    "        \n",
    "    total += int(s)  # get an integer based on s, and add total\n",
    "        \n",
    "print(f'total is {total}')        "
   ]
  },
  {
   "cell_type": "markdown",
   "id": "d22b8765",
   "metadata": {},
   "source": [
    "# Next up\n",
    "\n",
    "1. Lists!\n",
    "    - Defining them\n",
    "    - What can we do with them?\n",
    "    - Mutable (and not immutable)\n",
    "2. Strings into lists, and back\n",
    "3. Tuples"
   ]
  },
  {
   "cell_type": "markdown",
   "id": "b3494bea",
   "metadata": {},
   "source": [
    "# Conditions vs. loops\n",
    "\n",
    "Even though they look similar, `for` and `while` are both loops, whereas `if` is a conditional.\n",
    "\n",
    "- `if` only runs once, checking its condition.\n",
    "    - If the condition is `True`, the `if` block runs. \n",
    "    - If the condition is `False`, and there is one, the `else` block runs\n",
    "    - (I'm ignoring `elif` here for the sake of simplicity.)\n",
    "- Loops are designed to run multiple times:\n",
    "    - `for` runs once for each item we get back when iterating over a data structure\n",
    "    - `while` loops run until their condition is `False`\n",
    "    \n",
    "`break` and `continue` only work within loops.\n",
    "\n",
    "What happens if you have a loop within a loop?  (Which doesn't include `if`.)  Which loop do we `break` or `continue` out of?\n",
    "\n",
    "The answer is: The innermost one. \n",
    "\n"
   ]
  },
  {
   "cell_type": "code",
   "execution_count": 49,
   "id": "788b67ac",
   "metadata": {},
   "outputs": [
    {
     "name": "stdout",
     "output_type": "stream",
     "text": [
      "x is still < 5; running the inner loop\n",
      "Currently, x = 1 and y = 2\n",
      "Currently, x = 1 and y = 3\n",
      "Currently, x = 1 and y = 4\n",
      "Currently, x = 1 and y = 5\n",
      "x is still < 5; running the inner loop\n",
      "Currently, x = 2 and y = 5\n",
      "x is still < 5; running the inner loop\n",
      "Currently, x = 3 and y = 5\n",
      "x is still < 5; running the inner loop\n",
      "Currently, x = 4 and y = 5\n",
      "x is still < 5; running the inner loop\n",
      "Currently, x = 5 and y = 5\n"
     ]
    }
   ],
   "source": [
    "# if I have a nested loop -- a for inside of a for, or a while inside of a while,\n",
    "# then a break will stop the innermost loop that I'm in\n",
    "\n",
    "x = 0\n",
    "y = 2\n",
    "\n",
    "while x < 5:\n",
    "    print('x is still < 5; running the inner loop')\n",
    "    x += 1\n",
    "    \n",
    "    while y < 10:\n",
    "        print(f'Currently, x = {x} and y = {y}')\n",
    "        \n",
    "        if y == 5:\n",
    "            break   # if we read y==5, stop the loop -- we break the INNER loop\n",
    "        \n",
    "        y += 1\n",
    "        "
   ]
  },
  {
   "cell_type": "code",
   "execution_count": 50,
   "id": "f8c23f02",
   "metadata": {},
   "outputs": [
    {
     "name": "stdout",
     "output_type": "stream",
     "text": [
      "x is still < 5; running the inner loop\n",
      "Currently, x = 1 and y = 2\n",
      "x is still < 5; running the inner loop\n",
      "Currently, x = 2 and y = 3\n",
      "x is still < 5; running the inner loop\n",
      "Currently, x = 3 and y = 4\n",
      "x is still < 5; running the inner loop\n",
      "Currently, x = 4 and y = 5\n"
     ]
    }
   ],
   "source": [
    "# LA asked in their question: What if we have a while, and inside of it, we have an \"if\"?\n",
    "# what will the break stop?\n",
    "# the answer is: the while, because it's the *only* loop here.\n",
    "\n",
    "x = 0\n",
    "y = 2\n",
    "\n",
    "while x < 5:\n",
    "    print('x is still < 5; running the inner loop')\n",
    "    x += 1\n",
    "    \n",
    "    if y < 10:\n",
    "        print(f'Currently, x = {x} and y = {y}')\n",
    "        \n",
    "        if y == 5:\n",
    "            break   # this will break the while loop\n",
    "        \n",
    "        y += 1\n",
    "        "
   ]
  },
  {
   "cell_type": "markdown",
   "id": "962cf778",
   "metadata": {},
   "source": [
    "# Lists\n",
    "\n",
    "Sometimes (in fact, quite often), we need to keep a bunch of things together:\n",
    "\n",
    "- Many IP addresses\n",
    "- Many user records\n",
    "- Many filenames\n",
    "- Many numbers\n",
    "\n",
    "In Python, we traditionally use a *list* for such things. A list is similar to an array in another language, but we call them \"lists.\" \n",
    "\n",
    "Lists are cousins to strings, and thus have many similar capabilities.\n",
    "\n",
    "To define a list, we use `[]`, with `,` (commas) between the elements."
   ]
  },
  {
   "cell_type": "code",
   "execution_count": 51,
   "id": "1a93ff6a",
   "metadata": {},
   "outputs": [],
   "source": [
    "# define a new list, and assign to the variable \"mylist\"\n",
    "\n",
    "mylist = [10, 20, 30, 40, 50]"
   ]
  },
  {
   "cell_type": "code",
   "execution_count": 52,
   "id": "a6ae88fa",
   "metadata": {},
   "outputs": [
    {
     "data": {
      "text/plain": [
       "list"
      ]
     },
     "execution_count": 52,
     "metadata": {},
     "output_type": "execute_result"
    }
   ],
   "source": [
    "# what kind of data do we have?\n",
    "type(mylist)"
   ]
  },
  {
   "cell_type": "code",
   "execution_count": 53,
   "id": "d2d80557",
   "metadata": {},
   "outputs": [
    {
     "data": {
      "text/plain": [
       "5"
      ]
     },
     "execution_count": 53,
     "metadata": {},
     "output_type": "execute_result"
    }
   ],
   "source": [
    "# how many elements are in the list?\n",
    "len(mylist)"
   ]
  },
  {
   "cell_type": "code",
   "execution_count": 54,
   "id": "38e4bbf3",
   "metadata": {},
   "outputs": [
    {
     "data": {
      "text/plain": [
       "10"
      ]
     },
     "execution_count": 54,
     "metadata": {},
     "output_type": "execute_result"
    }
   ],
   "source": [
    "# retrieve the first with index 0\n",
    "mylist[0]"
   ]
  },
  {
   "cell_type": "code",
   "execution_count": 55,
   "id": "739ec59d",
   "metadata": {},
   "outputs": [
    {
     "data": {
      "text/plain": [
       "50"
      ]
     },
     "execution_count": 55,
     "metadata": {},
     "output_type": "execute_result"
    }
   ],
   "source": [
    "# retrieve the final element with index -1\n",
    "mylist[-1]"
   ]
  },
  {
   "cell_type": "code",
   "execution_count": 56,
   "id": "5ee2c6f2",
   "metadata": {},
   "outputs": [
    {
     "data": {
      "text/plain": [
       "20"
      ]
     },
     "execution_count": 56,
     "metadata": {},
     "output_type": "execute_result"
    }
   ],
   "source": [
    "mylist[1]"
   ]
  },
  {
   "cell_type": "code",
   "execution_count": 57,
   "id": "16b2896a",
   "metadata": {},
   "outputs": [
    {
     "data": {
      "text/plain": [
       "40"
      ]
     },
     "execution_count": 57,
     "metadata": {},
     "output_type": "execute_result"
    }
   ],
   "source": [
    "mylist[-2]  # second-to-final element -2"
   ]
  },
  {
   "cell_type": "code",
   "execution_count": 60,
   "id": "e1900917",
   "metadata": {},
   "outputs": [
    {
     "data": {
      "text/plain": [
       "[30, 40]"
      ]
     },
     "execution_count": 60,
     "metadata": {},
     "output_type": "execute_result"
    }
   ],
   "source": [
    "# can I retrieve a slice?\n",
    "mylist[2:4]  # starting at index 2, until (not including) index 4"
   ]
  },
  {
   "cell_type": "code",
   "execution_count": 61,
   "id": "a4a30e58",
   "metadata": {},
   "outputs": [
    {
     "name": "stdout",
     "output_type": "stream",
     "text": [
      "50\n",
      "100\n",
      "150\n",
      "200\n",
      "250\n"
     ]
    }
   ],
   "source": [
    "# I can iterate over a list, too!\n",
    "\n",
    "for one_item in mylist:\n",
    "    print(one_item * 5)"
   ]
  },
  {
   "cell_type": "code",
   "execution_count": 62,
   "id": "ea8b1c47",
   "metadata": {},
   "outputs": [],
   "source": [
    "# what can we store in a list?\n",
    "# ABSOLUTELY ANYTHING IN PYTHON\n",
    "\n",
    "# we can have strings, integers, lists, dictionaries... any and all of these in a list\n",
    "# we don't need to tell the list (or Python) in advance what type of data will be there!\n",
    "# it's traditional to use a list with a single type of data, but that's not really enforced.\n",
    "\n",
    "mylist = ['abcd', 'ef', 'ghij', 'kl']"
   ]
  },
  {
   "cell_type": "code",
   "execution_count": 63,
   "id": "c8df74f7",
   "metadata": {},
   "outputs": [
    {
     "data": {
      "text/plain": [
       "list"
      ]
     },
     "execution_count": 63,
     "metadata": {},
     "output_type": "execute_result"
    }
   ],
   "source": [
    "type(mylist)"
   ]
  },
  {
   "cell_type": "code",
   "execution_count": 64,
   "id": "74a5a30a",
   "metadata": {},
   "outputs": [
    {
     "data": {
      "text/plain": [
       "4"
      ]
     },
     "execution_count": 64,
     "metadata": {},
     "output_type": "execute_result"
    }
   ],
   "source": [
    "len(mylist)"
   ]
  },
  {
   "cell_type": "code",
   "execution_count": 65,
   "id": "772ac1b4",
   "metadata": {},
   "outputs": [
    {
     "data": {
      "text/plain": [
       "True"
      ]
     },
     "execution_count": 65,
     "metadata": {},
     "output_type": "execute_result"
    }
   ],
   "source": [
    "# can I check for membership in a list?\n",
    "'ef' in mylist"
   ]
  },
  {
   "cell_type": "code",
   "execution_count": 66,
   "id": "01fee84b",
   "metadata": {},
   "outputs": [
    {
     "data": {
      "text/plain": [
       "True"
      ]
     },
     "execution_count": 66,
     "metadata": {},
     "output_type": "execute_result"
    }
   ],
   "source": [
    "'kl' in mylist"
   ]
  },
  {
   "cell_type": "code",
   "execution_count": 67,
   "id": "e93bcaf9",
   "metadata": {},
   "outputs": [
    {
     "data": {
      "text/plain": [
       "True"
      ]
     },
     "execution_count": 67,
     "metadata": {},
     "output_type": "execute_result"
    }
   ],
   "source": [
    "'abcd' in mylist"
   ]
  },
  {
   "cell_type": "code",
   "execution_count": 69,
   "id": "bf4c1b38",
   "metadata": {},
   "outputs": [
    {
     "data": {
      "text/plain": [
       "False"
      ]
     },
     "execution_count": 69,
     "metadata": {},
     "output_type": "execute_result"
    }
   ],
   "source": [
    "'c' in mylist    # 'c' isn't an element of the list, but the string 'abcd' is!"
   ]
  },
  {
   "cell_type": "code",
   "execution_count": 70,
   "id": "28966fc3",
   "metadata": {},
   "outputs": [],
   "source": [
    "mylist = [10, 20, 30]\n",
    "\n",
    "biglist = [mylist, mylist, mylist]   # list of lists!"
   ]
  },
  {
   "cell_type": "code",
   "execution_count": 71,
   "id": "b5af1388",
   "metadata": {},
   "outputs": [
    {
     "data": {
      "text/plain": [
       "[[10, 20, 30], [10, 20, 30], [10, 20, 30]]"
      ]
     },
     "execution_count": 71,
     "metadata": {},
     "output_type": "execute_result"
    }
   ],
   "source": [
    "biglist"
   ]
  },
  {
   "cell_type": "code",
   "execution_count": 73,
   "id": "156236b7",
   "metadata": {},
   "outputs": [
    {
     "data": {
      "text/plain": [
       "3"
      ]
     },
     "execution_count": 73,
     "metadata": {},
     "output_type": "execute_result"
    }
   ],
   "source": [
    "# how many elements are there in biglist?\n",
    "\n",
    "len(biglist)  # there are 3 elements in biglist, each of which is a list"
   ]
  },
  {
   "cell_type": "code",
   "execution_count": 74,
   "id": "d4bf940e",
   "metadata": {},
   "outputs": [
    {
     "ename": "TypeError",
     "evalue": "'str' object does not support item assignment",
     "output_type": "error",
     "traceback": [
      "\u001b[0;31m---------------------------------------------------------------------------\u001b[0m",
      "\u001b[0;31mTypeError\u001b[0m                                 Traceback (most recent call last)",
      "\u001b[0;32m/var/folders/rr/0mnyyv811fs5vyp22gf4fxk00000gn/T/ipykernel_88973/1029830245.py\u001b[0m in \u001b[0;36m<module>\u001b[0;34m\u001b[0m\n\u001b[1;32m      1\u001b[0m \u001b[0;31m# remember that strings are immutable\u001b[0m\u001b[0;34m\u001b[0m\u001b[0;34m\u001b[0m\u001b[0m\n\u001b[1;32m      2\u001b[0m \u001b[0ms\u001b[0m \u001b[0;34m=\u001b[0m \u001b[0;34m'abcd'\u001b[0m\u001b[0;34m\u001b[0m\u001b[0;34m\u001b[0m\u001b[0m\n\u001b[0;32m----> 3\u001b[0;31m \u001b[0ms\u001b[0m\u001b[0;34m[\u001b[0m\u001b[0;36m0\u001b[0m\u001b[0;34m]\u001b[0m \u001b[0;34m=\u001b[0m \u001b[0;34m'!'\u001b[0m   \u001b[0;31m# we can never change a string!\u001b[0m\u001b[0;34m\u001b[0m\u001b[0;34m\u001b[0m\u001b[0m\n\u001b[0m",
      "\u001b[0;31mTypeError\u001b[0m: 'str' object does not support item assignment"
     ]
    }
   ],
   "source": [
    "# remember that strings are immutable\n",
    "s = 'abcd'\n",
    "s[0] = '!'   # we can never change a string!"
   ]
  },
  {
   "cell_type": "code",
   "execution_count": 75,
   "id": "63c5055b",
   "metadata": {},
   "outputs": [
    {
     "data": {
      "text/plain": [
       "['!', 20, 30]"
      ]
     },
     "execution_count": 75,
     "metadata": {},
     "output_type": "execute_result"
    }
   ],
   "source": [
    "# can I change a list?\n",
    "mylist[0] = '!'\n",
    "\n",
    "mylist"
   ]
  },
  {
   "cell_type": "code",
   "execution_count": 76,
   "id": "989e92cd",
   "metadata": {},
   "outputs": [
    {
     "data": {
      "text/plain": [
       "[['!', 20, 30], ['!', 20, 30], ['!', 20, 30]]"
      ]
     },
     "execution_count": 76,
     "metadata": {},
     "output_type": "execute_result"
    }
   ],
   "source": [
    "biglist"
   ]
  },
  {
   "cell_type": "code",
   "execution_count": 77,
   "id": "69b991fb",
   "metadata": {},
   "outputs": [],
   "source": [
    "mylist = [10, 20, 30, 'abcd', 'ef', 'a', 'b', 'c']"
   ]
  },
  {
   "cell_type": "code",
   "execution_count": 78,
   "id": "a5f754a3",
   "metadata": {},
   "outputs": [
    {
     "data": {
      "text/plain": [
       "True"
      ]
     },
     "execution_count": 78,
     "metadata": {},
     "output_type": "execute_result"
    }
   ],
   "source": [
    "30 in mylist   # does the integer 30 exist as an element in mylist?"
   ]
  },
  {
   "cell_type": "code",
   "execution_count": 79,
   "id": "7e0097f8",
   "metadata": {
    "scrolled": true
   },
   "outputs": [
    {
     "data": {
      "text/plain": [
       "True"
      ]
     },
     "execution_count": 79,
     "metadata": {},
     "output_type": "execute_result"
    }
   ],
   "source": [
    "'ef' in mylist  # does the string 'ef' exist as an element in mylist?"
   ]
  },
  {
   "cell_type": "markdown",
   "id": "2ab2c7c9",
   "metadata": {},
   "source": [
    "# Exercise: Print odd numbers\n",
    "\n",
    "1. Define a list of integers (choose any you want).\n",
    "2. Iterate over that list in a `for` loop.\n",
    "3. If you encounter an odd number, print it.  Ignore even numbers.\n",
    "\n",
    "How do you identify an odd number?  The answer: Divide it by 2, and check the remainder.\n",
    "    - If the remainder is 0, it's even\n",
    "    - If the remainder is 1, it's odd\n",
    "    \n",
    "You can get the remainder from division using `%`, so `10 % 2` == `0` (because 10 is even), and `15 % 2` == `1` (because 15 is odd).\n",
    "\n"
   ]
  },
  {
   "cell_type": "code",
   "execution_count": 81,
   "id": "cc276161",
   "metadata": {},
   "outputs": [
    {
     "name": "stdout",
     "output_type": "stream",
     "text": [
      "15\n",
      "17\n",
      "11\n"
     ]
    }
   ],
   "source": [
    "mylist = [15, 20, 30, 18, 17, 12, 11]\n",
    "\n",
    "for one_number in mylist:\n",
    "    if one_number % 2 == 1:\n",
    "        print(one_number)"
   ]
  },
  {
   "cell_type": "markdown",
   "id": "93eb753b",
   "metadata": {},
   "source": [
    "# Lists are mutable... in additional ways\n",
    "\n",
    "We've already seen that we can *replace* existing values in a list by assigning to an index:\n",
    "\n",
    "```python\n",
    "mylist = [10, 20, 30]\n",
    "mylist[0] = '!'    # replace the value 10 which was previously at index 0\n",
    "```\n",
    "\n",
    "What if I want to add a new element to mylist?\n",
    "\n",
    "I can use the `append` method, which adds a new object -- of any type! -- to the end of the list."
   ]
  },
  {
   "cell_type": "code",
   "execution_count": 82,
   "id": "8e4c2247",
   "metadata": {},
   "outputs": [
    {
     "data": {
      "text/plain": [
       "[10, 20, 30, 40]"
      ]
     },
     "execution_count": 82,
     "metadata": {},
     "output_type": "execute_result"
    }
   ],
   "source": [
    "mylist = [10, 20, 30]\n",
    "\n",
    "mylist.append(40)  \n",
    "mylist"
   ]
  },
  {
   "cell_type": "code",
   "execution_count": 83,
   "id": "2652fc95",
   "metadata": {},
   "outputs": [
    {
     "data": {
      "text/plain": [
       "[10, 20, 30, 40, 50]"
      ]
     },
     "execution_count": 83,
     "metadata": {},
     "output_type": "execute_result"
    }
   ],
   "source": [
    "mylist.append(50)\n",
    "mylist"
   ]
  },
  {
   "cell_type": "code",
   "execution_count": 84,
   "id": "da9c30d9",
   "metadata": {},
   "outputs": [
    {
     "data": {
      "text/plain": [
       "[10, 20, 30, 40, 50, 'abcd']"
      ]
     },
     "execution_count": 84,
     "metadata": {},
     "output_type": "execute_result"
    }
   ],
   "source": [
    "# what if I append a string?\n",
    "mylist.append('abcd')\n",
    "mylist"
   ]
  },
  {
   "cell_type": "code",
   "execution_count": 85,
   "id": "3b339e8f",
   "metadata": {},
   "outputs": [
    {
     "data": {
      "text/plain": [
       "[10, 20, 30, 40, 50, 'abcd', [1000, 2000, 300]]"
      ]
     },
     "execution_count": 85,
     "metadata": {},
     "output_type": "execute_result"
    }
   ],
   "source": [
    "# what if I append a list?\n",
    "mylist.append([1000, 2000, 300])\n",
    "mylist"
   ]
  },
  {
   "cell_type": "code",
   "execution_count": 86,
   "id": "401b3f78",
   "metadata": {},
   "outputs": [
    {
     "data": {
      "text/plain": [
       "7"
      ]
     },
     "execution_count": 86,
     "metadata": {},
     "output_type": "execute_result"
    }
   ],
   "source": [
    "# how many elements are on the list?\n",
    "len(mylist)"
   ]
  },
  {
   "cell_type": "code",
   "execution_count": 87,
   "id": "a51c29fa",
   "metadata": {},
   "outputs": [
    {
     "data": {
      "text/plain": [
       "[10, 20, 30, 40, 50, 60]"
      ]
     },
     "execution_count": 87,
     "metadata": {},
     "output_type": "execute_result"
    }
   ],
   "source": [
    "# what if I want to add more than one element to the end of a list?\n",
    "# the easiest way is to use +=\n",
    "\n",
    "mylist = [10, 20, 30]\n",
    "\n",
    "mylist += [40, 50, 60]   # += looks to its right, and uses a \"for\" loop to append each element\n",
    "mylist"
   ]
  },
  {
   "cell_type": "code",
   "execution_count": 88,
   "id": "f0f67784",
   "metadata": {},
   "outputs": [
    {
     "data": {
      "text/plain": [
       "[10, 20, 30, 40, 50, 60, 'a', 'b', 'c', 'd']"
      ]
     },
     "execution_count": 88,
     "metadata": {},
     "output_type": "execute_result"
    }
   ],
   "source": [
    "# this means that we can do some weird things, too:\n",
    "mylist += 'abcd'\n",
    "mylist"
   ]
  },
  {
   "cell_type": "code",
   "execution_count": 91,
   "id": "05d3657c",
   "metadata": {},
   "outputs": [
    {
     "data": {
      "text/plain": [
       "[10, 20, 30]"
      ]
     },
     "execution_count": 91,
     "metadata": {},
     "output_type": "execute_result"
    }
   ],
   "source": [
    "mylist = [10, 20, 30]\n",
    "mylist"
   ]
  },
  {
   "cell_type": "code",
   "execution_count": 92,
   "id": "9a5e6da4",
   "metadata": {},
   "outputs": [
    {
     "data": {
      "text/plain": [
       "30"
      ]
     },
     "execution_count": 92,
     "metadata": {},
     "output_type": "execute_result"
    }
   ],
   "source": [
    "# you can remove the final element from a list with the \"pop\" method\n",
    "# this both returns and removes the element\n",
    "\n",
    "mylist.pop()"
   ]
  },
  {
   "cell_type": "code",
   "execution_count": 93,
   "id": "8efb0230",
   "metadata": {},
   "outputs": [
    {
     "data": {
      "text/plain": [
       "[10, 20]"
      ]
     },
     "execution_count": 93,
     "metadata": {},
     "output_type": "execute_result"
    }
   ],
   "source": [
    "mylist"
   ]
  },
  {
   "cell_type": "code",
   "execution_count": 94,
   "id": "6b45a4df",
   "metadata": {},
   "outputs": [
    {
     "data": {
      "text/plain": [
       "20"
      ]
     },
     "execution_count": 94,
     "metadata": {},
     "output_type": "execute_result"
    }
   ],
   "source": [
    "mylist.pop()"
   ]
  },
  {
   "cell_type": "code",
   "execution_count": 95,
   "id": "ea8e06d6",
   "metadata": {},
   "outputs": [
    {
     "data": {
      "text/plain": [
       "[10]"
      ]
     },
     "execution_count": 95,
     "metadata": {},
     "output_type": "execute_result"
    }
   ],
   "source": [
    "mylist"
   ]
  },
  {
   "cell_type": "code",
   "execution_count": 96,
   "id": "b0370dba",
   "metadata": {},
   "outputs": [
    {
     "data": {
      "text/plain": [
       "10"
      ]
     },
     "execution_count": 96,
     "metadata": {},
     "output_type": "execute_result"
    }
   ],
   "source": [
    "mylist.pop()"
   ]
  },
  {
   "cell_type": "code",
   "execution_count": 97,
   "id": "19a680df",
   "metadata": {},
   "outputs": [
    {
     "ename": "IndexError",
     "evalue": "pop from empty list",
     "output_type": "error",
     "traceback": [
      "\u001b[0;31m---------------------------------------------------------------------------\u001b[0m",
      "\u001b[0;31mIndexError\u001b[0m                                Traceback (most recent call last)",
      "\u001b[0;32m/var/folders/rr/0mnyyv811fs5vyp22gf4fxk00000gn/T/ipykernel_88973/4271651580.py\u001b[0m in \u001b[0;36m<module>\u001b[0;34m\u001b[0m\n\u001b[1;32m      1\u001b[0m \u001b[0;31m# what if we use pop again?\u001b[0m\u001b[0;34m\u001b[0m\u001b[0;34m\u001b[0m\u001b[0m\n\u001b[0;32m----> 2\u001b[0;31m \u001b[0mmylist\u001b[0m\u001b[0;34m.\u001b[0m\u001b[0mpop\u001b[0m\u001b[0;34m(\u001b[0m\u001b[0;34m)\u001b[0m\u001b[0;34m\u001b[0m\u001b[0;34m\u001b[0m\u001b[0m\n\u001b[0m",
      "\u001b[0;31mIndexError\u001b[0m: pop from empty list"
     ]
    }
   ],
   "source": [
    "# what if we use pop again?\n",
    "mylist.pop()"
   ]
  },
  {
   "cell_type": "code",
   "execution_count": 98,
   "id": "87317d17",
   "metadata": {},
   "outputs": [
    {
     "data": {
      "text/plain": [
       "40"
      ]
     },
     "execution_count": 98,
     "metadata": {},
     "output_type": "execute_result"
    }
   ],
   "source": [
    "# if you want to remove an element that isn't at the end, yoou can give\n",
    "# an index to pop\n",
    "\n",
    "mylist = [10, 20, 30, 40, 50]\n",
    "mylist.pop(3)  # this removes and returns the item at index 3"
   ]
  },
  {
   "cell_type": "code",
   "execution_count": 99,
   "id": "5936dd6f",
   "metadata": {},
   "outputs": [
    {
     "data": {
      "text/plain": [
       "[10, 20, 30, 50]"
      ]
     },
     "execution_count": 99,
     "metadata": {},
     "output_type": "execute_result"
    }
   ],
   "source": [
    "mylist"
   ]
  },
  {
   "cell_type": "markdown",
   "id": "34821d29",
   "metadata": {},
   "source": [
    "# Exercise: Evens and odds\n",
    "\n",
    "1. Define two empty lists, `evens` and `odds`.  Remember, an empty list is `[]`.\n",
    "2. Ask the user, repeatedly, to enter a number.\n",
    "    - If the user enters an empty string, stop asking. (That is: `break` from the loop.)\n",
    "3. Convert the user's input to an integer.\n",
    "4. Check:\n",
    "    - If the user's input is an even number, append it to the `evens` list.\n",
    "    - If the user's input is an odd number, append it to the `odds` list.\n",
    "5. Print each of the lists.\n",
    "\n",
    "Example:\n",
    "\n",
    "    Number: 50\n",
    "    Number: 51\n",
    "    Number: 103\n",
    "    Number: 28\n",
    "    Number: [ENTER]\n",
    "    Odds: [51, 103]\n",
    "    Evens: [50, 28]\n",
    "    \n",
    "Hints:\n",
    "\n",
    "1. You can create an infinite loop with `while True`, because the loop will only exit when the condition is `False`, which will be never.\n",
    "2. You'll need another way to exit the loop -- use `break` if the user's input is an empty string.\n",
    "3. Don't forget that you can use `x % 2 == 0` to find even numbers, and `x % 2 == 1` to find odd numbers."
   ]
  },
  {
   "cell_type": "code",
   "execution_count": 100,
   "id": "4b446ed7",
   "metadata": {},
   "outputs": [
    {
     "name": "stdout",
     "output_type": "stream",
     "text": [
      "Number: 10\n",
      "Number: 15\n",
      "Number: 22\n",
      "Number: 27\n",
      "Number: 93\n",
      "Number: 84\n",
      "Number: \n",
      "[10, 22, 84]\n",
      "[15, 27, 93]\n"
     ]
    }
   ],
   "source": [
    "evens = []\n",
    "odds = []\n",
    "\n",
    "while True:    # keep asking, forever (or until we break out of the loop)\n",
    "    s = input('Number: ').strip()\n",
    "    \n",
    "    if s == '':   # did we get the empty string from the user?\n",
    "        break     # exit from the while loop\n",
    "        \n",
    "    n = int(s)    # get an integer based on s\n",
    "    \n",
    "    if n % 2 == 0:\n",
    "        evens.append(n)\n",
    "    else:\n",
    "        odds.append(n)\n",
    "        \n",
    "print(evens)        \n",
    "print(odds)"
   ]
  },
  {
   "cell_type": "markdown",
   "id": "72592851",
   "metadata": {},
   "source": [
    "# Next up:\n",
    "\n",
    "1. Strings to lists (and back)\n",
    "2. Tuples and unpacking\n",
    "\n"
   ]
  },
  {
   "cell_type": "code",
   "execution_count": 101,
   "id": "9c5ffd55",
   "metadata": {},
   "outputs": [
    {
     "data": {
      "text/plain": [
       "10"
      ]
     },
     "execution_count": 101,
     "metadata": {},
     "output_type": "execute_result"
    }
   ],
   "source": [
    "# remember that we can get a new object based on an existing one\n",
    "# by invoking the type that we want to get\n",
    "\n",
    "# if I have a string:\n",
    "x = '10'\n",
    "\n",
    "# I can get an integer based on the string by running int()\n",
    "int(x)"
   ]
  },
  {
   "cell_type": "code",
   "execution_count": 102,
   "id": "8f7b9764",
   "metadata": {},
   "outputs": [
    {
     "data": {
      "text/plain": [
       "'20'"
      ]
     },
     "execution_count": 102,
     "metadata": {},
     "output_type": "execute_result"
    }
   ],
   "source": [
    "# if I have an integer:\n",
    "y = 20\n",
    "\n",
    "# I can get a string based on the integer by running str()\n",
    "str(y)"
   ]
  },
  {
   "cell_type": "code",
   "execution_count": 103,
   "id": "be167643",
   "metadata": {},
   "outputs": [
    {
     "data": {
      "text/plain": [
       "['a', 'b', 'c', 'd', ',', 'e', 'f', ',', 'g', 'h', 'i']"
      ]
     },
     "execution_count": 103,
     "metadata": {},
     "output_type": "execute_result"
    }
   ],
   "source": [
    "# can I do this with other types?  YES!\n",
    "# what if I have a string, and I want to turn it into a list?\n",
    "\n",
    "s = 'abcd,ef,ghi'    # three values, separated by commas\n",
    "\n",
    "list(s)    # this will return a new list based on the string s"
   ]
  },
  {
   "cell_type": "code",
   "execution_count": 104,
   "id": "ac73a418",
   "metadata": {},
   "outputs": [
    {
     "data": {
      "text/plain": [
       "['abcd', 'ef', 'ghi']"
      ]
     },
     "execution_count": 104,
     "metadata": {},
     "output_type": "execute_result"
    }
   ],
   "source": [
    "# I would *like* to get a list of strings back \n",
    "# but I'd like to use , as the separated between the fields\n",
    "\n",
    "# for that, I can use the str.split method -- meaning, the split method for strings\n",
    "s.split(',')"
   ]
  },
  {
   "cell_type": "code",
   "execution_count": 105,
   "id": "8d215ce4",
   "metadata": {},
   "outputs": [],
   "source": [
    "# have I changed s? No!\n",
    "# I got back a new list of strings based on s, using , as the delimiter"
   ]
  },
  {
   "cell_type": "code",
   "execution_count": 106,
   "id": "950bb418",
   "metadata": {},
   "outputs": [
    {
     "data": {
      "text/plain": [
       "['abcd', 'ef', 'ghi']"
      ]
     },
     "execution_count": 106,
     "metadata": {},
     "output_type": "execute_result"
    }
   ],
   "source": [
    "s = 'abcd ef ghi'\n",
    "\n",
    "# let's get words based on s!\n",
    "\n",
    "s.split(' ')"
   ]
  },
  {
   "cell_type": "code",
   "execution_count": 108,
   "id": "6627a72e",
   "metadata": {},
   "outputs": [
    {
     "data": {
      "text/plain": [
       "['abcd', '', 'ef', '', '', 'ghi']"
      ]
     },
     "execution_count": 108,
     "metadata": {},
     "output_type": "execute_result"
    }
   ],
   "source": [
    "# what if our string is a bit weird?\n",
    "\n",
    "s = 'abcd  ef   ghi'\n",
    "\n",
    "s.split(' ')  # we're saying: Every time there is a a ' ', cut -- and that's what happens"
   ]
  },
  {
   "cell_type": "code",
   "execution_count": 109,
   "id": "a14f27ad",
   "metadata": {},
   "outputs": [
    {
     "data": {
      "text/plain": [
       "['abcd', 'ef', 'ghi']"
      ]
     },
     "execution_count": 109,
     "metadata": {},
     "output_type": "execute_result"
    }
   ],
   "source": [
    "# Python supplies us with a solution:\n",
    "# call str.split with *no* argument\n",
    "# when we do that, all whitespace, of all lengths, are treated as a separator\n",
    "\n",
    "s.split()  "
   ]
  },
  {
   "cell_type": "markdown",
   "id": "fba30d50",
   "metadata": {},
   "source": [
    "# The opposite of `str.split` is `str.join`\n",
    "\n",
    "If I have a list of strings, and I want to turn them into a single string, I can use `str.join`.\n",
    "\n",
    "- We invoke the method on a string, the \"glue\" that'll be placed between the list's elements\n",
    "- The argument to `str.join` is a list of strings.\n",
    "\n",
    "If this seems backwards to you, it's not just you!\n",
    "\n",
    "We get a new string back from `str.join`, and don't change the original values at all."
   ]
  },
  {
   "cell_type": "code",
   "execution_count": 110,
   "id": "710cc40a",
   "metadata": {},
   "outputs": [
    {
     "data": {
      "text/plain": [
       "'abcd*ef*ghi'"
      ]
     },
     "execution_count": 110,
     "metadata": {},
     "output_type": "execute_result"
    }
   ],
   "source": [
    "mylist = ['abcd', 'ef', 'ghi']\n",
    "\n",
    "'*'.join(mylist)   # glue == '*', values = mylist"
   ]
  },
  {
   "cell_type": "code",
   "execution_count": 111,
   "id": "f5513a73",
   "metadata": {},
   "outputs": [
    {
     "data": {
      "text/plain": [
       "'abcd ef ghi'"
      ]
     },
     "execution_count": 111,
     "metadata": {},
     "output_type": "execute_result"
    }
   ],
   "source": [
    "' '.join(mylist)"
   ]
  },
  {
   "cell_type": "code",
   "execution_count": 112,
   "id": "94f7912e",
   "metadata": {},
   "outputs": [
    {
     "data": {
      "text/plain": [
       "'abcd::ef::ghi'"
      ]
     },
     "execution_count": 112,
     "metadata": {},
     "output_type": "execute_result"
    }
   ],
   "source": [
    "'::'.join(mylist)"
   ]
  },
  {
   "cell_type": "markdown",
   "id": "d8e83263",
   "metadata": {},
   "source": [
    "# Exercise: Pig Latin sentence\n",
    "\n",
    "Last time, we saw how we can translate a single word into Pig Latin.\n",
    "\n",
    "Now, I want you to ask the user to enter a *sentence* (no capitals, no punctuation) and print the translation of the entire sentence into Pig Latin.\n",
    "\n",
    "The output should not only be translated into Pig Latin, but should also be printed on a single line."
   ]
  },
  {
   "cell_type": "code",
   "execution_count": null,
   "id": "bb44c577",
   "metadata": {},
   "outputs": [],
   "source": [
    "# last time's program\n",
    "\n",
    "word = input('Enter a word: ').strip()\n",
    "\n",
    "if word[0] in 'aeiou':\n",
    "    print(word + 'way')\n",
    "else:\n",
    "    print(word[1:] + word[0] + 'ay')"
   ]
  },
  {
   "cell_type": "markdown",
   "id": "5c5bb375",
   "metadata": {},
   "source": [
    "Python documentation for `str.split` and `str.join`: https://docs.python.org/3/library/stdtypes.html#text-sequence-type-str"
   ]
  },
  {
   "cell_type": "code",
   "execution_count": 116,
   "id": "791d9593",
   "metadata": {},
   "outputs": [
    {
     "name": "stdout",
     "output_type": "stream",
     "text": [
      "Enter a sentence: this is a test\n",
      "histay\n",
      "isway\n",
      "away\n",
      "esttay\n"
     ]
    }
   ],
   "source": [
    "sentence = input('Enter a sentence: ').strip()\n",
    "\n",
    "all_words = sentence.split()   # all_words is a list of strings\n",
    "\n",
    "for word in all_words:\n",
    "    if word[0] in 'aeiou':\n",
    "        print(word + 'way')\n",
    "    else:\n",
    "        print(word[1:] + word[0] + 'ay')"
   ]
  },
  {
   "cell_type": "code",
   "execution_count": 119,
   "id": "e7ec4574",
   "metadata": {},
   "outputs": [
    {
     "name": "stdout",
     "output_type": "stream",
     "text": [
      "Enter a sentence: this is a test\n",
      "histay isway away esttay\n"
     ]
    }
   ],
   "source": [
    "output = []\n",
    "\n",
    "sentence = input('Enter a sentence: ').strip()\n",
    "\n",
    "all_words = sentence.split()   # all_words is a list of strings\n",
    "\n",
    "for word in all_words:\n",
    "    if word[0] in 'aeiou':\n",
    "        output.append(word + 'way')\n",
    "    else:\n",
    "        output.append(word[1:] + word[0] + 'ay')\n",
    "        \n",
    "print(' '.join(output))"
   ]
  },
  {
   "cell_type": "markdown",
   "id": "19664243",
   "metadata": {},
   "source": [
    "# Tuples\n",
    "\n",
    "We've seen that:\n",
    "\n",
    "- Strings contain characters (really, strings of length 1) and are immutable.\n",
    "- Lists contain anything at all and are mutable.\n",
    "\n",
    "Tuples are a third data type in the same family as strings as lists, known as \"sequences.\"\n",
    "\n",
    "- Tuples contain anything at all (like lists), but are immutable (list strings).\n",
    "\n",
    "It's normal to ask: Why do we even need these? Can't we just use lists?\n",
    "\n",
    "Traditionally, in Python:\n",
    "\n",
    "- Lists are used for sequences of the *same* type -- so a list of strings, integers, floats, dicts, etc.\n",
    "- Tuples are used for sequences of different types -- they're for records or \"structs\" as they're known in other languages. If you have a person with a first name, last name, and shoe size, a tuple is most appropriate because you have different types.\n",
    "\n",
    "This convention is *not* enforced in code! But it's pretty common.\n",
    "\n",
    "You probably don't need to use tuples very much. But you do need to be able to identify them and understand them."
   ]
  },
  {
   "cell_type": "code",
   "execution_count": 120,
   "id": "d5f74a2d",
   "metadata": {},
   "outputs": [
    {
     "data": {
      "text/plain": [
       "tuple"
      ]
     },
     "execution_count": 120,
     "metadata": {},
     "output_type": "execute_result"
    }
   ],
   "source": [
    "# how can we define a tuple?\n",
    "\n",
    "# usually, and most obviously, with round parentheses and ,\n",
    "\n",
    "t = (10, 20, 30, 40, 50)\n",
    "type(t)"
   ]
  },
  {
   "cell_type": "code",
   "execution_count": 121,
   "id": "366dd90d",
   "metadata": {},
   "outputs": [
    {
     "data": {
      "text/plain": [
       "5"
      ]
     },
     "execution_count": 121,
     "metadata": {},
     "output_type": "execute_result"
    }
   ],
   "source": [
    "# I can do many things with tuples that I do with strings as lists\n",
    "\n",
    "len(t)"
   ]
  },
  {
   "cell_type": "code",
   "execution_count": 122,
   "id": "02bb0741",
   "metadata": {},
   "outputs": [
    {
     "data": {
      "text/plain": [
       "10"
      ]
     },
     "execution_count": 122,
     "metadata": {},
     "output_type": "execute_result"
    }
   ],
   "source": [
    "t[0]"
   ]
  },
  {
   "cell_type": "code",
   "execution_count": 123,
   "id": "df321d91",
   "metadata": {},
   "outputs": [
    {
     "data": {
      "text/plain": [
       "20"
      ]
     },
     "execution_count": 123,
     "metadata": {},
     "output_type": "execute_result"
    }
   ],
   "source": [
    "t[1]"
   ]
  },
  {
   "cell_type": "code",
   "execution_count": 124,
   "id": "fac937be",
   "metadata": {},
   "outputs": [
    {
     "data": {
      "text/plain": [
       "50"
      ]
     },
     "execution_count": 124,
     "metadata": {},
     "output_type": "execute_result"
    }
   ],
   "source": [
    "t[-1]"
   ]
  },
  {
   "cell_type": "code",
   "execution_count": 125,
   "id": "62e35359",
   "metadata": {},
   "outputs": [
    {
     "data": {
      "text/plain": [
       "40"
      ]
     },
     "execution_count": 125,
     "metadata": {},
     "output_type": "execute_result"
    }
   ],
   "source": [
    "t[-2]"
   ]
  },
  {
   "cell_type": "code",
   "execution_count": 126,
   "id": "b44f7b1a",
   "metadata": {},
   "outputs": [
    {
     "name": "stdout",
     "output_type": "stream",
     "text": [
      "10\n",
      "20\n",
      "30\n",
      "40\n",
      "50\n"
     ]
    }
   ],
   "source": [
    "# I can iterate over a tuple with a for loop\n",
    "\n",
    "for one_item in t:\n",
    "    print(one_item)"
   ]
  },
  {
   "cell_type": "code",
   "execution_count": 127,
   "id": "fbd56e44",
   "metadata": {},
   "outputs": [
    {
     "ename": "TypeError",
     "evalue": "'tuple' object does not support item assignment",
     "output_type": "error",
     "traceback": [
      "\u001b[0;31m---------------------------------------------------------------------------\u001b[0m",
      "\u001b[0;31mTypeError\u001b[0m                                 Traceback (most recent call last)",
      "\u001b[0;32m/var/folders/rr/0mnyyv811fs5vyp22gf4fxk00000gn/T/ipykernel_88973/3259225308.py\u001b[0m in \u001b[0;36m<module>\u001b[0;34m\u001b[0m\n\u001b[1;32m      1\u001b[0m \u001b[0;31m# but tuples are immutable!\u001b[0m\u001b[0;34m\u001b[0m\u001b[0;34m\u001b[0m\u001b[0m\n\u001b[1;32m      2\u001b[0m \u001b[0;34m\u001b[0m\u001b[0m\n\u001b[0;32m----> 3\u001b[0;31m \u001b[0mt\u001b[0m\u001b[0;34m[\u001b[0m\u001b[0;36m0\u001b[0m\u001b[0;34m]\u001b[0m \u001b[0;34m=\u001b[0m \u001b[0;34m'!'\u001b[0m\u001b[0;34m\u001b[0m\u001b[0;34m\u001b[0m\u001b[0m\n\u001b[0m",
      "\u001b[0;31mTypeError\u001b[0m: 'tuple' object does not support item assignment"
     ]
    }
   ],
   "source": [
    "# but tuples are immutable!\n",
    "\n",
    "t[0] = '!'"
   ]
  },
  {
   "cell_type": "code",
   "execution_count": 128,
   "id": "140dcf15",
   "metadata": {},
   "outputs": [
    {
     "data": {
      "text/plain": [
       "(10, 20, 30, 40, 50)"
      ]
     },
     "execution_count": 128,
     "metadata": {},
     "output_type": "execute_result"
    }
   ],
   "source": [
    "# tuples don't really require ()\n",
    "\n",
    "t = 10, 20, 30, 40, 50    # this is a tuple, too!\n",
    "t"
   ]
  },
  {
   "cell_type": "code",
   "execution_count": 129,
   "id": "e4bd647e",
   "metadata": {},
   "outputs": [
    {
     "data": {
      "text/plain": [
       "[10, 20, 30]"
      ]
     },
     "execution_count": 129,
     "metadata": {},
     "output_type": "execute_result"
    }
   ],
   "source": [
    "# unpacking, aka tuple unpacking\n",
    "\n",
    "mylist = [10, 20, 30]\n",
    "\n",
    "x = mylist   # obviously, x now refers to list named \"mylist\"\n",
    "x"
   ]
  },
  {
   "cell_type": "code",
   "execution_count": 130,
   "id": "76774b2a",
   "metadata": {},
   "outputs": [],
   "source": [
    "# what about this:\n",
    "\n",
    "x,y,z = mylist   # this is tuple unpacking -- we'll assign the elements of mylist to x, y, and z"
   ]
  },
  {
   "cell_type": "code",
   "execution_count": 131,
   "id": "17695408",
   "metadata": {},
   "outputs": [
    {
     "data": {
      "text/plain": [
       "10"
      ]
     },
     "execution_count": 131,
     "metadata": {},
     "output_type": "execute_result"
    }
   ],
   "source": [
    "x"
   ]
  },
  {
   "cell_type": "code",
   "execution_count": 132,
   "id": "23fd0b10",
   "metadata": {},
   "outputs": [
    {
     "data": {
      "text/plain": [
       "20"
      ]
     },
     "execution_count": 132,
     "metadata": {},
     "output_type": "execute_result"
    }
   ],
   "source": [
    "y"
   ]
  },
  {
   "cell_type": "code",
   "execution_count": 133,
   "id": "9f9da6a0",
   "metadata": {},
   "outputs": [
    {
     "data": {
      "text/plain": [
       "30"
      ]
     },
     "execution_count": 133,
     "metadata": {},
     "output_type": "execute_result"
    }
   ],
   "source": [
    "z"
   ]
  },
  {
   "cell_type": "code",
   "execution_count": 134,
   "id": "56cf7852",
   "metadata": {},
   "outputs": [
    {
     "ename": "ValueError",
     "evalue": "too many values to unpack (expected 2)",
     "output_type": "error",
     "traceback": [
      "\u001b[0;31m---------------------------------------------------------------------------\u001b[0m",
      "\u001b[0;31mValueError\u001b[0m                                Traceback (most recent call last)",
      "\u001b[0;32m/var/folders/rr/0mnyyv811fs5vyp22gf4fxk00000gn/T/ipykernel_88973/153003358.py\u001b[0m in \u001b[0;36m<module>\u001b[0;34m\u001b[0m\n\u001b[1;32m      2\u001b[0m \u001b[0;31m# have to match.\u001b[0m\u001b[0;34m\u001b[0m\u001b[0;34m\u001b[0m\u001b[0m\n\u001b[1;32m      3\u001b[0m \u001b[0;34m\u001b[0m\u001b[0m\n\u001b[0;32m----> 4\u001b[0;31m \u001b[0mx\u001b[0m\u001b[0;34m,\u001b[0m\u001b[0my\u001b[0m \u001b[0;34m=\u001b[0m \u001b[0mmylist\u001b[0m\u001b[0;34m\u001b[0m\u001b[0;34m\u001b[0m\u001b[0m\n\u001b[0m",
      "\u001b[0;31mValueError\u001b[0m: too many values to unpack (expected 2)"
     ]
    }
   ],
   "source": [
    "# the number of elements on the right, and the number of variables on the left,\n",
    "# have to match.\n",
    "\n",
    "x,y = mylist"
   ]
  },
  {
   "cell_type": "code",
   "execution_count": 135,
   "id": "62041139",
   "metadata": {},
   "outputs": [
    {
     "data": {
      "text/plain": [
       "['2', '+', '2']"
      ]
     },
     "execution_count": 135,
     "metadata": {},
     "output_type": "execute_result"
    }
   ],
   "source": [
    "s = '2 + 2'\n",
    "elements = s.split()  # get the elements as a list of 3 items\n",
    "elements"
   ]
  },
  {
   "cell_type": "code",
   "execution_count": 136,
   "id": "ea3e85e5",
   "metadata": {},
   "outputs": [],
   "source": [
    "# another way would be to use unpacking\n",
    "\n",
    "first, op, second = s.split()"
   ]
  },
  {
   "cell_type": "code",
   "execution_count": 137,
   "id": "0bdf0fcd",
   "metadata": {},
   "outputs": [
    {
     "data": {
      "text/plain": [
       "'2'"
      ]
     },
     "execution_count": 137,
     "metadata": {},
     "output_type": "execute_result"
    }
   ],
   "source": [
    "first"
   ]
  },
  {
   "cell_type": "code",
   "execution_count": 138,
   "id": "d3deca27",
   "metadata": {},
   "outputs": [
    {
     "data": {
      "text/plain": [
       "'+'"
      ]
     },
     "execution_count": 138,
     "metadata": {},
     "output_type": "execute_result"
    }
   ],
   "source": [
    "op"
   ]
  },
  {
   "cell_type": "code",
   "execution_count": 139,
   "id": "b974ee03",
   "metadata": {},
   "outputs": [
    {
     "data": {
      "text/plain": [
       "'2'"
      ]
     },
     "execution_count": 139,
     "metadata": {},
     "output_type": "execute_result"
    }
   ],
   "source": [
    "second"
   ]
  },
  {
   "cell_type": "code",
   "execution_count": 140,
   "id": "34728f4f",
   "metadata": {},
   "outputs": [
    {
     "name": "stdout",
     "output_type": "stream",
     "text": [
      "0: a\n",
      "1: b\n",
      "2: c\n",
      "3: d\n"
     ]
    }
   ],
   "source": [
    "# let's now reveal the magic behind \"enumerate\"\n",
    "\n",
    "for index, one_character in enumerate('abcd'):\n",
    "    print(f'{index}: {one_character}')"
   ]
  },
  {
   "cell_type": "code",
   "execution_count": 141,
   "id": "38dc94e4",
   "metadata": {
    "scrolled": true
   },
   "outputs": [
    {
     "name": "stdout",
     "output_type": "stream",
     "text": [
      "(0, 'a')\n",
      "(1, 'b')\n",
      "(2, 'c')\n",
      "(3, 'd')\n"
     ]
    }
   ],
   "source": [
    "# we can see a bit more clearly behind the scenes if we just iterate over *one* variable\n",
    "\n",
    "for one_item in enumerate('abcd'):    # each iteration gives us a 2-element tuple (index, one_item)\n",
    "    print(one_item)"
   ]
  },
  {
   "cell_type": "code",
   "execution_count": 143,
   "id": "1a8d0cff",
   "metadata": {},
   "outputs": [
    {
     "name": "stdout",
     "output_type": "stream",
     "text": [
      "0: a\n",
      "1: b\n",
      "2: c\n",
      "3: d\n"
     ]
    }
   ],
   "source": [
    "# this would work, too, but is super ugly:\n",
    "\n",
    "for one_item in enumerate('abcd'):    \n",
    "    print(f'{one_item[0]}: {one_item[1]}')"
   ]
  },
  {
   "cell_type": "code",
   "execution_count": 142,
   "id": "939f39bf",
   "metadata": {},
   "outputs": [
    {
     "name": "stdout",
     "output_type": "stream",
     "text": [
      "0: a\n",
      "1: b\n",
      "2: c\n",
      "3: d\n"
     ]
    }
   ],
   "source": [
    "# the for loop lets me use unpacking to retrieve the tuple's elements as separate variables\n",
    "\n",
    "for index, one_character in enumerate('abcd'):\n",
    "    print(f'{index}: {one_character}')"
   ]
  },
  {
   "cell_type": "code",
   "execution_count": 147,
   "id": "66dd0601",
   "metadata": {},
   "outputs": [],
   "source": [
    "# everyone's favorite example of unpacking \n",
    "\n",
    "x = 111\n",
    "y = 222\n",
    "\n",
    "# (1) in assignment, the right side runs before the left side\n",
    "# (2) we create a new tuple, (y,x)\n",
    "# (3) the two elements of this tuple are assigned, via unpacking, to the variables on the left\n",
    "# (4) these variables just so happen to be the same ones used to create the tuple\n",
    "# (5) as a result, we end up swapping these variables\n",
    "\n",
    "x,y = y,x \n"
   ]
  },
  {
   "cell_type": "code",
   "execution_count": 148,
   "id": "f7446418",
   "metadata": {},
   "outputs": [
    {
     "data": {
      "text/plain": [
       "222"
      ]
     },
     "execution_count": 148,
     "metadata": {},
     "output_type": "execute_result"
    }
   ],
   "source": [
    "x"
   ]
  },
  {
   "cell_type": "code",
   "execution_count": 149,
   "id": "0b36873e",
   "metadata": {},
   "outputs": [
    {
     "data": {
      "text/plain": [
       "111"
      ]
     },
     "execution_count": 149,
     "metadata": {},
     "output_type": "execute_result"
    }
   ],
   "source": [
    "y"
   ]
  },
  {
   "cell_type": "markdown",
   "id": "aa60fbba",
   "metadata": {},
   "source": [
    "# Exercise: Vowels, digits, and others\n",
    "\n",
    "1. Define three lists: `vowels`, `digits`, and `others`, all of which are empty.\n",
    "2. Ask the user to enter a string.\n",
    "3. Go through the string, one character at a time, deciding:\n",
    "    - If the character is a vowel, add it to `vowels`.\n",
    "    - If the character is a digit, add it to `digits`.\n",
    "    - In all other cases, add it to `others`.\n",
    "4. Print all of the lists.    "
   ]
  },
  {
   "cell_type": "code",
   "execution_count": null,
   "id": "9510b9ce",
   "metadata": {},
   "outputs": [],
   "source": [
    "vowels = []\n",
    "digits = []\n",
    "others = []\n",
    "\n",
    "s = input('Enter a string: ').strip()\n",
    "\n",
    "for one_character in s:\n",
    "    if one_character in 'aeiou':\n",
    "        vowels.append(one_character)\n",
    "    elif one_character.isdigit():\n",
    "        digits.append(one_character)\n",
    "    else:\n",
    "        others.append(one_character)\n",
    "        \n",
    "print(f'vowels = {vowels}')        \n",
    "print(f'digits = {vowels}')        \n",
    "print(f'others = {others}')        \n"
   ]
  }
 ],
 "metadata": {
  "kernelspec": {
   "display_name": "Python 3 (ipykernel)",
   "language": "python",
   "name": "python3"
  },
  "language_info": {
   "codemirror_mode": {
    "name": "ipython",
    "version": 3
   },
   "file_extension": ".py",
   "mimetype": "text/x-python",
   "name": "python",
   "nbconvert_exporter": "python",
   "pygments_lexer": "ipython3",
   "version": "3.10.8"
  }
 },
 "nbformat": 4,
 "nbformat_minor": 5
}
