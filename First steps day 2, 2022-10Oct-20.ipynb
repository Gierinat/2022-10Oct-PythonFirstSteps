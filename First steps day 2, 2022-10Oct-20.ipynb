{
 "cells": [
  {
   "cell_type": "markdown",
   "id": "61922069",
   "metadata": {},
   "source": [
    "# Agenda for week #2: Loops, lists, and tuples\n",
    "\n",
    "1. Q&A\n",
    "2. Loops\n",
    "    - `for` loops\n",
    "    - `range` and numbers\n",
    "    - `while` loops\n",
    "    - exiting early from a loop\n",
    "    - where's the index? How can we get around the lack of an index?\n",
    "3. List\n",
    "    - Creating them\n",
    "    - What can they hold? What would we use them for?\n",
    "    - Lists are *mutable* -- they can be changed!\n",
    "4. Strings to lists, and back again\n",
    "    - Turning strings into lists with `str.split`\n",
    "    - Turning lists into strings with `str.join`\n",
    "5. A little bit about tuples\n",
    "    - What are tuples?\n",
    "    - Tuple unpacking -- an important and useful assignment technique in Python\n"
   ]
  },
  {
   "cell_type": "markdown",
   "id": "bd8e11b6",
   "metadata": {},
   "source": [
    "# Assignment -- what does it mean?\n",
    "\n",
    "When we assign a value to a variable in Python, we're basically giving a pronoun to that value."
   ]
  },
  {
   "cell_type": "code",
   "execution_count": 1,
   "id": "b44af83e",
   "metadata": {},
   "outputs": [],
   "source": [
    "# once we've executed this cell, the variable x (which didn't previously exist) now refers\n",
    "# to the integer value 10.\n",
    "\n",
    "x = 10"
   ]
  },
  {
   "cell_type": "code",
   "execution_count": 2,
   "id": "c2243a52",
   "metadata": {},
   "outputs": [],
   "source": [
    "# if I assign the variable x to a new value, it refers to that new value,\n",
    "# with no memory of the previous value.\n",
    "\n",
    "x = 20 "
   ]
  },
  {
   "cell_type": "code",
   "execution_count": 3,
   "id": "d0e4e3e0",
   "metadata": {},
   "outputs": [
    {
     "data": {
      "text/plain": [
       "20"
      ]
     },
     "execution_count": 3,
     "metadata": {},
     "output_type": "execute_result"
    }
   ],
   "source": [
    "x"
   ]
  },
  {
   "cell_type": "code",
   "execution_count": null,
   "id": "109c4a8b",
   "metadata": {},
   "outputs": [],
   "source": []
  }
 ],
 "metadata": {
  "kernelspec": {
   "display_name": "Python 3 (ipykernel)",
   "language": "python",
   "name": "python3"
  },
  "language_info": {
   "codemirror_mode": {
    "name": "ipython",
    "version": 3
   },
   "file_extension": ".py",
   "mimetype": "text/x-python",
   "name": "python",
   "nbconvert_exporter": "python",
   "pygments_lexer": "ipython3",
   "version": "3.10.8"
  }
 },
 "nbformat": 4,
 "nbformat_minor": 5
}
