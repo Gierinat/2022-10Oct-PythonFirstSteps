{
 "cells": [
  {
   "cell_type": "markdown",
   "id": "6196c98d",
   "metadata": {},
   "source": [
    "# Agenda for week #2: Loops, lists, and tuples\n",
    "\n",
    "1. Q&A\n",
    "2. Loops\n",
    "    - `for` loops\n",
    "    - `range` and numbers\n",
    "    - `while` loops\n",
    "    - exiting early from a loop\n",
    "    - where's the index? How can we get around the lack of an index?\n",
    "3. List\n",
    "    - Creating them\n",
    "    - What can they hold? What would we use them for?\n",
    "    - Lists are *mutable* -- they can be changed!\n",
    "4. Strings to lists, and back again\n",
    "    - Turning strings into lists with `str.split`\n",
    "    - Turning lists into strings with `str.join`\n",
    "5. A little bit about tuples\n",
    "    - What are tuples?\n",
    "    - Tuple unpacking -- an important and useful assignment technique in Python\n"
   ]
  },
  {
   "cell_type": "markdown",
   "id": "bdebc3cf",
   "metadata": {},
   "source": [
    "# Assignment -- what does it mean?\n",
    "\n",
    "When we assign a value to a variable in Python, we're basically giving a pronoun to that value."
   ]
  },
  {
   "cell_type": "code",
   "execution_count": 1,
   "id": "7550b2cf",
   "metadata": {},
   "outputs": [],
   "source": [
    "# once we've executed this cell, the variable x (which didn't previously exist) now refers\n",
    "# to the integer value 10.\n",
    "\n",
    "x = 10"
   ]
  },
  {
   "cell_type": "code",
   "execution_count": 2,
   "id": "b24716b4",
   "metadata": {},
   "outputs": [],
   "source": [
    "# if I assign the variable x to a new value, it refers to that new value,\n",
    "# with no memory of the previous value.\n",
    "\n",
    "x = 20 "
   ]
  },
  {
   "cell_type": "code",
   "execution_count": 3,
   "id": "8329f670",
   "metadata": {},
   "outputs": [
    {
     "data": {
      "text/plain": [
       "20"
      ]
     },
     "execution_count": 3,
     "metadata": {},
     "output_type": "execute_result"
    }
   ],
   "source": [
    "x"
   ]
  },
  {
   "cell_type": "code",
   "execution_count": 4,
   "id": "2e4823ae",
   "metadata": {},
   "outputs": [],
   "source": [
    "x = 10\n",
    "y = 20"
   ]
  },
  {
   "cell_type": "code",
   "execution_count": 5,
   "id": "0c5493b5",
   "metadata": {},
   "outputs": [
    {
     "data": {
      "text/plain": [
       "10"
      ]
     },
     "execution_count": 5,
     "metadata": {},
     "output_type": "execute_result"
    }
   ],
   "source": [
    "x"
   ]
  },
  {
   "cell_type": "code",
   "execution_count": 6,
   "id": "765e9c6c",
   "metadata": {},
   "outputs": [
    {
     "data": {
      "text/plain": [
       "20"
      ]
     },
     "execution_count": 6,
     "metadata": {},
     "output_type": "execute_result"
    }
   ],
   "source": [
    "y"
   ]
  },
  {
   "cell_type": "code",
   "execution_count": 8,
   "id": "426d6d4e",
   "metadata": {},
   "outputs": [],
   "source": [
    "x = 10    # we've (re-)assigned the value 10 to x\n",
    "y = 30    # we've reassigned y to refer to the integer 30"
   ]
  },
  {
   "cell_type": "markdown",
   "id": "5a392c2c",
   "metadata": {},
   "source": [
    "# Python Tutor!\n",
    "\n",
    "Check it out at https://PythonTutor.com/"
   ]
  },
  {
   "cell_type": "markdown",
   "id": "f68adb5a",
   "metadata": {},
   "source": [
    "# How can I print every element of a 4-character string?"
   ]
  },
  {
   "cell_type": "code",
   "execution_count": 9,
   "id": "19724704",
   "metadata": {},
   "outputs": [
    {
     "name": "stdout",
     "output_type": "stream",
     "text": [
      "a\n",
      "b\n",
      "c\n",
      "d\n"
     ]
    }
   ],
   "source": [
    "s = 'abcd'\n",
    "\n",
    "print(s[0])   # remember the indexes start with 0!  \n",
    "print(s[1])\n",
    "print(s[2])\n",
    "print(s[3])   # if it's a 4-character string, then the final index will be 3"
   ]
  },
  {
   "cell_type": "markdown",
   "id": "fac9b787",
   "metadata": {},
   "source": [
    "# DRY -- Don't repeat yourself!\n",
    "\n",
    "If you find yourself repeating code in your program, you've almost certainly done something wrong. You want to avoid repeated code at almost any cost.\n",
    "\n",
    "- If you repeat code, and then have to edit it, you have to track down all of the places where you wrote it, and update it.\n",
    "- If you repeat code, it gets hard to think about, in part because the code just gets much longer\n",
    "\n",
    "If you have (almost) the same code repeated, several lines in a row, then you should consider a *loop*.\n",
    "\n",
    "Python has two kinds of loops (and only two kinds!):\n",
    "- `for`\n",
    "- `while`"
   ]
  },
  {
   "cell_type": "markdown",
   "id": "8050898d",
   "metadata": {},
   "source": [
    "# Parts of a `for` loop\n",
    "\n",
    "1. We use the keywords `for` and `in`.\n",
    "2. At the end of the `for` line, just before the colon (`:`), we have the object we want to iterate over, that we want to run our `for` loop on.  In this case, it's the string `'abcd'`.\n",
    "3. Between the words `for` and `in`, we have a variable.  This is known as the \"iteration variable.\" This variable is assigned each successive value that we get back from the string `'abcd'`.\n",
    "4. After the loop variable is assigned, we execute everything in the indented block.\n",
    "5. When the block has finished executing, the `for` loop once again asks for the next value from the string.\n",
    "6. When we run out of values, the loop ends.\n",
    "\n",
    "When we run the `for` loop, `for` turns to the object (in this case, the string `'abcd'`), and asks: Are you iterable? That is, do you know how to operate inside of a `for` loop?\n",
    "\n",
    "If so, then the object tell us \"yes,\" and we say: Great, give me your next thing.\n",
    "\n",
    "That next thing (whatever we get) is assigned to the variable - in this case, `one_letter`. This variable doesn't need to be defined in advance -- and in fact, if it was defined before, that definition has now been obliterated in favor of the newly assigned values from the loop."
   ]
  },
  {
   "cell_type": "code",
   "execution_count": 10,
   "id": "9d2df832",
   "metadata": {},
   "outputs": [
    {
     "name": "stdout",
     "output_type": "stream",
     "text": [
      "a\n",
      "b\n",
      "c\n",
      "d\n"
     ]
    }
   ],
   "source": [
    "# example of a for loop\n",
    "\n",
    "for one_letter in 'abcd':   # I could call my variable ANYTHING I WANT and get the same result!\n",
    "    print(one_letter)"
   ]
  },
  {
   "cell_type": "code",
   "execution_count": 11,
   "id": "4aea62a0",
   "metadata": {},
   "outputs": [
    {
     "name": "stdout",
     "output_type": "stream",
     "text": [
      "a\n",
      "b\n",
      "c\n",
      "d\n"
     ]
    }
   ],
   "source": [
    "for avocado in 'abcd': # variable names are for us, the humans, who are writing + debugging + editing code!\n",
    "    print(avocado)"
   ]
  },
  {
   "cell_type": "markdown",
   "id": "55742774",
   "metadata": {},
   "source": [
    "# Identifier (name) styles\n",
    "\n",
    "In Python, we typically use what's known as \"snake case,\" with all lowercase letters and `_` between words.\n",
    "\n",
    "Another common way to write names, which we only do in Python when defining our own data types (\"classes\"), is CamelCase, in which the first letter is capitalized, as is the first letter of every additional word in the mushed-together new words we've written.\n",
    "\n",
    "An identifier (variable or function name) cannot contain `-` or spaces. So if you want more than one word, you'll have to choose whether to use CamelCase or snake_case -- and most Python people have chosen snake_case for most of the time."
   ]
  },
  {
   "cell_type": "code",
   "execution_count": 13,
   "id": "1792ce5a",
   "metadata": {},
   "outputs": [
    {
     "name": "stdout",
     "output_type": "stream",
     "text": [
      "2 is a digit\n",
      "  is whitespace\n",
      "+ is a math symbol\n",
      "  is whitespace\n",
      "2 is a digit\n",
      "  is whitespace\n",
      "= is a math symbol\n",
      "  is whitespace\n",
      "4 is a digit\n"
     ]
    }
   ],
   "source": [
    "# slightly more interesting example\n",
    "\n",
    "s = '2 + 2 = 4'\n",
    "\n",
    "for one_character in s:\n",
    "    if one_character.isdigit():\n",
    "        print(f'{one_character} is a digit')\n",
    "    elif one_character.isspace():\n",
    "        print(f'{one_character} is whitespace')\n",
    "    elif one_character in '+-*/=':\n",
    "        print(f'{one_character} is a math symbol')\n",
    "    else:\n",
    "        print(f'I do not know what to do with {one_character}')"
   ]
  },
  {
   "cell_type": "markdown",
   "id": "018d88b3",
   "metadata": {},
   "source": [
    "# Why loop?\n",
    "\n",
    "We can go through every element of an object, one at a time, and execute some code on each individual element. So far, the only iterable data we've seen has been a string, in which iterating gives us one character at a time.  But many other Python types are iterable, as we'll see -- both today (lists and tuples) and next time (with dicts and files)."
   ]
  },
  {
   "cell_type": "markdown",
   "id": "ab6041f6",
   "metadata": {},
   "source": [
    "# Exercise: Vowel and consonant counter\n",
    "\n",
    "1. Define two variables, `vowel_count` and `consonant_count`. Set both to 0.\n",
    "2. Ask the user to enter a word, only containing letters.\n",
    "3. Go through the string, one character at time:\n",
    "    - If the charcter is a vowel (a, e, i, o, or u) then add 1 to `vowel_count`\n",
    "    - If the character is a consonant, then add 1 to `consonant_count`\n",
    "    - We can assume that our user only entered lowercase letters.\n",
    "4. Print the number of vowels and consonants in the string.    "
   ]
  },
  {
   "cell_type": "code",
   "execution_count": 14,
   "id": "597243b2",
   "metadata": {},
   "outputs": [
    {
     "name": "stdout",
     "output_type": "stream",
     "text": [
      "Enter a word: encyclopedia\n",
      "vowel_count = 5\n",
      "consonant_count = 7\n"
     ]
    }
   ],
   "source": [
    "vowel_count = 0\n",
    "consonant_count = 0\n",
    "\n",
    "# get input from the user (as a string), remove leading/trailing spaces, assign to s\n",
    "s = input('Enter a word: ').strip()\n",
    "\n",
    "for one_character in s:\n",
    "    if one_character in 'aeiou':   # is the character a vowel?\n",
    "        vowel_count += 1           # add 1 to the value of vowel_count\n",
    "    elif one_character in 'bcdfghjklmnpqrstvwxyz':\n",
    "        consonant_count += 1       \n",
    "    else:\n",
    "        print(f'What is {one_character}? I do not know what to do with it')\n",
    "        \n",
    "print(f'vowel_count = {vowel_count}')        \n",
    "print(f'consonant_count = {consonant_count}')"
   ]
  },
  {
   "cell_type": "code",
   "execution_count": 15,
   "id": "d331ea98",
   "metadata": {},
   "outputs": [
    {
     "ename": "TypeError",
     "evalue": "'int' object is not iterable",
     "output_type": "error",
     "traceback": [
      "\u001b[0;31m---------------------------------------------------------------------------\u001b[0m",
      "\u001b[0;31mTypeError\u001b[0m                                 Traceback (most recent call last)",
      "\u001b[0;32m/var/folders/rr/0mnyyv811fs5vyp22gf4fxk00000gn/T/ipykernel_88973/284560243.py\u001b[0m in \u001b[0;36m<module>\u001b[0;34m\u001b[0m\n\u001b[1;32m      1\u001b[0m \u001b[0;31m# what happens if I try to execute a for loop on a non-iterable data type?\u001b[0m\u001b[0;34m\u001b[0m\u001b[0;34m\u001b[0m\u001b[0m\n\u001b[1;32m      2\u001b[0m \u001b[0;34m\u001b[0m\u001b[0m\n\u001b[0;32m----> 3\u001b[0;31m \u001b[0;32mfor\u001b[0m \u001b[0mone_item\u001b[0m \u001b[0;32min\u001b[0m \u001b[0;36m5\u001b[0m\u001b[0;34m:\u001b[0m\u001b[0;34m\u001b[0m\u001b[0;34m\u001b[0m\u001b[0m\n\u001b[0m\u001b[1;32m      4\u001b[0m     \u001b[0mprint\u001b[0m\u001b[0;34m(\u001b[0m\u001b[0mone_item\u001b[0m\u001b[0;34m)\u001b[0m\u001b[0;34m\u001b[0m\u001b[0;34m\u001b[0m\u001b[0m\n",
      "\u001b[0;31mTypeError\u001b[0m: 'int' object is not iterable"
     ]
    }
   ],
   "source": [
    "# what happens if I try to execute a for loop on a non-iterable data type?\n",
    "\n",
    "for one_item in 5:\n",
    "    print(one_item)"
   ]
  },
  {
   "cell_type": "code",
   "execution_count": 16,
   "id": "3ddc4bd9",
   "metadata": {},
   "outputs": [
    {
     "name": "stdout",
     "output_type": "stream",
     "text": [
      "Hooray!\n",
      "Hooray!\n",
      "Hooray!\n"
     ]
    }
   ],
   "source": [
    "# what if I want to do something 3 times? or 5 times? or 10 times?\n",
    "\n",
    "print('Hooray!')\n",
    "print('Hooray!')\n",
    "print('Hooray!')\n"
   ]
  },
  {
   "cell_type": "code",
   "execution_count": 17,
   "id": "b748e329",
   "metadata": {},
   "outputs": [
    {
     "ename": "TypeError",
     "evalue": "'int' object is not iterable",
     "output_type": "error",
     "traceback": [
      "\u001b[0;31m---------------------------------------------------------------------------\u001b[0m",
      "\u001b[0;31mTypeError\u001b[0m                                 Traceback (most recent call last)",
      "\u001b[0;32m/var/folders/rr/0mnyyv811fs5vyp22gf4fxk00000gn/T/ipykernel_88973/3866588789.py\u001b[0m in \u001b[0;36m<module>\u001b[0;34m\u001b[0m\n\u001b[1;32m      1\u001b[0m \u001b[0;31m# the above code isn't very DRY (don't repeat yourself). Let's shrink it into a \"for\" loop:\u001b[0m\u001b[0;34m\u001b[0m\u001b[0;34m\u001b[0m\u001b[0m\n\u001b[1;32m      2\u001b[0m \u001b[0;34m\u001b[0m\u001b[0m\n\u001b[0;32m----> 3\u001b[0;31m \u001b[0;32mfor\u001b[0m \u001b[0mone_item\u001b[0m \u001b[0;32min\u001b[0m \u001b[0;36m3\u001b[0m\u001b[0;34m:\u001b[0m\u001b[0;34m\u001b[0m\u001b[0;34m\u001b[0m\u001b[0m\n\u001b[0m\u001b[1;32m      4\u001b[0m     \u001b[0mprint\u001b[0m\u001b[0;34m(\u001b[0m\u001b[0;34m'Hooray!'\u001b[0m\u001b[0;34m)\u001b[0m\u001b[0;34m\u001b[0m\u001b[0;34m\u001b[0m\u001b[0m\n",
      "\u001b[0;31mTypeError\u001b[0m: 'int' object is not iterable"
     ]
    }
   ],
   "source": [
    "# the above code isn't very DRY (don't repeat yourself). Let's shrink it into a \"for\" loop:\n",
    "\n",
    "for one_item in 3:    # this will not work!\n",
    "    print('Hooray!')\n"
   ]
  },
  {
   "cell_type": "code",
   "execution_count": 18,
   "id": "686b52e2",
   "metadata": {},
   "outputs": [
    {
     "name": "stdout",
     "output_type": "stream",
     "text": [
      "Hooray!\n",
      "Hooray!\n",
      "Hooray!\n"
     ]
    }
   ],
   "source": [
    "# Python provides us with the \"range\" builtin\n",
    "# this allows us to iterate a certain number of times\n",
    "\n",
    "# the for loop turns to the result of invoking range(3) and asks: are you iterable?\n",
    "# the answer: yes!\n",
    "\n",
    "for one_item in range(3):    # this *WILL* work! \n",
    "    print('Hooray!')\n"
   ]
  },
  {
   "cell_type": "code",
   "execution_count": 20,
   "id": "1704725e",
   "metadata": {},
   "outputs": [
    {
     "name": "stdout",
     "output_type": "stream",
     "text": [
      "0: Hooray!\n",
      "1: Hooray!\n",
      "2: Hooray!\n"
     ]
    }
   ],
   "source": [
    "# what is the value of one_item in each iteration here?\n",
    "\n",
    "# when I iterate over range(3), I get 3 numbers -- 0, 1, and 2\n",
    "# you'll always get integers starting at 0 until (and not including) the mentioned value\n",
    "\n",
    "for one_item in range(3):    # this *WILL* work! \n",
    "    print(f'{one_item}: Hooray!')\n"
   ]
  },
  {
   "cell_type": "markdown",
   "id": "0e1eee37",
   "metadata": {},
   "source": [
    "# Exercise: Name triangles\n",
    "\n",
    "1. Ask the user to enter their name.\n",
    "2. Print the name, once for each letter in the name. But you won't print the whole thing each time:\n",
    "    - On the first line, print only the first letter\n",
    "    - On the 2nd line, print the first two letters\n",
    "    - On the 3rd line, print the first three letters\n",
    "    - All the way to.. on the final line, print the full name.\n",
    "    \n",
    "Example:\n",
    "\n",
    "    Enter your name: Reuven\n",
    "    R\n",
    "    Re\n",
    "    Reu\n",
    "    Reuv\n",
    "    Reuve\n",
    "    Reuven\n",
    "    \n",
    "Hints:\n",
    "\n",
    "1. Remember that you can get the length of a string with the `len` function.\n",
    "2. Also remember that you can retrieve a subset of a string with a \"slice,\" with `[start:end]` syntax.\n"
   ]
  },
  {
   "cell_type": "code",
   "execution_count": 22,
   "id": "99a5f1ba",
   "metadata": {},
   "outputs": [
    {
     "name": "stdout",
     "output_type": "stream",
     "text": [
      "R\n",
      "Re\n",
      "Reu\n",
      "Reuv\n",
      "Reuve\n",
      "Reuven\n"
     ]
    }
   ],
   "source": [
    "# let's start off by *not* using a loop\n",
    "\n",
    "name = 'Reuven'\n",
    "\n",
    "print(name[:1])\n",
    "print(name[:2])\n",
    "print(name[:3])\n",
    "print(name[:4])\n",
    "print(name[:5])\n",
    "print(name[:6])  # notice that a slice's outer bounds can go *beyond* the string's final index!"
   ]
  },
  {
   "cell_type": "code",
   "execution_count": 23,
   "id": "4519cc6c",
   "metadata": {},
   "outputs": [
    {
     "name": "stdout",
     "output_type": "stream",
     "text": [
      "R\n",
      "Re\n",
      "Reu\n",
      "Reuv\n",
      "Reuve\n",
      "Reuven\n"
     ]
    }
   ],
   "source": [
    "name = 'Reuven'\n",
    "\n",
    "for index in range(6):   # range will give us numbers from 0, up to and not including 6\n",
    "    print(name[:index+1])\n"
   ]
  },
  {
   "cell_type": "code",
   "execution_count": 26,
   "id": "e9a3b00a",
   "metadata": {},
   "outputs": [
    {
     "name": "stdout",
     "output_type": "stream",
     "text": [
      "Enter your name: A\n",
      "A\n"
     ]
    }
   ],
   "source": [
    "name = input('Enter your name: ').strip()\n",
    "\n",
    "for index in range(len(name)):   \n",
    "    print(name[:index+1])"
   ]
  },
  {
   "cell_type": "markdown",
   "id": "1ec871f4",
   "metadata": {},
   "source": [
    "# Next up:\n",
    "\n",
    "1. `while` loops\n",
    "2. Where's the index in `for` loops? (Getting around this problem)"
   ]
  },
  {
   "cell_type": "markdown",
   "id": "5bfd1dba",
   "metadata": {},
   "source": [
    "# `while` loops\n",
    "\n",
    "In a `for` loop, we're iterating over each element of something -- so far, we've seen that we can iterate over strings and ranges.  We know that the loop will execute once, and exactly once, for each element in our object.\n",
    "\n",
    "What if we don't know how many times we're going to need to iterate? What if we know under what conditions we'll want to stop, but not how long it'll take before we get there?\n",
    "\n",
    "Given a child with clothes on the floor:\n",
    "\n",
    "- We could say: Pick up each of the clothes on the floor! That's a `for` loop -- an action to be performed for each item.\n",
    "- We could also say: So long as there are clothes on the floor, pick them up and put them away. That's a `while` loop -- we indicate the condition under which the loop can exit.\n",
    "\n",
    "Another way to think about a `while` loop is as an `if` statement that runs repeatedly, until the condition is `False`."
   ]
  },
  {
   "cell_type": "code",
   "execution_count": 27,
   "id": "09105383",
   "metadata": {},
   "outputs": [
    {
     "name": "stdout",
     "output_type": "stream",
     "text": [
      "5\n",
      "4\n",
      "3\n",
      "2\n",
      "1\n"
     ]
    }
   ],
   "source": [
    "x = 5\n",
    "\n",
    "# in a while loop, we'll execute the loop body so long as the condition is True\n",
    "# when the condition is False, the loop exits.\n",
    "\n",
    "while x > 0:   # here, we have our while loop + its condition, which is currently True\n",
    "    print(x)\n",
    "    x -= 1     # here, we reduce x by 1"
   ]
  },
  {
   "cell_type": "code",
   "execution_count": null,
   "id": "b8d4ab9d",
   "metadata": {},
   "outputs": [],
   "source": [
    "# what if we don't have line 8 in our while loop, and we never reduce x's value? We end up\n",
    "# with a loop that never exits -- an infinite loop."
   ]
  }
 ],
 "metadata": {
  "kernelspec": {
   "display_name": "Python 3 (ipykernel)",
   "language": "python",
   "name": "python3"
  },
  "language_info": {
   "codemirror_mode": {
    "name": "ipython",
    "version": 3
   },
   "file_extension": ".py",
   "mimetype": "text/x-python",
   "name": "python",
   "nbconvert_exporter": "python",
   "pygments_lexer": "ipython3",
   "version": "3.10.8"
  }
 },
 "nbformat": 4,
 "nbformat_minor": 5
}
