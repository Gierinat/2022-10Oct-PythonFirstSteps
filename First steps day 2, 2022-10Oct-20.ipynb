{
 "cells": [
  {
   "cell_type": "markdown",
   "id": "3d61ee56",
   "metadata": {},
   "source": [
    "# Agenda for week #2: Loops, lists, and tuples\n",
    "\n",
    "1. Q&A\n",
    "2. Loops\n",
    "    - `for` loops\n",
    "    - `range` and numbers\n",
    "    - `while` loops\n",
    "    - exiting early from a loop\n",
    "    - where's the index? How can we get around the lack of an index?\n",
    "3. List\n",
    "    - Creating them\n",
    "    - What can they hold? What would we use them for?\n",
    "    - Lists are *mutable* -- they can be changed!\n",
    "4. Strings to lists, and back again\n",
    "    - Turning strings into lists with `str.split`\n",
    "    - Turning lists into strings with `str.join`\n",
    "5. A little bit about tuples\n",
    "    - What are tuples?\n",
    "    - Tuple unpacking -- an important and useful assignment technique in Python\n"
   ]
  },
  {
   "cell_type": "code",
   "execution_count": null,
   "id": "bb52253f",
   "metadata": {},
   "outputs": [],
   "source": []
  }
 ],
 "metadata": {
  "kernelspec": {
   "display_name": "Python 3 (ipykernel)",
   "language": "python",
   "name": "python3"
  },
  "language_info": {
   "codemirror_mode": {
    "name": "ipython",
    "version": 3
   },
   "file_extension": ".py",
   "mimetype": "text/x-python",
   "name": "python",
   "nbconvert_exporter": "python",
   "pygments_lexer": "ipython3",
   "version": "3.10.8"
  }
 },
 "nbformat": 4,
 "nbformat_minor": 5
}
