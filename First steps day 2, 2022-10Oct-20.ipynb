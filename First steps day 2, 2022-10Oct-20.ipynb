{
 "cells": [
  {
   "cell_type": "markdown",
   "id": "3cca033a",
   "metadata": {},
   "source": [
    "# Agenda for week #2: Loops, lists, and tuples\n",
    "\n",
    "1. Q&A\n",
    "2. Loops\n",
    "    - `for` loops\n",
    "    - `range` and numbers\n",
    "    - `while` loops\n",
    "    - exiting early from a loop\n",
    "    - where's the index? How can we get around the lack of an index?\n",
    "3. List\n",
    "    - Creating them\n",
    "    - What can they hold? What would we use them for?\n",
    "    - Lists are *mutable* -- they can be changed!\n",
    "4. Strings to lists, and back again\n",
    "    - Turning strings into lists with `str.split`\n",
    "    - Turning lists into strings with `str.join`\n",
    "5. A little bit about tuples\n",
    "    - What are tuples?\n",
    "    - Tuple unpacking -- an important and useful assignment technique in Python\n"
   ]
  },
  {
   "cell_type": "markdown",
   "id": "0d1c7a60",
   "metadata": {},
   "source": [
    "# Assignment -- what does it mean?\n",
    "\n",
    "When we assign a value to a variable in Python, we're basically giving a pronoun to that value."
   ]
  },
  {
   "cell_type": "code",
   "execution_count": 1,
   "id": "52ae3fd6",
   "metadata": {},
   "outputs": [],
   "source": [
    "# once we've executed this cell, the variable x (which didn't previously exist) now refers\n",
    "# to the integer value 10.\n",
    "\n",
    "x = 10"
   ]
  },
  {
   "cell_type": "code",
   "execution_count": 2,
   "id": "9e231cd3",
   "metadata": {},
   "outputs": [],
   "source": [
    "# if I assign the variable x to a new value, it refers to that new value,\n",
    "# with no memory of the previous value.\n",
    "\n",
    "x = 20 "
   ]
  },
  {
   "cell_type": "code",
   "execution_count": 3,
   "id": "da59fb15",
   "metadata": {},
   "outputs": [
    {
     "data": {
      "text/plain": [
       "20"
      ]
     },
     "execution_count": 3,
     "metadata": {},
     "output_type": "execute_result"
    }
   ],
   "source": [
    "x"
   ]
  },
  {
   "cell_type": "code",
   "execution_count": 4,
   "id": "1bb8011e",
   "metadata": {},
   "outputs": [],
   "source": [
    "x = 10\n",
    "y = 20"
   ]
  },
  {
   "cell_type": "code",
   "execution_count": 5,
   "id": "fbb40be8",
   "metadata": {},
   "outputs": [
    {
     "data": {
      "text/plain": [
       "10"
      ]
     },
     "execution_count": 5,
     "metadata": {},
     "output_type": "execute_result"
    }
   ],
   "source": [
    "x"
   ]
  },
  {
   "cell_type": "code",
   "execution_count": 6,
   "id": "a8cdd6ba",
   "metadata": {},
   "outputs": [
    {
     "data": {
      "text/plain": [
       "20"
      ]
     },
     "execution_count": 6,
     "metadata": {},
     "output_type": "execute_result"
    }
   ],
   "source": [
    "y"
   ]
  },
  {
   "cell_type": "code",
   "execution_count": 8,
   "id": "4d72c2bb",
   "metadata": {},
   "outputs": [],
   "source": [
    "x = 10    # we've (re-)assigned the value 10 to x\n",
    "y = 30    # we've reassigned y to refer to the integer 30"
   ]
  },
  {
   "cell_type": "markdown",
   "id": "541d87fb",
   "metadata": {},
   "source": [
    "# Python Tutor!\n",
    "\n",
    "Check it out at https://PythonTutor.com/"
   ]
  },
  {
   "cell_type": "markdown",
   "id": "70fcc727",
   "metadata": {},
   "source": [
    "# How can I print every element of a 4-character string?"
   ]
  },
  {
   "cell_type": "code",
   "execution_count": 9,
   "id": "193d73e6",
   "metadata": {},
   "outputs": [
    {
     "name": "stdout",
     "output_type": "stream",
     "text": [
      "a\n",
      "b\n",
      "c\n",
      "d\n"
     ]
    }
   ],
   "source": [
    "s = 'abcd'\n",
    "\n",
    "print(s[0])   # remember the indexes start with 0!  \n",
    "print(s[1])\n",
    "print(s[2])\n",
    "print(s[3])   # if it's a 4-character string, then the final index will be 3"
   ]
  },
  {
   "cell_type": "markdown",
   "id": "8580cdcb",
   "metadata": {},
   "source": [
    "# DRY -- Don't repeat yourself!\n",
    "\n",
    "If you find yourself repeating code in your program, you've almost certainly done something wrong. You want to avoid repeated code at almost any cost.\n",
    "\n",
    "- If you repeat code, and then have to edit it, you have to track down all of the places where you wrote it, and update it.\n",
    "- If you repeat code, it gets hard to think about, in part because the code just gets much longer\n",
    "\n",
    "If you have (almost) the same code repeated, several lines in a row, then you should consider a *loop*.\n",
    "\n",
    "Python has two kinds of loops (and only two kinds!):\n",
    "- `for`\n",
    "- `while`"
   ]
  },
  {
   "cell_type": "markdown",
   "id": "ac2ac563",
   "metadata": {},
   "source": [
    "# Parts of a `for` loop\n",
    "\n",
    "1. We use the keywords `for` and `in`.\n",
    "2. At the end of the `for` line, just before the colon (`:`), we have the object we want to iterate over, that we want to run our `for` loop on.  In this case, it's the string `'abcd'`.\n",
    "3. Between the words `for` and `in`, we have a variable.  This is known as the \"iteration variable.\" This variable is assigned each successive value that we get back from the string `'abcd'`.\n",
    "4. After the loop variable is assigned, we execute everything in the indented block.\n",
    "5. When the block has finished executing, the `for` loop once again asks for the next value from the string.\n",
    "6. When we run out of values, the loop ends.\n",
    "\n",
    "When we run the `for` loop, `for` turns to the object (in this case, the string `'abcd'`), and asks: Are you iterable? That is, do you know how to operate inside of a `for` loop?\n",
    "\n",
    "If so, then the object tell us \"yes,\" and we say: Great, give me your next thing.\n",
    "\n",
    "That next thing (whatever we get) is assigned to the variable - in this case, `one_letter`. This variable doesn't need to be defined in advance -- and in fact, if it was defined before, that definition has now been obliterated in favor of the newly assigned values from the loop."
   ]
  },
  {
   "cell_type": "code",
   "execution_count": 10,
   "id": "6b74e387",
   "metadata": {},
   "outputs": [
    {
     "name": "stdout",
     "output_type": "stream",
     "text": [
      "a\n",
      "b\n",
      "c\n",
      "d\n"
     ]
    }
   ],
   "source": [
    "# example of a for loop\n",
    "\n",
    "for one_letter in 'abcd':   # I could call my variable ANYTHING I WANT and get the same result!\n",
    "    print(one_letter)"
   ]
  },
  {
   "cell_type": "code",
   "execution_count": 11,
   "id": "5764e49d",
   "metadata": {},
   "outputs": [
    {
     "name": "stdout",
     "output_type": "stream",
     "text": [
      "a\n",
      "b\n",
      "c\n",
      "d\n"
     ]
    }
   ],
   "source": [
    "for avocado in 'abcd': # variable names are for us, the humans, who are writing + debugging + editing code!\n",
    "    print(avocado)"
   ]
  },
  {
   "cell_type": "markdown",
   "id": "a9151423",
   "metadata": {},
   "source": [
    "# Identifier (name) styles\n",
    "\n",
    "In Python, we typically use what's known as \"snake case,\" with all lowercase letters and `_` between words.\n",
    "\n",
    "Another common way to write names, which we only do in Python when defining our own data types (\"classes\"), is CamelCase, in which the first letter is capitalized, as is the first letter of every additional word in the mushed-together new words we've written.\n",
    "\n",
    "An identifier (variable or function name) cannot contain `-` or spaces. So if you want more than one word, you'll have to choose whether to use CamelCase or snake_case -- and most Python people have chosen snake_case for most of the time."
   ]
  },
  {
   "cell_type": "code",
   "execution_count": 13,
   "id": "be2c8d20",
   "metadata": {},
   "outputs": [
    {
     "name": "stdout",
     "output_type": "stream",
     "text": [
      "2 is a digit\n",
      "  is whitespace\n",
      "+ is a math symbol\n",
      "  is whitespace\n",
      "2 is a digit\n",
      "  is whitespace\n",
      "= is a math symbol\n",
      "  is whitespace\n",
      "4 is a digit\n"
     ]
    }
   ],
   "source": [
    "# slightly more interesting example\n",
    "\n",
    "s = '2 + 2 = 4'\n",
    "\n",
    "for one_character in s:\n",
    "    if one_character.isdigit():\n",
    "        print(f'{one_character} is a digit')\n",
    "    elif one_character.isspace():\n",
    "        print(f'{one_character} is whitespace')\n",
    "    elif one_character in '+-*/=':\n",
    "        print(f'{one_character} is a math symbol')\n",
    "    else:\n",
    "        print(f'I do not know what to do with {one_character}')"
   ]
  },
  {
   "cell_type": "markdown",
   "id": "9089f46f",
   "metadata": {},
   "source": [
    "# Why loop?\n",
    "\n",
    "We can go through every element of an object, one at a time, and execute some code on each individual element. So far, the only iterable data we've seen has been a string, in which iterating gives us one character at a time.  But many other Python types are iterable, as we'll see -- both today (lists and tuples) and next time (with dicts and files)."
   ]
  },
  {
   "cell_type": "code",
   "execution_count": null,
   "id": "95dfd743",
   "metadata": {},
   "outputs": [],
   "source": []
  }
 ],
 "metadata": {
  "kernelspec": {
   "display_name": "Python 3 (ipykernel)",
   "language": "python",
   "name": "python3"
  },
  "language_info": {
   "codemirror_mode": {
    "name": "ipython",
    "version": 3
   },
   "file_extension": ".py",
   "mimetype": "text/x-python",
   "name": "python",
   "nbconvert_exporter": "python",
   "pygments_lexer": "ipython3",
   "version": "3.10.8"
  }
 },
 "nbformat": 4,
 "nbformat_minor": 5
}
