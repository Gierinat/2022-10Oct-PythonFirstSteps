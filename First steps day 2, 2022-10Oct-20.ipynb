{
 "cells": [
  {
   "cell_type": "markdown",
   "id": "3c439c05",
   "metadata": {},
   "source": [
    "# Agenda for week #2: Loops, lists, and tuples\n",
    "\n",
    "1. Q&A\n",
    "2. Loops\n",
    "    - `for` loops\n",
    "    - `range` and numbers\n",
    "    - `while` loops\n",
    "    - exiting early from a loop\n",
    "    - where's the index? How can we get around the lack of an index?\n",
    "3. List\n",
    "    - Creating them\n",
    "    - What can they hold? What would we use them for?\n",
    "    - Lists are *mutable* -- they can be changed!\n",
    "4. Strings to lists, and back again\n",
    "    - Turning strings into lists with `str.split`\n",
    "    - Turning lists into strings with `str.join`\n",
    "5. A little bit about tuples\n",
    "    - What are tuples?\n",
    "    - Tuple unpacking -- an important and useful assignment technique in Python\n"
   ]
  },
  {
   "cell_type": "markdown",
   "id": "9310089d",
   "metadata": {},
   "source": [
    "# Assignment -- what does it mean?\n",
    "\n",
    "When we assign a value to a variable in Python, we're basically giving a pronoun to that value."
   ]
  },
  {
   "cell_type": "code",
   "execution_count": 1,
   "id": "2409b5a7",
   "metadata": {},
   "outputs": [],
   "source": [
    "# once we've executed this cell, the variable x (which didn't previously exist) now refers\n",
    "# to the integer value 10.\n",
    "\n",
    "x = 10"
   ]
  },
  {
   "cell_type": "code",
   "execution_count": 2,
   "id": "bb99dc3e",
   "metadata": {},
   "outputs": [],
   "source": [
    "# if I assign the variable x to a new value, it refers to that new value,\n",
    "# with no memory of the previous value.\n",
    "\n",
    "x = 20 "
   ]
  },
  {
   "cell_type": "code",
   "execution_count": 3,
   "id": "fbb2e915",
   "metadata": {},
   "outputs": [
    {
     "data": {
      "text/plain": [
       "20"
      ]
     },
     "execution_count": 3,
     "metadata": {},
     "output_type": "execute_result"
    }
   ],
   "source": [
    "x"
   ]
  },
  {
   "cell_type": "code",
   "execution_count": 4,
   "id": "ef18e011",
   "metadata": {},
   "outputs": [],
   "source": [
    "x = 10\n",
    "y = 20"
   ]
  },
  {
   "cell_type": "code",
   "execution_count": 5,
   "id": "27183510",
   "metadata": {},
   "outputs": [
    {
     "data": {
      "text/plain": [
       "10"
      ]
     },
     "execution_count": 5,
     "metadata": {},
     "output_type": "execute_result"
    }
   ],
   "source": [
    "x"
   ]
  },
  {
   "cell_type": "code",
   "execution_count": 6,
   "id": "b98bbb58",
   "metadata": {},
   "outputs": [
    {
     "data": {
      "text/plain": [
       "20"
      ]
     },
     "execution_count": 6,
     "metadata": {},
     "output_type": "execute_result"
    }
   ],
   "source": [
    "y"
   ]
  },
  {
   "cell_type": "code",
   "execution_count": 8,
   "id": "b044c2ff",
   "metadata": {},
   "outputs": [],
   "source": [
    "x = 10    # we've (re-)assigned the value 10 to x\n",
    "y = 30    # we've reassigned y to refer to the integer 30"
   ]
  },
  {
   "cell_type": "markdown",
   "id": "5805e146",
   "metadata": {},
   "source": [
    "# Python Tutor!\n",
    "\n",
    "Check it out at https://PythonTutor.com/"
   ]
  },
  {
   "cell_type": "markdown",
   "id": "4348e94a",
   "metadata": {},
   "source": [
    "# How can I print every element of a 4-character string?"
   ]
  },
  {
   "cell_type": "code",
   "execution_count": 9,
   "id": "2421674f",
   "metadata": {},
   "outputs": [
    {
     "name": "stdout",
     "output_type": "stream",
     "text": [
      "a\n",
      "b\n",
      "c\n",
      "d\n"
     ]
    }
   ],
   "source": [
    "s = 'abcd'\n",
    "\n",
    "print(s[0])   # remember the indexes start with 0!  \n",
    "print(s[1])\n",
    "print(s[2])\n",
    "print(s[3])   # if it's a 4-character string, then the final index will be 3"
   ]
  },
  {
   "cell_type": "markdown",
   "id": "188a9364",
   "metadata": {},
   "source": [
    "# DRY -- Don't repeat yourself!\n",
    "\n",
    "If you find yourself repeating code in your program, you've almost certainly done something wrong. You want to avoid repeated code at almost any cost.\n",
    "\n",
    "- If you repeat code, and then have to edit it, you have to track down all of the places where you wrote it, and update it.\n",
    "- If you repeat code, it gets hard to think about, in part because the code just gets much longer\n",
    "\n",
    "If you have (almost) the same code repeated, several lines in a row, then you should consider a *loop*.\n",
    "\n",
    "Python has two kinds of loops (and only two kinds!):\n",
    "- `for`\n",
    "- `while`"
   ]
  },
  {
   "cell_type": "markdown",
   "id": "4cb53175",
   "metadata": {},
   "source": [
    "# Parts of a `for` loop\n",
    "\n",
    "1. We use the keywords `for` and `in`.\n",
    "2. At the end of the `for` line, just before the colon (`:`), we have the object we want to iterate over, that we want to run our `for` loop on.  In this case, it's the string `'abcd'`.\n",
    "3. Between the words `for` and `in`, we have a variable.  This is known as the \"iteration variable.\" This variable is assigned each successive value that we get back from the string `'abcd'`.\n",
    "4. After the loop variable is assigned, we execute everything in the indented block.\n",
    "5. When the block has finished executing, the `for` loop once again asks for the next value from the string.\n",
    "6. When we run out of values, the loop ends.\n",
    "\n",
    "When we run the `for` loop, `for` turns to the object (in this case, the string `'abcd'`), and asks: Are you iterable? That is, do you know how to operate inside of a `for` loop?\n",
    "\n",
    "If so, then the object tell us \"yes,\" and we say: Great, give me your next thing.\n",
    "\n",
    "That next thing (whatever we get) is assigned to the variable - in this case, `one_letter`. This variable doesn't need to be defined in advance -- and in fact, if it was defined before, that definition has now been obliterated in favor of the newly assigned values from the loop."
   ]
  },
  {
   "cell_type": "code",
   "execution_count": 10,
   "id": "e6492631",
   "metadata": {},
   "outputs": [
    {
     "name": "stdout",
     "output_type": "stream",
     "text": [
      "a\n",
      "b\n",
      "c\n",
      "d\n"
     ]
    }
   ],
   "source": [
    "# example of a for loop\n",
    "\n",
    "for one_letter in 'abcd':   # I could call my variable ANYTHING I WANT and get the same result!\n",
    "    print(one_letter)"
   ]
  },
  {
   "cell_type": "code",
   "execution_count": 11,
   "id": "8e0cffcb",
   "metadata": {},
   "outputs": [
    {
     "name": "stdout",
     "output_type": "stream",
     "text": [
      "a\n",
      "b\n",
      "c\n",
      "d\n"
     ]
    }
   ],
   "source": [
    "for avocado in 'abcd': # variable names are for us, the humans, who are writing + debugging + editing code!\n",
    "    print(avocado)"
   ]
  },
  {
   "cell_type": "markdown",
   "id": "cde135a2",
   "metadata": {},
   "source": [
    "# Identifier (name) styles\n",
    "\n",
    "In Python, we typically use what's known as \"snake case,\" with all lowercase letters and `_` between words.\n",
    "\n",
    "Another common way to write names, which we only do in Python when defining our own data types (\"classes\"), is CamelCase, in which the first letter is capitalized, as is the first letter of every additional word in the mushed-together new words we've written.\n",
    "\n",
    "An identifier (variable or function name) cannot contain `-` or spaces. So if you want more than one word, you'll have to choose whether to use CamelCase or snake_case -- and most Python people have chosen snake_case for most of the time."
   ]
  },
  {
   "cell_type": "code",
   "execution_count": 13,
   "id": "9634d37b",
   "metadata": {},
   "outputs": [
    {
     "name": "stdout",
     "output_type": "stream",
     "text": [
      "2 is a digit\n",
      "  is whitespace\n",
      "+ is a math symbol\n",
      "  is whitespace\n",
      "2 is a digit\n",
      "  is whitespace\n",
      "= is a math symbol\n",
      "  is whitespace\n",
      "4 is a digit\n"
     ]
    }
   ],
   "source": [
    "# slightly more interesting example\n",
    "\n",
    "s = '2 + 2 = 4'\n",
    "\n",
    "for one_character in s:\n",
    "    if one_character.isdigit():\n",
    "        print(f'{one_character} is a digit')\n",
    "    elif one_character.isspace():\n",
    "        print(f'{one_character} is whitespace')\n",
    "    elif one_character in '+-*/=':\n",
    "        print(f'{one_character} is a math symbol')\n",
    "    else:\n",
    "        print(f'I do not know what to do with {one_character}')"
   ]
  },
  {
   "cell_type": "markdown",
   "id": "d069fad2",
   "metadata": {},
   "source": [
    "# Why loop?\n",
    "\n",
    "We can go through every element of an object, one at a time, and execute some code on each individual element. So far, the only iterable data we've seen has been a string, in which iterating gives us one character at a time.  But many other Python types are iterable, as we'll see -- both today (lists and tuples) and next time (with dicts and files)."
   ]
  },
  {
   "cell_type": "markdown",
   "id": "6885ddd9",
   "metadata": {},
   "source": [
    "# Exercise: Vowel and consonant counter\n",
    "\n",
    "1. Define two variables, `vowel_count` and `consonant_count`. Set both to 0.\n",
    "2. Ask the user to enter a word, only containing letters.\n",
    "3. Go through the string, one character at time:\n",
    "    - If the charcter is a vowel (a, e, i, o, or u) then add 1 to `vowel_count`\n",
    "    - If the character is a consonant, then add 1 to `consonant_count`\n",
    "    - We can assume that our user only entered lowercase letters.\n",
    "4. Print the number of vowels and consonants in the string.    "
   ]
  },
  {
   "cell_type": "code",
   "execution_count": 14,
   "id": "69a03c7c",
   "metadata": {},
   "outputs": [
    {
     "name": "stdout",
     "output_type": "stream",
     "text": [
      "Enter a word: encyclopedia\n",
      "vowel_count = 5\n",
      "consonant_count = 7\n"
     ]
    }
   ],
   "source": [
    "vowel_count = 0\n",
    "consonant_count = 0\n",
    "\n",
    "# get input from the user (as a string), remove leading/trailing spaces, assign to s\n",
    "s = input('Enter a word: ').strip()\n",
    "\n",
    "for one_character in s:\n",
    "    if one_character in 'aeiou':   # is the character a vowel?\n",
    "        vowel_count += 1           # add 1 to the value of vowel_count\n",
    "    elif one_character in 'bcdfghjklmnpqrstvwxyz':\n",
    "        consonant_count += 1       \n",
    "    else:\n",
    "        print(f'What is {one_character}? I do not know what to do with it')\n",
    "        \n",
    "print(f'vowel_count = {vowel_count}')        \n",
    "print(f'consonant_count = {consonant_count}')"
   ]
  },
  {
   "cell_type": "code",
   "execution_count": 15,
   "id": "fc5e9c2a",
   "metadata": {},
   "outputs": [
    {
     "ename": "TypeError",
     "evalue": "'int' object is not iterable",
     "output_type": "error",
     "traceback": [
      "\u001b[0;31m---------------------------------------------------------------------------\u001b[0m",
      "\u001b[0;31mTypeError\u001b[0m                                 Traceback (most recent call last)",
      "\u001b[0;32m/var/folders/rr/0mnyyv811fs5vyp22gf4fxk00000gn/T/ipykernel_88973/284560243.py\u001b[0m in \u001b[0;36m<module>\u001b[0;34m\u001b[0m\n\u001b[1;32m      1\u001b[0m \u001b[0;31m# what happens if I try to execute a for loop on a non-iterable data type?\u001b[0m\u001b[0;34m\u001b[0m\u001b[0;34m\u001b[0m\u001b[0m\n\u001b[1;32m      2\u001b[0m \u001b[0;34m\u001b[0m\u001b[0m\n\u001b[0;32m----> 3\u001b[0;31m \u001b[0;32mfor\u001b[0m \u001b[0mone_item\u001b[0m \u001b[0;32min\u001b[0m \u001b[0;36m5\u001b[0m\u001b[0;34m:\u001b[0m\u001b[0;34m\u001b[0m\u001b[0;34m\u001b[0m\u001b[0m\n\u001b[0m\u001b[1;32m      4\u001b[0m     \u001b[0mprint\u001b[0m\u001b[0;34m(\u001b[0m\u001b[0mone_item\u001b[0m\u001b[0;34m)\u001b[0m\u001b[0;34m\u001b[0m\u001b[0;34m\u001b[0m\u001b[0m\n",
      "\u001b[0;31mTypeError\u001b[0m: 'int' object is not iterable"
     ]
    }
   ],
   "source": [
    "# what happens if I try to execute a for loop on a non-iterable data type?\n",
    "\n",
    "for one_item in 5:\n",
    "    print(one_item)"
   ]
  },
  {
   "cell_type": "code",
   "execution_count": 16,
   "id": "653657e9",
   "metadata": {},
   "outputs": [
    {
     "name": "stdout",
     "output_type": "stream",
     "text": [
      "Hooray!\n",
      "Hooray!\n",
      "Hooray!\n"
     ]
    }
   ],
   "source": [
    "# what if I want to do something 3 times? or 5 times? or 10 times?\n",
    "\n",
    "print('Hooray!')\n",
    "print('Hooray!')\n",
    "print('Hooray!')\n"
   ]
  },
  {
   "cell_type": "code",
   "execution_count": 17,
   "id": "4a443ea0",
   "metadata": {},
   "outputs": [
    {
     "ename": "TypeError",
     "evalue": "'int' object is not iterable",
     "output_type": "error",
     "traceback": [
      "\u001b[0;31m---------------------------------------------------------------------------\u001b[0m",
      "\u001b[0;31mTypeError\u001b[0m                                 Traceback (most recent call last)",
      "\u001b[0;32m/var/folders/rr/0mnyyv811fs5vyp22gf4fxk00000gn/T/ipykernel_88973/3866588789.py\u001b[0m in \u001b[0;36m<module>\u001b[0;34m\u001b[0m\n\u001b[1;32m      1\u001b[0m \u001b[0;31m# the above code isn't very DRY (don't repeat yourself). Let's shrink it into a \"for\" loop:\u001b[0m\u001b[0;34m\u001b[0m\u001b[0;34m\u001b[0m\u001b[0m\n\u001b[1;32m      2\u001b[0m \u001b[0;34m\u001b[0m\u001b[0m\n\u001b[0;32m----> 3\u001b[0;31m \u001b[0;32mfor\u001b[0m \u001b[0mone_item\u001b[0m \u001b[0;32min\u001b[0m \u001b[0;36m3\u001b[0m\u001b[0;34m:\u001b[0m\u001b[0;34m\u001b[0m\u001b[0;34m\u001b[0m\u001b[0m\n\u001b[0m\u001b[1;32m      4\u001b[0m     \u001b[0mprint\u001b[0m\u001b[0;34m(\u001b[0m\u001b[0;34m'Hooray!'\u001b[0m\u001b[0;34m)\u001b[0m\u001b[0;34m\u001b[0m\u001b[0;34m\u001b[0m\u001b[0m\n",
      "\u001b[0;31mTypeError\u001b[0m: 'int' object is not iterable"
     ]
    }
   ],
   "source": [
    "# the above code isn't very DRY (don't repeat yourself). Let's shrink it into a \"for\" loop:\n",
    "\n",
    "for one_item in 3:    # this will not work!\n",
    "    print('Hooray!')\n"
   ]
  },
  {
   "cell_type": "code",
   "execution_count": 18,
   "id": "263ee051",
   "metadata": {},
   "outputs": [
    {
     "name": "stdout",
     "output_type": "stream",
     "text": [
      "Hooray!\n",
      "Hooray!\n",
      "Hooray!\n"
     ]
    }
   ],
   "source": [
    "# Python provides us with the \"range\" builtin\n",
    "# this allows us to iterate a certain number of times\n",
    "\n",
    "# the for loop turns to the result of invoking range(3) and asks: are you iterable?\n",
    "# the answer: yes!\n",
    "\n",
    "for one_item in range(3):    # this *WILL* work! \n",
    "    print('Hooray!')\n"
   ]
  },
  {
   "cell_type": "code",
   "execution_count": 20,
   "id": "1282a644",
   "metadata": {},
   "outputs": [
    {
     "name": "stdout",
     "output_type": "stream",
     "text": [
      "0: Hooray!\n",
      "1: Hooray!\n",
      "2: Hooray!\n"
     ]
    }
   ],
   "source": [
    "# what is the value of one_item in each iteration here?\n",
    "\n",
    "# when I iterate over range(3), I get 3 numbers -- 0, 1, and 2\n",
    "# you'll always get integers starting at 0 until (and not including) the mentioned value\n",
    "\n",
    "for one_item in range(3):    # this *WILL* work! \n",
    "    print(f'{one_item}: Hooray!')\n"
   ]
  },
  {
   "cell_type": "markdown",
   "id": "4de84585",
   "metadata": {},
   "source": [
    "# Exercise: Name triangles\n",
    "\n",
    "1. Ask the user to enter their name.\n",
    "2. Print the name, once for each letter in the name. But you won't print the whole thing each time:\n",
    "    - On the first line, print only the first letter\n",
    "    - On the 2nd line, print the first two letters\n",
    "    - On the 3rd line, print the first three letters\n",
    "    - All the way to.. on the final line, print the full name.\n",
    "    \n",
    "Example:\n",
    "\n",
    "    Enter your name: Reuven\n",
    "    R\n",
    "    Re\n",
    "    Reu\n",
    "    Reuv\n",
    "    Reuve\n",
    "    Reuven\n",
    "    \n",
    "Hints:\n",
    "\n",
    "1. Remember that you can get the length of a string with the `len` function.\n",
    "2. Also remember that you can retrieve a subset of a string with a \"slice,\" with `[start:end]` syntax.\n"
   ]
  },
  {
   "cell_type": "code",
   "execution_count": 22,
   "id": "5beac6ce",
   "metadata": {},
   "outputs": [
    {
     "name": "stdout",
     "output_type": "stream",
     "text": [
      "R\n",
      "Re\n",
      "Reu\n",
      "Reuv\n",
      "Reuve\n",
      "Reuven\n"
     ]
    }
   ],
   "source": [
    "# let's start off by *not* using a loop\n",
    "\n",
    "name = 'Reuven'\n",
    "\n",
    "print(name[:1])\n",
    "print(name[:2])\n",
    "print(name[:3])\n",
    "print(name[:4])\n",
    "print(name[:5])\n",
    "print(name[:6])  # notice that a slice's outer bounds can go *beyond* the string's final index!"
   ]
  },
  {
   "cell_type": "code",
   "execution_count": 23,
   "id": "6f96b1e9",
   "metadata": {},
   "outputs": [
    {
     "name": "stdout",
     "output_type": "stream",
     "text": [
      "R\n",
      "Re\n",
      "Reu\n",
      "Reuv\n",
      "Reuve\n",
      "Reuven\n"
     ]
    }
   ],
   "source": [
    "name = 'Reuven'\n",
    "\n",
    "for index in range(6):   # range will give us numbers from 0, up to and not including 6\n",
    "    print(name[:index+1])\n"
   ]
  },
  {
   "cell_type": "code",
   "execution_count": 26,
   "id": "3f118b65",
   "metadata": {},
   "outputs": [
    {
     "name": "stdout",
     "output_type": "stream",
     "text": [
      "Enter your name: A\n",
      "A\n"
     ]
    }
   ],
   "source": [
    "name = input('Enter your name: ').strip()\n",
    "\n",
    "for index in range(len(name)):   \n",
    "    print(name[:index+1])"
   ]
  },
  {
   "cell_type": "markdown",
   "id": "6d2abf6a",
   "metadata": {},
   "source": [
    "# Next up:\n",
    "\n",
    "1. `while` loops\n",
    "2. Where's the index in `for` loops? (Getting around this problem)"
   ]
  },
  {
   "cell_type": "markdown",
   "id": "3f6ebc0c",
   "metadata": {},
   "source": [
    "# `while` loops\n",
    "\n",
    "In a `for` loop, we're iterating over each element of something -- so far, we've seen that we can iterate over strings and ranges.  We know that the loop will execute once, and exactly once, for each element in our object.\n",
    "\n",
    "What if we don't know how many times we're going to need to iterate? What if we know under what conditions we'll want to stop, but not how long it'll take before we get there?\n",
    "\n",
    "Given a child with clothes on the floor:\n",
    "\n",
    "- We could say: Pick up each of the clothes on the floor! That's a `for` loop -- an action to be performed for each item.\n",
    "- We could also say: So long as there are clothes on the floor, pick them up and put them away. That's a `while` loop -- we indicate the condition under which the loop can exit.\n",
    "\n",
    "Another way to think about a `while` loop is as an `if` statement that runs repeatedly, until the condition is `False`."
   ]
  },
  {
   "cell_type": "code",
   "execution_count": 27,
   "id": "ec50cd60",
   "metadata": {},
   "outputs": [
    {
     "name": "stdout",
     "output_type": "stream",
     "text": [
      "5\n",
      "4\n",
      "3\n",
      "2\n",
      "1\n"
     ]
    }
   ],
   "source": [
    "x = 5\n",
    "\n",
    "# in a while loop, we'll execute the loop body so long as the condition is True\n",
    "# when the condition is False, the loop exits.\n",
    "\n",
    "while x > 0:   # here, we have our while loop + its condition, which is currently True\n",
    "    print(x)\n",
    "    x -= 1     # here, we reduce x by 1"
   ]
  },
  {
   "cell_type": "code",
   "execution_count": null,
   "id": "494e44b1",
   "metadata": {},
   "outputs": [],
   "source": [
    "# what if we don't have line 8 in our while loop, and we never reduce x's value? We end up\n",
    "# with a loop that never exits -- an infinite loop."
   ]
  },
  {
   "cell_type": "markdown",
   "id": "8bbccd94",
   "metadata": {},
   "source": [
    "# Exercise: Sum until 100\n",
    "\n",
    "1. Define a variable, `total`, to be 0.\n",
    "2. Ask the user repeatedly to enter a number.\n",
    "    - If the user enters a non-number (you can check with `.isdigit()`), then scold them and let them try again\n",
    "    - If the user enters a number, then add it to `total`, and print the new `total`.\n",
    "3. When `total` is 100 or greater, then exit, and print its value.\n",
    "\n",
    "Example:\n",
    "\n",
    "    Number: 50\n",
    "    total is now 50\n",
    "    Number: 30\n",
    "    total is now 80\n",
    "    Number: hello\n",
    "    hello is not a number\n",
    "    Number: 30\n",
    "    total is now 110\n",
    "    \n",
    "Hints/ideas:\n",
    "\n",
    "1. Remember that `input` returns a string.\n",
    "2. You can check if a string contains only digits 0-9 with the `isdigit` method\n",
    "3. You can get an integer based on a string with `int`"
   ]
  },
  {
   "cell_type": "code",
   "execution_count": 28,
   "id": "f3e9987c",
   "metadata": {},
   "outputs": [
    {
     "name": "stdout",
     "output_type": "stream",
     "text": [
      "Number: 30\n",
      "total is now 30\n",
      "Number: 40\n",
      "total is now 70\n",
      "Number: abcd\n",
      "abcd is not a number\n",
      "Number: 0\n",
      "total is now 70\n",
      "Number: 0\n",
      "total is now 70\n",
      "Number: 0\n",
      "total is now 70\n",
      "Number: 1\n",
      "total is now 71\n",
      "Number: 2\n",
      "total is now 73\n",
      "Number: 3\n",
      "total is now 76\n",
      "Number: 4\n",
      "total is now 80\n",
      "Number: 5\n",
      "total is now 85\n",
      "Number: 6\n",
      "total is now 91\n",
      "Number: 7\n",
      "total is now 98\n",
      "Number: 8\n",
      "total is now 106\n",
      "Total is 106\n"
     ]
    }
   ],
   "source": [
    "# why use a while loop here? why not just use a for loop?\n",
    "# answer: we don't know how many inputs we'll need in order to reach the total of 100.\n",
    "\n",
    "total = 0\n",
    "\n",
    "while total < 100:\n",
    "    s = input('Number: ').strip()\n",
    "    \n",
    "    if s.isdigit():          # does s only contain digits?\n",
    "        total += int(s)      # we can safely create an integer based on it, and add it to total\n",
    "        print(f'total is now {total}')\n",
    "    else:                    # if s doesn't only contain digits, we'll scold them\n",
    "        print(f'{s} is not a number')\n",
    "        \n",
    "print(f'Total is {total}')        "
   ]
  },
  {
   "cell_type": "code",
   "execution_count": 29,
   "id": "5193af3b",
   "metadata": {},
   "outputs": [
    {
     "name": "stdout",
     "output_type": "stream",
     "text": [
      "Number: 30\n",
      "total is now 30\n",
      "Number: -20\n",
      "-20 is not a number\n",
      "Number: \n",
      " is not a number\n",
      "Number: 100\n",
      "total is now 130\n",
      "Total is 130\n"
     ]
    }
   ],
   "source": [
    "\n",
    "total = 0\n",
    "\n",
    "while total < 100:\n",
    "    s = input('Number: ').strip()\n",
    "    \n",
    "    if s.isdigit():          # does s only contain digits?\n",
    "        total += int(s)      # we can safely create an integer based on it, and add it to total\n",
    "        print(f'total is now {total}')\n",
    "    else:                    # if s doesn't only contain digits, we'll scold them\n",
    "        print(f'{s} is not a number')\n",
    "        \n",
    "print(f'Total is {total}')        "
   ]
  },
  {
   "cell_type": "markdown",
   "id": "68f1bbf2",
   "metadata": {},
   "source": [
    "# Indexes\n",
    "\n",
    "In other languages, you *need* an index in a `for` loop, because the loop is responsible for retrieving items from the data structure.\n",
    "\n",
    "In other words: The loop goes through the numbers, the indexes, that we can use to retrieve data.  And then we retrieve based on that index.\n",
    "\n",
    "In Python, things work **completely differently**! We don't need the index, because we get the individual elements themselves, one at a time!  In Python, I get the characters from a string, or the numbers from a range -- I don't need the index to get them, because I get them directly.\n",
    "\n",
    "But sometimes, I want to have an index.  Maybe I want to display the indexes.  Maybe I want to calculate things based on them.\n",
    "\n",
    "How can I get an index?"
   ]
  },
  {
   "cell_type": "code",
   "execution_count": 30,
   "id": "97b328a1",
   "metadata": {},
   "outputs": [
    {
     "name": "stdout",
     "output_type": "stream",
     "text": [
      "0: a\n",
      "1: b\n",
      "2: c\n",
      "3: d\n",
      "4: e\n"
     ]
    }
   ],
   "source": [
    "# one way to deal with indexes: manually!\n",
    "\n",
    "index = 0\n",
    "\n",
    "for one_character in 'abcde':\n",
    "    print(f'{index}: {one_character}')\n",
    "    index += 1   # I am incrementing the value of the index with each iteration"
   ]
  },
  {
   "cell_type": "code",
   "execution_count": 32,
   "id": "45a49c02",
   "metadata": {},
   "outputs": [
    {
     "name": "stdout",
     "output_type": "stream",
     "text": [
      "0: a\n",
      "1: b\n",
      "2: c\n",
      "3: d\n",
      "4: e\n"
     ]
    }
   ],
   "source": [
    "# another way, which looks weird (and which we'll explain later in greater detail)\n",
    "\n",
    "# I can use the \"enumerate\" builtin\n",
    "# this is a wrapper around a string or other iterable \n",
    "# then we run our \"for\" loop on enumerate(our_data)\n",
    "\n",
    "# with each iteration, we get *TWO* values - an index, and the original data's value\n",
    "\n",
    "for index, one_character in enumerate('abcde'):  # we are iterating over TWO values, so we need two variables\n",
    "    print(f'{index}: {one_character}')"
   ]
  },
  {
   "cell_type": "markdown",
   "id": "6ed66152",
   "metadata": {},
   "source": [
    "# Exercise: Powers of 10\n",
    "\n",
    "As you might know, in our decimal system, the number 1234 is really the same as saying:\n",
    "\n",
    "    (1 * 1000) + (2 * 100) + (3 * 10) + (4 * 1)\n",
    "    \n",
    "or, we can express it as:\n",
    "\n",
    "    (1 * 10**3) + (2 * 10**2) + (3 * 10**1) + (4 * 10**0)\n",
    "    \n",
    "I want you to ask the user to input an integer.  Print the integer in this expanded form, as I have on line 5.\n",
    "\n",
    "Example:\n",
    "\n",
    "    Number: 5432\n",
    "    5 * 1000\n",
    "    4 * 100\n",
    "    3 * 10\n",
    "    2 * 1\n",
    "    \n",
    "Hints:\n",
    "\n",
    "1. It'll help to use `enumerate`, to know what index you're on\n",
    "2. You can use `len` on the user's input (a string) to know what power you need to use\n",
    "3. Assume that the user has really entered a number"
   ]
  },
  {
   "cell_type": "code",
   "execution_count": 39,
   "id": "5f1b0248",
   "metadata": {},
   "outputs": [
    {
     "name": "stdout",
     "output_type": "stream",
     "text": [
      "Number: 5432\n",
      "5 * 1000\n",
      "4 * 100\n",
      "3 * 10\n",
      "2 * 1\n"
     ]
    }
   ],
   "source": [
    "# get the input from the user\n",
    "number = input('Number: ').strip()\n",
    "\n",
    "# go through each digit \n",
    "for index, one_digit in enumerate(number):\n",
    "    power = len(number) - index - 1\n",
    "    print(f'{one_digit} * {10 ** power}')\n",
    "\n"
   ]
  },
  {
   "cell_type": "code",
   "execution_count": 40,
   "id": "3164bb5b",
   "metadata": {},
   "outputs": [],
   "source": [
    "# controlling our loops (both \"for\" and \"while\")\n",
    "\n",
    "# what if I want to exit from a loop early? There are two ways to do this:\n",
    "# - exit from the entire loop\n",
    "# - exit from the current iteration, moving onto the next one\n",
    "\n",
    "# the first is done with \"break\" -- this keyword exits from the current loop immediately.\n",
    "# typically, \"break\" is used when you realize you've achieved a goal, and don't need to loop any more.\n",
    "\n",
    "# The second is done with \"continue\" -- this keyword exits the current iteration, but lets the loop go\n",
    "#  back for the next one.\n",
    "# typically, continue is used when you encounter a value that you don't want or need, but you want\n",
    "#   to go onto the next iteration."
   ]
  },
  {
   "cell_type": "code",
   "execution_count": 43,
   "id": "ba4e5ec0",
   "metadata": {},
   "outputs": [
    {
     "name": "stdout",
     "output_type": "stream",
     "text": [
      "total = 0\n",
      "Number: 20\n",
      "total = 20\n",
      "Number: 30\n",
      "total = 50\n",
      "Number: hello\n",
      "That is not numeric; try again\n",
      "total = 50\n",
      "Number: 100\n",
      "total = 150\n",
      "Number: \n",
      "total is 150\n"
     ]
    }
   ],
   "source": [
    "# let's sum numbers, until the user enters an empty string\n",
    "\n",
    "total = 0\n",
    "\n",
    "while True:    # this is an infinite loop! \n",
    "    print(f'total = {total}')\n",
    "    s = input('Number: ').strip()\n",
    "    \n",
    "    if s == '':   # did we get an empty string? stop the loop\n",
    "        break\n",
    "        \n",
    "    if not s.isdigit():   # does s contain non-digit characters? If so, go back to the top of the loop\n",
    "        print(f'That is not numeric; try again')\n",
    "        continue\n",
    "        \n",
    "    total += int(s)  # get an integer based on s, and add total\n",
    "        \n",
    "print(f'total is {total}')        "
   ]
  },
  {
   "cell_type": "markdown",
   "id": "b11400db",
   "metadata": {},
   "source": [
    "# Next up\n",
    "\n",
    "1. Lists!\n",
    "    - Defining them\n",
    "    - What can we do with them?\n",
    "    - Mutable (and not immutable)\n",
    "2. Strings into lists, and back\n",
    "3. Tuples"
   ]
  },
  {
   "cell_type": "markdown",
   "id": "79af1ee1",
   "metadata": {},
   "source": [
    "# Conditions vs. loops\n",
    "\n",
    "Even though they look similar, `for` and `while` are both loops, whereas `if` is a conditional.\n",
    "\n",
    "- `if` only runs once, checking its condition.\n",
    "    - If the condition is `True`, the `if` block runs. \n",
    "    - If the condition is `False`, and there is one, the `else` block runs\n",
    "    - (I'm ignoring `elif` here for the sake of simplicity.)\n",
    "- Loops are designed to run multiple times:\n",
    "    - `for` runs once for each item we get back when iterating over a data structure\n",
    "    - `while` loops run until their condition is `False`\n",
    "    \n",
    "`break` and `continue` only work within loops.\n",
    "\n",
    "What happens if you have a loop within a loop?  (Which doesn't include `if`.)  Which loop do we `break` or `continue` out of?\n",
    "\n",
    "The answer is: The innermost one. \n",
    "\n"
   ]
  },
  {
   "cell_type": "code",
   "execution_count": 49,
   "id": "c12a9052",
   "metadata": {},
   "outputs": [
    {
     "name": "stdout",
     "output_type": "stream",
     "text": [
      "x is still < 5; running the inner loop\n",
      "Currently, x = 1 and y = 2\n",
      "Currently, x = 1 and y = 3\n",
      "Currently, x = 1 and y = 4\n",
      "Currently, x = 1 and y = 5\n",
      "x is still < 5; running the inner loop\n",
      "Currently, x = 2 and y = 5\n",
      "x is still < 5; running the inner loop\n",
      "Currently, x = 3 and y = 5\n",
      "x is still < 5; running the inner loop\n",
      "Currently, x = 4 and y = 5\n",
      "x is still < 5; running the inner loop\n",
      "Currently, x = 5 and y = 5\n"
     ]
    }
   ],
   "source": [
    "# if I have a nested loop -- a for inside of a for, or a while inside of a while,\n",
    "# then a break will stop the innermost loop that I'm in\n",
    "\n",
    "x = 0\n",
    "y = 2\n",
    "\n",
    "while x < 5:\n",
    "    print('x is still < 5; running the inner loop')\n",
    "    x += 1\n",
    "    \n",
    "    while y < 10:\n",
    "        print(f'Currently, x = {x} and y = {y}')\n",
    "        \n",
    "        if y == 5:\n",
    "            break   # if we read y==5, stop the loop -- we break the INNER loop\n",
    "        \n",
    "        y += 1\n",
    "        "
   ]
  },
  {
   "cell_type": "code",
   "execution_count": 50,
   "id": "07957bfa",
   "metadata": {},
   "outputs": [
    {
     "name": "stdout",
     "output_type": "stream",
     "text": [
      "x is still < 5; running the inner loop\n",
      "Currently, x = 1 and y = 2\n",
      "x is still < 5; running the inner loop\n",
      "Currently, x = 2 and y = 3\n",
      "x is still < 5; running the inner loop\n",
      "Currently, x = 3 and y = 4\n",
      "x is still < 5; running the inner loop\n",
      "Currently, x = 4 and y = 5\n"
     ]
    }
   ],
   "source": [
    "# LA asked in their question: What if we have a while, and inside of it, we have an \"if\"?\n",
    "# what will the break stop?\n",
    "# the answer is: the while, because it's the *only* loop here.\n",
    "\n",
    "x = 0\n",
    "y = 2\n",
    "\n",
    "while x < 5:\n",
    "    print('x is still < 5; running the inner loop')\n",
    "    x += 1\n",
    "    \n",
    "    if y < 10:\n",
    "        print(f'Currently, x = {x} and y = {y}')\n",
    "        \n",
    "        if y == 5:\n",
    "            break   # this will break the while loop\n",
    "        \n",
    "        y += 1\n",
    "        "
   ]
  },
  {
   "cell_type": "markdown",
   "id": "41a4554b",
   "metadata": {},
   "source": [
    "# Lists\n",
    "\n",
    "Sometimes (in fact, quite often), we need to keep a bunch of things together:\n",
    "\n",
    "- Many IP addresses\n",
    "- Many user records\n",
    "- Many filenames\n",
    "- Many numbers\n",
    "\n",
    "In Python, we traditionally use a *list* for such things. A list is similar to an array in another language, but we call them \"lists.\" \n",
    "\n",
    "Lists are cousins to strings, and thus have many similar capabilities.\n",
    "\n",
    "To define a list, we use `[]`, with `,` (commas) between the elements."
   ]
  },
  {
   "cell_type": "code",
   "execution_count": 51,
   "id": "14e0c237",
   "metadata": {},
   "outputs": [],
   "source": [
    "# define a new list, and assign to the variable \"mylist\"\n",
    "\n",
    "mylist = [10, 20, 30, 40, 50]"
   ]
  },
  {
   "cell_type": "code",
   "execution_count": 52,
   "id": "3b69f238",
   "metadata": {},
   "outputs": [
    {
     "data": {
      "text/plain": [
       "list"
      ]
     },
     "execution_count": 52,
     "metadata": {},
     "output_type": "execute_result"
    }
   ],
   "source": [
    "# what kind of data do we have?\n",
    "type(mylist)"
   ]
  },
  {
   "cell_type": "code",
   "execution_count": 53,
   "id": "6b4a82d4",
   "metadata": {},
   "outputs": [
    {
     "data": {
      "text/plain": [
       "5"
      ]
     },
     "execution_count": 53,
     "metadata": {},
     "output_type": "execute_result"
    }
   ],
   "source": [
    "# how many elements are in the list?\n",
    "len(mylist)"
   ]
  },
  {
   "cell_type": "code",
   "execution_count": 54,
   "id": "20c76689",
   "metadata": {},
   "outputs": [
    {
     "data": {
      "text/plain": [
       "10"
      ]
     },
     "execution_count": 54,
     "metadata": {},
     "output_type": "execute_result"
    }
   ],
   "source": [
    "# retrieve the first with index 0\n",
    "mylist[0]"
   ]
  },
  {
   "cell_type": "code",
   "execution_count": 55,
   "id": "0aec37af",
   "metadata": {},
   "outputs": [
    {
     "data": {
      "text/plain": [
       "50"
      ]
     },
     "execution_count": 55,
     "metadata": {},
     "output_type": "execute_result"
    }
   ],
   "source": [
    "# retrieve the final element with index -1\n",
    "mylist[-1]"
   ]
  },
  {
   "cell_type": "code",
   "execution_count": 56,
   "id": "210db7a4",
   "metadata": {},
   "outputs": [
    {
     "data": {
      "text/plain": [
       "20"
      ]
     },
     "execution_count": 56,
     "metadata": {},
     "output_type": "execute_result"
    }
   ],
   "source": [
    "mylist[1]"
   ]
  },
  {
   "cell_type": "code",
   "execution_count": 57,
   "id": "0f65451f",
   "metadata": {},
   "outputs": [
    {
     "data": {
      "text/plain": [
       "40"
      ]
     },
     "execution_count": 57,
     "metadata": {},
     "output_type": "execute_result"
    }
   ],
   "source": [
    "mylist[-2]  # second-to-final element -2"
   ]
  },
  {
   "cell_type": "code",
   "execution_count": 60,
   "id": "4938ee76",
   "metadata": {},
   "outputs": [
    {
     "data": {
      "text/plain": [
       "[30, 40]"
      ]
     },
     "execution_count": 60,
     "metadata": {},
     "output_type": "execute_result"
    }
   ],
   "source": [
    "# can I retrieve a slice?\n",
    "mylist[2:4]  # starting at index 2, until (not including) index 4"
   ]
  },
  {
   "cell_type": "code",
   "execution_count": 61,
   "id": "9e67c616",
   "metadata": {},
   "outputs": [
    {
     "name": "stdout",
     "output_type": "stream",
     "text": [
      "50\n",
      "100\n",
      "150\n",
      "200\n",
      "250\n"
     ]
    }
   ],
   "source": [
    "# I can iterate over a list, too!\n",
    "\n",
    "for one_item in mylist:\n",
    "    print(one_item * 5)"
   ]
  },
  {
   "cell_type": "code",
   "execution_count": 62,
   "id": "68c1d4b5",
   "metadata": {},
   "outputs": [],
   "source": [
    "# what can we store in a list?\n",
    "# ABSOLUTELY ANYTHING IN PYTHON\n",
    "\n",
    "# we can have strings, integers, lists, dictionaries... any and all of these in a list\n",
    "# we don't need to tell the list (or Python) in advance what type of data will be there!\n",
    "# it's traditional to use a list with a single type of data, but that's not really enforced.\n",
    "\n",
    "mylist = ['abcd', 'ef', 'ghij', 'kl']"
   ]
  },
  {
   "cell_type": "code",
   "execution_count": 63,
   "id": "c9f9e641",
   "metadata": {},
   "outputs": [
    {
     "data": {
      "text/plain": [
       "list"
      ]
     },
     "execution_count": 63,
     "metadata": {},
     "output_type": "execute_result"
    }
   ],
   "source": [
    "type(mylist)"
   ]
  },
  {
   "cell_type": "code",
   "execution_count": 64,
   "id": "2de2516f",
   "metadata": {},
   "outputs": [
    {
     "data": {
      "text/plain": [
       "4"
      ]
     },
     "execution_count": 64,
     "metadata": {},
     "output_type": "execute_result"
    }
   ],
   "source": [
    "len(mylist)"
   ]
  },
  {
   "cell_type": "code",
   "execution_count": 65,
   "id": "5b719a7b",
   "metadata": {},
   "outputs": [
    {
     "data": {
      "text/plain": [
       "True"
      ]
     },
     "execution_count": 65,
     "metadata": {},
     "output_type": "execute_result"
    }
   ],
   "source": [
    "# can I check for membership in a list?\n",
    "'ef' in mylist"
   ]
  },
  {
   "cell_type": "code",
   "execution_count": 66,
   "id": "32e5a9ab",
   "metadata": {},
   "outputs": [
    {
     "data": {
      "text/plain": [
       "True"
      ]
     },
     "execution_count": 66,
     "metadata": {},
     "output_type": "execute_result"
    }
   ],
   "source": [
    "'kl' in mylist"
   ]
  },
  {
   "cell_type": "code",
   "execution_count": 67,
   "id": "c70e937e",
   "metadata": {},
   "outputs": [
    {
     "data": {
      "text/plain": [
       "True"
      ]
     },
     "execution_count": 67,
     "metadata": {},
     "output_type": "execute_result"
    }
   ],
   "source": [
    "'abcd' in mylist"
   ]
  },
  {
   "cell_type": "code",
   "execution_count": 69,
   "id": "ce4c31d7",
   "metadata": {},
   "outputs": [
    {
     "data": {
      "text/plain": [
       "False"
      ]
     },
     "execution_count": 69,
     "metadata": {},
     "output_type": "execute_result"
    }
   ],
   "source": [
    "'c' in mylist    # 'c' isn't an element of the list, but the string 'abcd' is!"
   ]
  },
  {
   "cell_type": "code",
   "execution_count": 70,
   "id": "4958e040",
   "metadata": {},
   "outputs": [],
   "source": [
    "mylist = [10, 20, 30]\n",
    "\n",
    "biglist = [mylist, mylist, mylist]   # list of lists!"
   ]
  },
  {
   "cell_type": "code",
   "execution_count": 71,
   "id": "d00041cd",
   "metadata": {},
   "outputs": [
    {
     "data": {
      "text/plain": [
       "[[10, 20, 30], [10, 20, 30], [10, 20, 30]]"
      ]
     },
     "execution_count": 71,
     "metadata": {},
     "output_type": "execute_result"
    }
   ],
   "source": [
    "biglist"
   ]
  },
  {
   "cell_type": "code",
   "execution_count": 73,
   "id": "0b70fbd5",
   "metadata": {},
   "outputs": [
    {
     "data": {
      "text/plain": [
       "3"
      ]
     },
     "execution_count": 73,
     "metadata": {},
     "output_type": "execute_result"
    }
   ],
   "source": [
    "# how many elements are there in biglist?\n",
    "\n",
    "len(biglist)  # there are 3 elements in biglist, each of which is a list"
   ]
  },
  {
   "cell_type": "code",
   "execution_count": 74,
   "id": "f67b5f75",
   "metadata": {},
   "outputs": [
    {
     "ename": "TypeError",
     "evalue": "'str' object does not support item assignment",
     "output_type": "error",
     "traceback": [
      "\u001b[0;31m---------------------------------------------------------------------------\u001b[0m",
      "\u001b[0;31mTypeError\u001b[0m                                 Traceback (most recent call last)",
      "\u001b[0;32m/var/folders/rr/0mnyyv811fs5vyp22gf4fxk00000gn/T/ipykernel_88973/1029830245.py\u001b[0m in \u001b[0;36m<module>\u001b[0;34m\u001b[0m\n\u001b[1;32m      1\u001b[0m \u001b[0;31m# remember that strings are immutable\u001b[0m\u001b[0;34m\u001b[0m\u001b[0;34m\u001b[0m\u001b[0m\n\u001b[1;32m      2\u001b[0m \u001b[0ms\u001b[0m \u001b[0;34m=\u001b[0m \u001b[0;34m'abcd'\u001b[0m\u001b[0;34m\u001b[0m\u001b[0;34m\u001b[0m\u001b[0m\n\u001b[0;32m----> 3\u001b[0;31m \u001b[0ms\u001b[0m\u001b[0;34m[\u001b[0m\u001b[0;36m0\u001b[0m\u001b[0;34m]\u001b[0m \u001b[0;34m=\u001b[0m \u001b[0;34m'!'\u001b[0m   \u001b[0;31m# we can never change a string!\u001b[0m\u001b[0;34m\u001b[0m\u001b[0;34m\u001b[0m\u001b[0m\n\u001b[0m",
      "\u001b[0;31mTypeError\u001b[0m: 'str' object does not support item assignment"
     ]
    }
   ],
   "source": [
    "# remember that strings are immutable\n",
    "s = 'abcd'\n",
    "s[0] = '!'   # we can never change a string!"
   ]
  },
  {
   "cell_type": "code",
   "execution_count": 75,
   "id": "fb52f7f3",
   "metadata": {},
   "outputs": [
    {
     "data": {
      "text/plain": [
       "['!', 20, 30]"
      ]
     },
     "execution_count": 75,
     "metadata": {},
     "output_type": "execute_result"
    }
   ],
   "source": [
    "# can I change a list?\n",
    "mylist[0] = '!'\n",
    "\n",
    "mylist"
   ]
  },
  {
   "cell_type": "code",
   "execution_count": 76,
   "id": "340539b8",
   "metadata": {},
   "outputs": [
    {
     "data": {
      "text/plain": [
       "[['!', 20, 30], ['!', 20, 30], ['!', 20, 30]]"
      ]
     },
     "execution_count": 76,
     "metadata": {},
     "output_type": "execute_result"
    }
   ],
   "source": [
    "biglist"
   ]
  },
  {
   "cell_type": "code",
   "execution_count": 77,
   "id": "6f81393f",
   "metadata": {},
   "outputs": [],
   "source": [
    "mylist = [10, 20, 30, 'abcd', 'ef', 'a', 'b', 'c']"
   ]
  },
  {
   "cell_type": "code",
   "execution_count": 78,
   "id": "f5f852e3",
   "metadata": {},
   "outputs": [
    {
     "data": {
      "text/plain": [
       "True"
      ]
     },
     "execution_count": 78,
     "metadata": {},
     "output_type": "execute_result"
    }
   ],
   "source": [
    "30 in mylist   # does the integer 30 exist as an element in mylist?"
   ]
  },
  {
   "cell_type": "code",
   "execution_count": 79,
   "id": "b6a53aaf",
   "metadata": {
    "scrolled": true
   },
   "outputs": [
    {
     "data": {
      "text/plain": [
       "True"
      ]
     },
     "execution_count": 79,
     "metadata": {},
     "output_type": "execute_result"
    }
   ],
   "source": [
    "'ef' in mylist  # does the string 'ef' exist as an element in mylist?"
   ]
  },
  {
   "cell_type": "markdown",
   "id": "3f60c811",
   "metadata": {},
   "source": [
    "# Exercise: Print odd numbers\n",
    "\n",
    "1. Define a list of integers (choose any you want).\n",
    "2. Iterate over that list in a `for` loop.\n",
    "3. If you encounter an odd number, print it.  Ignore even numbers.\n",
    "\n",
    "How do you identify an odd number?  The answer: Divide it by 2, and check the remainder.\n",
    "    - If the remainder is 0, it's even\n",
    "    - If the remainder is 1, it's odd\n",
    "    \n",
    "You can get the remainder from division using `%`, so `10 % 2` == `0` (because 10 is even), and `15 % 2` == `1` (because 15 is odd).\n",
    "\n"
   ]
  },
  {
   "cell_type": "code",
   "execution_count": 81,
   "id": "20bc15e6",
   "metadata": {},
   "outputs": [
    {
     "name": "stdout",
     "output_type": "stream",
     "text": [
      "15\n",
      "17\n",
      "11\n"
     ]
    }
   ],
   "source": [
    "mylist = [15, 20, 30, 18, 17, 12, 11]\n",
    "\n",
    "for one_number in mylist:\n",
    "    if one_number % 2 == 1:\n",
    "        print(one_number)"
   ]
  },
  {
   "cell_type": "markdown",
   "id": "cf72734e",
   "metadata": {},
   "source": [
    "# Lists are mutable... in additional ways\n",
    "\n",
    "We've already seen that we can *replace* existing values in a list by assigning to an index:\n",
    "\n",
    "```python\n",
    "mylist = [10, 20, 30]\n",
    "mylist[0] = '!'    # replace the value 10 which was previously at index 0\n",
    "```\n",
    "\n",
    "What if I want to add a new element to mylist?\n",
    "\n",
    "I can use the `append` method, which adds a new object -- of any type! -- to the end of the list."
   ]
  },
  {
   "cell_type": "code",
   "execution_count": 82,
   "id": "be23b824",
   "metadata": {},
   "outputs": [
    {
     "data": {
      "text/plain": [
       "[10, 20, 30, 40]"
      ]
     },
     "execution_count": 82,
     "metadata": {},
     "output_type": "execute_result"
    }
   ],
   "source": [
    "mylist = [10, 20, 30]\n",
    "\n",
    "mylist.append(40)  \n",
    "mylist"
   ]
  },
  {
   "cell_type": "code",
   "execution_count": 83,
   "id": "c7a96797",
   "metadata": {},
   "outputs": [
    {
     "data": {
      "text/plain": [
       "[10, 20, 30, 40, 50]"
      ]
     },
     "execution_count": 83,
     "metadata": {},
     "output_type": "execute_result"
    }
   ],
   "source": [
    "mylist.append(50)\n",
    "mylist"
   ]
  },
  {
   "cell_type": "code",
   "execution_count": 84,
   "id": "544860e6",
   "metadata": {},
   "outputs": [
    {
     "data": {
      "text/plain": [
       "[10, 20, 30, 40, 50, 'abcd']"
      ]
     },
     "execution_count": 84,
     "metadata": {},
     "output_type": "execute_result"
    }
   ],
   "source": [
    "# what if I append a string?\n",
    "mylist.append('abcd')\n",
    "mylist"
   ]
  },
  {
   "cell_type": "code",
   "execution_count": 85,
   "id": "ea1d545b",
   "metadata": {},
   "outputs": [
    {
     "data": {
      "text/plain": [
       "[10, 20, 30, 40, 50, 'abcd', [1000, 2000, 300]]"
      ]
     },
     "execution_count": 85,
     "metadata": {},
     "output_type": "execute_result"
    }
   ],
   "source": [
    "# what if I append a list?\n",
    "mylist.append([1000, 2000, 300])\n",
    "mylist"
   ]
  },
  {
   "cell_type": "code",
   "execution_count": 86,
   "id": "d24daf8d",
   "metadata": {},
   "outputs": [
    {
     "data": {
      "text/plain": [
       "7"
      ]
     },
     "execution_count": 86,
     "metadata": {},
     "output_type": "execute_result"
    }
   ],
   "source": [
    "# how many elements are on the list?\n",
    "len(mylist)"
   ]
  },
  {
   "cell_type": "code",
   "execution_count": 87,
   "id": "492f3786",
   "metadata": {},
   "outputs": [
    {
     "data": {
      "text/plain": [
       "[10, 20, 30, 40, 50, 60]"
      ]
     },
     "execution_count": 87,
     "metadata": {},
     "output_type": "execute_result"
    }
   ],
   "source": [
    "# what if I want to add more than one element to the end of a list?\n",
    "# the easiest way is to use +=\n",
    "\n",
    "mylist = [10, 20, 30]\n",
    "\n",
    "mylist += [40, 50, 60]   # += looks to its right, and uses a \"for\" loop to append each element\n",
    "mylist"
   ]
  },
  {
   "cell_type": "code",
   "execution_count": 88,
   "id": "88e55805",
   "metadata": {},
   "outputs": [
    {
     "data": {
      "text/plain": [
       "[10, 20, 30, 40, 50, 60, 'a', 'b', 'c', 'd']"
      ]
     },
     "execution_count": 88,
     "metadata": {},
     "output_type": "execute_result"
    }
   ],
   "source": [
    "# this means that we can do some weird things, too:\n",
    "mylist += 'abcd'\n",
    "mylist"
   ]
  },
  {
   "cell_type": "code",
   "execution_count": 91,
   "id": "a8fd1305",
   "metadata": {},
   "outputs": [
    {
     "data": {
      "text/plain": [
       "[10, 20, 30]"
      ]
     },
     "execution_count": 91,
     "metadata": {},
     "output_type": "execute_result"
    }
   ],
   "source": [
    "mylist = [10, 20, 30]\n",
    "mylist"
   ]
  },
  {
   "cell_type": "code",
   "execution_count": 92,
   "id": "bd725ba2",
   "metadata": {},
   "outputs": [
    {
     "data": {
      "text/plain": [
       "30"
      ]
     },
     "execution_count": 92,
     "metadata": {},
     "output_type": "execute_result"
    }
   ],
   "source": [
    "# you can remove the final element from a list with the \"pop\" method\n",
    "# this both returns and removes the element\n",
    "\n",
    "mylist.pop()"
   ]
  },
  {
   "cell_type": "code",
   "execution_count": 93,
   "id": "320d032b",
   "metadata": {},
   "outputs": [
    {
     "data": {
      "text/plain": [
       "[10, 20]"
      ]
     },
     "execution_count": 93,
     "metadata": {},
     "output_type": "execute_result"
    }
   ],
   "source": [
    "mylist"
   ]
  },
  {
   "cell_type": "code",
   "execution_count": 94,
   "id": "503dd54a",
   "metadata": {},
   "outputs": [
    {
     "data": {
      "text/plain": [
       "20"
      ]
     },
     "execution_count": 94,
     "metadata": {},
     "output_type": "execute_result"
    }
   ],
   "source": [
    "mylist.pop()"
   ]
  },
  {
   "cell_type": "code",
   "execution_count": 95,
   "id": "3378423e",
   "metadata": {},
   "outputs": [
    {
     "data": {
      "text/plain": [
       "[10]"
      ]
     },
     "execution_count": 95,
     "metadata": {},
     "output_type": "execute_result"
    }
   ],
   "source": [
    "mylist"
   ]
  },
  {
   "cell_type": "code",
   "execution_count": 96,
   "id": "6a497f54",
   "metadata": {},
   "outputs": [
    {
     "data": {
      "text/plain": [
       "10"
      ]
     },
     "execution_count": 96,
     "metadata": {},
     "output_type": "execute_result"
    }
   ],
   "source": [
    "mylist.pop()"
   ]
  },
  {
   "cell_type": "code",
   "execution_count": 97,
   "id": "26ea990c",
   "metadata": {},
   "outputs": [
    {
     "ename": "IndexError",
     "evalue": "pop from empty list",
     "output_type": "error",
     "traceback": [
      "\u001b[0;31m---------------------------------------------------------------------------\u001b[0m",
      "\u001b[0;31mIndexError\u001b[0m                                Traceback (most recent call last)",
      "\u001b[0;32m/var/folders/rr/0mnyyv811fs5vyp22gf4fxk00000gn/T/ipykernel_88973/4271651580.py\u001b[0m in \u001b[0;36m<module>\u001b[0;34m\u001b[0m\n\u001b[1;32m      1\u001b[0m \u001b[0;31m# what if we use pop again?\u001b[0m\u001b[0;34m\u001b[0m\u001b[0;34m\u001b[0m\u001b[0m\n\u001b[0;32m----> 2\u001b[0;31m \u001b[0mmylist\u001b[0m\u001b[0;34m.\u001b[0m\u001b[0mpop\u001b[0m\u001b[0;34m(\u001b[0m\u001b[0;34m)\u001b[0m\u001b[0;34m\u001b[0m\u001b[0;34m\u001b[0m\u001b[0m\n\u001b[0m",
      "\u001b[0;31mIndexError\u001b[0m: pop from empty list"
     ]
    }
   ],
   "source": [
    "# what if we use pop again?\n",
    "mylist.pop()"
   ]
  },
  {
   "cell_type": "code",
   "execution_count": 98,
   "id": "4bc4aede",
   "metadata": {},
   "outputs": [
    {
     "data": {
      "text/plain": [
       "40"
      ]
     },
     "execution_count": 98,
     "metadata": {},
     "output_type": "execute_result"
    }
   ],
   "source": [
    "# if you want to remove an element that isn't at the end, yoou can give\n",
    "# an index to pop\n",
    "\n",
    "mylist = [10, 20, 30, 40, 50]\n",
    "mylist.pop(3)  # this removes and returns the item at index 3"
   ]
  },
  {
   "cell_type": "code",
   "execution_count": 99,
   "id": "0007e77a",
   "metadata": {},
   "outputs": [
    {
     "data": {
      "text/plain": [
       "[10, 20, 30, 50]"
      ]
     },
     "execution_count": 99,
     "metadata": {},
     "output_type": "execute_result"
    }
   ],
   "source": [
    "mylist"
   ]
  },
  {
   "cell_type": "markdown",
   "id": "7160ad83",
   "metadata": {},
   "source": [
    "# Exercise: Evens and odds\n",
    "\n",
    "1. Define two empty lists, `evens` and `odds`.  Remember, an empty list is `[]`.\n",
    "2. Ask the user, repeatedly, to enter a number.\n",
    "    - If the user enters an empty string, stop asking. (That is: `break` from the loop.)\n",
    "3. Convert the user's input to an integer.\n",
    "4. Check:\n",
    "    - If the user's input is an even number, append it to the `evens` list.\n",
    "    - If the user's input is an odd number, append it to the `odds` list.\n",
    "5. Print each of the lists.\n",
    "\n",
    "Example:\n",
    "\n",
    "    Number: 50\n",
    "    Number: 51\n",
    "    Number: 103\n",
    "    Number: 28\n",
    "    Number: [ENTER]\n",
    "    Odds: [51, 103]\n",
    "    Evens: [50, 28]\n",
    "    \n",
    "Hints:\n",
    "\n",
    "1. You can create an infinite loop with `while True`, because the loop will only exit when the condition is `False`, which will be never.\n",
    "2. You'll need another way to exit the loop -- use `break` if the user's input is an empty string.\n",
    "3. Don't forget that you can use `x % 2 == 0` to find even numbers, and `x % 2 == 1` to find odd numbers."
   ]
  },
  {
   "cell_type": "code",
   "execution_count": 100,
   "id": "3ed11b91",
   "metadata": {},
   "outputs": [
    {
     "name": "stdout",
     "output_type": "stream",
     "text": [
      "Number: 10\n",
      "Number: 15\n",
      "Number: 22\n",
      "Number: 27\n",
      "Number: 93\n",
      "Number: 84\n",
      "Number: \n",
      "[10, 22, 84]\n",
      "[15, 27, 93]\n"
     ]
    }
   ],
   "source": [
    "evens = []\n",
    "odds = []\n",
    "\n",
    "while True:    # keep asking, forever (or until we break out of the loop)\n",
    "    s = input('Number: ').strip()\n",
    "    \n",
    "    if s == '':   # did we get the empty string from the user?\n",
    "        break     # exit from the while loop\n",
    "        \n",
    "    n = int(s)    # get an integer based on s\n",
    "    \n",
    "    if n % 2 == 0:\n",
    "        evens.append(n)\n",
    "    else:\n",
    "        odds.append(n)\n",
    "        \n",
    "print(evens)        \n",
    "print(odds)"
   ]
  },
  {
   "cell_type": "markdown",
   "id": "4b70ed05",
   "metadata": {},
   "source": [
    "# Next up:\n",
    "\n",
    "1. Strings to lists (and back)\n",
    "2. Tuples and unpacking\n",
    "\n"
   ]
  },
  {
   "cell_type": "code",
   "execution_count": null,
   "id": "a07cd43b",
   "metadata": {},
   "outputs": [],
   "source": []
  }
 ],
 "metadata": {
  "kernelspec": {
   "display_name": "Python 3 (ipykernel)",
   "language": "python",
   "name": "python3"
  },
  "language_info": {
   "codemirror_mode": {
    "name": "ipython",
    "version": 3
   },
   "file_extension": ".py",
   "mimetype": "text/x-python",
   "name": "python",
   "nbconvert_exporter": "python",
   "pygments_lexer": "ipython3",
   "version": "3.10.8"
  }
 },
 "nbformat": 4,
 "nbformat_minor": 5
}
